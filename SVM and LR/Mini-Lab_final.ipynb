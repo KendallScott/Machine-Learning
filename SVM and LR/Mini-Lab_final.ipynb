{
  "cells": [
    {
      "cell_type": "markdown",
      "metadata": {
        "id": "view-in-github",
        "colab_type": "text"
      },
      "source": [
        "<a href=\"https://colab.research.google.com/github/KendallScott/Machine-Learning/blob/main/SVM%20and%20LR/Mini-Lab_final.ipynb\" target=\"_parent\"><img src=\"https://colab.research.google.com/assets/colab-badge.svg\" alt=\"Open In Colab\"/></a>"
      ]
    },
    {
      "cell_type": "markdown",
      "source": [
        "Contributors\n",
        "* Tadd Backus\n",
        "* Kendall Scott\n",
        "* Austin Webb\n",
        "* Milan Patel\n"
      ],
      "metadata": {
        "id": "e6TGIIukk6c-"
      },
      "id": "e6TGIIukk6c-"
    },
    {
      "cell_type": "code",
      "source": [
        "from IPython.display import HTML\n",
        "HTML('''<script>\n",
        "code_show_err=false; \n",
        "function code_toggle_err() {\n",
        " if (code_show_err){\n",
        " $('div.output_stderr').hide();\n",
        " } else {\n",
        " $('div.output_stderr').show();\n",
        " }\n",
        " code_show_err = !code_show_err\n",
        "} \n",
        "$( document ).ready(code_toggle_err);\n",
        "</script>\n",
        "To toggle on/off output_stderr, click <a href=\"javascript:code_toggle_err()\">here</a>.''')"
      ],
      "metadata": {
        "id": "GUBk6wGhk3v8",
        "colab": {
          "base_uri": "https://localhost:8080/",
          "height": 34
        },
        "outputId": "51886113-fff9-4cda-cc44-509e106a2dee"
      },
      "id": "GUBk6wGhk3v8",
      "execution_count": 1,
      "outputs": [
        {
          "output_type": "execute_result",
          "data": {
            "text/plain": [
              "<IPython.core.display.HTML object>"
            ],
            "text/html": [
              "<script>\n",
              "code_show_err=false; \n",
              "function code_toggle_err() {\n",
              " if (code_show_err){\n",
              " $('div.output_stderr').hide();\n",
              " } else {\n",
              " $('div.output_stderr').show();\n",
              " }\n",
              " code_show_err = !code_show_err\n",
              "} \n",
              "$( document ).ready(code_toggle_err);\n",
              "</script>\n",
              "To toggle on/off output_stderr, click <a href=\"javascript:code_toggle_err()\">here</a>."
            ]
          },
          "metadata": {},
          "execution_count": 1
        }
      ]
    },
    {
      "cell_type": "code",
      "execution_count": 2,
      "id": "dcfc8062",
      "metadata": {
        "id": "dcfc8062"
      },
      "outputs": [],
      "source": [
        "import pandas as pd\n",
        "import io\n",
        "import numpy as np\n",
        "import matplotlib.pyplot as plt\n",
        "import seaborn as sns\n",
        "from sklearn.model_selection import ShuffleSplit\n",
        "from sklearn.linear_model import LogisticRegression\n",
        "from sklearn import metrics as mt\n",
        "from sklearn.preprocessing import StandardScaler\n",
        "from sklearn.svm import SVC\n",
        "from sklearn.model_selection import StratifiedShuffleSplit\n",
        "from sklearn.linear_model import SGDClassifier\n",
        "\n",
        "pd.set_option('display.max_columns',None)"
      ]
    },
    {
      "cell_type": "code",
      "execution_count": 3,
      "id": "72389e27",
      "metadata": {
        "id": "72389e27",
        "colab": {
          "base_uri": "https://localhost:8080/"
        },
        "outputId": "0276e995-2561-43b4-fba8-7d33d522a920"
      },
      "outputs": [
        {
          "output_type": "execute_result",
          "data": {
            "text/plain": [
              "count             581012\n",
              "unique                 7\n",
              "top       Lodgepole Pine\n",
              "freq              283301\n",
              "Name: Cover_Type, dtype: object"
            ]
          },
          "metadata": {},
          "execution_count": 3
        }
      ],
      "source": [
        "forest_cover_type = pd.read_csv('covtype.csv')\n",
        "forest_cover_type.head()\n",
        "# Creating a new dataset that only contains the most common cover types\n",
        "#updated to all\n",
        "# Renaming wilderness areas\n",
        "forestDF = forest_cover_type\n",
        "forestDF.rename(columns={'Wilderness_Area1':'Rawah','Wilderness_Area2':'Neota','Wilderness_Area3':'Comanche Peak','Wilderness_Area4':'Cache la Poudre'},inplace=True)\n",
        "forestDF.head()\n",
        "\n",
        "forestDF = forestDF.astype({'Cover_Type':'string'})\n",
        "forestDF['Cover_Type'] = forestDF['Cover_Type'].str.replace('1','Spruce/Fir')\n",
        "forestDF['Cover_Type'] = forestDF['Cover_Type'].str.replace('2','Lodgepole Pine')\n",
        "forestDF['Cover_Type'].describe().transpose()\n",
        "# Coding Lodgepole Pine as 1 and Spruce/Fir as 0"
      ]
    },
    {
      "cell_type": "code",
      "source": [
        "# Lodgepole Pine = 1 | Spruce/Fir = 0\n",
        "forestDF['treeType'] = forestDF.Cover_Type=='Lodgepole Pine'\n",
        "forestDF = forestDF.replace(np.nan, 0)\n",
        "forestDF.treeType = forestDF.treeType.astype(np.int64)\n",
        "\n",
        "# Deleting original cover type column\n",
        "if 'Cover_Type' in forestDF:\n",
        "    del forestDF['Cover_Type']"
      ],
      "metadata": {
        "id": "3sB11uGjuupI"
      },
      "id": "3sB11uGjuupI",
      "execution_count": 4,
      "outputs": []
    },
    {
      "cell_type": "markdown",
      "source": [
        "## Create Models\n",
        "For our models, we decided to predict Spruce/Fir.\n",
        "\n",
        "After comparing the results, we will make a recommendation for which model to implement in order to predict Cover Type."
      ],
      "metadata": {
        "id": "8zN4Z9ULBc-c"
      },
      "id": "8zN4Z9ULBc-c"
    },
    {
      "cell_type": "markdown",
      "source": [
        "\n",
        "## Create Models 50\n",
        "\n",
        "Create a logistic regression model and a support vector machine model for the classification task involved with your dataset. \n",
        "Assess how well each model performs (use 80/20 training/testing split for your data). \n",
        "Adjust parameters of the models to make them more accurate. \n",
        "If your dataset size requires the use of stochastic gradient descent, then linear kernel only is fine to use. \n",
        "That is, the SGDClassifier is fine to use for optimizing logistic regression and linear support vector machines. For many problems, SGD will be required in order to train the SVM model in a reasonable timeframe. "
      ],
      "metadata": {
        "id": "gg2dVWM5hsJp"
      },
      "id": "gg2dVWM5hsJp"
    },
    {
      "cell_type": "markdown",
      "id": "7bd81bde",
      "metadata": {
        "id": "7bd81bde"
      },
      "source": [
        "# Logistic Regression"
      ]
    },
    {
      "cell_type": "code",
      "source": [
        "forestFullDF = forestDF.copy()"
      ],
      "metadata": {
        "id": "IFxgRtVj8iKM"
      },
      "id": "IFxgRtVj8iKM",
      "execution_count": 5,
      "outputs": []
    },
    {
      "cell_type": "code",
      "execution_count": 6,
      "id": "11bb0b87",
      "metadata": {
        "id": "11bb0b87"
      },
      "outputs": [],
      "source": [
        "if 'treeType' in forestDF:\n",
        "    Y = forestDF['treeType'].values\n",
        "    del forestDF['treeType']\n",
        "    X = forestDF.values"
      ]
    },
    {
      "cell_type": "code",
      "execution_count": 7,
      "id": "68d276d2",
      "metadata": {
        "id": "68d276d2",
        "colab": {
          "base_uri": "https://localhost:8080/"
        },
        "outputId": "46717095-a4c9-4f42-a88e-9c0fa19254c6"
      },
      "outputs": [
        {
          "output_type": "stream",
          "name": "stdout",
          "text": [
            "ShuffleSplit(n_splits=10, random_state=None, test_size=0.2, train_size=None)\n"
          ]
        }
      ],
      "source": [
        "#Creating cross validation object\n",
        "num_cv_iter = 10\n",
        "num_instances = len(Y)\n",
        "cv_object = ShuffleSplit(n_splits = num_cv_iter,\n",
        "                         test_size = 0.2)\n",
        "print(cv_object)"
      ]
    },
    {
      "cell_type": "code",
      "execution_count": 8,
      "id": "eadf2078",
      "metadata": {
        "id": "eadf2078"
      },
      "outputs": [],
      "source": [
        "# Creating logistic regression object\n",
        "lr_clf = LogisticRegression(penalty = 'l2',\n",
        "                            C = 1.0,\n",
        "                            class_weight = None)"
      ]
    },
    {
      "cell_type": "code",
      "execution_count": 10,
      "id": "9aab106f",
      "metadata": {
        "id": "9aab106f",
        "colab": {
          "base_uri": "https://localhost:8080/",
          "height": 1000
        },
        "outputId": "a51fe767-b2ab-49d3-9100-886d25d34d06"
      },
      "outputs": [
        {
          "output_type": "stream",
          "name": "stderr",
          "text": [
            "/usr/local/lib/python3.8/dist-packages/sklearn/linear_model/_logistic.py:814: ConvergenceWarning: lbfgs failed to converge (status=1):\n",
            "STOP: TOTAL NO. of ITERATIONS REACHED LIMIT.\n",
            "\n",
            "Increase the number of iterations (max_iter) or scale the data as shown in:\n",
            "    https://scikit-learn.org/stable/modules/preprocessing.html\n",
            "Please also refer to the documentation for alternative solver options:\n",
            "    https://scikit-learn.org/stable/modules/linear_model.html#logistic-regression\n",
            "  n_iter_i = _check_optimize_result(\n"
          ]
        },
        {
          "output_type": "stream",
          "name": "stdout",
          "text": [
            "****Iteration 0 ****\n",
            "Accuracy 0.6136416443637428\n",
            "Confusion Matrix \n",
            " [[39229 20400]\n",
            " [24496 32078]]\n"
          ]
        },
        {
          "output_type": "stream",
          "name": "stderr",
          "text": [
            "/usr/local/lib/python3.8/dist-packages/sklearn/linear_model/_logistic.py:814: ConvergenceWarning: lbfgs failed to converge (status=1):\n",
            "STOP: TOTAL NO. of ITERATIONS REACHED LIMIT.\n",
            "\n",
            "Increase the number of iterations (max_iter) or scale the data as shown in:\n",
            "    https://scikit-learn.org/stable/modules/preprocessing.html\n",
            "Please also refer to the documentation for alternative solver options:\n",
            "    https://scikit-learn.org/stable/modules/linear_model.html#logistic-regression\n",
            "  n_iter_i = _check_optimize_result(\n"
          ]
        },
        {
          "output_type": "stream",
          "name": "stdout",
          "text": [
            "****Iteration 1 ****\n",
            "Accuracy 0.610775969639338\n",
            "Confusion Matrix \n",
            " [[39493 19815]\n",
            " [25414 31481]]\n"
          ]
        },
        {
          "output_type": "stream",
          "name": "stderr",
          "text": [
            "/usr/local/lib/python3.8/dist-packages/sklearn/linear_model/_logistic.py:814: ConvergenceWarning: lbfgs failed to converge (status=1):\n",
            "STOP: TOTAL NO. of ITERATIONS REACHED LIMIT.\n",
            "\n",
            "Increase the number of iterations (max_iter) or scale the data as shown in:\n",
            "    https://scikit-learn.org/stable/modules/preprocessing.html\n",
            "Please also refer to the documentation for alternative solver options:\n",
            "    https://scikit-learn.org/stable/modules/linear_model.html#logistic-regression\n",
            "  n_iter_i = _check_optimize_result(\n"
          ]
        },
        {
          "output_type": "stream",
          "name": "stdout",
          "text": [
            "****Iteration 2 ****\n",
            "Accuracy 0.6125229124893505\n",
            "Confusion Matrix \n",
            " [[39184 20331]\n",
            " [24695 31993]]\n"
          ]
        },
        {
          "output_type": "stream",
          "name": "stderr",
          "text": [
            "/usr/local/lib/python3.8/dist-packages/sklearn/linear_model/_logistic.py:814: ConvergenceWarning: lbfgs failed to converge (status=1):\n",
            "STOP: TOTAL NO. of ITERATIONS REACHED LIMIT.\n",
            "\n",
            "Increase the number of iterations (max_iter) or scale the data as shown in:\n",
            "    https://scikit-learn.org/stable/modules/preprocessing.html\n",
            "Please also refer to the documentation for alternative solver options:\n",
            "    https://scikit-learn.org/stable/modules/linear_model.html#logistic-regression\n",
            "  n_iter_i = _check_optimize_result(\n"
          ]
        },
        {
          "output_type": "stream",
          "name": "stdout",
          "text": [
            "****Iteration 3 ****\n",
            "Accuracy 0.6143989397864082\n",
            "Confusion Matrix \n",
            " [[39024 20222]\n",
            " [24586 32371]]\n"
          ]
        },
        {
          "output_type": "stream",
          "name": "stderr",
          "text": [
            "/usr/local/lib/python3.8/dist-packages/sklearn/linear_model/_logistic.py:814: ConvergenceWarning: lbfgs failed to converge (status=1):\n",
            "STOP: TOTAL NO. of ITERATIONS REACHED LIMIT.\n",
            "\n",
            "Increase the number of iterations (max_iter) or scale the data as shown in:\n",
            "    https://scikit-learn.org/stable/modules/preprocessing.html\n",
            "Please also refer to the documentation for alternative solver options:\n",
            "    https://scikit-learn.org/stable/modules/linear_model.html#logistic-regression\n",
            "  n_iter_i = _check_optimize_result(\n"
          ]
        },
        {
          "output_type": "stream",
          "name": "stdout",
          "text": [
            "****Iteration 4 ****\n",
            "Accuracy 0.6110083216440195\n",
            "Confusion Matrix \n",
            " [[38928 20716]\n",
            " [24486 32073]]\n"
          ]
        },
        {
          "output_type": "stream",
          "name": "stderr",
          "text": [
            "/usr/local/lib/python3.8/dist-packages/sklearn/linear_model/_logistic.py:814: ConvergenceWarning: lbfgs failed to converge (status=1):\n",
            "STOP: TOTAL NO. of ITERATIONS REACHED LIMIT.\n",
            "\n",
            "Increase the number of iterations (max_iter) or scale the data as shown in:\n",
            "    https://scikit-learn.org/stable/modules/preprocessing.html\n",
            "Please also refer to the documentation for alternative solver options:\n",
            "    https://scikit-learn.org/stable/modules/linear_model.html#logistic-regression\n",
            "  n_iter_i = _check_optimize_result(\n"
          ]
        },
        {
          "output_type": "stream",
          "name": "stdout",
          "text": [
            "****Iteration 5 ****\n",
            "Accuracy 0.6111546173506708\n",
            "Confusion Matrix \n",
            " [[39089 20288]\n",
            " [24897 31929]]\n"
          ]
        },
        {
          "output_type": "stream",
          "name": "stderr",
          "text": [
            "/usr/local/lib/python3.8/dist-packages/sklearn/linear_model/_logistic.py:814: ConvergenceWarning: lbfgs failed to converge (status=1):\n",
            "STOP: TOTAL NO. of ITERATIONS REACHED LIMIT.\n",
            "\n",
            "Increase the number of iterations (max_iter) or scale the data as shown in:\n",
            "    https://scikit-learn.org/stable/modules/preprocessing.html\n",
            "Please also refer to the documentation for alternative solver options:\n",
            "    https://scikit-learn.org/stable/modules/linear_model.html#logistic-regression\n",
            "  n_iter_i = _check_optimize_result(\n"
          ]
        },
        {
          "output_type": "stream",
          "name": "stdout",
          "text": [
            "****Iteration 6 ****\n",
            "Accuracy 0.6119807578117604\n",
            "Confusion Matrix \n",
            " [[39190 20212]\n",
            " [24877 31924]]\n"
          ]
        },
        {
          "output_type": "stream",
          "name": "stderr",
          "text": [
            "/usr/local/lib/python3.8/dist-packages/sklearn/linear_model/_logistic.py:814: ConvergenceWarning: lbfgs failed to converge (status=1):\n",
            "STOP: TOTAL NO. of ITERATIONS REACHED LIMIT.\n",
            "\n",
            "Increase the number of iterations (max_iter) or scale the data as shown in:\n",
            "    https://scikit-learn.org/stable/modules/preprocessing.html\n",
            "Please also refer to the documentation for alternative solver options:\n",
            "    https://scikit-learn.org/stable/modules/linear_model.html#logistic-regression\n",
            "  n_iter_i = _check_optimize_result(\n"
          ]
        },
        {
          "output_type": "stream",
          "name": "stdout",
          "text": [
            "****Iteration 7 ****\n",
            "Accuracy 0.6126003631575777\n",
            "Confusion Matrix \n",
            " [[39073 20449]\n",
            " [24568 32113]]\n"
          ]
        },
        {
          "output_type": "stream",
          "name": "stderr",
          "text": [
            "/usr/local/lib/python3.8/dist-packages/sklearn/linear_model/_logistic.py:814: ConvergenceWarning: lbfgs failed to converge (status=1):\n",
            "STOP: TOTAL NO. of ITERATIONS REACHED LIMIT.\n",
            "\n",
            "Increase the number of iterations (max_iter) or scale the data as shown in:\n",
            "    https://scikit-learn.org/stable/modules/preprocessing.html\n",
            "Please also refer to the documentation for alternative solver options:\n",
            "    https://scikit-learn.org/stable/modules/linear_model.html#logistic-regression\n",
            "  n_iter_i = _check_optimize_result(\n"
          ]
        },
        {
          "output_type": "stream",
          "name": "stdout",
          "text": [
            "****Iteration 8 ****\n",
            "Accuracy 0.6130392502775316\n",
            "Confusion Matrix \n",
            " [[39166 20290]\n",
            " [24676 32071]]\n"
          ]
        },
        {
          "output_type": "stream",
          "name": "stderr",
          "text": [
            "/usr/local/lib/python3.8/dist-packages/sklearn/linear_model/_logistic.py:814: ConvergenceWarning: lbfgs failed to converge (status=1):\n",
            "STOP: TOTAL NO. of ITERATIONS REACHED LIMIT.\n",
            "\n",
            "Increase the number of iterations (max_iter) or scale the data as shown in:\n",
            "    https://scikit-learn.org/stable/modules/preprocessing.html\n",
            "Please also refer to the documentation for alternative solver options:\n",
            "    https://scikit-learn.org/stable/modules/linear_model.html#logistic-regression\n",
            "  n_iter_i = _check_optimize_result(\n"
          ]
        },
        {
          "output_type": "stream",
          "name": "stdout",
          "text": [
            "****Iteration 9 ****\n",
            "Accuracy 0.6117311945474729\n",
            "Confusion Matrix \n",
            " [[39148 20514]\n",
            " [24604 31937]]\n"
          ]
        },
        {
          "output_type": "error",
          "ename": "NameError",
          "evalue": "ignored",
          "traceback": [
            "\u001b[0;31m---------------------------------------------------------------------------\u001b[0m",
            "\u001b[0;31mNameError\u001b[0m                                 Traceback (most recent call last)",
            "\u001b[0;32m<ipython-input-10-87e723e969b3>\u001b[0m in \u001b[0;36m<module>\u001b[0;34m\u001b[0m\n\u001b[1;32m      9\u001b[0m     \u001b[0mprint\u001b[0m\u001b[0;34m(\u001b[0m\u001b[0;34m'Accuracy'\u001b[0m\u001b[0;34m,\u001b[0m \u001b[0mmt\u001b[0m\u001b[0;34m.\u001b[0m\u001b[0maccuracy_score\u001b[0m\u001b[0;34m(\u001b[0m\u001b[0mY\u001b[0m\u001b[0;34m[\u001b[0m\u001b[0mtest_indices\u001b[0m\u001b[0;34m]\u001b[0m\u001b[0;34m,\u001b[0m \u001b[0my_hat\u001b[0m\u001b[0;34m)\u001b[0m\u001b[0;34m)\u001b[0m\u001b[0;34m\u001b[0m\u001b[0;34m\u001b[0m\u001b[0m\n\u001b[1;32m     10\u001b[0m     \u001b[0mprint\u001b[0m\u001b[0;34m(\u001b[0m\u001b[0;34m'Confusion Matrix \\n'\u001b[0m\u001b[0;34m,\u001b[0m \u001b[0mmt\u001b[0m\u001b[0;34m.\u001b[0m\u001b[0mconfusion_matrix\u001b[0m\u001b[0;34m(\u001b[0m\u001b[0mY\u001b[0m\u001b[0;34m[\u001b[0m\u001b[0mtest_indices\u001b[0m\u001b[0;34m]\u001b[0m\u001b[0;34m,\u001b[0m \u001b[0my_hat\u001b[0m\u001b[0;34m)\u001b[0m\u001b[0;34m)\u001b[0m\u001b[0;34m\u001b[0m\u001b[0;34m\u001b[0m\u001b[0m\n\u001b[0;32m---> 11\u001b[0;31m \u001b[0mcm\u001b[0m \u001b[0;34m=\u001b[0m \u001b[0mconfusion_matrix\u001b[0m\u001b[0;34m(\u001b[0m\u001b[0my\u001b[0m\u001b[0;34m,\u001b[0m \u001b[0mmodel\u001b[0m\u001b[0;34m.\u001b[0m\u001b[0mpredict\u001b[0m\u001b[0;34m(\u001b[0m\u001b[0mX\u001b[0m\u001b[0;34m)\u001b[0m\u001b[0;34m)\u001b[0m\u001b[0;34m\u001b[0m\u001b[0;34m\u001b[0m\u001b[0m\n\u001b[0m\u001b[1;32m     12\u001b[0m \u001b[0;34m\u001b[0m\u001b[0m\n\u001b[1;32m     13\u001b[0m \u001b[0mfig\u001b[0m\u001b[0;34m,\u001b[0m \u001b[0max\u001b[0m \u001b[0;34m=\u001b[0m \u001b[0mplt\u001b[0m\u001b[0;34m.\u001b[0m\u001b[0msubplots\u001b[0m\u001b[0;34m(\u001b[0m\u001b[0mfigsize\u001b[0m \u001b[0;34m=\u001b[0m \u001b[0;34m(\u001b[0m\u001b[0;36m8\u001b[0m\u001b[0;34m,\u001b[0m \u001b[0;36m8\u001b[0m\u001b[0;34m)\u001b[0m\u001b[0;34m)\u001b[0m\u001b[0;34m\u001b[0m\u001b[0;34m\u001b[0m\u001b[0m\n",
            "\u001b[0;31mNameError\u001b[0m: name 'confusion_matrix' is not defined"
          ]
        }
      ],
      "source": [
        "# Running logistic regression on 10 random test/train splits\n",
        "iter_num = 0\n",
        "\n",
        "for iter_num, (train_indices,test_indices) in enumerate(cv_object.split(X,Y)):\n",
        "    lr_clf.fit(X[train_indices],Y[train_indices])\n",
        "    y_hat = lr_clf.predict(X[test_indices])\n",
        "    \n",
        "    print('****Iteration', iter_num, '****')\n",
        "    print('Accuracy', mt.accuracy_score(Y[test_indices], y_hat))\n",
        "    print('Confusion Matrix \\n', mt.confusion_matrix(Y[test_indices], y_hat))\n",
        "cm = confusion_matrix(y, model.predict(X))\n",
        "\n",
        "fig, ax = plt.subplots(figsize = (8, 8))\n",
        "ax.imshow(cm)\n",
        "ax.grid(False)\n",
        "ax.xaxis.set(ticks = (1, 0))\n",
        "ax.yaxis.set(ticks = (1,0))\n",
        "ax.set_ylim(6.5, -0.5)\n",
        "for i in range(7):\n",
        "    for j in range(7):\n",
        "        ax.text(j, \n",
        "                i, \n",
        "                cm[i, j], \n",
        "                ha = 'center', \n",
        "                va = 'center', \n",
        "                color = 'Green')\n",
        "plt.show()\n",
        "\n",
        "    "
      ]
    },
    {
      "cell_type": "markdown",
      "source": [
        "After the logistic regression model was run ten times, the accuracy score appeared to remain near 61%. This shows us that the different train/test splits seem to be fair in their distributions. We do anticipate a change in accuracy (an increase) as we attempt to adjust some parameters and implement other measures. "
      ],
      "metadata": {
        "id": "hr0hJhUow7By"
      },
      "id": "hr0hJhUow7By"
    },
    {
      "cell_type": "code",
      "source": [
        "from sklearn.model_selection import cross_val_score\n",
        "accuracies = cross_val_score(lr_clf, X, y = Y, cv = cv_object) # this also can help with parallelism\n",
        "print(accuracies)"
      ],
      "metadata": {
        "id": "RlhBbYVJ3yoZ",
        "outputId": "2ca8d388-dbe9-46fa-bfc1-2f309ceff728",
        "colab": {
          "base_uri": "https://localhost:8080/"
        }
      },
      "id": "RlhBbYVJ3yoZ",
      "execution_count": 11,
      "outputs": [
        {
          "output_type": "stream",
          "name": "stderr",
          "text": [
            "/usr/local/lib/python3.8/dist-packages/sklearn/linear_model/_logistic.py:814: ConvergenceWarning: lbfgs failed to converge (status=1):\n",
            "STOP: TOTAL NO. of ITERATIONS REACHED LIMIT.\n",
            "\n",
            "Increase the number of iterations (max_iter) or scale the data as shown in:\n",
            "    https://scikit-learn.org/stable/modules/preprocessing.html\n",
            "Please also refer to the documentation for alternative solver options:\n",
            "    https://scikit-learn.org/stable/modules/linear_model.html#logistic-regression\n",
            "  n_iter_i = _check_optimize_result(\n",
            "/usr/local/lib/python3.8/dist-packages/sklearn/linear_model/_logistic.py:814: ConvergenceWarning: lbfgs failed to converge (status=1):\n",
            "STOP: TOTAL NO. of ITERATIONS REACHED LIMIT.\n",
            "\n",
            "Increase the number of iterations (max_iter) or scale the data as shown in:\n",
            "    https://scikit-learn.org/stable/modules/preprocessing.html\n",
            "Please also refer to the documentation for alternative solver options:\n",
            "    https://scikit-learn.org/stable/modules/linear_model.html#logistic-regression\n",
            "  n_iter_i = _check_optimize_result(\n",
            "/usr/local/lib/python3.8/dist-packages/sklearn/linear_model/_logistic.py:814: ConvergenceWarning: lbfgs failed to converge (status=1):\n",
            "STOP: TOTAL NO. of ITERATIONS REACHED LIMIT.\n",
            "\n",
            "Increase the number of iterations (max_iter) or scale the data as shown in:\n",
            "    https://scikit-learn.org/stable/modules/preprocessing.html\n",
            "Please also refer to the documentation for alternative solver options:\n",
            "    https://scikit-learn.org/stable/modules/linear_model.html#logistic-regression\n",
            "  n_iter_i = _check_optimize_result(\n",
            "/usr/local/lib/python3.8/dist-packages/sklearn/linear_model/_logistic.py:814: ConvergenceWarning: lbfgs failed to converge (status=1):\n",
            "STOP: TOTAL NO. of ITERATIONS REACHED LIMIT.\n",
            "\n",
            "Increase the number of iterations (max_iter) or scale the data as shown in:\n",
            "    https://scikit-learn.org/stable/modules/preprocessing.html\n",
            "Please also refer to the documentation for alternative solver options:\n",
            "    https://scikit-learn.org/stable/modules/linear_model.html#logistic-regression\n",
            "  n_iter_i = _check_optimize_result(\n",
            "/usr/local/lib/python3.8/dist-packages/sklearn/linear_model/_logistic.py:814: ConvergenceWarning: lbfgs failed to converge (status=1):\n",
            "STOP: TOTAL NO. of ITERATIONS REACHED LIMIT.\n",
            "\n",
            "Increase the number of iterations (max_iter) or scale the data as shown in:\n",
            "    https://scikit-learn.org/stable/modules/preprocessing.html\n",
            "Please also refer to the documentation for alternative solver options:\n",
            "    https://scikit-learn.org/stable/modules/linear_model.html#logistic-regression\n",
            "  n_iter_i = _check_optimize_result(\n",
            "/usr/local/lib/python3.8/dist-packages/sklearn/linear_model/_logistic.py:814: ConvergenceWarning: lbfgs failed to converge (status=1):\n",
            "STOP: TOTAL NO. of ITERATIONS REACHED LIMIT.\n",
            "\n",
            "Increase the number of iterations (max_iter) or scale the data as shown in:\n",
            "    https://scikit-learn.org/stable/modules/preprocessing.html\n",
            "Please also refer to the documentation for alternative solver options:\n",
            "    https://scikit-learn.org/stable/modules/linear_model.html#logistic-regression\n",
            "  n_iter_i = _check_optimize_result(\n",
            "/usr/local/lib/python3.8/dist-packages/sklearn/linear_model/_logistic.py:814: ConvergenceWarning: lbfgs failed to converge (status=1):\n",
            "STOP: TOTAL NO. of ITERATIONS REACHED LIMIT.\n",
            "\n",
            "Increase the number of iterations (max_iter) or scale the data as shown in:\n",
            "    https://scikit-learn.org/stable/modules/preprocessing.html\n",
            "Please also refer to the documentation for alternative solver options:\n",
            "    https://scikit-learn.org/stable/modules/linear_model.html#logistic-regression\n",
            "  n_iter_i = _check_optimize_result(\n",
            "/usr/local/lib/python3.8/dist-packages/sklearn/linear_model/_logistic.py:814: ConvergenceWarning: lbfgs failed to converge (status=1):\n",
            "STOP: TOTAL NO. of ITERATIONS REACHED LIMIT.\n",
            "\n",
            "Increase the number of iterations (max_iter) or scale the data as shown in:\n",
            "    https://scikit-learn.org/stable/modules/preprocessing.html\n",
            "Please also refer to the documentation for alternative solver options:\n",
            "    https://scikit-learn.org/stable/modules/linear_model.html#logistic-regression\n",
            "  n_iter_i = _check_optimize_result(\n",
            "/usr/local/lib/python3.8/dist-packages/sklearn/linear_model/_logistic.py:814: ConvergenceWarning: lbfgs failed to converge (status=1):\n",
            "STOP: TOTAL NO. of ITERATIONS REACHED LIMIT.\n",
            "\n",
            "Increase the number of iterations (max_iter) or scale the data as shown in:\n",
            "    https://scikit-learn.org/stable/modules/preprocessing.html\n",
            "Please also refer to the documentation for alternative solver options:\n",
            "    https://scikit-learn.org/stable/modules/linear_model.html#logistic-regression\n",
            "  n_iter_i = _check_optimize_result(\n"
          ]
        },
        {
          "output_type": "stream",
          "name": "stdout",
          "text": [
            "[0.61515624 0.61320276 0.6086848  0.61277248 0.61238522 0.61359862\n",
            " 0.60912369 0.60800496 0.61272084 0.61386539]\n"
          ]
        },
        {
          "output_type": "stream",
          "name": "stderr",
          "text": [
            "/usr/local/lib/python3.8/dist-packages/sklearn/linear_model/_logistic.py:814: ConvergenceWarning: lbfgs failed to converge (status=1):\n",
            "STOP: TOTAL NO. of ITERATIONS REACHED LIMIT.\n",
            "\n",
            "Increase the number of iterations (max_iter) or scale the data as shown in:\n",
            "    https://scikit-learn.org/stable/modules/preprocessing.html\n",
            "Please also refer to the documentation for alternative solver options:\n",
            "    https://scikit-learn.org/stable/modules/linear_model.html#logistic-regression\n",
            "  n_iter_i = _check_optimize_result(\n"
          ]
        }
      ]
    },
    {
      "cell_type": "code",
      "source": [
        "logWeights = pd.Series(lr_clf.coef_[0], index = forestDF.columns)\n",
        "logWeights = pd.DataFrame({'Var':logWeights.index, 'Weight':logWeights.values})\n",
        "logWeights = logWeights.sort_values('Weight')\n",
        "plt.figure(figsize=(8, 10))\n",
        "sns.barplot(x='Weight', y = 'Var', data = logWeights)"
      ],
      "metadata": {
        "id": "QVQwXW_v6KSA",
        "colab": {
          "base_uri": "https://localhost:8080/",
          "height": 623
        },
        "outputId": "83a9fa95-3aee-458e-e574-e34f3473e06d"
      },
      "id": "QVQwXW_v6KSA",
      "execution_count": 12,
      "outputs": [
        {
          "output_type": "execute_result",
          "data": {
            "text/plain": [
              "<matplotlib.axes._subplots.AxesSubplot at 0x7fe99ceec5e0>"
            ]
          },
          "metadata": {},
          "execution_count": 12
        },
        {
          "output_type": "display_data",
          "data": {
            "text/plain": [
              "<Figure size 576x720 with 1 Axes>"
            ],
            "image/png": "[encoded data removed]"
          },
          "metadata": {
            "needs_background": "light"
          }
        }
      ]
    },
    {
      "cell_type": "markdown",
      "source": [
        "We decided to leverage Random Forest to eliminate some of the variables included in the model, to see if there is an increase in performance in a simpler model."
      ],
      "metadata": {
        "id": "ahvN4uSBqoW0"
      },
      "id": "ahvN4uSBqoW0"
    },
    {
      "cell_type": "code",
      "source": [
        "# Feature Importance Graph\n",
        "# Takes about five minutes\n",
        "from sklearn.ensemble import RandomForestRegressor\n",
        "rf = RandomForestRegressor(n_estimators = 20)\n",
        "rf.fit(X, Y)"
      ],
      "metadata": {
        "id": "QU5toe0grs3B",
        "colab": {
          "base_uri": "https://localhost:8080/"
        },
        "outputId": "2d0a16d3-3fcd-4f0a-b170-1224665148f3"
      },
      "id": "QU5toe0grs3B",
      "execution_count": 13,
      "outputs": [
        {
          "output_type": "execute_result",
          "data": {
            "text/plain": [
              "RandomForestRegressor(n_estimators=20)"
            ]
          },
          "metadata": {},
          "execution_count": 13
        }
      ]
    },
    {
      "cell_type": "code",
      "source": [
        "sort = rf.feature_importances_.argsort()\n",
        "plt.barh(forestDF.columns.values[sort], rf.feature_importances_[sort])\n",
        "plt.xlabel('Feature Importance')\n",
        "plt.axis([0, 0.35, 34, 52])\n",
        "plt.show()"
      ],
      "metadata": {
        "id": "l409CPrduYOy",
        "colab": {
          "base_uri": "https://localhost:8080/",
          "height": 283
        },
        "outputId": "5f08ce90-7f78-430b-b155-fe25f446f7ca"
      },
      "id": "l409CPrduYOy",
      "execution_count": 14,
      "outputs": [
        {
          "output_type": "display_data",
          "data": {
            "text/plain": [
              "<Figure size 432x288 with 1 Axes>"
            ],
            "image/png": "[encoded data removed]"
          },
          "metadata": {
            "needs_background": "light"
          }
        }
      ]
    },
    {
      "cell_type": "code",
      "source": [
        "forestDF.columns"
      ],
      "metadata": {
        "id": "aBhlTwtCzqKm",
        "colab": {
          "base_uri": "https://localhost:8080/"
        },
        "outputId": "b8d2a3a2-d28c-4381-ea7b-3d250fe049c5"
      },
      "id": "aBhlTwtCzqKm",
      "execution_count": 15,
      "outputs": [
        {
          "output_type": "execute_result",
          "data": {
            "text/plain": [
              "Index(['Elevation', 'Aspect', 'Slope', 'Horizontal_Distance_To_Hydrology',\n",
              "       'Vertical_Distance_To_Hydrology', 'Horizontal_Distance_To_Roadways',\n",
              "       'Hillshade_9am', 'Hillshade_Noon', 'Hillshade_3pm',\n",
              "       'Horizontal_Distance_To_Fire_Points', 'Rawah', 'Neota', 'Comanche Peak',\n",
              "       'Cache la Poudre', 'Soil_Type1', 'Soil_Type2', 'Soil_Type3',\n",
              "       'Soil_Type4', 'Soil_Type5', 'Soil_Type6', 'Soil_Type7', 'Soil_Type8',\n",
              "       'Soil_Type9', 'Soil_Type10', 'Soil_Type11', 'Soil_Type12',\n",
              "       'Soil_Type13', 'Soil_Type14', 'Soil_Type15', 'Soil_Type16',\n",
              "       'Soil_Type17', 'Soil_Type18', 'Soil_Type19', 'Soil_Type20',\n",
              "       'Soil_Type21', 'Soil_Type22', 'Soil_Type23', 'Soil_Type24',\n",
              "       'Soil_Type25', 'Soil_Type26', 'Soil_Type27', 'Soil_Type28',\n",
              "       'Soil_Type29', 'Soil_Type30', 'Soil_Type31', 'Soil_Type32',\n",
              "       'Soil_Type33', 'Soil_Type34', 'Soil_Type35', 'Soil_Type36',\n",
              "       'Soil_Type37', 'Soil_Type38', 'Soil_Type39', 'Soil_Type40'],\n",
              "      dtype='object')"
            ]
          },
          "metadata": {},
          "execution_count": 15
        }
      ]
    },
    {
      "cell_type": "markdown",
      "source": [
        "Based on the importance output, we decided to build a simplified model on:\n",
        "\n",
        "*   Elevation\n",
        "*   Horizontal Distance to Fire Points\n",
        "*   Soil Type: 32, 4, 2, 23, 29, 33, 31, 22\n",
        "*   Horizontal Distance to Roadways\n",
        "*   Wilderness Area: Comanche Peak, Rawah\n",
        "*   Horizontal Distance To Hydrology\n",
        "*   Hillshade noon\n",
        "*   Aspect\n",
        "*   Slope\n",
        "\n",
        "\n"
      ],
      "metadata": {
        "id": "Kq5Xrc7wrBHe"
      },
      "id": "Kq5Xrc7wrBHe"
    },
    {
      "cell_type": "code",
      "source": [
        "forestDF_new = pd.DataFrame().assign(\n",
        "                treeType=Y, \n",
        "                Elevation=forestDF['Elevation'], \n",
        "                Horizontal_Distance_To_Fire_Points=forestDF['Horizontal_Distance_To_Fire_Points'],\n",
        "                Soil_Type32=forestDF['Soil_Type32'],\n",
        "                Soil_Type4=forestDF['Soil_Type4'],\n",
        "                Soil_Type2=forestDF['Soil_Type2'],\n",
        "                Soil_Type23=forestDF['Soil_Type23'],\n",
        "                Soil_Type29=forestDF['Soil_Type29'],\n",
        "                Soil_Type33=forestDF['Soil_Type33'],\n",
        "                Soil_Type31=forestDF['Soil_Type31'],\n",
        "                Soil_Type22=forestDF['Soil_Type22'],\n",
        "                Horizontal_Distance_To_Roadways=forestDF['Horizontal_Distance_To_Roadways'],\n",
        "                Comanche_Peak=forestDF['Comanche Peak'], \n",
        "                Rawah=forestDF['Rawah'], \n",
        "                Horizontal_Distance_To_Hydrology=forestDF['Horizontal_Distance_To_Hydrology'],\n",
        "                Hillshade_Noon=forestDF['Hillshade_Noon'],\n",
        "                Aspect=forestDF['Aspect'],\n",
        "                Slope=forestDF['Slope']\n",
        "                                                      )\n"
      ],
      "metadata": {
        "id": "2nu7kYPa0WD9"
      },
      "id": "2nu7kYPa0WD9",
      "execution_count": 16,
      "outputs": []
    },
    {
      "cell_type": "code",
      "source": [
        "# Assign specific features to two different variables\n",
        "if 'treeType' in forestDF:\n",
        "    Y = forestDF['treeType'].values\n",
        "    del forestDF['treeType']\n",
        "    X = forestDF.values"
      ],
      "metadata": {
        "id": "ImGv5F8Tw0uU"
      },
      "id": "ImGv5F8Tw0uU",
      "execution_count": 17,
      "outputs": []
    },
    {
      "cell_type": "code",
      "source": [
        "# Re-creating logistic regression object\n",
        "lr_clf = LogisticRegression(penalty = 'l2', C = 1.0, class_weight = None)"
      ],
      "metadata": {
        "id": "UX1Oh210w-Oj"
      },
      "id": "UX1Oh210w-Oj",
      "execution_count": 18,
      "outputs": []
    },
    {
      "cell_type": "code",
      "source": [
        "#Running logistic regression on 10 random test/train splits\n",
        "iter_num = 0\n",
        "\n",
        "for iter_num, (train_indices,test_indices) in enumerate(cv_object.split(X,Y)):\n",
        "    lr_clf.fit(X[train_indices],Y[train_indices])\n",
        "    y_hat = lr_clf.predict(X[test_indices])\n",
        "    \n",
        "    print('****Iteration',iter_num,'****')\n",
        "    print('Accuracy',mt.accuracy_score(Y[test_indices],y_hat))\n",
        "    print('Confusion Matrix \\n',mt.confusion_matrix(Y[test_indices],y_hat))\n",
        "    "
      ],
      "metadata": {
        "id": "BeXMjWtRxNif",
        "colab": {
          "base_uri": "https://localhost:8080/"
        },
        "outputId": "50998687-5e5b-4f3f-bb25-8dc0d16fec93"
      },
      "id": "BeXMjWtRxNif",
      "execution_count": 19,
      "outputs": [
        {
          "output_type": "stream",
          "name": "stderr",
          "text": [
            "/usr/local/lib/python3.8/dist-packages/sklearn/linear_model/_logistic.py:814: ConvergenceWarning: lbfgs failed to converge (status=1):\n",
            "STOP: TOTAL NO. of ITERATIONS REACHED LIMIT.\n",
            "\n",
            "Increase the number of iterations (max_iter) or scale the data as shown in:\n",
            "    https://scikit-learn.org/stable/modules/preprocessing.html\n",
            "Please also refer to the documentation for alternative solver options:\n",
            "    https://scikit-learn.org/stable/modules/linear_model.html#logistic-regression\n",
            "  n_iter_i = _check_optimize_result(\n"
          ]
        },
        {
          "output_type": "stream",
          "name": "stdout",
          "text": [
            "****Iteration 0 ****\n",
            "Accuracy 0.6134695317676824\n",
            "Confusion Matrix \n",
            " [[39362 20007]\n",
            " [24909 31925]]\n"
          ]
        },
        {
          "output_type": "stream",
          "name": "stderr",
          "text": [
            "/usr/local/lib/python3.8/dist-packages/sklearn/linear_model/_logistic.py:814: ConvergenceWarning: lbfgs failed to converge (status=1):\n",
            "STOP: TOTAL NO. of ITERATIONS REACHED LIMIT.\n",
            "\n",
            "Increase the number of iterations (max_iter) or scale the data as shown in:\n",
            "    https://scikit-learn.org/stable/modules/preprocessing.html\n",
            "Please also refer to the documentation for alternative solver options:\n",
            "    https://scikit-learn.org/stable/modules/linear_model.html#logistic-regression\n",
            "  n_iter_i = _check_optimize_result(\n"
          ]
        },
        {
          "output_type": "stream",
          "name": "stdout",
          "text": [
            "****Iteration 1 ****\n",
            "Accuracy 0.6098723785100213\n",
            "Confusion Matrix \n",
            " [[39081 20420]\n",
            " [24914 31788]]\n"
          ]
        },
        {
          "output_type": "stream",
          "name": "stderr",
          "text": [
            "/usr/local/lib/python3.8/dist-packages/sklearn/linear_model/_logistic.py:814: ConvergenceWarning: lbfgs failed to converge (status=1):\n",
            "STOP: TOTAL NO. of ITERATIONS REACHED LIMIT.\n",
            "\n",
            "Increase the number of iterations (max_iter) or scale the data as shown in:\n",
            "    https://scikit-learn.org/stable/modules/preprocessing.html\n",
            "Please also refer to the documentation for alternative solver options:\n",
            "    https://scikit-learn.org/stable/modules/linear_model.html#logistic-regression\n",
            "  n_iter_i = _check_optimize_result(\n"
          ]
        },
        {
          "output_type": "stream",
          "name": "stdout",
          "text": [
            "****Iteration 2 ****\n",
            "Accuracy 0.6112837017977161\n",
            "Confusion Matrix \n",
            " [[39122 20362]\n",
            " [24808 31911]]\n"
          ]
        },
        {
          "output_type": "stream",
          "name": "stderr",
          "text": [
            "/usr/local/lib/python3.8/dist-packages/sklearn/linear_model/_logistic.py:814: ConvergenceWarning: lbfgs failed to converge (status=1):\n",
            "STOP: TOTAL NO. of ITERATIONS REACHED LIMIT.\n",
            "\n",
            "Increase the number of iterations (max_iter) or scale the data as shown in:\n",
            "    https://scikit-learn.org/stable/modules/preprocessing.html\n",
            "Please also refer to the documentation for alternative solver options:\n",
            "    https://scikit-learn.org/stable/modules/linear_model.html#logistic-regression\n",
            "  n_iter_i = _check_optimize_result(\n"
          ]
        },
        {
          "output_type": "stream",
          "name": "stdout",
          "text": [
            "****Iteration 3 ****\n",
            "Accuracy 0.6128843489410772\n",
            "Confusion Matrix \n",
            " [[39096 20177]\n",
            " [24807 32123]]\n"
          ]
        },
        {
          "output_type": "stream",
          "name": "stderr",
          "text": [
            "/usr/local/lib/python3.8/dist-packages/sklearn/linear_model/_logistic.py:814: ConvergenceWarning: lbfgs failed to converge (status=1):\n",
            "STOP: TOTAL NO. of ITERATIONS REACHED LIMIT.\n",
            "\n",
            "Increase the number of iterations (max_iter) or scale the data as shown in:\n",
            "    https://scikit-learn.org/stable/modules/preprocessing.html\n",
            "Please also refer to the documentation for alternative solver options:\n",
            "    https://scikit-learn.org/stable/modules/linear_model.html#logistic-regression\n",
            "  n_iter_i = _check_optimize_result(\n"
          ]
        },
        {
          "output_type": "stream",
          "name": "stdout",
          "text": [
            "****Iteration 4 ****\n",
            "Accuracy 0.613254391022607\n",
            "Confusion Matrix \n",
            " [[39276 20145]\n",
            " [24796 31986]]\n"
          ]
        },
        {
          "output_type": "stream",
          "name": "stderr",
          "text": [
            "/usr/local/lib/python3.8/dist-packages/sklearn/linear_model/_logistic.py:814: ConvergenceWarning: lbfgs failed to converge (status=1):\n",
            "STOP: TOTAL NO. of ITERATIONS REACHED LIMIT.\n",
            "\n",
            "Increase the number of iterations (max_iter) or scale the data as shown in:\n",
            "    https://scikit-learn.org/stable/modules/preprocessing.html\n",
            "Please also refer to the documentation for alternative solver options:\n",
            "    https://scikit-learn.org/stable/modules/linear_model.html#logistic-regression\n",
            "  n_iter_i = _check_optimize_result(\n"
          ]
        },
        {
          "output_type": "stream",
          "name": "stdout",
          "text": [
            "****Iteration 5 ****\n",
            "Accuracy 0.6134867430272885\n",
            "Confusion Matrix \n",
            " [[39352 20268]\n",
            " [24646 31937]]\n"
          ]
        },
        {
          "output_type": "stream",
          "name": "stderr",
          "text": [
            "/usr/local/lib/python3.8/dist-packages/sklearn/linear_model/_logistic.py:814: ConvergenceWarning: lbfgs failed to converge (status=1):\n",
            "STOP: TOTAL NO. of ITERATIONS REACHED LIMIT.\n",
            "\n",
            "Increase the number of iterations (max_iter) or scale the data as shown in:\n",
            "    https://scikit-learn.org/stable/modules/preprocessing.html\n",
            "Please also refer to the documentation for alternative solver options:\n",
            "    https://scikit-learn.org/stable/modules/linear_model.html#logistic-regression\n",
            "  n_iter_i = _check_optimize_result(\n"
          ]
        },
        {
          "output_type": "stream",
          "name": "stdout",
          "text": [
            "****Iteration 6 ****\n",
            "Accuracy 0.6130564615371376\n",
            "Confusion Matrix \n",
            " [[39343 20419]\n",
            " [24545 31896]]\n"
          ]
        },
        {
          "output_type": "stream",
          "name": "stderr",
          "text": [
            "/usr/local/lib/python3.8/dist-packages/sklearn/linear_model/_logistic.py:814: ConvergenceWarning: lbfgs failed to converge (status=1):\n",
            "STOP: TOTAL NO. of ITERATIONS REACHED LIMIT.\n",
            "\n",
            "Increase the number of iterations (max_iter) or scale the data as shown in:\n",
            "    https://scikit-learn.org/stable/modules/preprocessing.html\n",
            "Please also refer to the documentation for alternative solver options:\n",
            "    https://scikit-learn.org/stable/modules/linear_model.html#logistic-regression\n",
            "  n_iter_i = _check_optimize_result(\n"
          ]
        },
        {
          "output_type": "stream",
          "name": "stdout",
          "text": [
            "****Iteration 7 ****\n",
            "Accuracy 0.6136846725127578\n",
            "Confusion Matrix \n",
            " [[39091 20518]\n",
            " [24373 32221]]\n"
          ]
        },
        {
          "output_type": "stream",
          "name": "stderr",
          "text": [
            "/usr/local/lib/python3.8/dist-packages/sklearn/linear_model/_logistic.py:814: ConvergenceWarning: lbfgs failed to converge (status=1):\n",
            "STOP: TOTAL NO. of ITERATIONS REACHED LIMIT.\n",
            "\n",
            "Increase the number of iterations (max_iter) or scale the data as shown in:\n",
            "    https://scikit-learn.org/stable/modules/preprocessing.html\n",
            "Please also refer to the documentation for alternative solver options:\n",
            "    https://scikit-learn.org/stable/modules/linear_model.html#logistic-regression\n",
            "  n_iter_i = _check_optimize_result(\n"
          ]
        },
        {
          "output_type": "stream",
          "name": "stdout",
          "text": [
            "****Iteration 8 ****\n",
            "Accuracy 0.6100358854762786\n",
            "Confusion Matrix \n",
            " [[39249 20309]\n",
            " [25006 31639]]\n",
            "****Iteration 9 ****\n",
            "Accuracy 0.6113009130573221\n",
            "Confusion Matrix \n",
            " [[39212 20261]\n",
            " [24907 31823]]\n"
          ]
        },
        {
          "output_type": "stream",
          "name": "stderr",
          "text": [
            "/usr/local/lib/python3.8/dist-packages/sklearn/linear_model/_logistic.py:814: ConvergenceWarning: lbfgs failed to converge (status=1):\n",
            "STOP: TOTAL NO. of ITERATIONS REACHED LIMIT.\n",
            "\n",
            "Increase the number of iterations (max_iter) or scale the data as shown in:\n",
            "    https://scikit-learn.org/stable/modules/preprocessing.html\n",
            "Please also refer to the documentation for alternative solver options:\n",
            "    https://scikit-learn.org/stable/modules/linear_model.html#logistic-regression\n",
            "  n_iter_i = _check_optimize_result(\n"
          ]
        }
      ]
    },
    {
      "cell_type": "code",
      "source": [
        "accuracies = cross_val_score(lr_clf, X, y=Y, cv=cv_object) # this also can help with parallelism\n",
        "print(accuracies)"
      ],
      "metadata": {
        "id": "dZGNJkgvxTRS"
      },
      "id": "dZGNJkgvxTRS",
      "execution_count": null,
      "outputs": []
    },
    {
      "cell_type": "markdown",
      "source": [
        "## Interpret Feature Importance 30\n",
        "\n",
        "Use the weights from logistic regression to interpret the importance of different features for the classification task. Explain your interpretation in detail. Why do you think some variables are more important?"
      ],
      "metadata": {
        "id": "5M-XYvRzh_Id"
      },
      "id": "5M-XYvRzh_Id"
    },
    {
      "cell_type": "markdown",
      "id": "a558f61e",
      "metadata": {
        "id": "a558f61e"
      },
      "source": [
        "## Looking at weights of the model"
      ]
    },
    {
      "cell_type": "code",
      "execution_count": 20,
      "id": "7f74ab89",
      "metadata": {
        "id": "7f74ab89",
        "colab": {
          "base_uri": "https://localhost:8080/"
        },
        "outputId": "93664ec7-c791-4f8e-d9ce-f4c4f0370b63"
      },
      "outputs": [
        {
          "output_type": "stream",
          "name": "stdout",
          "text": [
            "treeType has weight of -0.001772942701855985\n",
            "Elevation has weight of -0.0006319982583176873\n",
            "Horizontal_Distance_To_Fire_Points has weight of 0.002625401866554508\n",
            "Soil_Type32 has weight of 0.0011821902897051278\n",
            "Soil_Type4 has weight of -0.0007623341088771443\n",
            "Soil_Type2 has weight of 7.867758699493701e-05\n",
            "Soil_Type23 has weight of 0.007840393144071627\n",
            "Soil_Type29 has weight of 0.009587692350575454\n",
            "Soil_Type33 has weight of 0.003930077322626156\n",
            "Soil_Type31 has weight of 0.0002147955189747333\n",
            "Soil_Type22 has weight of 0.001954348469934701\n",
            "Horizontal_Distance_To_Roadways has weight of -0.0003943261261441772\n",
            "Comanche_Peak has weight of 0.0017539721754233429\n",
            "Rawah has weight of -0.0032898979343104666\n",
            "Horizontal_Distance_To_Hydrology has weight of -0.00034483636134428913\n",
            "Hillshade_Noon has weight of -0.0007055257387233523\n",
            "Aspect has weight of -0.00031440751454800414\n",
            "Slope has weight of -0.0007427726585710994\n"
          ]
        }
      ],
      "source": [
        "weights = lr_clf.coef_.T\n",
        "varNames = forestDF_new.columns\n",
        "for coef, name in zip(weights, varNames):\n",
        "    print(name, 'has weight of', coef[0])"
      ]
    },
    {
      "cell_type": "markdown",
      "id": "0868f669",
      "metadata": {
        "id": "0868f669"
      },
      "source": [
        "### Scaling the weights for interpretability"
      ]
    },
    {
      "cell_type": "code",
      "execution_count": 21,
      "id": "62176a55",
      "metadata": {
        "id": "62176a55",
        "colab": {
          "base_uri": "https://localhost:8080/"
        },
        "outputId": "6f55a20f-c38b-4493-acb6-9b72c6cdb1c6"
      },
      "outputs": [
        {
          "output_type": "stream",
          "name": "stdout",
          "text": [
            "accuracy: 0.7555312685558893\n",
            "[[44249 15224]\n",
            " [13184 43546]]\n",
            "Elevation has weight of -1.5494885189466914\n",
            "Cache la Poudre has weight of -1.0302897154973043\n",
            "Soil_Type1 has weight of -0.5534460163657446\n",
            "Soil_Type2 has weight of -0.44584634348220864\n",
            "Soil_Type4 has weight of -0.4235191392562621\n",
            "Soil_Type5 has weight of -0.3947602167628893\n",
            "Soil_Type14 has weight of -0.313477259640599\n",
            "Soil_Type39 has weight of -0.29053714550321014\n",
            "Soil_Type38 has weight of -0.22464848746466853\n",
            "Soil_Type3 has weight of -0.22390691875151167\n",
            "Soil_Type35 has weight of -0.17703019451856955\n",
            "Soil_Type40 has weight of -0.15943927404547073\n",
            "Soil_Type17 has weight of -0.15861922708961151\n",
            "Soil_Type10 has weight of -0.14728290721994822\n",
            "Soil_Type37 has weight of -0.12685376689588335\n",
            "Soil_Type21 has weight of -0.11540915414573055\n",
            "Soil_Type22 has weight of -0.10553569426671902\n",
            "Hillshade_3pm has weight of -0.10469419288959689\n",
            "Aspect has weight of -0.03455391453617095\n",
            "Soil_Type6 has weight of -0.02947333881156911\n",
            "Soil_Type23 has weight of -0.0287006654529753\n",
            "Soil_Type20 has weight of -0.018903133860626534\n",
            "Soil_Type15 has weight of -0.01827073575644849\n",
            "Soil_Type16 has weight of -0.012147374488890849\n",
            "Soil_Type18 has weight of -0.007561610463230902\n",
            "Soil_Type19 has weight of -0.0058150249575298525\n",
            "Soil_Type9 has weight of -0.0006075140546394442\n",
            "Soil_Type36 has weight of 0.006350218820618538\n",
            "Soil_Type8 has weight of 0.007421230086576877\n",
            "Soil_Type27 has weight of 0.009116948894979488\n",
            "Hillshade_9am has weight of 0.014230743981047013\n",
            "Soil_Type11 has weight of 0.01691133063083122\n",
            "Horizontal_Distance_To_Fire_Points has weight of 0.02004354087699489\n",
            "Vertical_Distance_To_Hydrology has weight of 0.030822311527881643\n",
            "Soil_Type25 has weight of 0.04601587564263006\n",
            "Soil_Type26 has weight of 0.0730383188754797\n",
            "Soil_Type28 has weight of 0.07703072211478096\n",
            "Soil_Type24 has weight of 0.09210292888570075\n",
            "Soil_Type7 has weight of 0.09756331548139247\n",
            "Soil_Type34 has weight of 0.10359943549272625\n",
            "Slope has weight of 0.11552848746813353\n",
            "Soil_Type13 has weight of 0.12149348422177243\n",
            "Horizontal_Distance_To_Roadways has weight of 0.12360784568636696\n",
            "Soil_Type31 has weight of 0.12504173123134069\n",
            "Soil_Type30 has weight of 0.1262944022803913\n",
            "Comanche Peak has weight of 0.16629250366116846\n",
            "Soil_Type33 has weight of 0.1770795079154301\n",
            "Neota has weight of 0.21593474221464726\n",
            "Rawah has weight of 0.24415626975613816\n",
            "Soil_Type29 has weight of 0.2591535807866621\n",
            "Soil_Type32 has weight of 0.26650519059784944\n",
            "Soil_Type12 has weight of 0.3085264396750968\n",
            "Horizontal_Distance_To_Hydrology has weight of 0.32383470653046287\n",
            "Hillshade_Noon has weight of 0.4935841555163406\n"
          ]
        }
      ],
      "source": [
        "sclObj = StandardScaler()\n",
        "sclObj.fit(X[train_indices])\n",
        "\n",
        "X_trainScaled = sclObj.transform(X[train_indices])\n",
        "x_testScaled = sclObj.transform(X[test_indices])\n",
        "\n",
        "lrs_clf = LogisticRegression(penalty = 'l2', C = 0.05)\n",
        "lrs_clf.fit(X_trainScaled,Y[train_indices])\n",
        "\n",
        "y_hatS = lrs_clf.predict(x_testScaled)\n",
        "\n",
        "acc = mt.accuracy_score(Y[test_indices], y_hatS)\n",
        "conf = mt.confusion_matrix(Y[test_indices], y_hatS)\n",
        "print('accuracy:', acc)\n",
        "print(conf)\n",
        "\n",
        "zipVars = zip(lrs_clf.coef_.T, forestDF.columns)\n",
        "zipVars = sorted(zipVars)\n",
        "\n",
        "for coef, name in zipVars:\n",
        "    print(name,'has weight of', coef[0])\n",
        "    "
      ]
    },
    {
      "cell_type": "markdown",
      "id": "fab1b855",
      "metadata": {
        "id": "fab1b855"
      },
      "source": [
        "### Plotting weights (scaled weights)"
      ]
    },
    {
      "cell_type": "code",
      "execution_count": 22,
      "id": "612c25d6",
      "metadata": {
        "id": "612c25d6",
        "colab": {
          "base_uri": "https://localhost:8080/",
          "height": 428
        },
        "outputId": "2ce288ee-ac4e-4e1e-8e41-7b870e4bc442"
      },
      "outputs": [
        {
          "output_type": "display_data",
          "data": {
            "text/plain": [
              "<Figure size 432x288 with 1 Axes>"
            ],
            "image/png": "[encoded data removed]"
          },
          "metadata": {}
        }
      ],
      "source": [
        "%matplotlib inline\n",
        "plt.style.use('ggplot')\n",
        "weights = pd.Series(lrs_clf.coef_[0], index = forestDF.columns)\n",
        "weights.plot(kind = 'bar')\n",
        "plt.show()"
      ]
    },
    {
      "cell_type": "markdown",
      "source": [
        "The weights from the logistic regression model help us identify the importance of the various features. Having so many differnet features, it can be nice to see which ones impact the classification more so than others. This way, we can use those of utomst importance to create a better/more accurate model. \n",
        "\n",
        "We can see from the graph these weights for the various features quite nicely. The graph shows us that 'Elevation' has the largest absolute value. This allows us to assume that it plays the largest role in classification, in regard to all the other features in this dataset. Cache la Poudre is the next highest value. \n",
        "\n",
        "We believe that certain features have higher weights due to their immediate connection with the clasification. The Spruce/Fir trees grow best in certain conditions; some of these conditions are listed in the features. We believe that elevation is a key driver in identifying whether a tree is a Spruce/Fir. Similarly, we believe that other features directly connect to Spruce/Fir - like soil type.   "
      ],
      "metadata": {
        "id": "-EZ0E2o54Hmq"
      },
      "id": "-EZ0E2o54Hmq"
    },
    {
      "cell_type": "markdown",
      "id": "e49c6293",
      "metadata": {
        "id": "e49c6293"
      },
      "source": [
        "# Support Vector Machine"
      ]
    },
    {
      "cell_type": "markdown",
      "id": "6f16474f",
      "metadata": {
        "id": "6f16474f"
      },
      "source": [
        "### Creating and running the SVM using the scaled and split sets from earlier"
      ]
    },
    {
      "cell_type": "code",
      "execution_count": 23,
      "id": "2ffcba57",
      "metadata": {
        "id": "2ffcba57"
      },
      "outputs": [],
      "source": [
        "# Creating Cross Validation Object - SVM\n",
        "cv_CGD = StratifiedShuffleSplit(n_splits = 3, test_size = 0.2)"
      ]
    },
    {
      "cell_type": "code",
      "source": [
        "#Creating SVM using linear SGD due to large amount of data\n",
        "regularize_const = 0.1\n",
        "iterations = 10\n",
        "\n",
        "svm_sgd = SGDClassifier(alpha=regularize_const,\n",
        "                       fit_intercept = True,\n",
        "                       l1_ratio = 0.0,\n",
        "                       learning_rate = 'optimal',\n",
        "                       loss = 'hinge',\n",
        "                       max_iter = iterations,\n",
        "                       n_jobs = -1,\n",
        "                       penalty = 'l2')"
      ],
      "metadata": {
        "id": "BxrjmAXb6kfH"
      },
      "id": "BxrjmAXb6kfH",
      "execution_count": 24,
      "outputs": []
    },
    {
      "cell_type": "code",
      "source": [
        "scl = StandardScaler()\n",
        "\n",
        "for train_idx, test_idx in cv_CGD.split(X,Y):\n",
        "    svm_sgd.fit(scl.fit_transform(X[train_idx]), Y[train_idx])\n",
        "    y_hatSVM = svm_sgd.predict(scl.transform(X[test_idx]))\n",
        "    \n",
        "    print('Accuracy', mt.accuracy_score(Y[test_idx], y_hatSVM))\n",
        "    print('Confusion Matrix \\n', mt.confusion_matrix(Y[test_idx], y_hatSVM))"
      ],
      "metadata": {
        "id": "xPxkd8s-HT_P",
        "colab": {
          "base_uri": "https://localhost:8080/"
        },
        "outputId": "9320d23e-37eb-47b9-ffa5-aa0cfe56f6cb"
      },
      "id": "xPxkd8s-HT_P",
      "execution_count": 25,
      "outputs": [
        {
          "output_type": "stream",
          "name": "stdout",
          "text": [
            "Accuracy 0.6866690188721462\n",
            "Confusion Matrix \n",
            " [[33237 26306]\n",
            " [10104 46556]]\n",
            "Accuracy 0.6878221732657505\n",
            "Confusion Matrix \n",
            " [[33324 26219]\n",
            " [10057 46603]]\n",
            "Accuracy 0.6900596370145349\n",
            "Confusion Matrix \n",
            " [[33543 26000]\n",
            " [10016 46644]]\n"
          ]
        }
      ]
    },
    {
      "cell_type": "code",
      "source": [
        "SVMWeights = pd.Series(svm_sgd.coef_[0], index = forestDF.columns)\n",
        "SVMWeights = pd.DataFrame({'Var':SVMWeights.index, 'Weight':SVMWeights.values})\n",
        "SVMWeights = SVMWeights.sort_values('Weight')\n",
        "plt.figure(figsize = (8, 10))\n",
        "sns.barplot(x = 'Weight', y = 'Var', data = SVMWeights)"
      ],
      "metadata": {
        "id": "mkBpCba96qIl",
        "colab": {
          "base_uri": "https://localhost:8080/",
          "height": 626
        },
        "outputId": "38cb11af-b911-46aa-acc7-c585f85a5b00"
      },
      "id": "mkBpCba96qIl",
      "execution_count": 26,
      "outputs": [
        {
          "output_type": "execute_result",
          "data": {
            "text/plain": [
              "<matplotlib.axes._subplots.AxesSubplot at 0x7fe99b488f10>"
            ]
          },
          "metadata": {},
          "execution_count": 26
        },
        {
          "output_type": "display_data",
          "data": {
            "text/plain": [
              "<Figure size 576x720 with 1 Axes>"
            ],
            "image/png": "[encoded data removed]"
          },
          "metadata": {}
        }
      ]
    },
    {
      "cell_type": "code",
      "source": [
        "# Creating SVM using logistic SGD due to large amount of data\n",
        "log_sgd = SGDClassifier(alpha = regularize_const,\n",
        "                       fit_intercept = True,\n",
        "                       l1_ratio = 0.0,\n",
        "                       learning_rate = 'optimal',\n",
        "                       loss = 'log',\n",
        "                       max_iter = iterations,\n",
        "                       n_jobs = -1,\n",
        "                       penalty = 'l2')"
      ],
      "metadata": {
        "id": "UwmBAvQ0txqD"
      },
      "id": "UwmBAvQ0txqD",
      "execution_count": 27,
      "outputs": []
    },
    {
      "cell_type": "code",
      "source": [
        "scl = StandardScaler()\n",
        "\n",
        "for train_idx, test_idx in cv_CGD.split(X,Y):\n",
        "    log_sgd.fit(scl.fit_transform(X[train_idx]), Y[train_idx])\n",
        "    y_hatSVM = log_sgd.predict(scl.transform(X[test_idx]))\n",
        "    \n",
        "    print('Accuracy', mt.accuracy_score(Y[test_idx], y_hatSVM))\n",
        "    print('Confusion Matrix \\n', mt.confusion_matrix(Y[test_idx], y_hatSVM))"
      ],
      "metadata": {
        "id": "-sj_a7y4t30z",
        "colab": {
          "base_uri": "https://localhost:8080/"
        },
        "outputId": "3a518a7e-79ad-4c97-f6e2-6b70f6c467aa"
      },
      "id": "-sj_a7y4t30z",
      "execution_count": 28,
      "outputs": [
        {
          "output_type": "stream",
          "name": "stdout",
          "text": [
            "Accuracy 0.7283288727485521\n",
            "Confusion Matrix \n",
            " [[40948 18595]\n",
            " [12974 43686]]\n",
            "Accuracy 0.7270466339079026\n",
            "Confusion Matrix \n",
            " [[40869 18674]\n",
            " [13044 43616]]\n",
            "Accuracy 0.7269175494608573\n",
            "Confusion Matrix \n",
            " [[40875 18668]\n",
            " [13065 43595]]\n"
          ]
        }
      ]
    },
    {
      "cell_type": "code",
      "source": [
        "logSVMWeights = pd.Series(log_sgd.coef_[0],index = forestDF.columns)\n",
        "logSVMWeights = pd.DataFrame({'Var':logSVMWeights.index, 'Weight':logSVMWeights.values})\n",
        "logSVMWeights = logSVMWeights.sort_values('Weight')\n",
        "plt.figure(figsize = (8, 10))\n",
        "sns.barplot(x = 'Weight', y = 'Var', data = logSVMWeights)"
      ],
      "metadata": {
        "id": "1VH7qxQ8tzQ-",
        "colab": {
          "base_uri": "https://localhost:8080/",
          "height": 626
        },
        "outputId": "392c7762-3021-40db-8024-5b42a45c4550"
      },
      "id": "1VH7qxQ8tzQ-",
      "execution_count": 29,
      "outputs": [
        {
          "output_type": "execute_result",
          "data": {
            "text/plain": [
              "<matplotlib.axes._subplots.AxesSubplot at 0x7fe99b4f5310>"
            ]
          },
          "metadata": {},
          "execution_count": 29
        },
        {
          "output_type": "display_data",
          "data": {
            "text/plain": [
              "<Figure size 576x720 with 1 Axes>"
            ],
            "image/png": "[encoded data removed]"
          },
          "metadata": {}
        }
      ]
    },
    {
      "cell_type": "code",
      "source": [
        "# Sub-sampling data and verifying still balanced\n",
        "forestSubDF = forestFullDF.sample(10000)\n",
        "forestSubDF.head()\n",
        "# forestSubDF['treeType'].describe().transpose()\n",
        "forestSubDF.groupby('treeType').count()"
      ],
      "metadata": {
        "id": "BuYdqQIR965A",
        "colab": {
          "base_uri": "https://localhost:8080/",
          "height": 242
        },
        "outputId": "413f0cb3-b76c-487c-ab81-050add3bde36"
      },
      "id": "BuYdqQIR965A",
      "execution_count": 30,
      "outputs": [
        {
          "output_type": "execute_result",
          "data": {
            "text/plain": [
              "          Elevation  Aspect  Slope  Horizontal_Distance_To_Hydrology  \\\n",
              "treeType                                                               \n",
              "0              5070    5070   5070                              5070   \n",
              "1              4930    4930   4930                              4930   \n",
              "\n",
              "          Vertical_Distance_To_Hydrology  Horizontal_Distance_To_Roadways  \\\n",
              "treeType                                                                    \n",
              "0                                   5070                             5070   \n",
              "1                                   4930                             4930   \n",
              "\n",
              "          Hillshade_9am  Hillshade_Noon  Hillshade_3pm  \\\n",
              "treeType                                                 \n",
              "0                  5070            5070           5070   \n",
              "1                  4930            4930           4930   \n",
              "\n",
              "          Horizontal_Distance_To_Fire_Points  Rawah  Neota  Comanche Peak  \\\n",
              "treeType                                                                    \n",
              "0                                       5070   5070   5070           5070   \n",
              "1                                       4930   4930   4930           4930   \n",
              "\n",
              "          Cache la Poudre  Soil_Type1  Soil_Type2  Soil_Type3  Soil_Type4  \\\n",
              "treeType                                                                    \n",
              "0                    5070        5070        5070        5070        5070   \n",
              "1                    4930        4930        4930        4930        4930   \n",
              "\n",
              "          Soil_Type5  Soil_Type6  Soil_Type7  Soil_Type8  Soil_Type9  \\\n",
              "treeType                                                               \n",
              "0               5070        5070        5070        5070        5070   \n",
              "1               4930        4930        4930        4930        4930   \n",
              "\n",
              "          Soil_Type10  Soil_Type11  Soil_Type12  Soil_Type13  Soil_Type14  \\\n",
              "treeType                                                                    \n",
              "0                5070         5070         5070         5070         5070   \n",
              "1                4930         4930         4930         4930         4930   \n",
              "\n",
              "          Soil_Type15  Soil_Type16  Soil_Type17  Soil_Type18  Soil_Type19  \\\n",
              "treeType                                                                    \n",
              "0                5070         5070         5070         5070         5070   \n",
              "1                4930         4930         4930         4930         4930   \n",
              "\n",
              "          Soil_Type20  Soil_Type21  Soil_Type22  Soil_Type23  Soil_Type24  \\\n",
              "treeType                                                                    \n",
              "0                5070         5070         5070         5070         5070   \n",
              "1                4930         4930         4930         4930         4930   \n",
              "\n",
              "          Soil_Type25  Soil_Type26  Soil_Type27  Soil_Type28  Soil_Type29  \\\n",
              "treeType                                                                    \n",
              "0                5070         5070         5070         5070         5070   \n",
              "1                4930         4930         4930         4930         4930   \n",
              "\n",
              "          Soil_Type30  Soil_Type31  Soil_Type32  Soil_Type33  Soil_Type34  \\\n",
              "treeType                                                                    \n",
              "0                5070         5070         5070         5070         5070   \n",
              "1                4930         4930         4930         4930         4930   \n",
              "\n",
              "          Soil_Type35  Soil_Type36  Soil_Type37  Soil_Type38  Soil_Type39  \\\n",
              "treeType                                                                    \n",
              "0                5070         5070         5070         5070         5070   \n",
              "1                4930         4930         4930         4930         4930   \n",
              "\n",
              "          Soil_Type40  \n",
              "treeType               \n",
              "0                5070  \n",
              "1                4930  "
            ],
            "text/html": [
              "\n",
              "  <div id=\"df-32394a3e-ee03-4e3f-a88a-80942c647a04\">\n",
              "    <div class=\"colab-df-container\">\n",
              "      <div>\n",
              "<style scoped>\n",
              "    .dataframe tbody tr th:only-of-type {\n",
              "        vertical-align: middle;\n",
              "    }\n",
              "\n",
              "    .dataframe tbody tr th {\n",
              "        vertical-align: top;\n",
              "    }\n",
              "\n",
              "    .dataframe thead th {\n",
              "        text-align: right;\n",
              "    }\n",
              "</style>\n",
              "<table border=\"1\" class=\"dataframe\">\n",
              "  <thead>\n",
              "    <tr style=\"text-align: right;\">\n",
              "      <th></th>\n",
              "      <th>Elevation</th>\n",
              "      <th>Aspect</th>\n",
              "      <th>Slope</th>\n",
              "      <th>Horizontal_Distance_To_Hydrology</th>\n",
              "      <th>Vertical_Distance_To_Hydrology</th>\n",
              "      <th>Horizontal_Distance_To_Roadways</th>\n",
              "      <th>Hillshade_9am</th>\n",
              "      <th>Hillshade_Noon</th>\n",
              "      <th>Hillshade_3pm</th>\n",
              "      <th>Horizontal_Distance_To_Fire_Points</th>\n",
              "      <th>Rawah</th>\n",
              "      <th>Neota</th>\n",
              "      <th>Comanche Peak</th>\n",
              "      <th>Cache la Poudre</th>\n",
              "      <th>Soil_Type1</th>\n",
              "      <th>Soil_Type2</th>\n",
              "      <th>Soil_Type3</th>\n",
              "      <th>Soil_Type4</th>\n",
              "      <th>Soil_Type5</th>\n",
              "      <th>Soil_Type6</th>\n",
              "      <th>Soil_Type7</th>\n",
              "      <th>Soil_Type8</th>\n",
              "      <th>Soil_Type9</th>\n",
              "      <th>Soil_Type10</th>\n",
              "      <th>Soil_Type11</th>\n",
              "      <th>Soil_Type12</th>\n",
              "      <th>Soil_Type13</th>\n",
              "      <th>Soil_Type14</th>\n",
              "      <th>Soil_Type15</th>\n",
              "      <th>Soil_Type16</th>\n",
              "      <th>Soil_Type17</th>\n",
              "      <th>Soil_Type18</th>\n",
              "      <th>Soil_Type19</th>\n",
              "      <th>Soil_Type20</th>\n",
              "      <th>Soil_Type21</th>\n",
              "      <th>Soil_Type22</th>\n",
              "      <th>Soil_Type23</th>\n",
              "      <th>Soil_Type24</th>\n",
              "      <th>Soil_Type25</th>\n",
              "      <th>Soil_Type26</th>\n",
              "      <th>Soil_Type27</th>\n",
              "      <th>Soil_Type28</th>\n",
              "      <th>Soil_Type29</th>\n",
              "      <th>Soil_Type30</th>\n",
              "      <th>Soil_Type31</th>\n",
              "      <th>Soil_Type32</th>\n",
              "      <th>Soil_Type33</th>\n",
              "      <th>Soil_Type34</th>\n",
              "      <th>Soil_Type35</th>\n",
              "      <th>Soil_Type36</th>\n",
              "      <th>Soil_Type37</th>\n",
              "      <th>Soil_Type38</th>\n",
              "      <th>Soil_Type39</th>\n",
              "      <th>Soil_Type40</th>\n",
              "    </tr>\n",
              "    <tr>\n",
              "      <th>treeType</th>\n",
              "      <th></th>\n",
              "      <th></th>\n",
              "      <th></th>\n",
              "      <th></th>\n",
              "      <th></th>\n",
              "      <th></th>\n",
              "      <th></th>\n",
              "      <th></th>\n",
              "      <th></th>\n",
              "      <th></th>\n",
              "      <th></th>\n",
              "      <th></th>\n",
              "      <th></th>\n",
              "      <th></th>\n",
              "      <th></th>\n",
              "      <th></th>\n",
              "      <th></th>\n",
              "      <th></th>\n",
              "      <th></th>\n",
              "      <th></th>\n",
              "      <th></th>\n",
              "      <th></th>\n",
              "      <th></th>\n",
              "      <th></th>\n",
              "      <th></th>\n",
              "      <th></th>\n",
              "      <th></th>\n",
              "      <th></th>\n",
              "      <th></th>\n",
              "      <th></th>\n",
              "      <th></th>\n",
              "      <th></th>\n",
              "      <th></th>\n",
              "      <th></th>\n",
              "      <th></th>\n",
              "      <th></th>\n",
              "      <th></th>\n",
              "      <th></th>\n",
              "      <th></th>\n",
              "      <th></th>\n",
              "      <th></th>\n",
              "      <th></th>\n",
              "      <th></th>\n",
              "      <th></th>\n",
              "      <th></th>\n",
              "      <th></th>\n",
              "      <th></th>\n",
              "      <th></th>\n",
              "      <th></th>\n",
              "      <th></th>\n",
              "      <th></th>\n",
              "      <th></th>\n",
              "      <th></th>\n",
              "      <th></th>\n",
              "    </tr>\n",
              "  </thead>\n",
              "  <tbody>\n",
              "    <tr>\n",
              "      <th>0</th>\n",
              "      <td>5070</td>\n",
              "      <td>5070</td>\n",
              "      <td>5070</td>\n",
              "      <td>5070</td>\n",
              "      <td>5070</td>\n",
              "      <td>5070</td>\n",
              "      <td>5070</td>\n",
              "      <td>5070</td>\n",
              "      <td>5070</td>\n",
              "      <td>5070</td>\n",
              "      <td>5070</td>\n",
              "      <td>5070</td>\n",
              "      <td>5070</td>\n",
              "      <td>5070</td>\n",
              "      <td>5070</td>\n",
              "      <td>5070</td>\n",
              "      <td>5070</td>\n",
              "      <td>5070</td>\n",
              "      <td>5070</td>\n",
              "      <td>5070</td>\n",
              "      <td>5070</td>\n",
              "      <td>5070</td>\n",
              "      <td>5070</td>\n",
              "      <td>5070</td>\n",
              "      <td>5070</td>\n",
              "      <td>5070</td>\n",
              "      <td>5070</td>\n",
              "      <td>5070</td>\n",
              "      <td>5070</td>\n",
              "      <td>5070</td>\n",
              "      <td>5070</td>\n",
              "      <td>5070</td>\n",
              "      <td>5070</td>\n",
              "      <td>5070</td>\n",
              "      <td>5070</td>\n",
              "      <td>5070</td>\n",
              "      <td>5070</td>\n",
              "      <td>5070</td>\n",
              "      <td>5070</td>\n",
              "      <td>5070</td>\n",
              "      <td>5070</td>\n",
              "      <td>5070</td>\n",
              "      <td>5070</td>\n",
              "      <td>5070</td>\n",
              "      <td>5070</td>\n",
              "      <td>5070</td>\n",
              "      <td>5070</td>\n",
              "      <td>5070</td>\n",
              "      <td>5070</td>\n",
              "      <td>5070</td>\n",
              "      <td>5070</td>\n",
              "      <td>5070</td>\n",
              "      <td>5070</td>\n",
              "      <td>5070</td>\n",
              "    </tr>\n",
              "    <tr>\n",
              "      <th>1</th>\n",
              "      <td>4930</td>\n",
              "      <td>4930</td>\n",
              "      <td>4930</td>\n",
              "      <td>4930</td>\n",
              "      <td>4930</td>\n",
              "      <td>4930</td>\n",
              "      <td>4930</td>\n",
              "      <td>4930</td>\n",
              "      <td>4930</td>\n",
              "      <td>4930</td>\n",
              "      <td>4930</td>\n",
              "      <td>4930</td>\n",
              "      <td>4930</td>\n",
              "      <td>4930</td>\n",
              "      <td>4930</td>\n",
              "      <td>4930</td>\n",
              "      <td>4930</td>\n",
              "      <td>4930</td>\n",
              "      <td>4930</td>\n",
              "      <td>4930</td>\n",
              "      <td>4930</td>\n",
              "      <td>4930</td>\n",
              "      <td>4930</td>\n",
              "      <td>4930</td>\n",
              "      <td>4930</td>\n",
              "      <td>4930</td>\n",
              "      <td>4930</td>\n",
              "      <td>4930</td>\n",
              "      <td>4930</td>\n",
              "      <td>4930</td>\n",
              "      <td>4930</td>\n",
              "      <td>4930</td>\n",
              "      <td>4930</td>\n",
              "      <td>4930</td>\n",
              "      <td>4930</td>\n",
              "      <td>4930</td>\n",
              "      <td>4930</td>\n",
              "      <td>4930</td>\n",
              "      <td>4930</td>\n",
              "      <td>4930</td>\n",
              "      <td>4930</td>\n",
              "      <td>4930</td>\n",
              "      <td>4930</td>\n",
              "      <td>4930</td>\n",
              "      <td>4930</td>\n",
              "      <td>4930</td>\n",
              "      <td>4930</td>\n",
              "      <td>4930</td>\n",
              "      <td>4930</td>\n",
              "      <td>4930</td>\n",
              "      <td>4930</td>\n",
              "      <td>4930</td>\n",
              "      <td>4930</td>\n",
              "      <td>4930</td>\n",
              "    </tr>\n",
              "  </tbody>\n",
              "</table>\n",
              "</div>\n",
              "      <button class=\"colab-df-convert\" onclick=\"convertToInteractive('df-32394a3e-ee03-4e3f-a88a-80942c647a04')\"\n",
              "              title=\"Convert this dataframe to an interactive table.\"\n",
              "              style=\"display:none;\">\n",
              "        \n",
              "  <svg xmlns=\"http://www.w3.org/2000/svg\" height=\"24px\"viewBox=\"0 0 24 24\"\n",
              "       width=\"24px\">\n",
              "    <path d=\"M0 0h24v24H0V0z\" fill=\"none\"/>\n",
              "    <path d=\"M18.56 5.44l.94 2.06.94-2.06 2.06-.94-2.06-.94-.94-2.06-.94 2.06-2.06.94zm-11 1L8.5 8.5l.94-2.06 2.06-.94-2.06-.94L8.5 2.5l-.94 2.06-2.06.94zm10 10l.94 2.06.94-2.06 2.06-.94-2.06-.94-.94-2.06-.94 2.06-2.06.94z\"/><path d=\"M17.41 7.96l-1.37-1.37c-.4-.4-.92-.59-1.43-.59-.52 0-1.04.2-1.43.59L10.3 9.45l-7.72 7.72c-.78.78-.78 2.05 0 2.83L4 21.41c.39.39.9.59 1.41.59.51 0 1.02-.2 1.41-.59l7.78-7.78 2.81-2.81c.8-.78.8-2.07 0-2.86zM5.41 20L4 18.59l7.72-7.72 1.47 1.35L5.41 20z\"/>\n",
              "  </svg>\n",
              "      </button>\n",
              "      \n",
              "  <style>\n",
              "    .colab-df-container {\n",
              "      display:flex;\n",
              "      flex-wrap:wrap;\n",
              "      gap: 12px;\n",
              "    }\n",
              "\n",
              "    .colab-df-convert {\n",
              "      background-color: #E8F0FE;\n",
              "      border: none;\n",
              "      border-radius: 50%;\n",
              "      cursor: pointer;\n",
              "      display: none;\n",
              "      fill: #1967D2;\n",
              "      height: 32px;\n",
              "      padding: 0 0 0 0;\n",
              "      width: 32px;\n",
              "    }\n",
              "\n",
              "    .colab-df-convert:hover {\n",
              "      background-color: #E2EBFA;\n",
              "      box-shadow: 0px 1px 2px rgba(60, 64, 67, 0.3), 0px 1px 3px 1px rgba(60, 64, 67, 0.15);\n",
              "      fill: #174EA6;\n",
              "    }\n",
              "\n",
              "    [theme=dark] .colab-df-convert {\n",
              "      background-color: #3B4455;\n",
              "      fill: #D2E3FC;\n",
              "    }\n",
              "\n",
              "    [theme=dark] .colab-df-convert:hover {\n",
              "      background-color: #434B5C;\n",
              "      box-shadow: 0px 1px 3px 1px rgba(0, 0, 0, 0.15);\n",
              "      filter: drop-shadow(0px 1px 2px rgba(0, 0, 0, 0.3));\n",
              "      fill: #FFFFFF;\n",
              "    }\n",
              "  </style>\n",
              "\n",
              "      <script>\n",
              "        const buttonEl =\n",
              "          document.querySelector('#df-32394a3e-ee03-4e3f-a88a-80942c647a04 button.colab-df-convert');\n",
              "        buttonEl.style.display =\n",
              "          google.colab.kernel.accessAllowed ? 'block' : 'none';\n",
              "\n",
              "        async function convertToInteractive(key) {\n",
              "          const element = document.querySelector('#df-32394a3e-ee03-4e3f-a88a-80942c647a04');\n",
              "          const dataTable =\n",
              "            await google.colab.kernel.invokeFunction('convertToInteractive',\n",
              "                                                     [key], {});\n",
              "          if (!dataTable) return;\n",
              "\n",
              "          const docLinkHtml = 'Like what you see? Visit the ' +\n",
              "            '<a target=\"_blank\" href=https://colab.research.google.com/notebooks/data_table.ipynb>data table notebook</a>'\n",
              "            + ' to learn more about interactive tables.';\n",
              "          element.innerHTML = '';\n",
              "          dataTable['output_type'] = 'display_data';\n",
              "          await google.colab.output.renderOutput(dataTable, element);\n",
              "          const docLink = document.createElement('div');\n",
              "          docLink.innerHTML = docLinkHtml;\n",
              "          element.appendChild(docLink);\n",
              "        }\n",
              "      </script>\n",
              "    </div>\n",
              "  </div>\n",
              "  "
            ]
          },
          "metadata": {},
          "execution_count": 30
        }
      ]
    },
    {
      "cell_type": "code",
      "source": [
        "# Creating and Running SVM model on smaller dataframe\n",
        "if 'treeType' in forestSubDF:\n",
        "    ySub = forestSubDF['treeType'].values\n",
        "    del forestSubDF['treeType']\n",
        "    xSub = forestSubDF.values"
      ],
      "metadata": {
        "id": "rGxKwi1y94oC"
      },
      "id": "rGxKwi1y94oC",
      "execution_count": 31,
      "outputs": []
    },
    {
      "cell_type": "code",
      "source": [
        "num_cv_iter = 3\n",
        "num_instances = len(Y)\n",
        "cv_Log = ShuffleSplit(n_splits = num_cv_iter, test_size = 0.2)"
      ],
      "metadata": {
        "id": "EOa-acTd-u28"
      },
      "id": "EOa-acTd-u28",
      "execution_count": 33,
      "outputs": []
    },
    {
      "cell_type": "code",
      "source": [
        "for train_indices, test_indices in cv_Log.split(xSub, ySub):\n",
        "    X_train = xSub[train_indices]\n",
        "    Y_train = ySub[train_indices]\n",
        "    X_test = xSub[test_indices]\n",
        "    Y_test = ySub[test_indices]\n",
        "X_train_scaled = sclObj.transform(X_train)\n",
        "X_test_scaled = sclObj.transform(X_test)"
      ],
      "metadata": {
        "id": "1RUT-VZC93Tv"
      },
      "id": "1RUT-VZC93Tv",
      "execution_count": 34,
      "outputs": []
    },
    {
      "cell_type": "code",
      "source": [
        "\n",
        "svm_clf = SVC(C = 0.5,\n",
        "             kernel = 'rbf',\n",
        "             degree = 3,\n",
        "             gamma = 'auto')"
      ],
      "metadata": {
        "id": "1C76afxv92Cq"
      },
      "id": "1C76afxv92Cq",
      "execution_count": 35,
      "outputs": []
    },
    {
      "cell_type": "code",
      "source": [
        "# Results\n",
        "svm_clf.fit(X_train_scaled,Y_train)\n",
        "y_hatSVM = svm_clf.predict(X_test_scaled)\n",
        "print('Accuracy', mt.accuracy_score(Y_test, y_hatSVM))\n",
        "print('Confusion Matrix \\n', mt.confusion_matrix(Y_test, y_hatSVM))"
      ],
      "metadata": {
        "id": "vhz2nI2q90kv",
        "colab": {
          "base_uri": "https://localhost:8080/"
        },
        "outputId": "f33e62e1-d878-4401-94a2-8e2cf6b6161b"
      },
      "id": "vhz2nI2q90kv",
      "execution_count": 36,
      "outputs": [
        {
          "output_type": "stream",
          "name": "stdout",
          "text": [
            "Accuracy 0.763\n",
            "Confusion Matrix \n",
            " [[733 277]\n",
            " [197 793]]\n"
          ]
        }
      ]
    },
    {
      "cell_type": "code",
      "source": [
        "# Support Vector shape:\n",
        "print(svm_clf.support_vectors_.shape)\n",
        "print(svm_clf.support_.shape)\n",
        "print(svm_clf.n_support_)"
      ],
      "metadata": {
        "id": "Ro8Pk_3L9ylA",
        "colab": {
          "base_uri": "https://localhost:8080/"
        },
        "outputId": "ab98171e-9749-44f5-ce1c-81657b6802da"
      },
      "id": "Ro8Pk_3L9ylA",
      "execution_count": 37,
      "outputs": [
        {
          "output_type": "stream",
          "name": "stdout",
          "text": [
            "(4910, 54)\n",
            "(4910,)\n",
            "[2474 2436]\n"
          ]
        }
      ]
    },
    {
      "cell_type": "code",
      "source": [
        "forestTested = forestSubDF.iloc[train_indices]\n",
        "forestSupport = forestTested.iloc[svm_clf.support_,:]\n",
        "forestSupport['treeType'] = ySub[svm_clf.support_]\n",
        "forestSubDF['treeType'] = ySub"
      ],
      "metadata": {
        "id": "F7Dldjd49uwK",
        "colab": {
          "base_uri": "https://localhost:8080/"
        },
        "outputId": "4e82a230-b1d6-41bb-d0ac-d2ef71facb23"
      },
      "id": "F7Dldjd49uwK",
      "execution_count": 38,
      "outputs": [
        {
          "output_type": "stream",
          "name": "stderr",
          "text": [
            "<ipython-input-38-24464350875f>:3: SettingWithCopyWarning: \n",
            "A value is trying to be set on a copy of a slice from a DataFrame.\n",
            "Try using .loc[row_indexer,col_indexer] = value instead\n",
            "\n",
            "See the caveats in the documentation: https://pandas.pydata.org/pandas-docs/stable/user_guide/indexing.html#returning-a-view-versus-a-copy\n",
            "  forestSupport['treeType'] = ySub[svm_clf.support_]\n"
          ]
        }
      ]
    },
    {
      "cell_type": "code",
      "source": [
        "forestGroupSupport = forestSupport.groupby(['treeType'])\n",
        "forestGroup = forestSubDF.groupby(['treeType'])\n",
        "\n",
        "vars_to_plot = ['Elevation', 'Hillshade_Noon', 'Soil_Type22', 'Soil_Type12']\n",
        "\n",
        "for v in vars_to_plot:\n",
        "    plt.figure(figsize = (10, 4))\n",
        "    plt.subplot(1, 2, 1)\n",
        "    ax = forestGroupSupport[v].plot.kde()\n",
        "    plt.legend(['Lodgepole Pine', 'Spruce/Fir'])\n",
        "    plt.title(v + ' (Instances chosen as Support Vectors)')\n",
        "    \n",
        "    plt.subplot(1,2,2)\n",
        "    ax = forestGroup[v].plot.kde()\n",
        "    plt.legend(['Lodgepole Pine', 'Spruce/Fir'])\n",
        "    plt.title(v + ' (Original)')"
      ],
      "metadata": {
        "id": "gQA-IoBM9rPN",
        "colab": {
          "base_uri": "https://localhost:8080/",
          "height": 1000
        },
        "outputId": "1f1a9578-2f87-4410-da29-c81560f4fa23"
      },
      "id": "gQA-IoBM9rPN",
      "execution_count": 39,
      "outputs": [
        {
          "output_type": "display_data",
          "data": {
            "text/plain": [
              "<Figure size 720x288 with 2 Axes>"
            ],
            "image/png": "[encoded data removed]"
          },
          "metadata": {}
        },
        {
          "output_type": "display_data",
          "data": {
            "text/plain": [
              "<Figure size 720x288 with 2 Axes>"
            ],
            "image/png": "[encoded data removed]"
          },
          "metadata": {}
        },
        {
          "output_type": "display_data",
          "data": {
            "text/plain": [
              "<Figure size 720x288 with 2 Axes>"
            ],
            "image/png": "[encoded data removed]"
          },
          "metadata": {}
        },
        {
          "output_type": "display_data",
          "data": {
            "text/plain": [
              "<Figure size 720x288 with 2 Axes>"
            ],
            "image/png": "[encoded data removed]"
          },
          "metadata": {}
        }
      ]
    },
    {
      "cell_type": "markdown",
      "source": [
        "\n",
        "## Create Models 50\n",
        "\n",
        "Create a logistic regression model and a support vector machine model for the classification task involved with your dataset. \n",
        "Assess how well each model performs (use 80/20 training/testing split for your data). \n",
        "Adjust parameters of the models to make them more accurate. \n",
        "If your dataset size requires the use of stochastic gradient descent, then linear kernel only is fine to use. \n",
        "That is, the SGDClassifier is fine to use for optimizing logistic regression and linear support vector machines. For many problems, SGD will be required in order to train the SVM model in a reasonable timeframe. "
      ],
      "metadata": {
        "id": "EETbe1z0Za28"
      },
      "id": "EETbe1z0Za28"
    },
    {
      "cell_type": "markdown",
      "source": [
        "The SVM performed better than the logistic regression model. We see that the SVM gave us an accuracy score of 76%. This is a decent amount higher than the logistic score of 61%. We feel like there is still some room for improvement, but we are glad that we are seeing a higher accuracy score. "
      ],
      "metadata": {
        "id": "XG8RpRX_ZcC6"
      },
      "id": "XG8RpRX_ZcC6"
    },
    {
      "cell_type": "markdown",
      "source": [
        "## Interpret Support Vectors(10)\n",
        "\n",
        "Look at the chosen support vectors for the classification task. Do these provide any insight into the data? Explain. If you used stochastic gradient descent (and therefore did not explicitly solve for support vectors), try subsampling your data to train the SVC model— then analyze the support vectors from the subsampled dataset."
      ],
      "metadata": {
        "id": "IeTkwGHYiUyW"
      },
      "id": "IeTkwGHYiUyW"
    },
    {
      "cell_type": "markdown",
      "source": [
        "Looking at some of the support vectors that were chosen, we can see that they greatly affect the outcome of the calssification. The graphs above do a great job illustrating the change in accuracy when comparing the original and the Support Vector.  "
      ],
      "metadata": {
        "id": "hYUF-om66b6s"
      },
      "id": "hYUF-om66b6s"
    },
    {
      "cell_type": "markdown",
      "source": [
        "## Model Advantages 10\n",
        "Discuss the advantages of each model for each classification task. Does one type of model offer superior performance over another in terms of prediction accuracy? In terms of training time or efficiency? Explain in detail."
      ],
      "metadata": {
        "id": "ZDkhl8Y-h3f_"
      },
      "id": "ZDkhl8Y-h3f_"
    },
    {
      "cell_type": "markdown",
      "source": [
        "The interpretability of Logistic Regression was fairly easy and understandable. This model also allowed for an easier way to see various accuracy scores for different train/test splits. \n",
        "\n",
        "The SVM model provided a better accuracy score, which shows its superiority to Logistic Regression in this particular case. And using certain plots, it is easier to visually see the outcome of the model. The SVM seemed to be slightly quicker than Logistic Regression as well. We can see that both models are decently quick to run, but the SVM is faster. "
      ],
      "metadata": {
        "id": "Yxt3r6dQa3NC"
      },
      "id": "Yxt3r6dQa3NC"
    }
  ],
  "metadata": {
    "kernelspec": {
      "display_name": "Python 3 (ipykernel)",
      "language": "python",
      "name": "python3"
    },
    "language_info": {
      "codemirror_mode": {
        "name": "ipython",
        "version": 3
      },
      "file_extension": ".py",
      "mimetype": "text/x-python",
      "name": "python",
      "nbconvert_exporter": "python",
      "pygments_lexer": "ipython3",
      "version": "3.9.7"
    },
    "colab": {
      "provenance": [],
      "include_colab_link": true
    }
  },
  "nbformat": 4,
  "nbformat_minor": 5
}