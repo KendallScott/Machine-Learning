{
  "cells": [
    {
      "cell_type": "markdown",
      "metadata": {
        "id": "view-in-github",
        "colab_type": "text"
      },
      "source": [
        "<a href=\"https://colab.research.google.com/github/KendallScott/Machine-Learning/blob/main/SVM%20and%20LR/Mini-Lab_final.ipynb\" target=\"_parent\"><img src=\"https://colab.research.google.com/assets/colab-badge.svg\" alt=\"Open In Colab\"/></a>"
      ]
    },
    {
      "cell_type": "markdown",
      "source": [
        "Contributors\n",
        "* Tadd Backus\n",
        "* Kendall Scott\n",
        "* Austin Webb\n",
        "* Milan Patel\n"
      ],
      "metadata": {
        "id": "e6TGIIukk6c-"
      },
      "id": "e6TGIIukk6c-"
    },
    {
      "cell_type": "code",
      "source": [
        "from IPython.display import HTML\n",
        "HTML('''<script>\n",
        "code_show_err=false; \n",
        "function code_toggle_err() {\n",
        " if (code_show_err){\n",
        " $('div.output_stderr').hide();\n",
        " } else {\n",
        " $('div.output_stderr').show();\n",
        " }\n",
        " code_show_err = !code_show_err\n",
        "} \n",
        "$( document ).ready(code_toggle_err);\n",
        "</script>\n",
        "To toggle on/off output_stderr, click <a href=\"javascript:code_toggle_err()\">here</a>.''')"
      ],
      "metadata": {
        "id": "GUBk6wGhk3v8",
        "colab": {
          "base_uri": "https://localhost:8080/",
          "height": 34
        },
        "outputId": "c2cfd8cb-3ee2-486f-9b1b-fa401eded1f7"
      },
      "id": "GUBk6wGhk3v8",
      "execution_count": null,
      "outputs": [
        {
          "output_type": "execute_result",
          "data": {
            "text/plain": [
              "<IPython.core.display.HTML object>"
            ],
            "text/html": [
              "<script>\n",
              "code_show_err=false; \n",
              "function code_toggle_err() {\n",
              " if (code_show_err){\n",
              " $('div.output_stderr').hide();\n",
              " } else {\n",
              " $('div.output_stderr').show();\n",
              " }\n",
              " code_show_err = !code_show_err\n",
              "} \n",
              "$( document ).ready(code_toggle_err);\n",
              "</script>\n",
              "To toggle on/off output_stderr, click <a href=\"javascript:code_toggle_err()\">here</a>."
            ]
          },
          "metadata": {},
          "execution_count": 141
        }
      ]
    },
    {
      "cell_type": "code",
      "execution_count": null,
      "id": "dcfc8062",
      "metadata": {
        "id": "dcfc8062"
      },
      "outputs": [],
      "source": [
        "import pandas as pd\n",
        "import io\n",
        "import numpy as np\n",
        "import matplotlib.pyplot as plt\n",
        "import seaborn as sns\n",
        "from sklearn.model_selection import ShuffleSplit\n",
        "from sklearn.linear_model import LogisticRegression\n",
        "from sklearn import metrics as mt\n",
        "from sklearn.preprocessing import StandardScaler\n",
        "from sklearn.svm import SVC\n",
        "from sklearn.model_selection import StratifiedShuffleSplit\n",
        "from sklearn.linear_model import SGDClassifier\n",
        "\n",
        "pd.set_option('display.max_columns',None)"
      ]
    },
    {
      "cell_type": "code",
      "execution_count": null,
      "id": "72389e27",
      "metadata": {
        "id": "72389e27",
        "colab": {
          "base_uri": "https://localhost:8080/"
        },
        "outputId": "3aaa7b8c-c235-4926-9cb5-13be75c7ef7e"
      },
      "outputs": [
        {
          "output_type": "execute_result",
          "data": {
            "text/plain": [
              "count             581012\n",
              "unique                 7\n",
              "top       Lodgepole Pine\n",
              "freq              283301\n",
              "Name: Cover_Type, dtype: object"
            ]
          },
          "metadata": {},
          "execution_count": 143
        }
      ],
      "source": [
        "forest_cover_type = pd.read_csv('covtype.csv')\n",
        "forest_cover_type.head()\n",
        "# Creating a new dataset that only contains the most common cover types\n",
        "#updated to all\n",
        "# Renaming wilderness areas\n",
        "forestDF = forest_cover_type\n",
        "forestDF.rename(columns={'Wilderness_Area1':'Rawah','Wilderness_Area2':'Neota','Wilderness_Area3':'Comanche Peak','Wilderness_Area4':'Cache la Poudre'},inplace=True)\n",
        "forestDF.head()\n",
        "\n",
        "forestDF = forestDF.astype({'Cover_Type':'string'})\n",
        "forestDF['Cover_Type'] = forestDF['Cover_Type'].str.replace('1','Spruce/Fir')\n",
        "forestDF['Cover_Type'] = forestDF['Cover_Type'].str.replace('2','Lodgepole Pine')\n",
        "forestDF['Cover_Type'].describe().transpose()\n",
        "# Coding Lodgepole Pine as 1 and Spruce/Fir as 0"
      ]
    },
    {
      "cell_type": "code",
      "source": [
        "# Lodgepole Pine = 1 | Spruce/Fir = 0\n",
        "forestDF['treeType'] = forestDF.Cover_Type=='Lodgepole Pine'\n",
        "forestDF = forestDF.replace(np.nan, 0)\n",
        "forestDF.treeType = forestDF.treeType.astype(np.int64)\n",
        "\n",
        "# Deleting original cover type column\n",
        "if 'Cover_Type' in forestDF:\n",
        "    del forestDF['Cover_Type']"
      ],
      "metadata": {
        "id": "3sB11uGjuupI"
      },
      "id": "3sB11uGjuupI",
      "execution_count": null,
      "outputs": []
    },
    {
      "cell_type": "markdown",
      "source": [
        "## Create Models\n",
        "For our models, we decided to predict Spruce/Fir.\n",
        "\n",
        "After comparing the results, we will make a recommendation for which model to implement in order to predict Cover Type."
      ],
      "metadata": {
        "id": "8zN4Z9ULBc-c"
      },
      "id": "8zN4Z9ULBc-c"
    },
    {
      "cell_type": "markdown",
      "source": [
        "\n",
        "## Create Models 50\n",
        "\n",
        "Create a logistic regression model and a support vector machine model for the classification task involved with your dataset. Assess how well each model performs (use 80/20 training/testing split for your data). Adjust parameters of the models to make them more accurate. If your dataset size requires the use of stochastic gradient descent, then linear kernel only is fine to use. That is, the SGDClassifier is fine to use for optimizing logistic regression and linear support vector machines. For many problems, SGD will be required in order to train the SVM model in a reasonable timeframe. "
      ],
      "metadata": {
        "id": "gg2dVWM5hsJp"
      },
      "id": "gg2dVWM5hsJp"
    },
    {
      "cell_type": "markdown",
      "id": "7bd81bde",
      "metadata": {
        "id": "7bd81bde"
      },
      "source": [
        "# Logistic Regression"
      ]
    },
    {
      "cell_type": "markdown",
      "source": [
        "Due to the high colinearity between the Hillshade variables, we limited the data down to Hillshade noon only."
      ],
      "metadata": {
        "id": "H4L7EtrwoBZy"
      },
      "id": "H4L7EtrwoBZy"
    },
    {
      "cell_type": "code",
      "source": [
        "simpleStats = forest_cover_type.describe()\n",
        "\n",
        "simpleStats.reset_index(inplace=True)\n",
        "num_col = forest_cover_type._get_numeric_data().columns\n",
        "simpleStats = simpleStats[simpleStats['index'] != 'count']\n",
        "\n",
        "# make list of hillside variables\n",
        "hillside = ['Hillshade_9am','Hillshade_Noon',\n",
        "                        'Hillshade_3pm']\n",
        "hillside_df=simpleStats[hillside]\n",
        "\n",
        "# Correlation df\n",
        "cormat = hillside_df.corr()\n",
        "# Round to two decimals\n",
        "round(cormat, 2)\n",
        "\n",
        "# heatmap of the correlations\n",
        "matrix = np.triu(np.ones_like(cormat, dtype=bool))\n",
        "sns.heatmap(cormat, annot = True, mask = matrix);"
      ],
      "metadata": {
        "id": "rr2FgbhzoAGX",
        "outputId": "ffa951b0-af99-4d7e-e736-0fe74c897ef7",
        "colab": {
          "base_uri": "https://localhost:8080/",
          "height": 266
        }
      },
      "id": "rr2FgbhzoAGX",
      "execution_count": null,
      "outputs": [
        {
          "output_type": "display_data",
          "data": {
            "text/plain": [
              "<Figure size 432x288 with 2 Axes>"
            ],
            "image/png": "[encoded data removed]"
          },
          "metadata": {}
        }
      ]
    },
    {
      "cell_type": "code",
      "source": [
        "forestDF= forestDF.drop(['Hillshade_3pm', 'Hillshade_9am'], axis=1)"
      ],
      "metadata": {
        "id": "oEs8SSBStm9O"
      },
      "id": "oEs8SSBStm9O",
      "execution_count": null,
      "outputs": []
    },
    {
      "cell_type": "code",
      "source": [
        "forestFullDF = forestDF.copy()"
      ],
      "metadata": {
        "id": "IFxgRtVj8iKM"
      },
      "id": "IFxgRtVj8iKM",
      "execution_count": null,
      "outputs": []
    },
    {
      "cell_type": "code",
      "execution_count": null,
      "id": "11bb0b87",
      "metadata": {
        "id": "11bb0b87"
      },
      "outputs": [],
      "source": [
        "if 'treeType' in forestDF:\n",
        "    Y = forestDF['treeType'].values\n",
        "    del forestDF['treeType']\n",
        "    X = forestDF.values"
      ]
    },
    {
      "cell_type": "code",
      "execution_count": null,
      "id": "68d276d2",
      "metadata": {
        "id": "68d276d2",
        "outputId": "7a62d804-19d3-4f6f-f260-8eb421e0be84",
        "colab": {
          "base_uri": "https://localhost:8080/"
        }
      },
      "outputs": [
        {
          "output_type": "stream",
          "name": "stdout",
          "text": [
            "ShuffleSplit(n_splits=10, random_state=None, test_size=0.2, train_size=None)\n"
          ]
        }
      ],
      "source": [
        "#Creating cross validation object\n",
        "num_cv_iter = 10\n",
        "num_instances = len(Y)\n",
        "cv_object = ShuffleSplit(n_splits=num_cv_iter,test_size=0.2)\n",
        "print(cv_object)"
      ]
    },
    {
      "cell_type": "code",
      "execution_count": null,
      "id": "eadf2078",
      "metadata": {
        "id": "eadf2078"
      },
      "outputs": [],
      "source": [
        "# Creating logistic regression object\n",
        "lr_clf = LogisticRegression(penalty='l2',C=1.0,class_weight=None)"
      ]
    },
    {
      "cell_type": "code",
      "execution_count": null,
      "id": "9aab106f",
      "metadata": {
        "id": "9aab106f",
        "outputId": "270e7f1e-71fe-4d2d-8f4a-51b1ba7c3d93",
        "colab": {
          "base_uri": "https://localhost:8080/"
        }
      },
      "outputs": [
        {
          "output_type": "stream",
          "name": "stderr",
          "text": [
            "/usr/local/lib/python3.8/dist-packages/sklearn/linear_model/_logistic.py:814: ConvergenceWarning: lbfgs failed to converge (status=1):\n",
            "STOP: TOTAL NO. of ITERATIONS REACHED LIMIT.\n",
            "\n",
            "Increase the number of iterations (max_iter) or scale the data as shown in:\n",
            "    https://scikit-learn.org/stable/modules/preprocessing.html\n",
            "Please also refer to the documentation for alternative solver options:\n",
            "    https://scikit-learn.org/stable/modules/linear_model.html#logistic-regression\n",
            "  n_iter_i = _check_optimize_result(\n"
          ]
        },
        {
          "output_type": "stream",
          "name": "stdout",
          "text": [
            "****Iteration 0 ****\n",
            "Accuracy 0.6170064456167225\n",
            "Confusion Matrix \n",
            " [[38432 21067]\n",
            " [23438 33266]]\n"
          ]
        },
        {
          "output_type": "stream",
          "name": "stderr",
          "text": [
            "/usr/local/lib/python3.8/dist-packages/sklearn/linear_model/_logistic.py:814: ConvergenceWarning: lbfgs failed to converge (status=1):\n",
            "STOP: TOTAL NO. of ITERATIONS REACHED LIMIT.\n",
            "\n",
            "Increase the number of iterations (max_iter) or scale the data as shown in:\n",
            "    https://scikit-learn.org/stable/modules/preprocessing.html\n",
            "Please also refer to the documentation for alternative solver options:\n",
            "    https://scikit-learn.org/stable/modules/linear_model.html#logistic-regression\n",
            "  n_iter_i = _check_optimize_result(\n"
          ]
        },
        {
          "output_type": "stream",
          "name": "stdout",
          "text": [
            "****Iteration 1 ****\n",
            "Accuracy 0.6102854487405661\n",
            "Confusion Matrix \n",
            " [[39287 20216]\n",
            " [25070 31630]]\n"
          ]
        },
        {
          "output_type": "stream",
          "name": "stderr",
          "text": [
            "/usr/local/lib/python3.8/dist-packages/sklearn/linear_model/_logistic.py:814: ConvergenceWarning: lbfgs failed to converge (status=1):\n",
            "STOP: TOTAL NO. of ITERATIONS REACHED LIMIT.\n",
            "\n",
            "Increase the number of iterations (max_iter) or scale the data as shown in:\n",
            "    https://scikit-learn.org/stable/modules/preprocessing.html\n",
            "Please also refer to the documentation for alternative solver options:\n",
            "    https://scikit-learn.org/stable/modules/linear_model.html#logistic-regression\n",
            "  n_iter_i = _check_optimize_result(\n"
          ]
        },
        {
          "output_type": "stream",
          "name": "stdout",
          "text": [
            "****Iteration 2 ****\n",
            "Accuracy 0.6127036307152139\n",
            "Confusion Matrix \n",
            " [[39466 20048]\n",
            " [24957 31732]]\n"
          ]
        },
        {
          "output_type": "stream",
          "name": "stderr",
          "text": [
            "/usr/local/lib/python3.8/dist-packages/sklearn/linear_model/_logistic.py:814: ConvergenceWarning: lbfgs failed to converge (status=1):\n",
            "STOP: TOTAL NO. of ITERATIONS REACHED LIMIT.\n",
            "\n",
            "Increase the number of iterations (max_iter) or scale the data as shown in:\n",
            "    https://scikit-learn.org/stable/modules/preprocessing.html\n",
            "Please also refer to the documentation for alternative solver options:\n",
            "    https://scikit-learn.org/stable/modules/linear_model.html#logistic-regression\n",
            "  n_iter_i = _check_optimize_result(\n"
          ]
        },
        {
          "output_type": "stream",
          "name": "stdout",
          "text": [
            "****Iteration 3 ****\n",
            "Accuracy 0.6089343648614924\n",
            "Confusion Matrix \n",
            " [[39443 20032]\n",
            " [25411 31317]]\n"
          ]
        },
        {
          "output_type": "stream",
          "name": "stderr",
          "text": [
            "/usr/local/lib/python3.8/dist-packages/sklearn/linear_model/_logistic.py:814: ConvergenceWarning: lbfgs failed to converge (status=1):\n",
            "STOP: TOTAL NO. of ITERATIONS REACHED LIMIT.\n",
            "\n",
            "Increase the number of iterations (max_iter) or scale the data as shown in:\n",
            "    https://scikit-learn.org/stable/modules/preprocessing.html\n",
            "Please also refer to the documentation for alternative solver options:\n",
            "    https://scikit-learn.org/stable/modules/linear_model.html#logistic-regression\n",
            "  n_iter_i = _check_optimize_result(\n"
          ]
        },
        {
          "output_type": "stream",
          "name": "stdout",
          "text": [
            "****Iteration 4 ****\n",
            "Accuracy 0.6125315181191535\n",
            "Confusion Matrix \n",
            " [[39585 20133]\n",
            " [24892 31593]]\n"
          ]
        },
        {
          "output_type": "stream",
          "name": "stderr",
          "text": [
            "/usr/local/lib/python3.8/dist-packages/sklearn/linear_model/_logistic.py:814: ConvergenceWarning: lbfgs failed to converge (status=1):\n",
            "STOP: TOTAL NO. of ITERATIONS REACHED LIMIT.\n",
            "\n",
            "Increase the number of iterations (max_iter) or scale the data as shown in:\n",
            "    https://scikit-learn.org/stable/modules/preprocessing.html\n",
            "Please also refer to the documentation for alternative solver options:\n",
            "    https://scikit-learn.org/stable/modules/linear_model.html#logistic-regression\n",
            "  n_iter_i = _check_optimize_result(\n"
          ]
        },
        {
          "output_type": "stream",
          "name": "stdout",
          "text": [
            "****Iteration 5 ****\n",
            "Accuracy 0.610732941490323\n",
            "Confusion Matrix \n",
            " [[39562 20208]\n",
            " [25026 31407]]\n"
          ]
        },
        {
          "output_type": "stream",
          "name": "stderr",
          "text": [
            "/usr/local/lib/python3.8/dist-packages/sklearn/linear_model/_logistic.py:814: ConvergenceWarning: lbfgs failed to converge (status=1):\n",
            "STOP: TOTAL NO. of ITERATIONS REACHED LIMIT.\n",
            "\n",
            "Increase the number of iterations (max_iter) or scale the data as shown in:\n",
            "    https://scikit-learn.org/stable/modules/preprocessing.html\n",
            "Please also refer to the documentation for alternative solver options:\n",
            "    https://scikit-learn.org/stable/modules/linear_model.html#logistic-regression\n",
            "  n_iter_i = _check_optimize_result(\n"
          ]
        },
        {
          "output_type": "stream",
          "name": "stdout",
          "text": [
            "****Iteration 6 ****\n",
            "Accuracy 0.614252644079757\n",
            "Confusion Matrix \n",
            " [[39517 19896]\n",
            " [24929 31861]]\n"
          ]
        },
        {
          "output_type": "stream",
          "name": "stderr",
          "text": [
            "/usr/local/lib/python3.8/dist-packages/sklearn/linear_model/_logistic.py:814: ConvergenceWarning: lbfgs failed to converge (status=1):\n",
            "STOP: TOTAL NO. of ITERATIONS REACHED LIMIT.\n",
            "\n",
            "Increase the number of iterations (max_iter) or scale the data as shown in:\n",
            "    https://scikit-learn.org/stable/modules/preprocessing.html\n",
            "Please also refer to the documentation for alternative solver options:\n",
            "    https://scikit-learn.org/stable/modules/linear_model.html#logistic-regression\n",
            "  n_iter_i = _check_optimize_result(\n"
          ]
        },
        {
          "output_type": "stream",
          "name": "stdout",
          "text": [
            "****Iteration 7 ****\n",
            "Accuracy 0.6115848988408217\n",
            "Confusion Matrix \n",
            " [[39349 20173]\n",
            " [24962 31719]]\n"
          ]
        },
        {
          "output_type": "stream",
          "name": "stderr",
          "text": [
            "/usr/local/lib/python3.8/dist-packages/sklearn/linear_model/_logistic.py:814: ConvergenceWarning: lbfgs failed to converge (status=1):\n",
            "STOP: TOTAL NO. of ITERATIONS REACHED LIMIT.\n",
            "\n",
            "Increase the number of iterations (max_iter) or scale the data as shown in:\n",
            "    https://scikit-learn.org/stable/modules/preprocessing.html\n",
            "Please also refer to the documentation for alternative solver options:\n",
            "    https://scikit-learn.org/stable/modules/linear_model.html#logistic-regression\n",
            "  n_iter_i = _check_optimize_result(\n"
          ]
        },
        {
          "output_type": "stream",
          "name": "stdout",
          "text": [
            "****Iteration 8 ****\n",
            "Accuracy 0.6121958985568359\n",
            "Confusion Matrix \n",
            " [[39515 20066]\n",
            " [24998 31624]]\n",
            "****Iteration 9 ****\n",
            "Accuracy 0.6124884899701385\n",
            "Confusion Matrix \n",
            " [[39520 19922]\n",
            " [25108 31653]]\n"
          ]
        },
        {
          "output_type": "stream",
          "name": "stderr",
          "text": [
            "/usr/local/lib/python3.8/dist-packages/sklearn/linear_model/_logistic.py:814: ConvergenceWarning: lbfgs failed to converge (status=1):\n",
            "STOP: TOTAL NO. of ITERATIONS REACHED LIMIT.\n",
            "\n",
            "Increase the number of iterations (max_iter) or scale the data as shown in:\n",
            "    https://scikit-learn.org/stable/modules/preprocessing.html\n",
            "Please also refer to the documentation for alternative solver options:\n",
            "    https://scikit-learn.org/stable/modules/linear_model.html#logistic-regression\n",
            "  n_iter_i = _check_optimize_result(\n"
          ]
        }
      ],
      "source": [
        "#Running logistic regression on 10 random test/train splits\n",
        "iter_num = 0\n",
        "\n",
        "for iter_num, (train_indices,test_indices) in enumerate(cv_object.split(X,Y)):\n",
        "    lr_clf.fit(X[train_indices],Y[train_indices])\n",
        "    y_hat = lr_clf.predict(X[test_indices])\n",
        "    \n",
        "    print('****Iteration',iter_num,'****')\n",
        "    print('Accuracy',mt.accuracy_score(Y[test_indices],y_hat))\n",
        "    print('Confusion Matrix \\n',mt.confusion_matrix(Y[test_indices],y_hat))\n",
        "    "
      ]
    },
    {
      "cell_type": "code",
      "source": [
        "from sklearn.model_selection import cross_val_score\n",
        "accuracies = cross_val_score(lr_clf, X, y=Y, cv=cv_object) # this also can help with parallelism\n",
        "print(accuracies)"
      ],
      "metadata": {
        "id": "RlhBbYVJ3yoZ",
        "outputId": "ffe612b6-5767-4e57-9fa7-9845984be519",
        "colab": {
          "base_uri": "https://localhost:8080/"
        }
      },
      "id": "RlhBbYVJ3yoZ",
      "execution_count": null,
      "outputs": [
        {
          "output_type": "stream",
          "name": "stderr",
          "text": [
            "/usr/local/lib/python3.8/dist-packages/sklearn/linear_model/_logistic.py:814: ConvergenceWarning: lbfgs failed to converge (status=1):\n",
            "STOP: TOTAL NO. of ITERATIONS REACHED LIMIT.\n",
            "\n",
            "Increase the number of iterations (max_iter) or scale the data as shown in:\n",
            "    https://scikit-learn.org/stable/modules/preprocessing.html\n",
            "Please also refer to the documentation for alternative solver options:\n",
            "    https://scikit-learn.org/stable/modules/linear_model.html#logistic-regression\n",
            "  n_iter_i = _check_optimize_result(\n",
            "/usr/local/lib/python3.8/dist-packages/sklearn/linear_model/_logistic.py:814: ConvergenceWarning: lbfgs failed to converge (status=1):\n",
            "STOP: TOTAL NO. of ITERATIONS REACHED LIMIT.\n",
            "\n",
            "Increase the number of iterations (max_iter) or scale the data as shown in:\n",
            "    https://scikit-learn.org/stable/modules/preprocessing.html\n",
            "Please also refer to the documentation for alternative solver options:\n",
            "    https://scikit-learn.org/stable/modules/linear_model.html#logistic-regression\n",
            "  n_iter_i = _check_optimize_result(\n",
            "/usr/local/lib/python3.8/dist-packages/sklearn/linear_model/_logistic.py:814: ConvergenceWarning: lbfgs failed to converge (status=1):\n",
            "STOP: TOTAL NO. of ITERATIONS REACHED LIMIT.\n",
            "\n",
            "Increase the number of iterations (max_iter) or scale the data as shown in:\n",
            "    https://scikit-learn.org/stable/modules/preprocessing.html\n",
            "Please also refer to the documentation for alternative solver options:\n",
            "    https://scikit-learn.org/stable/modules/linear_model.html#logistic-regression\n",
            "  n_iter_i = _check_optimize_result(\n",
            "/usr/local/lib/python3.8/dist-packages/sklearn/linear_model/_logistic.py:814: ConvergenceWarning: lbfgs failed to converge (status=1):\n",
            "STOP: TOTAL NO. of ITERATIONS REACHED LIMIT.\n",
            "\n",
            "Increase the number of iterations (max_iter) or scale the data as shown in:\n",
            "    https://scikit-learn.org/stable/modules/preprocessing.html\n",
            "Please also refer to the documentation for alternative solver options:\n",
            "    https://scikit-learn.org/stable/modules/linear_model.html#logistic-regression\n",
            "  n_iter_i = _check_optimize_result(\n",
            "/usr/local/lib/python3.8/dist-packages/sklearn/linear_model/_logistic.py:814: ConvergenceWarning: lbfgs failed to converge (status=1):\n",
            "STOP: TOTAL NO. of ITERATIONS REACHED LIMIT.\n",
            "\n",
            "Increase the number of iterations (max_iter) or scale the data as shown in:\n",
            "    https://scikit-learn.org/stable/modules/preprocessing.html\n",
            "Please also refer to the documentation for alternative solver options:\n",
            "    https://scikit-learn.org/stable/modules/linear_model.html#logistic-regression\n",
            "  n_iter_i = _check_optimize_result(\n",
            "/usr/local/lib/python3.8/dist-packages/sklearn/linear_model/_logistic.py:814: ConvergenceWarning: lbfgs failed to converge (status=1):\n",
            "STOP: TOTAL NO. of ITERATIONS REACHED LIMIT.\n",
            "\n",
            "Increase the number of iterations (max_iter) or scale the data as shown in:\n",
            "    https://scikit-learn.org/stable/modules/preprocessing.html\n",
            "Please also refer to the documentation for alternative solver options:\n",
            "    https://scikit-learn.org/stable/modules/linear_model.html#logistic-regression\n",
            "  n_iter_i = _check_optimize_result(\n",
            "/usr/local/lib/python3.8/dist-packages/sklearn/linear_model/_logistic.py:814: ConvergenceWarning: lbfgs failed to converge (status=1):\n",
            "STOP: TOTAL NO. of ITERATIONS REACHED LIMIT.\n",
            "\n",
            "Increase the number of iterations (max_iter) or scale the data as shown in:\n",
            "    https://scikit-learn.org/stable/modules/preprocessing.html\n",
            "Please also refer to the documentation for alternative solver options:\n",
            "    https://scikit-learn.org/stable/modules/linear_model.html#logistic-regression\n",
            "  n_iter_i = _check_optimize_result(\n",
            "/usr/local/lib/python3.8/dist-packages/sklearn/linear_model/_logistic.py:814: ConvergenceWarning: lbfgs failed to converge (status=1):\n",
            "STOP: TOTAL NO. of ITERATIONS REACHED LIMIT.\n",
            "\n",
            "Increase the number of iterations (max_iter) or scale the data as shown in:\n",
            "    https://scikit-learn.org/stable/modules/preprocessing.html\n",
            "Please also refer to the documentation for alternative solver options:\n",
            "    https://scikit-learn.org/stable/modules/linear_model.html#logistic-regression\n",
            "  n_iter_i = _check_optimize_result(\n",
            "/usr/local/lib/python3.8/dist-packages/sklearn/linear_model/_logistic.py:814: ConvergenceWarning: lbfgs failed to converge (status=1):\n",
            "STOP: TOTAL NO. of ITERATIONS REACHED LIMIT.\n",
            "\n",
            "Increase the number of iterations (max_iter) or scale the data as shown in:\n",
            "    https://scikit-learn.org/stable/modules/preprocessing.html\n",
            "Please also refer to the documentation for alternative solver options:\n",
            "    https://scikit-learn.org/stable/modules/linear_model.html#logistic-regression\n",
            "  n_iter_i = _check_optimize_result(\n"
          ]
        },
        {
          "output_type": "stream",
          "name": "stdout",
          "text": [
            "[0.61316833 0.60893436 0.61152466 0.61075015 0.61171398 0.61234219\n",
            " 0.6124971  0.61397726 0.60906345 0.61194634]\n"
          ]
        },
        {
          "output_type": "stream",
          "name": "stderr",
          "text": [
            "/usr/local/lib/python3.8/dist-packages/sklearn/linear_model/_logistic.py:814: ConvergenceWarning: lbfgs failed to converge (status=1):\n",
            "STOP: TOTAL NO. of ITERATIONS REACHED LIMIT.\n",
            "\n",
            "Increase the number of iterations (max_iter) or scale the data as shown in:\n",
            "    https://scikit-learn.org/stable/modules/preprocessing.html\n",
            "Please also refer to the documentation for alternative solver options:\n",
            "    https://scikit-learn.org/stable/modules/linear_model.html#logistic-regression\n",
            "  n_iter_i = _check_optimize_result(\n"
          ]
        }
      ]
    },
    {
      "cell_type": "code",
      "source": [
        "logWeights = pd.Series(lr_clf.coef_[0],index=forestDF.columns)\n",
        "logWeights = pd.DataFrame({'Var':logWeights.index,'Weight':logWeights.values})\n",
        "logWeights = logWeights.sort_values('Weight')\n",
        "plt.figure(figsize=(8,10))\n",
        "sns.barplot(x='Weight',y='Var',data=logWeights)"
      ],
      "metadata": {
        "id": "QVQwXW_v6KSA",
        "outputId": "8c4082e5-70b4-4a3d-f21f-75db61478fb0",
        "colab": {
          "base_uri": "https://localhost:8080/",
          "height": 627
        }
      },
      "id": "QVQwXW_v6KSA",
      "execution_count": null,
      "outputs": [
        {
          "output_type": "execute_result",
          "data": {
            "text/plain": [
              "<matplotlib.axes._subplots.AxesSubplot at 0x7ff944763130>"
            ]
          },
          "metadata": {},
          "execution_count": 153
        },
        {
          "output_type": "display_data",
          "data": {
            "text/plain": [
              "<Figure size 576x720 with 1 Axes>"
            ],
            "image/png": "[encoded data removed]"
          },
          "metadata": {}
        }
      ]
    },
    {
      "cell_type": "markdown",
      "source": [
        "We decided to leverage Random Forest to eliminate some of the variables included in the model, to see if there is an increase in performance in a simpler model."
      ],
      "metadata": {
        "id": "ahvN4uSBqoW0"
      },
      "id": "ahvN4uSBqoW0"
    },
    {
      "cell_type": "code",
      "source": [
        "# Feature Importance Graph\n",
        "# Takes about five minutes\n",
        "from sklearn.ensemble import RandomForestRegressor\n",
        "rf = RandomForestRegressor(n_estimators = 20)\n",
        "rf.fit(X, Y)"
      ],
      "metadata": {
        "id": "QU5toe0grs3B",
        "colab": {
          "base_uri": "https://localhost:8080/"
        },
        "outputId": "d0ad7600-55ff-4f02-dfd4-1497c4156dac"
      },
      "id": "QU5toe0grs3B",
      "execution_count": null,
      "outputs": [
        {
          "output_type": "execute_result",
          "data": {
            "text/plain": [
              "RandomForestRegressor(n_estimators=20)"
            ]
          },
          "metadata": {},
          "execution_count": 154
        }
      ]
    },
    {
      "cell_type": "code",
      "source": [
        "sort = rf.feature_importances_.argsort()\n",
        "plt.barh(forestDF.columns.values[sort], rf.feature_importances_[sort])\n",
        "plt.xlabel('Feature Importance')\n",
        "plt.axis([0, 0.35, 34, 52])\n",
        "plt.show()"
      ],
      "metadata": {
        "id": "l409CPrduYOy",
        "outputId": "c02c023f-7d08-4102-ee63-f28a8b78dd49",
        "colab": {
          "base_uri": "https://localhost:8080/",
          "height": 282
        }
      },
      "id": "l409CPrduYOy",
      "execution_count": null,
      "outputs": [
        {
          "output_type": "display_data",
          "data": {
            "text/plain": [
              "<Figure size 432x288 with 1 Axes>"
            ],
            "image/png": "[encoded data removed]"
          },
          "metadata": {}
        }
      ]
    },
    {
      "cell_type": "code",
      "source": [
        "forestDF.columns"
      ],
      "metadata": {
        "colab": {
          "base_uri": "https://localhost:8080/"
        },
        "id": "aBhlTwtCzqKm",
        "outputId": "5d3b49f3-7ad1-4afb-f914-46abfd78ccef"
      },
      "id": "aBhlTwtCzqKm",
      "execution_count": null,
      "outputs": [
        {
          "output_type": "execute_result",
          "data": {
            "text/plain": [
              "Index(['Elevation', 'Aspect', 'Slope', 'Horizontal_Distance_To_Hydrology',\n",
              "       'Vertical_Distance_To_Hydrology', 'Horizontal_Distance_To_Roadways',\n",
              "       'Hillshade_Noon', 'Horizontal_Distance_To_Fire_Points', 'Rawah',\n",
              "       'Neota', 'Comanche Peak', 'Cache la Poudre', 'Soil_Type1', 'Soil_Type2',\n",
              "       'Soil_Type3', 'Soil_Type4', 'Soil_Type5', 'Soil_Type6', 'Soil_Type7',\n",
              "       'Soil_Type8', 'Soil_Type9', 'Soil_Type10', 'Soil_Type11', 'Soil_Type12',\n",
              "       'Soil_Type13', 'Soil_Type14', 'Soil_Type15', 'Soil_Type16',\n",
              "       'Soil_Type17', 'Soil_Type18', 'Soil_Type19', 'Soil_Type20',\n",
              "       'Soil_Type21', 'Soil_Type22', 'Soil_Type23', 'Soil_Type24',\n",
              "       'Soil_Type25', 'Soil_Type26', 'Soil_Type27', 'Soil_Type28',\n",
              "       'Soil_Type29', 'Soil_Type30', 'Soil_Type31', 'Soil_Type32',\n",
              "       'Soil_Type33', 'Soil_Type34', 'Soil_Type35', 'Soil_Type36',\n",
              "       'Soil_Type37', 'Soil_Type38', 'Soil_Type39', 'Soil_Type40'],\n",
              "      dtype='object')"
            ]
          },
          "metadata": {},
          "execution_count": 156
        }
      ]
    },
    {
      "cell_type": "markdown",
      "source": [
        "Based on the importance output, we decided to build a simplified model on:\n",
        "\n",
        "*   Elevation\n",
        "*   Horizontal Distance to Fire Points\n",
        "*   Soil Type: 32, 4, 2, 23, 29, 33, 31, 22\n",
        "*   Horizontal Distance to Roadways\n",
        "*   Wilderness Area: Comanche Peak, Neota, Rawah\n",
        "*   Horizontal Distance To Hydrology\n",
        "*   Hillshade noon\n",
        "*   Aspect\n",
        "*   Slope\n",
        "\n",
        "\n"
      ],
      "metadata": {
        "id": "Kq5Xrc7wrBHe"
      },
      "id": "Kq5Xrc7wrBHe"
    },
    {
      "cell_type": "code",
      "source": [
        "forestDF_new = pd.DataFrame().assign(\n",
        "                treeType=Y, \n",
        "                Elevation=forestDF['Elevation'], \n",
        "                Horizontal_Distance_To_Fire_Points=forestDF['Horizontal_Distance_To_Fire_Points'],\n",
        "                Soil_Type32=forestDF['Soil_Type32'],\n",
        "                Soil_Type4=forestDF['Soil_Type4'],\n",
        "                Soil_Type2=forestDF['Soil_Type2'],\n",
        "                Soil_Type23=forestDF['Soil_Type23'],\n",
        "                Soil_Type29=forestDF['Soil_Type29'],\n",
        "                Soil_Type33=forestDF['Soil_Type33'],\n",
        "                Soil_Type31=forestDF['Soil_Type31'],\n",
        "                Soil_Type22=forestDF['Soil_Type22'],\n",
        "                Horizontal_Distance_To_Roadways=forestDF['Horizontal_Distance_To_Roadways'],\n",
        "                Comanche_Peak=forestDF['Comanche Peak'], \n",
        "                Neota=forestDF['Neota'], \n",
        "                Rawah=forestDF['Rawah'], \n",
        "                Horizontal_Distance_To_Hydrology=forestDF['Horizontal_Distance_To_Hydrology'],\n",
        "                Hillshade_Noon=forestDF['Hillshade_Noon'],\n",
        "                Aspect=forestDF['Aspect'],\n",
        "                Slope=forestDF['Slope']\n",
        "                                                      )\n"
      ],
      "metadata": {
        "id": "2nu7kYPa0WD9"
      },
      "id": "2nu7kYPa0WD9",
      "execution_count": null,
      "outputs": []
    },
    {
      "cell_type": "code",
      "source": [
        "# Assign specific features to two different variables\n",
        "if 'treeType' in forestDF:\n",
        "    Y = forestDF['treeType'].values\n",
        "    del forestDF['treeType']\n",
        "    X = forestDF.values"
      ],
      "metadata": {
        "id": "ImGv5F8Tw0uU"
      },
      "id": "ImGv5F8Tw0uU",
      "execution_count": null,
      "outputs": []
    },
    {
      "cell_type": "code",
      "source": [
        "# Re-creating logistic regression object\n",
        "lr_clf = LogisticRegression(penalty='l2',C=1.0,class_weight=None)"
      ],
      "metadata": {
        "id": "UX1Oh210w-Oj"
      },
      "id": "UX1Oh210w-Oj",
      "execution_count": null,
      "outputs": []
    },
    {
      "cell_type": "code",
      "source": [
        "#Running logistic regression on 10 random test/train splits\n",
        "iter_num = 0\n",
        "\n",
        "for iter_num, (train_indices,test_indices) in enumerate(cv_object.split(X,Y)):\n",
        "    lr_clf.fit(X[train_indices],Y[train_indices])\n",
        "    y_hat = lr_clf.predict(X[test_indices])\n",
        "    \n",
        "    print('****Iteration',iter_num,'****')\n",
        "    print('Accuracy',mt.accuracy_score(Y[test_indices],y_hat))\n",
        "    print('Confusion Matrix \\n',mt.confusion_matrix(Y[test_indices],y_hat))\n",
        "    "
      ],
      "metadata": {
        "id": "BeXMjWtRxNif",
        "colab": {
          "base_uri": "https://localhost:8080/"
        },
        "outputId": "d76656fb-2400-4933-baf9-c61f6d8d6bab"
      },
      "id": "BeXMjWtRxNif",
      "execution_count": null,
      "outputs": [
        {
          "output_type": "stream",
          "name": "stderr",
          "text": [
            "/usr/local/lib/python3.8/dist-packages/sklearn/linear_model/_logistic.py:814: ConvergenceWarning: lbfgs failed to converge (status=1):\n",
            "STOP: TOTAL NO. of ITERATIONS REACHED LIMIT.\n",
            "\n",
            "Increase the number of iterations (max_iter) or scale the data as shown in:\n",
            "    https://scikit-learn.org/stable/modules/preprocessing.html\n",
            "Please also refer to the documentation for alternative solver options:\n",
            "    https://scikit-learn.org/stable/modules/linear_model.html#logistic-regression\n",
            "  n_iter_i = _check_optimize_result(\n"
          ]
        },
        {
          "output_type": "stream",
          "name": "stdout",
          "text": [
            "****Iteration 0 ****\n",
            "Accuracy 0.6104403500770204\n",
            "Confusion Matrix \n",
            " [[39578 19858]\n",
            " [25410 31357]]\n"
          ]
        },
        {
          "output_type": "stream",
          "name": "stderr",
          "text": [
            "/usr/local/lib/python3.8/dist-packages/sklearn/linear_model/_logistic.py:814: ConvergenceWarning: lbfgs failed to converge (status=1):\n",
            "STOP: TOTAL NO. of ITERATIONS REACHED LIMIT.\n",
            "\n",
            "Increase the number of iterations (max_iter) or scale the data as shown in:\n",
            "    https://scikit-learn.org/stable/modules/preprocessing.html\n",
            "Please also refer to the documentation for alternative solver options:\n",
            "    https://scikit-learn.org/stable/modules/linear_model.html#logistic-regression\n",
            "  n_iter_i = _check_optimize_result(\n"
          ]
        },
        {
          "output_type": "stream",
          "name": "stdout",
          "text": [
            "****Iteration 1 ****\n",
            "Accuracy 0.6229099076615923\n",
            "Confusion Matrix \n",
            " [[38828 20886]\n",
            " [22933 33556]]\n"
          ]
        },
        {
          "output_type": "stream",
          "name": "stderr",
          "text": [
            "/usr/local/lib/python3.8/dist-packages/sklearn/linear_model/_logistic.py:814: ConvergenceWarning: lbfgs failed to converge (status=1):\n",
            "STOP: TOTAL NO. of ITERATIONS REACHED LIMIT.\n",
            "\n",
            "Increase the number of iterations (max_iter) or scale the data as shown in:\n",
            "    https://scikit-learn.org/stable/modules/preprocessing.html\n",
            "Please also refer to the documentation for alternative solver options:\n",
            "    https://scikit-learn.org/stable/modules/linear_model.html#logistic-regression\n",
            "  n_iter_i = _check_optimize_result(\n"
          ]
        },
        {
          "output_type": "stream",
          "name": "stdout",
          "text": [
            "****Iteration 2 ****\n",
            "Accuracy 0.61026823748096\n",
            "Confusion Matrix \n",
            " [[39308 20054]\n",
            " [25234 31607]]\n"
          ]
        },
        {
          "output_type": "stream",
          "name": "stderr",
          "text": [
            "/usr/local/lib/python3.8/dist-packages/sklearn/linear_model/_logistic.py:814: ConvergenceWarning: lbfgs failed to converge (status=1):\n",
            "STOP: TOTAL NO. of ITERATIONS REACHED LIMIT.\n",
            "\n",
            "Increase the number of iterations (max_iter) or scale the data as shown in:\n",
            "    https://scikit-learn.org/stable/modules/preprocessing.html\n",
            "Please also refer to the documentation for alternative solver options:\n",
            "    https://scikit-learn.org/stable/modules/linear_model.html#logistic-regression\n",
            "  n_iter_i = _check_optimize_result(\n"
          ]
        },
        {
          "output_type": "stream",
          "name": "stdout",
          "text": [
            "****Iteration 3 ****\n",
            "Accuracy 0.6111976454996859\n",
            "Confusion Matrix \n",
            " [[39408 19845]\n",
            " [25335 31615]]\n"
          ]
        },
        {
          "output_type": "stream",
          "name": "stderr",
          "text": [
            "/usr/local/lib/python3.8/dist-packages/sklearn/linear_model/_logistic.py:814: ConvergenceWarning: lbfgs failed to converge (status=1):\n",
            "STOP: TOTAL NO. of ITERATIONS REACHED LIMIT.\n",
            "\n",
            "Increase the number of iterations (max_iter) or scale the data as shown in:\n",
            "    https://scikit-learn.org/stable/modules/preprocessing.html\n",
            "Please also refer to the documentation for alternative solver options:\n",
            "    https://scikit-learn.org/stable/modules/linear_model.html#logistic-regression\n",
            "  n_iter_i = _check_optimize_result(\n"
          ]
        },
        {
          "output_type": "stream",
          "name": "stdout",
          "text": [
            "****Iteration 4 ****\n",
            "Accuracy 0.6118000395858971\n",
            "Confusion Matrix \n",
            " [[39530 20260]\n",
            " [24850 31563]]\n"
          ]
        },
        {
          "output_type": "stream",
          "name": "stderr",
          "text": [
            "/usr/local/lib/python3.8/dist-packages/sklearn/linear_model/_logistic.py:814: ConvergenceWarning: lbfgs failed to converge (status=1):\n",
            "STOP: TOTAL NO. of ITERATIONS REACHED LIMIT.\n",
            "\n",
            "Increase the number of iterations (max_iter) or scale the data as shown in:\n",
            "    https://scikit-learn.org/stable/modules/preprocessing.html\n",
            "Please also refer to the documentation for alternative solver options:\n",
            "    https://scikit-learn.org/stable/modules/linear_model.html#logistic-regression\n",
            "  n_iter_i = _check_optimize_result(\n"
          ]
        },
        {
          "output_type": "stream",
          "name": "stdout",
          "text": [
            "****Iteration 5 ****\n",
            "Accuracy 0.6133404473206372\n",
            "Confusion Matrix \n",
            " [[39497 19856]\n",
            " [25075 31775]]\n"
          ]
        },
        {
          "output_type": "stream",
          "name": "stderr",
          "text": [
            "/usr/local/lib/python3.8/dist-packages/sklearn/linear_model/_logistic.py:814: ConvergenceWarning: lbfgs failed to converge (status=1):\n",
            "STOP: TOTAL NO. of ITERATIONS REACHED LIMIT.\n",
            "\n",
            "Increase the number of iterations (max_iter) or scale the data as shown in:\n",
            "    https://scikit-learn.org/stable/modules/preprocessing.html\n",
            "Please also refer to the documentation for alternative solver options:\n",
            "    https://scikit-learn.org/stable/modules/linear_model.html#logistic-regression\n",
            "  n_iter_i = _check_optimize_result(\n"
          ]
        },
        {
          "output_type": "stream",
          "name": "stdout",
          "text": [
            "****Iteration 6 ****\n",
            "Accuracy 0.6109480822353984\n",
            "Confusion Matrix \n",
            " [[39367 20060]\n",
            " [25149 31627]]\n"
          ]
        },
        {
          "output_type": "stream",
          "name": "stderr",
          "text": [
            "/usr/local/lib/python3.8/dist-packages/sklearn/linear_model/_logistic.py:814: ConvergenceWarning: lbfgs failed to converge (status=1):\n",
            "STOP: TOTAL NO. of ITERATIONS REACHED LIMIT.\n",
            "\n",
            "Increase the number of iterations (max_iter) or scale the data as shown in:\n",
            "    https://scikit-learn.org/stable/modules/preprocessing.html\n",
            "Please also refer to the documentation for alternative solver options:\n",
            "    https://scikit-learn.org/stable/modules/linear_model.html#logistic-regression\n",
            "  n_iter_i = _check_optimize_result(\n"
          ]
        },
        {
          "output_type": "stream",
          "name": "stdout",
          "text": [
            "****Iteration 7 ****\n",
            "Accuracy 0.6118086452157001\n",
            "Confusion Matrix \n",
            " [[39263 19996]\n",
            " [25113 31831]]\n"
          ]
        },
        {
          "output_type": "stream",
          "name": "stderr",
          "text": [
            "/usr/local/lib/python3.8/dist-packages/sklearn/linear_model/_logistic.py:814: ConvergenceWarning: lbfgs failed to converge (status=1):\n",
            "STOP: TOTAL NO. of ITERATIONS REACHED LIMIT.\n",
            "\n",
            "Increase the number of iterations (max_iter) or scale the data as shown in:\n",
            "    https://scikit-learn.org/stable/modules/preprocessing.html\n",
            "Please also refer to the documentation for alternative solver options:\n",
            "    https://scikit-learn.org/stable/modules/linear_model.html#logistic-regression\n",
            "  n_iter_i = _check_optimize_result(\n"
          ]
        },
        {
          "output_type": "stream",
          "name": "stdout",
          "text": [
            "****Iteration 8 ****\n",
            "Accuracy 0.6131167009457588\n",
            "Confusion Matrix \n",
            " [[39674 20167]\n",
            " [24790 31572]]\n"
          ]
        },
        {
          "output_type": "stream",
          "name": "stderr",
          "text": [
            "/usr/local/lib/python3.8/dist-packages/sklearn/linear_model/_logistic.py:814: ConvergenceWarning: lbfgs failed to converge (status=1):\n",
            "STOP: TOTAL NO. of ITERATIONS REACHED LIMIT.\n",
            "\n",
            "Increase the number of iterations (max_iter) or scale the data as shown in:\n",
            "    https://scikit-learn.org/stable/modules/preprocessing.html\n",
            "Please also refer to the documentation for alternative solver options:\n",
            "    https://scikit-learn.org/stable/modules/linear_model.html#logistic-regression\n",
            "  n_iter_i = _check_optimize_result(\n"
          ]
        },
        {
          "output_type": "stream",
          "name": "stdout",
          "text": [
            "****Iteration 9 ****\n",
            "Accuracy 0.6101047305147027\n",
            "Confusion Matrix \n",
            " [[39376 20126]\n",
            " [25181 31520]]\n"
          ]
        }
      ]
    },
    {
      "cell_type": "code",
      "source": [
        "accuracies = cross_val_score(lr_clf, X, y=Y, cv=cv_object) # this also can help with parallelism\n",
        "print(accuracies)"
      ],
      "metadata": {
        "id": "dZGNJkgvxTRS",
        "colab": {
          "base_uri": "https://localhost:8080/"
        },
        "outputId": "c7671da3-7478-422f-ffe7-527f4cbfb051"
      },
      "id": "dZGNJkgvxTRS",
      "execution_count": null,
      "outputs": [
        {
          "output_type": "stream",
          "name": "stderr",
          "text": [
            "/usr/local/lib/python3.8/dist-packages/sklearn/linear_model/_logistic.py:814: ConvergenceWarning: lbfgs failed to converge (status=1):\n",
            "STOP: TOTAL NO. of ITERATIONS REACHED LIMIT.\n",
            "\n",
            "Increase the number of iterations (max_iter) or scale the data as shown in:\n",
            "    https://scikit-learn.org/stable/modules/preprocessing.html\n",
            "Please also refer to the documentation for alternative solver options:\n",
            "    https://scikit-learn.org/stable/modules/linear_model.html#logistic-regression\n",
            "  n_iter_i = _check_optimize_result(\n",
            "/usr/local/lib/python3.8/dist-packages/sklearn/linear_model/_logistic.py:814: ConvergenceWarning: lbfgs failed to converge (status=1):\n",
            "STOP: TOTAL NO. of ITERATIONS REACHED LIMIT.\n",
            "\n",
            "Increase the number of iterations (max_iter) or scale the data as shown in:\n",
            "    https://scikit-learn.org/stable/modules/preprocessing.html\n",
            "Please also refer to the documentation for alternative solver options:\n",
            "    https://scikit-learn.org/stable/modules/linear_model.html#logistic-regression\n",
            "  n_iter_i = _check_optimize_result(\n",
            "/usr/local/lib/python3.8/dist-packages/sklearn/linear_model/_logistic.py:814: ConvergenceWarning: lbfgs failed to converge (status=1):\n",
            "STOP: TOTAL NO. of ITERATIONS REACHED LIMIT.\n",
            "\n",
            "Increase the number of iterations (max_iter) or scale the data as shown in:\n",
            "    https://scikit-learn.org/stable/modules/preprocessing.html\n",
            "Please also refer to the documentation for alternative solver options:\n",
            "    https://scikit-learn.org/stable/modules/linear_model.html#logistic-regression\n",
            "  n_iter_i = _check_optimize_result(\n",
            "/usr/local/lib/python3.8/dist-packages/sklearn/linear_model/_logistic.py:814: ConvergenceWarning: lbfgs failed to converge (status=1):\n",
            "STOP: TOTAL NO. of ITERATIONS REACHED LIMIT.\n",
            "\n",
            "Increase the number of iterations (max_iter) or scale the data as shown in:\n",
            "    https://scikit-learn.org/stable/modules/preprocessing.html\n",
            "Please also refer to the documentation for alternative solver options:\n",
            "    https://scikit-learn.org/stable/modules/linear_model.html#logistic-regression\n",
            "  n_iter_i = _check_optimize_result(\n",
            "/usr/local/lib/python3.8/dist-packages/sklearn/linear_model/_logistic.py:814: ConvergenceWarning: lbfgs failed to converge (status=1):\n",
            "STOP: TOTAL NO. of ITERATIONS REACHED LIMIT.\n",
            "\n",
            "Increase the number of iterations (max_iter) or scale the data as shown in:\n",
            "    https://scikit-learn.org/stable/modules/preprocessing.html\n",
            "Please also refer to the documentation for alternative solver options:\n",
            "    https://scikit-learn.org/stable/modules/linear_model.html#logistic-regression\n",
            "  n_iter_i = _check_optimize_result(\n",
            "/usr/local/lib/python3.8/dist-packages/sklearn/linear_model/_logistic.py:814: ConvergenceWarning: lbfgs failed to converge (status=1):\n",
            "STOP: TOTAL NO. of ITERATIONS REACHED LIMIT.\n",
            "\n",
            "Increase the number of iterations (max_iter) or scale the data as shown in:\n",
            "    https://scikit-learn.org/stable/modules/preprocessing.html\n",
            "Please also refer to the documentation for alternative solver options:\n",
            "    https://scikit-learn.org/stable/modules/linear_model.html#logistic-regression\n",
            "  n_iter_i = _check_optimize_result(\n",
            "/usr/local/lib/python3.8/dist-packages/sklearn/linear_model/_logistic.py:814: ConvergenceWarning: lbfgs failed to converge (status=1):\n",
            "STOP: TOTAL NO. of ITERATIONS REACHED LIMIT.\n",
            "\n",
            "Increase the number of iterations (max_iter) or scale the data as shown in:\n",
            "    https://scikit-learn.org/stable/modules/preprocessing.html\n",
            "Please also refer to the documentation for alternative solver options:\n",
            "    https://scikit-learn.org/stable/modules/linear_model.html#logistic-regression\n",
            "  n_iter_i = _check_optimize_result(\n",
            "/usr/local/lib/python3.8/dist-packages/sklearn/linear_model/_logistic.py:814: ConvergenceWarning: lbfgs failed to converge (status=1):\n",
            "STOP: TOTAL NO. of ITERATIONS REACHED LIMIT.\n",
            "\n",
            "Increase the number of iterations (max_iter) or scale the data as shown in:\n",
            "    https://scikit-learn.org/stable/modules/preprocessing.html\n",
            "Please also refer to the documentation for alternative solver options:\n",
            "    https://scikit-learn.org/stable/modules/linear_model.html#logistic-regression\n",
            "  n_iter_i = _check_optimize_result(\n",
            "/usr/local/lib/python3.8/dist-packages/sklearn/linear_model/_logistic.py:814: ConvergenceWarning: lbfgs failed to converge (status=1):\n",
            "STOP: TOTAL NO. of ITERATIONS REACHED LIMIT.\n",
            "\n",
            "Increase the number of iterations (max_iter) or scale the data as shown in:\n",
            "    https://scikit-learn.org/stable/modules/preprocessing.html\n",
            "Please also refer to the documentation for alternative solver options:\n",
            "    https://scikit-learn.org/stable/modules/linear_model.html#logistic-regression\n",
            "  n_iter_i = _check_optimize_result(\n"
          ]
        },
        {
          "output_type": "stream",
          "name": "stdout",
          "text": [
            "[0.60879667 0.61291877 0.61146442 0.65136012 0.61070712 0.61454524\n",
            " 0.60983796 0.61000146 0.61011334 0.61445057]\n"
          ]
        },
        {
          "output_type": "stream",
          "name": "stderr",
          "text": [
            "/usr/local/lib/python3.8/dist-packages/sklearn/linear_model/_logistic.py:814: ConvergenceWarning: lbfgs failed to converge (status=1):\n",
            "STOP: TOTAL NO. of ITERATIONS REACHED LIMIT.\n",
            "\n",
            "Increase the number of iterations (max_iter) or scale the data as shown in:\n",
            "    https://scikit-learn.org/stable/modules/preprocessing.html\n",
            "Please also refer to the documentation for alternative solver options:\n",
            "    https://scikit-learn.org/stable/modules/linear_model.html#logistic-regression\n",
            "  n_iter_i = _check_optimize_result(\n"
          ]
        }
      ]
    },
    {
      "cell_type": "markdown",
      "source": [
        "## Model Advantages 10\n",
        "Discuss the advantages of each model for each classification task. Does one type of model offer superior performance over another in terms of prediction accuracy? In terms of training time or efficiency? Explain in detail."
      ],
      "metadata": {
        "id": "ZDkhl8Y-h3f_"
      },
      "id": "ZDkhl8Y-h3f_"
    },
    {
      "cell_type": "markdown",
      "source": [
        "## Interpret Feature Importance 30\n",
        "\n",
        "Use the weights from logistic regression to interpret the importance of different features for the classification task. Explain your interpretation in detail. Why do you think some variables are more important?"
      ],
      "metadata": {
        "id": "5M-XYvRzh_Id"
      },
      "id": "5M-XYvRzh_Id"
    },
    {
      "cell_type": "markdown",
      "id": "a558f61e",
      "metadata": {
        "id": "a558f61e"
      },
      "source": [
        "## Looking at weights of the model"
      ]
    },
    {
      "cell_type": "code",
      "execution_count": null,
      "id": "7f74ab89",
      "metadata": {
        "id": "7f74ab89",
        "colab": {
          "base_uri": "https://localhost:8080/"
        },
        "outputId": "b1bf8a69-5d2e-4f5b-d109-3b35643b4fec"
      },
      "outputs": [
        {
          "output_type": "stream",
          "name": "stdout",
          "text": [
            "treeType has weight of -0.0017136360525482012\n",
            "Elevation has weight of -0.0014137453025136186\n",
            "Horizontal_Distance_To_Fire_Points has weight of 0.010199559524386368\n",
            "Soil_Type32 has weight of 0.00125626277118635\n",
            "Soil_Type4 has weight of -0.0013736764463493517\n",
            "Soil_Type2 has weight of 7.408927029557224e-05\n",
            "Soil_Type23 has weight of 0.018807857981690594\n",
            "Soil_Type29 has weight of 0.0002227849226327131\n",
            "Soil_Type33 has weight of 0.0041324162665384015\n",
            "Soil_Type31 has weight of -0.0009220687127952604\n",
            "Soil_Type22 has weight of 0.003050932255786275\n",
            "Horizontal_Distance_To_Roadways has weight of -0.00598540683077911\n",
            "Comanche_Peak has weight of -0.0006265940994567191\n",
            "Neota has weight of -0.0013257262468922397\n",
            "Rawah has weight of -0.000580025212179906\n",
            "Horizontal_Distance_To_Hydrology has weight of -0.0014276352641373424\n",
            "Hillshade_Noon has weight of -0.00031531909220253174\n",
            "Aspect has weight of -0.0010312278925526553\n",
            "Slope has weight of 8.142928706182921e-06\n"
          ]
        }
      ],
      "source": [
        "weights = lr_clf.coef_.T\n",
        "varNames = forestDF_new.columns\n",
        "for coef, name in zip(weights,varNames):\n",
        "    print(name,'has weight of',coef[0])"
      ]
    },
    {
      "cell_type": "markdown",
      "id": "0868f669",
      "metadata": {
        "id": "0868f669"
      },
      "source": [
        "### Scaling the weights for interpretability"
      ]
    },
    {
      "cell_type": "code",
      "execution_count": null,
      "id": "62176a55",
      "metadata": {
        "id": "62176a55",
        "colab": {
          "base_uri": "https://localhost:8080/"
        },
        "outputId": "d99aa457-4cda-462e-93b8-c296952397c2"
      },
      "outputs": [
        {
          "output_type": "stream",
          "name": "stdout",
          "text": [
            "accuracy: 0.7550407476571173\n",
            "[[44332 15170]\n",
            " [13295 43406]]\n",
            "Elevation has weight of -1.5352048857821208\n",
            "Cache la Poudre has weight of -1.043371368022005\n",
            "Soil_Type1 has weight of -0.5458665431415302\n",
            "Soil_Type2 has weight of -0.4426902643526421\n",
            "Soil_Type4 has weight of -0.416491741603337\n",
            "Soil_Type5 has weight of -0.3933965574329017\n",
            "Soil_Type14 has weight of -0.325489244706347\n",
            "Soil_Type39 has weight of -0.28658880732228736\n",
            "Soil_Type3 has weight of -0.22356687973700592\n",
            "Soil_Type38 has weight of -0.21927345705887158\n",
            "Soil_Type35 has weight of -0.16700499763410542\n",
            "Soil_Type40 has weight of -0.16479331451475954\n",
            "Soil_Type17 has weight of -0.15166274908160446\n",
            "Soil_Type10 has weight of -0.14181358365860447\n",
            "Soil_Type37 has weight of -0.11180785237662871\n",
            "Soil_Type22 has weight of -0.10878549220949592\n",
            "Soil_Type21 has weight of -0.10449955899302853\n",
            "Aspect has weight of -0.08866651906655515\n",
            "Soil_Type23 has weight of -0.03495872697383074\n",
            "Soil_Type6 has weight of -0.019916093947059746\n",
            "Soil_Type20 has weight of -0.017653827462992495\n",
            "Soil_Type15 has weight of -0.014306640855896837\n",
            "Soil_Type16 has weight of -0.013278769499928811\n",
            "Soil_Type18 has weight of -0.009507482093953376\n",
            "Soil_Type19 has weight of -0.00842996238667797\n",
            "Soil_Type9 has weight of 0.0004411811496534175\n",
            "Soil_Type36 has weight of 0.005573028894144605\n",
            "Soil_Type8 has weight of 0.0074931237013719666\n",
            "Soil_Type27 has weight of 0.007663447646754191\n",
            "Soil_Type11 has weight of 0.013831584178837264\n",
            "Horizontal_Distance_To_Fire_Points has weight of 0.02108213133597419\n",
            "Vertical_Distance_To_Hydrology has weight of 0.02238730233735257\n",
            "Soil_Type25 has weight of 0.0488654538596318\n",
            "Soil_Type28 has weight of 0.0725672853029441\n",
            "Soil_Type26 has weight of 0.07694535227778089\n",
            "Soil_Type24 has weight of 0.08500903823858388\n",
            "Soil_Type7 has weight of 0.08760974657301893\n",
            "Soil_Type34 has weight of 0.10749562767835322\n",
            "Horizontal_Distance_To_Roadways has weight of 0.11514528232655129\n",
            "Slope has weight of 0.11656399057577849\n",
            "Soil_Type31 has weight of 0.11694506729208046\n",
            "Soil_Type13 has weight of 0.12159585068862316\n",
            "Soil_Type30 has weight of 0.13310642956648103\n",
            "Comanche Peak has weight of 0.16515527767637828\n",
            "Soil_Type33 has weight of 0.17452710110691433\n",
            "Neota has weight of 0.21663832629975127\n",
            "Rawah has weight of 0.2509064919287034\n",
            "Soil_Type29 has weight of 0.25882395118613294\n",
            "Soil_Type32 has weight of 0.2626980308790544\n",
            "Soil_Type12 has weight of 0.3092464118652733\n",
            "Horizontal_Distance_To_Hydrology has weight of 0.32629885981148005\n",
            "Hillshade_Noon has weight of 0.44814414421117943\n"
          ]
        }
      ],
      "source": [
        "sclObj = StandardScaler()\n",
        "sclObj.fit(X[train_indices])\n",
        "\n",
        "X_trainScaled = sclObj.transform(X[train_indices])\n",
        "x_testScaled = sclObj.transform(X[test_indices])\n",
        "\n",
        "lrs_clf = LogisticRegression(penalty='l2',C=0.05)\n",
        "lrs_clf.fit(X_trainScaled,Y[train_indices])\n",
        "\n",
        "y_hatS = lrs_clf.predict(x_testScaled)\n",
        "\n",
        "acc = mt.accuracy_score(Y[test_indices],y_hatS)\n",
        "conf = mt.confusion_matrix(Y[test_indices],y_hatS)\n",
        "print('accuracy:',acc)\n",
        "print(conf)\n",
        "\n",
        "zipVars = zip(lrs_clf.coef_.T,forestDF.columns)\n",
        "zipVars = sorted(zipVars)\n",
        "\n",
        "for coef, name in zipVars:\n",
        "    print(name,'has weight of', coef[0])\n",
        "    "
      ]
    },
    {
      "cell_type": "markdown",
      "id": "fab1b855",
      "metadata": {
        "id": "fab1b855"
      },
      "source": [
        "### Plotting weights (scaled weights)"
      ]
    },
    {
      "cell_type": "code",
      "execution_count": null,
      "id": "612c25d6",
      "metadata": {
        "id": "612c25d6",
        "colab": {
          "base_uri": "https://localhost:8080/",
          "height": 428
        },
        "outputId": "997d323e-c24b-4700-9bc9-c63afbe180d2"
      },
      "outputs": [
        {
          "output_type": "display_data",
          "data": {
            "text/plain": [
              "<Figure size 432x288 with 1 Axes>"
            ],
            "image/png": "[encoded data removed]"
          },
          "metadata": {}
        }
      ],
      "source": [
        "%matplotlib inline\n",
        "plt.style.use('ggplot')\n",
        "weights = pd.Series(lrs_clf.coef_[0],index=forestDF.columns)\n",
        "weights.plot(kind='bar')\n",
        "plt.show()"
      ]
    },
    {
      "cell_type": "markdown",
      "id": "e49c6293",
      "metadata": {
        "id": "e49c6293"
      },
      "source": [
        "# Support Vector Machine"
      ]
    },
    {
      "cell_type": "markdown",
      "id": "6f16474f",
      "metadata": {
        "id": "6f16474f"
      },
      "source": [
        "### Creating and running the SVM using the scaled and split sets from earlier"
      ]
    },
    {
      "cell_type": "markdown",
      "source": [
        "## Interpret Support Vectors(10)\n",
        "\n",
        "Look at the chosen support vectors for the classification task. Do these provide any insight into the data? Explain. If you used stochastic gradient descent (and therefore did not explicitly solve for support vectors), try subsampling your data to train the SVC model— then analyze the support vectors from the subsampled dataset."
      ],
      "metadata": {
        "id": "IeTkwGHYiUyW"
      },
      "id": "IeTkwGHYiUyW"
    },
    {
      "cell_type": "code",
      "execution_count": null,
      "id": "2ffcba57",
      "metadata": {
        "id": "2ffcba57"
      },
      "outputs": [],
      "source": [
        "# Creating Cross Validation Object - SVM\n",
        "cv_CGD = StratifiedShuffleSplit(n_splits=3,test_size=0.2)"
      ]
    },
    {
      "cell_type": "code",
      "source": [
        "#Creating SVM using linear SGD due to large amount of data\n",
        "regularize_const = 0.1\n",
        "iterations = 10\n",
        "\n",
        "svm_sgd = SGDClassifier(alpha=regularize_const,\n",
        "                       fit_intercept=True,\n",
        "                       l1_ratio=0.0,\n",
        "                       learning_rate='optimal',\n",
        "                       loss='hinge',\n",
        "                       max_iter=iterations,\n",
        "                       n_jobs=-1,\n",
        "                       penalty='l2')"
      ],
      "metadata": {
        "id": "BxrjmAXb6kfH"
      },
      "id": "BxrjmAXb6kfH",
      "execution_count": null,
      "outputs": []
    },
    {
      "cell_type": "code",
      "source": [
        "scl = StandardScaler()\n",
        "\n",
        "for train_idx, test_idx in cv_CGD.split(X,Y):\n",
        "    svm_sgd.fit(scl.fit_transform(X[train_idx]),Y[train_idx])\n",
        "    y_hatSVM = svm_sgd.predict(scl.transform(X[test_idx]))\n",
        "    \n",
        "    print('Accuracy',mt.accuracy_score(Y[test_idx],y_hatSVM))\n",
        "    print('Confusion Matrix \\n',mt.confusion_matrix(Y[test_idx],y_hatSVM))"
      ],
      "metadata": {
        "id": "xPxkd8s-HT_P",
        "colab": {
          "base_uri": "https://localhost:8080/"
        },
        "outputId": "a955604d-11da-4ab5-b4cb-2a6e40f61216"
      },
      "id": "xPxkd8s-HT_P",
      "execution_count": null,
      "outputs": [
        {
          "output_type": "stream",
          "name": "stdout",
          "text": [
            "Accuracy 0.687607032520675\n",
            "Confusion Matrix \n",
            " [[33395 26148]\n",
            " [10153 46507]]\n",
            "Accuracy 0.6892076796640362\n",
            "Confusion Matrix \n",
            " [[33439 26104]\n",
            " [10011 46649]]\n",
            "Accuracy 0.6854642306997237\n",
            "Confusion Matrix \n",
            " [[33030 26513]\n",
            " [10037 46623]]\n"
          ]
        }
      ]
    },
    {
      "cell_type": "code",
      "source": [
        "SVMWeights = pd.Series(svm_sgd.coef_[0],index=forestDF.columns)\n",
        "SVMWeights = pd.DataFrame({'Var':SVMWeights.index,'Weight':SVMWeights.values})\n",
        "SVMWeights = SVMWeights.sort_values('Weight')\n",
        "plt.figure(figsize=(8,10))\n",
        "sns.barplot(x='Weight',y='Var',data=SVMWeights)"
      ],
      "metadata": {
        "id": "mkBpCba96qIl",
        "colab": {
          "base_uri": "https://localhost:8080/",
          "height": 627
        },
        "outputId": "77bab89a-5f80-4ffe-cfcf-b04d8d66ed29"
      },
      "id": "mkBpCba96qIl",
      "execution_count": null,
      "outputs": [
        {
          "output_type": "execute_result",
          "data": {
            "text/plain": [
              "<matplotlib.axes._subplots.AxesSubplot at 0x7ff9442e92e0>"
            ]
          },
          "metadata": {},
          "execution_count": 168
        },
        {
          "output_type": "display_data",
          "data": {
            "text/plain": [
              "<Figure size 576x720 with 1 Axes>"
            ],
            "image/png": "[encoded data removed]"
          },
          "metadata": {}
        }
      ]
    },
    {
      "cell_type": "code",
      "source": [
        "# Creating SVM using logistic SGD due to large amount of data\n",
        "log_sgd = SGDClassifier(alpha=regularize_const,\n",
        "                       fit_intercept=True,\n",
        "                       l1_ratio=0.0,\n",
        "                       learning_rate='optimal',\n",
        "                       loss='log',\n",
        "                       max_iter=iterations,\n",
        "                       n_jobs=-1,\n",
        "                       penalty='l2')"
      ],
      "metadata": {
        "id": "UwmBAvQ0txqD"
      },
      "id": "UwmBAvQ0txqD",
      "execution_count": null,
      "outputs": []
    },
    {
      "cell_type": "code",
      "source": [
        "scl = StandardScaler()\n",
        "\n",
        "for train_idx, test_idx in cv_CGD.split(X,Y):\n",
        "    log_sgd.fit(scl.fit_transform(X[train_idx]),Y[train_idx])\n",
        "    y_hatSVM = log_sgd.predict(scl.transform(X[test_idx]))\n",
        "    \n",
        "    print('Accuracy',mt.accuracy_score(Y[test_idx],y_hatSVM))\n",
        "    print('Confusion Matrix \\n',mt.confusion_matrix(Y[test_idx],y_hatSVM))"
      ],
      "metadata": {
        "id": "-sj_a7y4t30z",
        "colab": {
          "base_uri": "https://localhost:8080/"
        },
        "outputId": "176a66ae-6ada-41db-fdc3-0e6743ad2775"
      },
      "id": "-sj_a7y4t30z",
      "execution_count": null,
      "outputs": [
        {
          "output_type": "stream",
          "name": "stdout",
          "text": [
            "Accuracy 0.7281997883015069\n",
            "Confusion Matrix \n",
            " [[40818 18725]\n",
            " [12859 43801]]\n",
            "Accuracy 0.7271929296145538\n",
            "Confusion Matrix \n",
            " [[40923 18620]\n",
            " [13081 43579]]\n",
            "Accuracy 0.7260311695911466\n",
            "Confusion Matrix \n",
            " [[40732 18811]\n",
            " [13025 43635]]\n"
          ]
        }
      ]
    },
    {
      "cell_type": "code",
      "source": [
        "logSVMWeights = pd.Series(log_sgd.coef_[0],index=forestDF.columns)\n",
        "logSVMWeights = pd.DataFrame({'Var':logSVMWeights.index,'Weight':logSVMWeights.values})\n",
        "logSVMWeights = logSVMWeights.sort_values('Weight')\n",
        "plt.figure(figsize=(8,10))\n",
        "sns.barplot(x='Weight',y='Var',data=logSVMWeights)"
      ],
      "metadata": {
        "id": "1VH7qxQ8tzQ-",
        "colab": {
          "base_uri": "https://localhost:8080/",
          "height": 627
        },
        "outputId": "9670a6f5-d954-46eb-db2a-3f0acf9e3c37"
      },
      "id": "1VH7qxQ8tzQ-",
      "execution_count": null,
      "outputs": [
        {
          "output_type": "execute_result",
          "data": {
            "text/plain": [
              "<matplotlib.axes._subplots.AxesSubplot at 0x7ff93f735490>"
            ]
          },
          "metadata": {},
          "execution_count": 171
        },
        {
          "output_type": "display_data",
          "data": {
            "text/plain": [
              "<Figure size 576x720 with 1 Axes>"
            ],
            "image/png": "[encoded data removed]"
          },
          "metadata": {}
        }
      ]
    },
    {
      "cell_type": "code",
      "source": [
        "#Sub-sampling data and verifying still balanced\n",
        "forestSubDF = forestFullDF.sample(10000)\n",
        "forestSubDF.head()\n",
        "#forestSubDF['treeType'].describe().transpose()\n",
        "forestSubDF.groupby('treeType').count()"
      ],
      "metadata": {
        "colab": {
          "base_uri": "https://localhost:8080/",
          "height": 242
        },
        "id": "BuYdqQIR965A",
        "outputId": "0b7e1f6c-0f4b-48f0-fb76-0ceec428a2d4"
      },
      "id": "BuYdqQIR965A",
      "execution_count": null,
      "outputs": [
        {
          "output_type": "execute_result",
          "data": {
            "text/plain": [
              "          Elevation  Aspect  Slope  Horizontal_Distance_To_Hydrology  \\\n",
              "treeType                                                               \n",
              "0              5079    5079   5079                              5079   \n",
              "1              4921    4921   4921                              4921   \n",
              "\n",
              "          Vertical_Distance_To_Hydrology  Horizontal_Distance_To_Roadways  \\\n",
              "treeType                                                                    \n",
              "0                                   5079                             5079   \n",
              "1                                   4921                             4921   \n",
              "\n",
              "          Hillshade_Noon  Horizontal_Distance_To_Fire_Points  Rawah  Neota  \\\n",
              "treeType                                                                     \n",
              "0                   5079                                5079   5079   5079   \n",
              "1                   4921                                4921   4921   4921   \n",
              "\n",
              "          Comanche Peak  Cache la Poudre  Soil_Type1  Soil_Type2  Soil_Type3  \\\n",
              "treeType                                                                       \n",
              "0                  5079             5079        5079        5079        5079   \n",
              "1                  4921             4921        4921        4921        4921   \n",
              "\n",
              "          Soil_Type4  Soil_Type5  Soil_Type6  Soil_Type7  Soil_Type8  \\\n",
              "treeType                                                               \n",
              "0               5079        5079        5079        5079        5079   \n",
              "1               4921        4921        4921        4921        4921   \n",
              "\n",
              "          Soil_Type9  Soil_Type10  Soil_Type11  Soil_Type12  Soil_Type13  \\\n",
              "treeType                                                                   \n",
              "0               5079         5079         5079         5079         5079   \n",
              "1               4921         4921         4921         4921         4921   \n",
              "\n",
              "          Soil_Type14  Soil_Type15  Soil_Type16  Soil_Type17  Soil_Type18  \\\n",
              "treeType                                                                    \n",
              "0                5079         5079         5079         5079         5079   \n",
              "1                4921         4921         4921         4921         4921   \n",
              "\n",
              "          Soil_Type19  Soil_Type20  Soil_Type21  Soil_Type22  Soil_Type23  \\\n",
              "treeType                                                                    \n",
              "0                5079         5079         5079         5079         5079   \n",
              "1                4921         4921         4921         4921         4921   \n",
              "\n",
              "          Soil_Type24  Soil_Type25  Soil_Type26  Soil_Type27  Soil_Type28  \\\n",
              "treeType                                                                    \n",
              "0                5079         5079         5079         5079         5079   \n",
              "1                4921         4921         4921         4921         4921   \n",
              "\n",
              "          Soil_Type29  Soil_Type30  Soil_Type31  Soil_Type32  Soil_Type33  \\\n",
              "treeType                                                                    \n",
              "0                5079         5079         5079         5079         5079   \n",
              "1                4921         4921         4921         4921         4921   \n",
              "\n",
              "          Soil_Type34  Soil_Type35  Soil_Type36  Soil_Type37  Soil_Type38  \\\n",
              "treeType                                                                    \n",
              "0                5079         5079         5079         5079         5079   \n",
              "1                4921         4921         4921         4921         4921   \n",
              "\n",
              "          Soil_Type39  Soil_Type40  \n",
              "treeType                            \n",
              "0                5079         5079  \n",
              "1                4921         4921  "
            ],
            "text/html": [
              "\n",
              "  <div id=\"df-b2100be4-5039-4f87-abf2-93396ea5a24b\">\n",
              "    <div class=\"colab-df-container\">\n",
              "      <div>\n",
              "<style scoped>\n",
              "    .dataframe tbody tr th:only-of-type {\n",
              "        vertical-align: middle;\n",
              "    }\n",
              "\n",
              "    .dataframe tbody tr th {\n",
              "        vertical-align: top;\n",
              "    }\n",
              "\n",
              "    .dataframe thead th {\n",
              "        text-align: right;\n",
              "    }\n",
              "</style>\n",
              "<table border=\"1\" class=\"dataframe\">\n",
              "  <thead>\n",
              "    <tr style=\"text-align: right;\">\n",
              "      <th></th>\n",
              "      <th>Elevation</th>\n",
              "      <th>Aspect</th>\n",
              "      <th>Slope</th>\n",
              "      <th>Horizontal_Distance_To_Hydrology</th>\n",
              "      <th>Vertical_Distance_To_Hydrology</th>\n",
              "      <th>Horizontal_Distance_To_Roadways</th>\n",
              "      <th>Hillshade_Noon</th>\n",
              "      <th>Horizontal_Distance_To_Fire_Points</th>\n",
              "      <th>Rawah</th>\n",
              "      <th>Neota</th>\n",
              "      <th>Comanche Peak</th>\n",
              "      <th>Cache la Poudre</th>\n",
              "      <th>Soil_Type1</th>\n",
              "      <th>Soil_Type2</th>\n",
              "      <th>Soil_Type3</th>\n",
              "      <th>Soil_Type4</th>\n",
              "      <th>Soil_Type5</th>\n",
              "      <th>Soil_Type6</th>\n",
              "      <th>Soil_Type7</th>\n",
              "      <th>Soil_Type8</th>\n",
              "      <th>Soil_Type9</th>\n",
              "      <th>Soil_Type10</th>\n",
              "      <th>Soil_Type11</th>\n",
              "      <th>Soil_Type12</th>\n",
              "      <th>Soil_Type13</th>\n",
              "      <th>Soil_Type14</th>\n",
              "      <th>Soil_Type15</th>\n",
              "      <th>Soil_Type16</th>\n",
              "      <th>Soil_Type17</th>\n",
              "      <th>Soil_Type18</th>\n",
              "      <th>Soil_Type19</th>\n",
              "      <th>Soil_Type20</th>\n",
              "      <th>Soil_Type21</th>\n",
              "      <th>Soil_Type22</th>\n",
              "      <th>Soil_Type23</th>\n",
              "      <th>Soil_Type24</th>\n",
              "      <th>Soil_Type25</th>\n",
              "      <th>Soil_Type26</th>\n",
              "      <th>Soil_Type27</th>\n",
              "      <th>Soil_Type28</th>\n",
              "      <th>Soil_Type29</th>\n",
              "      <th>Soil_Type30</th>\n",
              "      <th>Soil_Type31</th>\n",
              "      <th>Soil_Type32</th>\n",
              "      <th>Soil_Type33</th>\n",
              "      <th>Soil_Type34</th>\n",
              "      <th>Soil_Type35</th>\n",
              "      <th>Soil_Type36</th>\n",
              "      <th>Soil_Type37</th>\n",
              "      <th>Soil_Type38</th>\n",
              "      <th>Soil_Type39</th>\n",
              "      <th>Soil_Type40</th>\n",
              "    </tr>\n",
              "    <tr>\n",
              "      <th>treeType</th>\n",
              "      <th></th>\n",
              "      <th></th>\n",
              "      <th></th>\n",
              "      <th></th>\n",
              "      <th></th>\n",
              "      <th></th>\n",
              "      <th></th>\n",
              "      <th></th>\n",
              "      <th></th>\n",
              "      <th></th>\n",
              "      <th></th>\n",
              "      <th></th>\n",
              "      <th></th>\n",
              "      <th></th>\n",
              "      <th></th>\n",
              "      <th></th>\n",
              "      <th></th>\n",
              "      <th></th>\n",
              "      <th></th>\n",
              "      <th></th>\n",
              "      <th></th>\n",
              "      <th></th>\n",
              "      <th></th>\n",
              "      <th></th>\n",
              "      <th></th>\n",
              "      <th></th>\n",
              "      <th></th>\n",
              "      <th></th>\n",
              "      <th></th>\n",
              "      <th></th>\n",
              "      <th></th>\n",
              "      <th></th>\n",
              "      <th></th>\n",
              "      <th></th>\n",
              "      <th></th>\n",
              "      <th></th>\n",
              "      <th></th>\n",
              "      <th></th>\n",
              "      <th></th>\n",
              "      <th></th>\n",
              "      <th></th>\n",
              "      <th></th>\n",
              "      <th></th>\n",
              "      <th></th>\n",
              "      <th></th>\n",
              "      <th></th>\n",
              "      <th></th>\n",
              "      <th></th>\n",
              "      <th></th>\n",
              "      <th></th>\n",
              "      <th></th>\n",
              "      <th></th>\n",
              "    </tr>\n",
              "  </thead>\n",
              "  <tbody>\n",
              "    <tr>\n",
              "      <th>0</th>\n",
              "      <td>5079</td>\n",
              "      <td>5079</td>\n",
              "      <td>5079</td>\n",
              "      <td>5079</td>\n",
              "      <td>5079</td>\n",
              "      <td>5079</td>\n",
              "      <td>5079</td>\n",
              "      <td>5079</td>\n",
              "      <td>5079</td>\n",
              "      <td>5079</td>\n",
              "      <td>5079</td>\n",
              "      <td>5079</td>\n",
              "      <td>5079</td>\n",
              "      <td>5079</td>\n",
              "      <td>5079</td>\n",
              "      <td>5079</td>\n",
              "      <td>5079</td>\n",
              "      <td>5079</td>\n",
              "      <td>5079</td>\n",
              "      <td>5079</td>\n",
              "      <td>5079</td>\n",
              "      <td>5079</td>\n",
              "      <td>5079</td>\n",
              "      <td>5079</td>\n",
              "      <td>5079</td>\n",
              "      <td>5079</td>\n",
              "      <td>5079</td>\n",
              "      <td>5079</td>\n",
              "      <td>5079</td>\n",
              "      <td>5079</td>\n",
              "      <td>5079</td>\n",
              "      <td>5079</td>\n",
              "      <td>5079</td>\n",
              "      <td>5079</td>\n",
              "      <td>5079</td>\n",
              "      <td>5079</td>\n",
              "      <td>5079</td>\n",
              "      <td>5079</td>\n",
              "      <td>5079</td>\n",
              "      <td>5079</td>\n",
              "      <td>5079</td>\n",
              "      <td>5079</td>\n",
              "      <td>5079</td>\n",
              "      <td>5079</td>\n",
              "      <td>5079</td>\n",
              "      <td>5079</td>\n",
              "      <td>5079</td>\n",
              "      <td>5079</td>\n",
              "      <td>5079</td>\n",
              "      <td>5079</td>\n",
              "      <td>5079</td>\n",
              "      <td>5079</td>\n",
              "    </tr>\n",
              "    <tr>\n",
              "      <th>1</th>\n",
              "      <td>4921</td>\n",
              "      <td>4921</td>\n",
              "      <td>4921</td>\n",
              "      <td>4921</td>\n",
              "      <td>4921</td>\n",
              "      <td>4921</td>\n",
              "      <td>4921</td>\n",
              "      <td>4921</td>\n",
              "      <td>4921</td>\n",
              "      <td>4921</td>\n",
              "      <td>4921</td>\n",
              "      <td>4921</td>\n",
              "      <td>4921</td>\n",
              "      <td>4921</td>\n",
              "      <td>4921</td>\n",
              "      <td>4921</td>\n",
              "      <td>4921</td>\n",
              "      <td>4921</td>\n",
              "      <td>4921</td>\n",
              "      <td>4921</td>\n",
              "      <td>4921</td>\n",
              "      <td>4921</td>\n",
              "      <td>4921</td>\n",
              "      <td>4921</td>\n",
              "      <td>4921</td>\n",
              "      <td>4921</td>\n",
              "      <td>4921</td>\n",
              "      <td>4921</td>\n",
              "      <td>4921</td>\n",
              "      <td>4921</td>\n",
              "      <td>4921</td>\n",
              "      <td>4921</td>\n",
              "      <td>4921</td>\n",
              "      <td>4921</td>\n",
              "      <td>4921</td>\n",
              "      <td>4921</td>\n",
              "      <td>4921</td>\n",
              "      <td>4921</td>\n",
              "      <td>4921</td>\n",
              "      <td>4921</td>\n",
              "      <td>4921</td>\n",
              "      <td>4921</td>\n",
              "      <td>4921</td>\n",
              "      <td>4921</td>\n",
              "      <td>4921</td>\n",
              "      <td>4921</td>\n",
              "      <td>4921</td>\n",
              "      <td>4921</td>\n",
              "      <td>4921</td>\n",
              "      <td>4921</td>\n",
              "      <td>4921</td>\n",
              "      <td>4921</td>\n",
              "    </tr>\n",
              "  </tbody>\n",
              "</table>\n",
              "</div>\n",
              "      <button class=\"colab-df-convert\" onclick=\"convertToInteractive('df-b2100be4-5039-4f87-abf2-93396ea5a24b')\"\n",
              "              title=\"Convert this dataframe to an interactive table.\"\n",
              "              style=\"display:none;\">\n",
              "        \n",
              "  <svg xmlns=\"http://www.w3.org/2000/svg\" height=\"24px\"viewBox=\"0 0 24 24\"\n",
              "       width=\"24px\">\n",
              "    <path d=\"M0 0h24v24H0V0z\" fill=\"none\"/>\n",
              "    <path d=\"M18.56 5.44l.94 2.06.94-2.06 2.06-.94-2.06-.94-.94-2.06-.94 2.06-2.06.94zm-11 1L8.5 8.5l.94-2.06 2.06-.94-2.06-.94L8.5 2.5l-.94 2.06-2.06.94zm10 10l.94 2.06.94-2.06 2.06-.94-2.06-.94-.94-2.06-.94 2.06-2.06.94z\"/><path d=\"M17.41 7.96l-1.37-1.37c-.4-.4-.92-.59-1.43-.59-.52 0-1.04.2-1.43.59L10.3 9.45l-7.72 7.72c-.78.78-.78 2.05 0 2.83L4 21.41c.39.39.9.59 1.41.59.51 0 1.02-.2 1.41-.59l7.78-7.78 2.81-2.81c.8-.78.8-2.07 0-2.86zM5.41 20L4 18.59l7.72-7.72 1.47 1.35L5.41 20z\"/>\n",
              "  </svg>\n",
              "      </button>\n",
              "      \n",
              "  <style>\n",
              "    .colab-df-container {\n",
              "      display:flex;\n",
              "      flex-wrap:wrap;\n",
              "      gap: 12px;\n",
              "    }\n",
              "\n",
              "    .colab-df-convert {\n",
              "      background-color: #E8F0FE;\n",
              "      border: none;\n",
              "      border-radius: 50%;\n",
              "      cursor: pointer;\n",
              "      display: none;\n",
              "      fill: #1967D2;\n",
              "      height: 32px;\n",
              "      padding: 0 0 0 0;\n",
              "      width: 32px;\n",
              "    }\n",
              "\n",
              "    .colab-df-convert:hover {\n",
              "      background-color: #E2EBFA;\n",
              "      box-shadow: 0px 1px 2px rgba(60, 64, 67, 0.3), 0px 1px 3px 1px rgba(60, 64, 67, 0.15);\n",
              "      fill: #174EA6;\n",
              "    }\n",
              "\n",
              "    [theme=dark] .colab-df-convert {\n",
              "      background-color: #3B4455;\n",
              "      fill: #D2E3FC;\n",
              "    }\n",
              "\n",
              "    [theme=dark] .colab-df-convert:hover {\n",
              "      background-color: #434B5C;\n",
              "      box-shadow: 0px 1px 3px 1px rgba(0, 0, 0, 0.15);\n",
              "      filter: drop-shadow(0px 1px 2px rgba(0, 0, 0, 0.3));\n",
              "      fill: #FFFFFF;\n",
              "    }\n",
              "  </style>\n",
              "\n",
              "      <script>\n",
              "        const buttonEl =\n",
              "          document.querySelector('#df-b2100be4-5039-4f87-abf2-93396ea5a24b button.colab-df-convert');\n",
              "        buttonEl.style.display =\n",
              "          google.colab.kernel.accessAllowed ? 'block' : 'none';\n",
              "\n",
              "        async function convertToInteractive(key) {\n",
              "          const element = document.querySelector('#df-b2100be4-5039-4f87-abf2-93396ea5a24b');\n",
              "          const dataTable =\n",
              "            await google.colab.kernel.invokeFunction('convertToInteractive',\n",
              "                                                     [key], {});\n",
              "          if (!dataTable) return;\n",
              "\n",
              "          const docLinkHtml = 'Like what you see? Visit the ' +\n",
              "            '<a target=\"_blank\" href=https://colab.research.google.com/notebooks/data_table.ipynb>data table notebook</a>'\n",
              "            + ' to learn more about interactive tables.';\n",
              "          element.innerHTML = '';\n",
              "          dataTable['output_type'] = 'display_data';\n",
              "          await google.colab.output.renderOutput(dataTable, element);\n",
              "          const docLink = document.createElement('div');\n",
              "          docLink.innerHTML = docLinkHtml;\n",
              "          element.appendChild(docLink);\n",
              "        }\n",
              "      </script>\n",
              "    </div>\n",
              "  </div>\n",
              "  "
            ]
          },
          "metadata": {},
          "execution_count": 172
        }
      ]
    },
    {
      "cell_type": "code",
      "source": [
        "# Creating and Running SVM model on smaller dataframe\n",
        "if 'treeType' in forestSubDF:\n",
        "    ySub = forestSubDF['treeType'].values\n",
        "    del forestSubDF['treeType']\n",
        "    xSub = forestSubDF.values"
      ],
      "metadata": {
        "id": "rGxKwi1y94oC"
      },
      "id": "rGxKwi1y94oC",
      "execution_count": null,
      "outputs": []
    },
    {
      "cell_type": "code",
      "source": [
        "num_cv_iter = 3\n",
        "num_instances = len(Y)\n",
        "cv_Log = ShuffleSplit(n_splits=num_cv_iter,test_size=0.2)"
      ],
      "metadata": {
        "id": "EOa-acTd-u28"
      },
      "id": "EOa-acTd-u28",
      "execution_count": null,
      "outputs": []
    },
    {
      "cell_type": "code",
      "source": [
        "for train_indices, test_indices in cv_Log.split(xSub,ySub):\n",
        "    X_train = xSub[train_indices]\n",
        "    Y_train = ySub[train_indices]\n",
        "    X_test = xSub[test_indices]\n",
        "    Y_test = ySub[test_indices]\n",
        "X_train_scaled = sclObj.transform(X_train)\n",
        "X_test_scaled = sclObj.transform(X_test)"
      ],
      "metadata": {
        "id": "1RUT-VZC93Tv"
      },
      "id": "1RUT-VZC93Tv",
      "execution_count": null,
      "outputs": []
    },
    {
      "cell_type": "code",
      "source": [
        "\n",
        "svm_clf = SVC(C=0.5,\n",
        "             kernel='rbf',\n",
        "             degree=3,\n",
        "             gamma='auto')"
      ],
      "metadata": {
        "id": "1C76afxv92Cq"
      },
      "id": "1C76afxv92Cq",
      "execution_count": null,
      "outputs": []
    },
    {
      "cell_type": "code",
      "source": [
        "# Results\n",
        "svm_clf.fit(X_train_scaled,Y_train)\n",
        "y_hatSVM = svm_clf.predict(X_test_scaled)\n",
        "print('Accuracy',mt.accuracy_score(Y_test,y_hatSVM))\n",
        "print('Confusion Matrix \\n',mt.confusion_matrix(Y_test,y_hatSVM))"
      ],
      "metadata": {
        "id": "vhz2nI2q90kv",
        "colab": {
          "base_uri": "https://localhost:8080/"
        },
        "outputId": "7f199fd3-6b63-4ef4-b49e-db1958392c72"
      },
      "id": "vhz2nI2q90kv",
      "execution_count": null,
      "outputs": [
        {
          "output_type": "stream",
          "name": "stdout",
          "text": [
            "Accuracy 0.775\n",
            "Confusion Matrix \n",
            " [[739 268]\n",
            " [182 811]]\n"
          ]
        }
      ]
    },
    {
      "cell_type": "code",
      "source": [
        "# Support Vector shape:\n",
        "print(svm_clf.support_vectors_.shape)\n",
        "print(svm_clf.support_.shape)\n",
        "print(svm_clf.n_support_)"
      ],
      "metadata": {
        "colab": {
          "base_uri": "https://localhost:8080/"
        },
        "id": "Ro8Pk_3L9ylA",
        "outputId": "c1051eb0-dcce-4265-a8a4-de497906220b"
      },
      "id": "Ro8Pk_3L9ylA",
      "execution_count": null,
      "outputs": [
        {
          "output_type": "stream",
          "name": "stdout",
          "text": [
            "(4631, 52)\n",
            "(4631,)\n",
            "[2332 2299]\n"
          ]
        }
      ]
    },
    {
      "cell_type": "code",
      "source": [
        "forestTested = forestSubDF.iloc[train_indices]\n",
        "forestSupport = forestTested.iloc[svm_clf.support_,:]\n",
        "forestSupport['treeType'] = ySub[svm_clf.support_]\n",
        "forestSubDF['treeType'] = ySub"
      ],
      "metadata": {
        "id": "F7Dldjd49uwK",
        "colab": {
          "base_uri": "https://localhost:8080/"
        },
        "outputId": "6b9eca0b-a593-4ec7-b6f4-c555b9ef71c8"
      },
      "id": "F7Dldjd49uwK",
      "execution_count": null,
      "outputs": [
        {
          "output_type": "stream",
          "name": "stderr",
          "text": [
            "<ipython-input-183-24464350875f>:3: SettingWithCopyWarning: \n",
            "A value is trying to be set on a copy of a slice from a DataFrame.\n",
            "Try using .loc[row_indexer,col_indexer] = value instead\n",
            "\n",
            "See the caveats in the documentation: https://pandas.pydata.org/pandas-docs/stable/user_guide/indexing.html#returning-a-view-versus-a-copy\n",
            "  forestSupport['treeType'] = ySub[svm_clf.support_]\n"
          ]
        }
      ]
    },
    {
      "cell_type": "code",
      "source": [
        "forestGroupSupport = forestSupport.groupby(['treeType'])\n",
        "forestGroup = forestSubDF.groupby(['treeType'])\n",
        "\n",
        "vars_to_plot = ['Elevation','Hillshade_Noon','Soil_Type22','Soil_Type12']\n",
        "\n",
        "for v in vars_to_plot:\n",
        "    plt.figure(figsize=(10,4))\n",
        "    plt.subplot(1,2,1)\n",
        "    ax = forestGroupSupport[v].plot.kde()\n",
        "    plt.legend(['Lodgepole Pine','Spruce/Fir'])\n",
        "    plt.title(v+' (Instances chosen as Support Vectors)')\n",
        "    \n",
        "    plt.subplot(1,2,2)\n",
        "    ax = forestGroup[v].plot.kde()\n",
        "    plt.legend(['Lodgepole Pine','Spruce/Fir'])\n",
        "    plt.title(v+' (Original)')"
      ],
      "metadata": {
        "id": "gQA-IoBM9rPN",
        "colab": {
          "base_uri": "https://localhost:8080/",
          "height": 1000
        },
        "outputId": "b9dfa1a8-5d4c-4be5-d63a-ec5f7b99c52a"
      },
      "id": "gQA-IoBM9rPN",
      "execution_count": null,
      "outputs": [
        {
          "output_type": "display_data",
          "data": {
            "text/plain": [
              "<Figure size 720x288 with 2 Axes>"
            ],
            "image/png": "[encoded data removed]"
          },
          "metadata": {}
        },
        {
          "output_type": "display_data",
          "data": {
            "text/plain": [
              "<Figure size 720x288 with 2 Axes>"
            ],
            "image/png": "[encoded data removed]"
          },
          "metadata": {}
        },
        {
          "output_type": "display_data",
          "data": {
            "text/plain": [
              "<Figure size 720x288 with 2 Axes>"
            ],
            "image/png": "[encoded data removed]"
          },
          "metadata": {}
        },
        {
          "output_type": "display_data",
          "data": {
            "text/plain": [
              "<Figure size 720x288 with 2 Axes>"
            ],
            "image/png": "[encoded data removed]"
          },
          "metadata": {}
        }
      ]
    }
  ],
  "metadata": {
    "kernelspec": {
      "display_name": "Python 3 (ipykernel)",
      "language": "python",
      "name": "python3"
    },
    "language_info": {
      "codemirror_mode": {
        "name": "ipython",
        "version": 3
      },
      "file_extension": ".py",
      "mimetype": "text/x-python",
      "name": "python",
      "nbconvert_exporter": "python",
      "pygments_lexer": "ipython3",
      "version": "3.9.7"
    },
    "colab": {
      "provenance": [],
      "include_colab_link": true
    }
  },
  "nbformat": 4,
  "nbformat_minor": 5
}