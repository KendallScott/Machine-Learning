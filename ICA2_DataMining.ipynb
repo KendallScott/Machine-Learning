{
  "cells": [
    {
      "cell_type": "markdown",
      "metadata": {
        "id": "view-in-github",
        "colab_type": "text"
      },
      "source": [
        "<a href=\"https://colab.research.google.com/github/KendallScott/Machine-Learning/blob/main/ICA2_DataMining.ipynb\" target=\"_parent\"><img src=\"https://colab.research.google.com/assets/colab-badge.svg\" alt=\"Open In Colab\"/></a>"
      ]
    },
    {
      "cell_type": "code",
      "execution_count": null,
      "metadata": {
        "id": "55plAPdwvzew",
        "outputId": "55733668-5d1b-474a-efb8-4fceab260e2b"
      },
      "outputs": [
        {
          "data": {
            "text/html": [
              "<link href='https://fonts.googleapis.com/css?family=Passion+One' rel='stylesheet' type='text/css'><style>div.attn { font-family: 'Helvetica Neue'; font-size: 30px; line-height: 40px; color: #FFFFFF; text-align: center; margin: 30px 0; border-width: 10px 0; border-style: solid; border-color: #5AAAAA; padding: 30px 0; background-color: #DDDDFF; }hr { border: 0; background-color: #ffffff; border-top: 1px solid black; }hr.major { border-top: 10px solid #5AAA5A; }hr.minor { border: none; background-color: #ffffff; border-top: 5px dotted #CC3333; }div.bubble { width: 65%; padding: 20px; background: #DDDDDD; border-radius: 15px; margin: 0 auto; font-style: italic; color: #f00; }em { color: #AAA; }div.c1{visibility:hidden;margin:0;height:0;}div.note{color:red;}</style>"
            ],
            "text/plain": [
              "<IPython.core.display.HTML object>"
            ]
          },
          "execution_count": 35,
          "metadata": {},
          "output_type": "execute_result"
        }
      ],
      "source": [
        "#  Ebnable HTML/CSS \n",
        "from IPython.core.display import HTML\n",
        "HTML(\"<link href='https://fonts.googleapis.com/css?family=Passion+One' rel='stylesheet' type='text/css'><style>div.attn { font-family: 'Helvetica Neue'; font-size: 30px; line-height: 40px; color: #FFFFFF; text-align: center; margin: 30px 0; border-width: 10px 0; border-style: solid; border-color: #5AAAAA; padding: 30px 0; background-color: #DDDDFF; }hr { border: 0; background-color: #ffffff; border-top: 1px solid black; }hr.major { border-top: 10px solid #5AAA5A; }hr.minor { border: none; background-color: #ffffff; border-top: 5px dotted #CC3333; }div.bubble { width: 65%; padding: 20px; background: #DDDDDD; border-radius: 15px; margin: 0 auto; font-style: italic; color: #f00; }em { color: #AAA; }div.c1{visibility:hidden;margin:0;height:0;}div.note{color:red;}</style>\")"
      ]
    },
    {
      "cell_type": "markdown",
      "metadata": {
        "id": "etgrJEmpvzey"
      },
      "source": [
        "\n",
        "___\n",
        "Enter Team Member Names here (double click to edit):\n",
        "\n",
        "- Name 1: Austin Webb\n",
        "- Name 2: Tadd Backus\n",
        "- Name 3: Milan Patel\n",
        "- Name 4: Kendall Scott\n",
        "\n"
      ]
    },
    {
      "cell_type": "markdown",
      "metadata": {
        "id": "IhdAsqXTvzez"
      },
      "source": [
        "________\n",
        "<a id=\"top\"></a>\n",
        "# Live Session Assignment Two\n",
        "In the following assignment you will be asked to fill in python code and derivations for a number of different problems. Please read all instructions carefully and turn in the rendered notebook (.ipynb file, remember to save it!!) or HTML of the rendered notebook before the end of class.\n",
        "\n",
        "## Contents\n",
        "* <a href=\"#Loading\">Loading the Classification Data</a>\n",
        "* <a href=\"#using_trees\">Using Decision Trees - Gini</a>\n",
        "* <a href=\"#entropy\">Using Decision Trees - Entropy</a>\n",
        "* <a href=\"#multi\">Multi-way Splits</a>\n",
        "* <a href=\"#sklearn\">Decision Trees in Scikit-Learn</a>\n",
        "\n",
        "________________________________________________________________________________________________________\n",
        "<a id=\"Loading\"></a>\n",
        "<a href=\"#top\">Back to Top</a>\n",
        "## Loading the Classification Data\n",
        "Please run the following code to read in the \"digits\" dataset from sklearn's data loading module. This is identical to the first in class assignment for loading the data into matrices. `ds.data` is a matrix of feature values and `ds.target` is a column vector of the class output (in our case, the hand written digit we want to classify). Each class is a number (0 through 9) that we want to classify as one of ten hand written digits. \n",
        "\n"
      ]
    },
    {
      "cell_type": "code",
      "execution_count": null,
      "metadata": {
        "colab": {
          "base_uri": "https://localhost:8080/"
        },
        "id": "ykaY_J6uvze0",
        "outputId": "36305843-3f9e-4cce-d637-1012fd37a41e"
      },
      "outputs": [
        {
          "output_type": "stream",
          "name": "stdout",
          "text": [
            "features shape: (1797, 64)\n",
            "target shape: (1797,)\n",
            "range of target: 0 9\n"
          ]
        }
      ],
      "source": [
        "from sklearn.datasets import load_digits\n",
        "import numpy as np\n",
        "from __future__ import print_function\n",
        "\n",
        "ds = load_digits()\n",
        "\n",
        "# this holds the continuous feature data\n",
        "print('features shape:', ds.data.shape) # there are 1797 instances and 64 features per instance\n",
        "print('target shape:', ds.target.shape )\n",
        "print('range of target:', np.min(ds.target),np.max(ds.target))"
      ]
    },
    {
      "cell_type": "markdown",
      "metadata": {
        "id": "H3QIw0aNvze0"
      },
      "source": [
        "________________________________________________________________________________________________________\n",
        "<a id=\"using_trees\"></a>\n",
        "<a href=\"#top\">Back to Top</a>\n",
        "## Using Decision Trees\n",
        "In the videos, we talked about the splitting conditions for different attributes. Specifically, we discussed the number of ways in which it is possible to split a node, depending on the attribute types. To understand the possible splits, we need to understand the attributes. For the question below, you might find the description in the `ds['DESCR']` field to be useful. You can see the field using `print(ds['DESCR'])`\n",
        "\n",
        "**Question 1:** For the digits dataset, what are the type(s) of the attributes? How many attributes are there? What do they represent?\n"
      ]
    },
    {
      "cell_type": "code",
      "execution_count": null,
      "metadata": {
        "colab": {
          "base_uri": "https://localhost:8080/"
        },
        "id": "13rAaJzJvze0",
        "outputId": "3555c5df-70ea-42ef-8cd0-fa890a103e9a"
      },
      "outputs": [
        {
          "output_type": "stream",
          "name": "stdout",
          "text": [
            ".. _digits_dataset:\n",
            "\n",
            "Optical recognition of handwritten digits dataset\n",
            "--------------------------------------------------\n",
            "\n",
            "**Data Set Characteristics:**\n",
            "\n",
            "    :Number of Instances: 1797\n",
            "    :Number of Attributes: 64\n",
            "    :Attribute Information: 8x8 image of integer pixels in the range 0..16.\n",
            "    :Missing Attribute Values: None\n",
            "    :Creator: E. Alpaydin (alpaydin '@' boun.edu.tr)\n",
            "    :Date: July; 1998\n",
            "\n",
            "This is a copy of the test set of the UCI ML hand-written digits datasets\n",
            "https://archive.ics.uci.edu/ml/datasets/Optical+Recognition+of+Handwritten+Digits\n",
            "\n",
            "The data set contains images of hand-written digits: 10 classes where\n",
            "each class refers to a digit.\n",
            "\n",
            "Preprocessing programs made available by NIST were used to extract\n",
            "normalized bitmaps of handwritten digits from a preprinted form. From a\n",
            "total of 43 people, 30 contributed to the training set and different 13\n",
            "to the test set. 32x32 bitmaps are divided into nonoverlapping blocks of\n",
            "4x4 and the number of on pixels are counted in each block. This generates\n",
            "an input matrix of 8x8 where each element is an integer in the range\n",
            "0..16. This reduces dimensionality and gives invariance to small\n",
            "distortions.\n",
            "\n",
            "For info on NIST preprocessing routines, see M. D. Garris, J. L. Blue, G.\n",
            "T. Candela, D. L. Dimmick, J. Geist, P. J. Grother, S. A. Janet, and C.\n",
            "L. Wilson, NIST Form-Based Handprint Recognition System, NISTIR 5469,\n",
            "1994.\n",
            "\n",
            ".. topic:: References\n",
            "\n",
            "  - C. Kaynak (1995) Methods of Combining Multiple Classifiers and Their\n",
            "    Applications to Handwritten Digit Recognition, MSc Thesis, Institute of\n",
            "    Graduate Studies in Science and Engineering, Bogazici University.\n",
            "  - E. Alpaydin, C. Kaynak (1998) Cascading Classifiers, Kybernetika.\n",
            "  - Ken Tang and Ponnuthurai N. Suganthan and Xi Yao and A. Kai Qin.\n",
            "    Linear dimensionalityreduction using relevance weighted LDA. School of\n",
            "    Electrical and Electronic Engineering Nanyang Technological University.\n",
            "    2005.\n",
            "  - Claudio Gentile. A New Approximate Maximal Margin Classification\n",
            "    Algorithm. NIPS. 2000.\n",
            "\n"
          ]
        }
      ],
      "source": [
        "## Enter your comments here\n",
        "\n",
        "print(ds['DESCR'])\n",
        "#64 Attributes\n",
        "# For the digits dataset, what are the type(s) of the attributes? \n",
        "# 9 different classes for a digit\n",
        "\n",
        "# How many attributes are there? \n",
        "# 16 attributes\n",
        "\n",
        "# What do they represent?\n",
        "# They represent The data set contains images of hand-written digits: 10 classes where each class refers to a digit.\n",
        "\n",
        "\n",
        "## Enter comments here"
      ]
    },
    {
      "cell_type": "markdown",
      "metadata": {
        "id": "ckPXSmRpvze1"
      },
      "source": [
        "___\n",
        "## Using the gini coefficient\n",
        "We talked about the gini index in the videos.  The gini coefficient for a **given split** is given by:\n",
        "$$Gini=\\sum_{t=1}^T \\frac{n_t}{N}gini(t)$$\n",
        "where $T$ is the total number of splits (2 for binary attributes), $n_t$ is the number of instances in node $t$ after splitting, and $N$ is the total number of instances in the parent node. $gini(t)$ is the **gini index for each individual node that is created by the split** and is given by:\n",
        "$$gini(t)=1-\\sum_{j=0}^{C-1} p(j|t)^2$$\n",
        "where $C$ is the total number of possible classes and $p(j|t)$ is the probability of class $j$ in node $t$ (i.e., $n_j==$ the count of instances belonging to class $j$ in node $t$, normalized by the total number of instances in node $t$).\n",
        "$$ p(j|t) = \\frac{n_j}{n_t}$$ \n",
        "\n",
        "For the given dataset, $gini(t)$ has been programmed for you in the function `gini_index`. \n",
        "\n",
        "* `def gini_index(classes_in_split):`\n",
        " * To use the function, pass in a `numpy` array of the class labels for a node as (i.e., pass in the rows from `ds.target` that make up a node in the tree) and the gini will be returned for that node. \n"
      ]
    },
    {
      "cell_type": "code",
      "execution_count": null,
      "metadata": {
        "id": "wY_-Vx9Avze1"
      },
      "outputs": [],
      "source": [
        "# compute the gini of several examples for the starting dataset\n",
        "# This function \"gini_index\" is written for you. Once you run this block, you \n",
        "#   will have access to the function for the notebook. You do not need to know \n",
        "#   how this function works--only what it returns \n",
        "# This function returns the gini index for an array of classes in a node.\n",
        "def gini_index(classes_in_split):\n",
        "    # pay no attention to this code in the function-- it just computes the gini for a given split \n",
        "    classes_in_split = np.reshape(classes_in_split,(len(classes_in_split),-1))\n",
        "    unique_classes = np.unique(classes_in_split)\n",
        "    gini = 1\n",
        "    for c in unique_classes:\n",
        "        gini -= (np.sum(classes_in_split==c) / float(len(classes_in_split)))**2\n",
        "        \n",
        "    return gini"
      ]
    },
    {
      "cell_type": "markdown",
      "metadata": {
        "id": "yHPDkMqOvze2"
      },
      "source": [
        "In the example below, the function is used calculate the gini for splitting the dataset on feature 28, with value 2.5. In this example, we need to create two separate tree nodes: the first node has all the `ds.target` labels when feature 28 is greater than 2.5, the second node has all the rows from `ds.target` where feature 28 is less than 2.5. The steps are outlined below. **Read this carefully to understand what the code does below in the block following this.**\n",
        "- Feature 28 is saved into a separate variable `feature28 = ds.data[:,28]`\n",
        "- First all the target classes for the first node are calculated using `numpy` indexing `ds.target[feature28>2.5]` \n",
        " - Note: this grabs all the rows in `ds.target` (the classes) which have feature 28 greater than 2.5 (similar to indexing in pandas)\n",
        "- Second, those classes are passed into the function to get the gini for the right node in this split (i.e., feature 28 being greater than the threshold 2.5). \n",
        " - `gini_r = gini_index(ds.target[feature28>2.5])`\n",
        "- Third, the gini is calculated for the left node in the tree. This grabs only the rows in `ds.target` where feature 28 is less than 2.5.\n",
        "     - `gini_l = gini_index(ds.target[feature28<=2.5])`\n",
        "- Combining the gini indices is left as an exercise in the next section"
      ]
    },
    {
      "cell_type": "code",
      "execution_count": null,
      "metadata": {
        "colab": {
          "base_uri": "https://localhost:8080/"
        },
        "id": "IxKPh_btvze3",
        "outputId": "36e4b042-9aa5-4266-ad70-d7a63ea659a8"
      },
      "outputs": [
        {
          "output_type": "stream",
          "name": "stdout",
          "text": [
            "gini for right node of split: 0.8845857867667073\n",
            "gini for left node of split: 0.7115407566535388\n"
          ]
        }
      ],
      "source": [
        "#==========================Use the gini_index Example===============\n",
        "# get the value for this feature as a column vector \n",
        "# (this is like grabbing one column of the record table)\n",
        "feature28 = ds.data[:,28]\n",
        "\n",
        "# if we split on the value of 2.5, then this is the gini for each resulting node:\n",
        "gini_r = gini_index(ds.target[feature28>2.5]) # just like in pandas, we are sending in the rows where feature28>2.5\n",
        "gini_l = gini_index(ds.target[feature28<=2.5]) # and sending the rows where feature28<=2.5\n",
        "\n",
        "# compute gini example. This splits on attribute '28' with a value of 2.5\n",
        "print('gini for right node of split:', gini_r)\n",
        "print('gini for left node of split:', gini_l)"
      ]
    },
    {
      "cell_type": "markdown",
      "metadata": {
        "id": "0eEpFQpFvze3"
      },
      "source": [
        "**Question 2:** Now, using the above values `gini_r` and `gini_l`. Calculate the combined Gini for the entire split. You will need to write the weighted summation (based upon the number of instances inside each node). To count the number of instances greater than a value using numpy, you can use broadcasting, which is a special way of indexing into a numpy array. For example, the code `some_array>5` will return a new numpy array of true/false elements. It is the same size as `some_array` and is marked true where the array is greater than `5`, and false otherwise. By taking the `sum` of this array, we can count how many times `some_array` is greater than `5`. \n",
        "\n",
        "`counts = sum(some_array>5)` \n",
        " \n",
        "You will need to use this syntax to count the values in each node as a result of splitting.  "
      ]
    },
    {
      "cell_type": "code",
      "execution_count": null,
      "metadata": {
        "colab": {
          "base_uri": "https://localhost:8080/"
        },
        "id": "7ITorwNevze3",
        "outputId": "c3b55323-17e3-4bca-eadd-227a9e42ed2a"
      },
      "outputs": [
        {
          "output_type": "stream",
          "name": "stdout",
          "text": [
            "The total gini of the split for a threshold of 2.5 is: 0.8461634345045179\n"
          ]
        }
      ],
      "source": [
        "## Enter your code here\n",
        "\n",
        "#number of rows for each split\n",
        "count_over=float(len(ds.target[feature28>2.5]))\n",
        "count_under=float(len(ds.target[feature28<=2.5]))\n",
        "\n",
        "#total row count to divide and get percentage\n",
        "count_total=count_under+count_over\n",
        "\n",
        "#getting percentage of each split for over and under\n",
        "count_under_weight=count_under/count_total\n",
        "count_over_weight=count_over/count_total\n",
        "\n",
        "#multiplying to get the weighted gini\n",
        "weighted_gini_r=gini_r*count_over_weight\n",
        "weighted_gini_l=gini_l*count_under_weight\n",
        "\n",
        "#aggregateing for overall gini\n",
        "gini=weighted_gini_r+weighted_gini_l\n",
        "\n",
        "## Enter your code here\n",
        "print('The total gini of the split for a threshold of 2.5 is:', gini )"
      ]
    },
    {
      "cell_type": "markdown",
      "metadata": {
        "id": "fYpGPBisvze4"
      },
      "source": [
        "___\n",
        "## Start of Live Session Coding\n",
        "\n",
        "**Question 3:** Now we want to know which is a better split:\n",
        "- `feature28` split on a value of `2.5`  \n",
        "- `feature28` split on a value of `10`.  \n",
        "\n",
        "Enter your code to find the total gini of splitting on the threshold of 10 and compare it to the total gini of splitting on threshold of 2.5 (for feature 28 only). According to gini, which threshold is better for spliting on feature 28, `threshold=2.5` or `threshold=10.0`?"
      ]
    },
    {
      "cell_type": "code",
      "execution_count": null,
      "metadata": {
        "colab": {
          "base_uri": "https://localhost:8080/"
        },
        "id": "6px5pxE2vze4",
        "outputId": "7f45f96e-bcf6-43be-c146-61298cea0dcd"
      },
      "outputs": [
        {
          "output_type": "stream",
          "name": "stdout",
          "text": [
            "gini for right node of split: 0.8737186870604284\n",
            "gini for left node of split: 0.8496295618768864\n",
            "The total gini of the split for a threshold of 10 is: 0.8549782324101269\n",
            "This is worse than the split on 2.5  ( 0.8461634345045179 )\n"
          ]
        }
      ],
      "source": [
        "# Enter your code here\n",
        "\n",
        "feature28 = ds.data[:,28]\n",
        "\n",
        "# if we split on the value of 2.5, then this is the gini for each resulting node:\n",
        "gini_r_10 = gini_index(ds.target[feature28>10]) # just like in pandas, we are sending in the rows where feature28>2.5\n",
        "gini_l_10 = gini_index(ds.target[feature28<=10]) # and sending the rows where feature28<=2.5\n",
        "\n",
        "# compute gini example. This splits on attribute '28' with a value of 2.5\n",
        "print('gini for right node of split:', gini_r_10)\n",
        "print('gini for left node of split:', gini_l_10)\n",
        "\n",
        "#number of rows for each split\n",
        "count_over_10=float(len(ds.target[feature28>10]))\n",
        "count_under_10=float(len(ds.target[feature28<=10]))\n",
        "\n",
        "#getting percentage of each split for over and under\n",
        "count_over_weight_10=count_over_10/count_total\n",
        "count_under_weight_10=count_under_10/count_total\n",
        "\n",
        "#multiplying to get the weighted gini\n",
        "weighted_gini_r_10=gini_r_10*count_under_weight\n",
        "weighted_gini_l_10=gini_l_10*count_over_weight\n",
        "\n",
        "#aggregateing for overall gini\n",
        "gini_10=weighted_gini_r_10+weighted_gini_l_10\n",
        "\n",
        "# Enter your code here\n",
        "\n",
        "print('The total gini of the split for a threshold of 10 is:', gini_10)\n",
        "print('This is worse than the split on 2.5',' (', gini, ')' )"
      ]
    },
    {
      "cell_type": "markdown",
      "metadata": {
        "id": "NocEbJu-vze4"
      },
      "source": [
        "___\n",
        "<a id=\"entropy\"></a>\n",
        "<a href=\"#top\">Back to Top</a>\n",
        "## Entropy based splitting\n",
        "We discussed entropy as well in the video as another means of splitting. We calculated entropy for a node $t$ by:\n",
        "$$ Entropy(t) = -\\sum p(j|t) \\log p(j|t) $$\n",
        "where $p(j|t)$ is the same as above. To combine Entropy measures from a set of nodes, t = {1,...,T} we use: \n",
        "$$Entropy_{split}=\\sum_{t=1}^T \\frac{n_t}{N}Entropy(t)$$ \n",
        "where $n_t$ and $N$ are the same as defined above for the $Gini$. Information gain is calculated by subtracting the Entropy of the split from the Entropy of the parent node before splitting:\n",
        "$$InfoGain = Entropy(p)-Entropy_{split}$$\n",
        "where $p$ is the parent node before splitting. You are given an equation for calculating the $Entropy(t)$ of  node $t$. It works exactly like the `gini_index` function above, but is named `entropy_value` and returns the entropy for a node. You simply send in an array of the feature values for the node you want to calculate the entropy value for. \n"
      ]
    },
    {
      "cell_type": "code",
      "execution_count": null,
      "metadata": {
        "id": "ypHfOCNYvze5"
      },
      "outputs": [],
      "source": [
        "def entropy_value(classes_in_split):\n",
        "    # pay no attention to this code -- it just computes the gini for a given split \n",
        "    classes_in_split = np.reshape(classes_in_split,(len(classes_in_split),-1))\n",
        "    unique_classes = np.unique(classes_in_split)\n",
        "    ent = 0\n",
        "    for c in unique_classes:\n",
        "        p = (np.sum(classes_in_split==c) / float(len(classes_in_split)))\n",
        "        ent += p * np.log(p)\n",
        "        \n",
        "    return -ent"
      ]
    },
    {
      "cell_type": "code",
      "execution_count": null,
      "metadata": {
        "colab": {
          "base_uri": "https://localhost:8080/"
        },
        "id": "HKcsacWYvze5",
        "outputId": "843a14b9-a5eb-4aa9-f0c5-c3d74dde0c99"
      },
      "outputs": [
        {
          "output_type": "stream",
          "name": "stdout",
          "text": [
            "entropy for right node of split: 2.1836975378213057\n",
            "entropy for left node of split: 1.4898881412786364\n",
            "entropy for overall: 2.302479220967876\n"
          ]
        }
      ],
      "source": [
        "ent = entropy_value(ds.target)\n",
        "\n",
        "ent_r = entropy_value(ds.target[feature28>2.5])\n",
        "ent_l = entropy_value(ds.target[feature28<=2.5])\n",
        "\n",
        "# compute entropy example. This splits on attribute '28' with a value of 2.5\n",
        "print('entropy for right node of split:', ent_r)\n",
        "print('entropy for left node of split:', ent_l)\n",
        "print('entropy for overall:', ent)"
      ]
    },
    {
      "cell_type": "markdown",
      "metadata": {
        "id": "cuId1UJpvze5"
      },
      "source": [
        "___\n",
        "**Question 4:** Calculate the **information gain** of the split when the threshold is 2.5 on `feature28`. What is the value of the information gain?"
      ]
    },
    {
      "cell_type": "code",
      "execution_count": null,
      "metadata": {
        "colab": {
          "base_uri": "https://localhost:8080/"
        },
        "id": "ClTZmo1hvze5",
        "outputId": "8c750931-b40c-4122-fe02-1465b007edc7"
      },
      "outputs": [
        {
          "output_type": "stream",
          "name": "stdout",
          "text": [
            "The information gain of the split for threshold of 2.5: 0.658539911508647\n"
          ]
        }
      ],
      "source": [
        "# Enter your code here\n",
        "\n",
        "overall_ent=ent-((ent_r*count_under_weight)+(count_over_weight*ent_l))\n",
        "overall_ent\n",
        "# Enter your code here\n",
        "\n",
        "print('The information gain of the split for threshold of 2.5:',overall_ent)"
      ]
    },
    {
      "cell_type": "markdown",
      "metadata": {
        "id": "xWWePcdOvze6"
      },
      "source": [
        "**Question 5:** What is the information gain if the threshold is 10.0 on `feature28`? According to information gain, is it better to split on a threshold of 2.5 or 10? Does entropy give the same decision as gini for this example?"
      ]
    },
    {
      "cell_type": "markdown",
      "source": [
        "Information Gain =  (entropy of the parent) entropy_value(ds.target) - (# instance r * entropy_value r + # instance l * entropy_value l) / float(len(ds.target))"
      ],
      "metadata": {
        "id": "_pC7T1jM6kTu"
      }
    },
    {
      "cell_type": "code",
      "execution_count": null,
      "metadata": {
        "colab": {
          "base_uri": "https://localhost:8080/"
        },
        "id": "Nk3OsZWJvze6",
        "outputId": "ebd1b061-3acb-43d0-de69-d1ee1ddf96d6"
      },
      "outputs": [
        {
          "output_type": "stream",
          "name": "stdout",
          "text": [
            "The information gain of the split for threshold of 10: 0.2170116965548763\n",
            "This is not better than the split on 2.5\n",
            "This is the same as gini\n"
          ]
        }
      ],
      "source": [
        "# Enter your code here\n",
        "ent_r_10 = entropy_value(ds.target[feature28>10])\n",
        "ent_l_10 = entropy_value(ds.target[feature28<=10])\n",
        "\n",
        "overall_ent_10=ent-((ent_r_10*count_under_weight_10)+(count_over_weight_10*ent_l_10))\n",
        "\n",
        "\n",
        "ent_r_10\n",
        "ent_l_10\n",
        "# Enter your code here\n",
        "\n",
        "print('The information gain of the split for threshold of 10:', overall_ent_10)\n",
        "print('This is not better than the split on 2.5')\n",
        "print('This is the same as gini')"
      ]
    },
    {
      "cell_type": "markdown",
      "metadata": {
        "id": "kLInds5Pvze6"
      },
      "source": [
        "___\n",
        "<a id=\"multi\"></a>\n",
        "<a href=\"#top\">Back to Top</a>\n",
        "## Information gain and multi-way splitting\n",
        "Now assume that we can use not just a binary split, but a three way split. \n",
        "\n",
        "**Question 6** What is the information gain if we split feature28 on two thesholds (three separate nodes corresponding to three branches from one node) \n",
        "- node left: `feature28<2.5`, \n",
        "- node middle: `2.5<=feature28<10`, and \n",
        "- node right: `10<=feature28`? \n",
        "\n",
        "Is the information gain better? \n",
        "\n",
        "***Note***: You can index into a `numpy` array for the middle node with the following notation: `some_array[(2.5<=feature28) & (feature28<10.0)]`"
      ]
    },
    {
      "cell_type": "code",
      "execution_count": null,
      "metadata": {
        "id": "ctsO2HRhvze6",
        "outputId": "c4e9a4b8-1be8-47cb-8a18-c487f226d07f",
        "colab": {
          "base_uri": "https://localhost:8080/"
        }
      },
      "outputs": [
        {
          "output_type": "stream",
          "name": "stdout",
          "text": [
            "Entropy under 2.5  1.4898881412786364\n",
            "Entropy 2.5-10 is  2.1558341564612853\n",
            "Entropy over or equal to 10 is  2.118750287884169\n",
            "overall ent is  2.302479220967876\n",
            "The information gain of the three way split is: 0.38321582006899524\n"
          ]
        }
      ],
      "source": [
        "# Enter your code here\n",
        "\n",
        "ent_2_5 = entropy_value(ds.target[feature28<2.5])\n",
        "ent_middle= entropy_value(ds.target[(2.5<=feature28) & (feature28<10.0)])\n",
        "ent_10 = entropy_value(ds.target[feature28>=10.0])\n",
        "\n",
        "len_middle= (float(len(ds.target[(2.5<=feature28) & (feature28<10.0)]))/count_total)\n",
        "weighted_ent_2_5= (count_under_weight*ent_2_5)\n",
        "weighted_ent_middle=(ent_middle*len_middle)\n",
        "weighted_ent_over= (count_over_weight_10*ent_10)\n",
        "info_gain=ent- (weighted_ent_2_5+weighted_ent_middle+weighted_ent_over)\n",
        "\n",
        "\n",
        "# Enter your code here\n",
        "print('Entropy under 2.5 ', ent_2_5)\n",
        "print('Entropy 2.5-10 is ', ent_middle)\n",
        "print('Entropy over or equal to 10 is ', ent_10)\n",
        "print('overall ent is ', ent)\n",
        "print('The information gain of the three way split is:',info_gain)"
      ]
    },
    {
      "cell_type": "markdown",
      "metadata": {
        "id": "pVilqiEdvze6"
      },
      "source": [
        "**Question 7**: Should we normalize the quantity that we just calculated if we want to compare it to the information gain of a binary split? Why or Why not?"
      ]
    },
    {
      "cell_type": "code",
      "execution_count": null,
      "metadata": {
        "id": "ir1h8QZ7vze7"
      },
      "outputs": [],
      "source": [
        "# Enter your comments here\n",
        "\n",
        "\n",
        "You do not need any code for this question.\n",
        "•\tThe Short answer is Yes! We need to normalize the value by the split info so that we do not.\n",
        "•\tAlways prefer the larger, purer splits.\n",
        "\n",
        "\n",
        "\n",
        "# Enter your comments here"
      ]
    },
    {
      "cell_type": "markdown",
      "metadata": {
        "id": "oFgQPG7cvze7"
      },
      "source": [
        "___\n",
        "<a id=\"sklearn\"></a>\n",
        "<a href=\"#top\">Back to Top</a>\n",
        "## Decision Trees in scikit-learn\n",
        "Scikit-learn also has an implementation of decision trees. Its available here:\n",
        "- http://scikit-learn.org/stable/modules/generated/sklearn.tree.DecisionTreeClassifier.html#sklearn.tree.DecisionTreeClassifier\n",
        "\n",
        "**Question 8**: What algorithm does scikit-learn use for creating decision trees (i.e., ID3, C4.5, C5.0, CART, MARS, CHAID, etc.)? "
      ]
    },
    {
      "cell_type": "code",
      "execution_count": null,
      "metadata": {
        "id": "hfAbj8LGvze7"
      },
      "outputs": [],
      "source": [
        "#Scikit-learn uses the CART algorithm for creating decision trees, which is used for regression and classification."
      ]
    },
    {
      "cell_type": "markdown",
      "metadata": {
        "id": "v_2h7UD6vze7"
      },
      "source": [
        "___\n",
        "**Question 9**: Using the documentation, use scikit-learn to train a decision tree on the digits data. Calculate the accuracy on the training data. What is the accuracy? Did you expect the decision tree to have this kind of accuracy? Why or Why not?"
      ]
    },
    {
      "cell_type": "code",
      "execution_count": null,
      "metadata": {
        "id": "rQyOrER0vze7",
        "outputId": "ed67570b-3d6d-45d9-bd22-51076025b838",
        "colab": {
          "base_uri": "https://localhost:8080/"
        }
      },
      "outputs": [
        {
          "output_type": "stream",
          "name": "stdout",
          "text": [
            "accuracy: 1.0\n",
            "I did expect the accuracy to be 100% since the model predicted on the same dataset it was trained on.\n"
          ]
        }
      ],
      "source": [
        "# use scikit learn to train a decision tree\n",
        "from sklearn.tree import DecisionTreeClassifier\n",
        "\n",
        "# enter your code below here to train and predict on the same data\n",
        "x = ds.data\n",
        "y = ds.target\n",
        "dt_clf = DecisionTreeClassifier()\n",
        "dt_clf.fit(x,y)\n",
        "yhat = dt_clf.predict(x)\n",
        "\n",
        "# enter your code above here\n",
        "\n",
        "from sklearn.metrics import accuracy_score \n",
        "\n",
        "# enter your code below here to calculate accuracy\n",
        "acc = accuracy_score(y,yhat)\n",
        "\n",
        "print('accuracy:', acc)\n",
        "print('I did expect the accuracy to be 100% since the model predicted on the same dataset it was trained on.')"
      ]
    },
    {
      "cell_type": "markdown",
      "metadata": {
        "id": "PbirwSOmvze8"
      },
      "source": [
        "___\n",
        "**Question 10**: Look at the other input parameters to the function `DecisionTreeClassifier` could any of them be used to help prevent the decision tree from overlearning on the data? \n",
        "\n",
        "Which variables might we use to control overfitting and how (explain why it might help to stop overfitting)?"
      ]
    },
    {
      "cell_type": "code",
      "execution_count": null,
      "metadata": {
        "id": "IcoURwTjvze8"
      },
      "outputs": [],
      "source": [
        "# Enter your answer here\n",
        "# max_depth determines how far the tree splits. The default, None, expands nodes until all leaves are pure.\n",
        "# min_samples_splits determines the minimum number of samples that the tree will try to split.\n",
        "# min_samples_leaf determines that minimum number of data points that can be in any leaf."
      ]
    },
    {
      "cell_type": "markdown",
      "metadata": {
        "id": "hCNDFf1Qvze8"
      },
      "source": [
        "________________________________________________________________________________________________________\n",
        "\n",
        "That's all! Please **upload your rendered notebook** and please include **team member names** in the notebook submission. Also please remember to save the notebook before uploading."
      ]
    },
    {
      "cell_type": "code",
      "execution_count": null,
      "metadata": {
        "id": "D8lx-iLOvze8"
      },
      "outputs": [],
      "source": []
    }
  ],
  "metadata": {
    "kernelspec": {
      "display_name": "Python 2",
      "language": "python",
      "name": "python2"
    },
    "language_info": {
      "codemirror_mode": {
        "name": "ipython",
        "version": 2
      },
      "file_extension": ".py",
      "mimetype": "text/x-python",
      "name": "python",
      "nbconvert_exporter": "python",
      "pygments_lexer": "ipython2",
      "version": "2.7.10"
    },
    "colab": {
      "provenance": [],
      "include_colab_link": true
    }
  },
  "nbformat": 4,
  "nbformat_minor": 0
}