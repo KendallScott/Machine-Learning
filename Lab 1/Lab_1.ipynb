{
  "cells": [
    {
      "cell_type": "markdown",
      "metadata": {
        "id": "view-in-github",
        "colab_type": "text"
      },
      "source": [
        "<a href=\"https://colab.research.google.com/github/KendallScott/Machine-Learning/blob/main/Lab%201/Lab_1.ipynb\" target=\"_parent\"><img src=\"https://colab.research.google.com/assets/colab-badge.svg\" alt=\"Open In Colab\"/></a>"
      ]
    },
    {
      "cell_type": "markdown",
      "source": [
        "##Business Understanding\n",
        "\n",
        "## Forest Cover Type\n",
        "\n",
        "This dataset looks at the ecological data on 4 areas from Roosevelt National Forest of northern Colorado. Sampling forest cover type for a 30x30 meter areas, determined from US Forest Service (USFS) Region 2 Resource Information System (RIS) data. These areas have minimal human disturbance, in order to provide insight on ecological data over forest management.\n",
        "\n",
        "As for primary major tree species in these areas:\n",
        "### Neota \n",
        "- spruce/fir (type 1)\n",
        "\n",
        "\n",
        "### Rawah and Comanche Peak\n",
        "- lodgepole pine (type 2)\n",
        "- spruce/fir and aspen (type 5)\n",
        "\n",
        "### Cache la Poudre \n",
        "- Ponderosa pine (type 3)\n",
        "- Douglas-fir (type 6)\n",
        "- Cottonwood/willow (type 4)\n",
        "\n",
        "### Acknowledgement\n",
        "This dataset is part of the UCI Machine Learning Repository, and the original source can be found here. The original database owners are Jock A. Blackard, Dr. Denis J. Dean, and Dr. Charles W. Anderson of the Remote Sensing and GIS Program at Colorado State University. (source: https://www.kaggle.com/datasets/uciml/forest-cover-type-dataset)\n",
        "\n",
        "## Predictions\n",
        "- This dataset can be leveraged to predict categorical values of cover type, based on elevation, slope, soil type, cover type, shadow coverage, and local topography (Using logistic regression or Random Forest).\n",
        "\n",
        "- The insights from this data are useful for understanding the ecology of tree species in the areas sampled were pulled from (Roosevelt National Forest of north Colorado). Trees are an important part of a healthy ecosystem in earth, as they store carbon dioxide, which helps to slow global warming.\n",
        "\n",
        "- Elevation can be predicted using this dataset, by leveraging a linear regression model."
      ],
      "metadata": {
        "id": "kktVhb5ut4z7"
      },
      "id": "kktVhb5ut4z7"
    },
    {
      "cell_type": "code",
      "execution_count": 40,
      "id": "a8eb40c8",
      "metadata": {
        "id": "a8eb40c8"
      },
      "outputs": [],
      "source": [
        "# Import packages\n",
        "\n",
        "import pandas as pd\n",
        "from google.colab import files\n",
        "import io\n",
        "import numpy as np\n",
        "import matplotlib.pyplot as plt\n",
        "import seaborn as sns\n",
        "import math\n",
        "from sklearn.preprocessing import MinMaxScaler\n",
        "from sklearn.cluster import KMeans\n",
        "from sklearn.model_selection import train_test_split\n",
        "from sklearn.preprocessing import StandardScaler\n",
        "from sklearn.decomposition import PCA\n",
        "import pandas.plotting\n",
        "from pandas.plotting import scatter_matrix\n",
        "from sklearn.ensemble import RandomForestRegressor\n",
        "from sklearn.linear_model import LogisticRegression\n",
        "from sklearn.metrics import classification_report, confusion_matrix\n"
      ]
    },
    {
      "cell_type": "code",
      "source": [
        "# upload files from computer to google colab\n",
        "forest_cover_type = files.upload()\n",
        "\n",
        "# read the files into a dataframe\n",
        "forest_cover_type = pd.read_csv('covtype 3.csv') \n",
        "\n",
        "# verify the dataframe loaded\n",
        "print(forest_cover_type.shape)\n",
        "forest_cover_type.head()"
      ],
      "metadata": {
        "id": "TS0GLK6Y9Rej",
        "colab": {
          "base_uri": "https://localhost:8080/",
          "height": 374
        },
        "outputId": "f021ca86-6218-4305-ee75-d13cdcc87516"
      },
      "id": "TS0GLK6Y9Rej",
      "execution_count": 41,
      "outputs": [
        {
          "output_type": "display_data",
          "data": {
            "text/plain": [
              "<IPython.core.display.HTML object>"
            ],
            "text/html": [
              "\n",
              "     <input type=\"file\" id=\"files-9f87ba20-3bd8-452d-afee-160786dde914\" name=\"files[]\" multiple disabled\n",
              "        style=\"border:none\" />\n",
              "     <output id=\"result-9f87ba20-3bd8-452d-afee-160786dde914\">\n",
              "      Upload widget is only available when the cell has been executed in the\n",
              "      current browser session. Please rerun this cell to enable.\n",
              "      </output>\n",
              "      <script>// Copyright 2017 Google LLC\n",
              "//\n",
              "// Licensed under the Apache License, Version 2.0 (the \"License\");\n",
              "// you may not use this file except in compliance with the License.\n",
              "// You may obtain a copy of the License at\n",
              "//\n",
              "//      http://www.apache.org/licenses/LICENSE-2.0\n",
              "//\n",
              "// Unless required by applicable law or agreed to in writing, software\n",
              "// distributed under the License is distributed on an \"AS IS\" BASIS,\n",
              "// WITHOUT WARRANTIES OR CONDITIONS OF ANY KIND, either express or implied.\n",
              "// See the License for the specific language governing permissions and\n",
              "// limitations under the License.\n",
              "\n",
              "/**\n",
              " * @fileoverview Helpers for google.colab Python module.\n",
              " */\n",
              "(function(scope) {\n",
              "function span(text, styleAttributes = {}) {\n",
              "  const element = document.createElement('span');\n",
              "  element.textContent = text;\n",
              "  for (const key of Object.keys(styleAttributes)) {\n",
              "    element.style[key] = styleAttributes[key];\n",
              "  }\n",
              "  return element;\n",
              "}\n",
              "\n",
              "// Max number of bytes which will be uploaded at a time.\n",
              "const MAX_PAYLOAD_SIZE = 100 * 1024;\n",
              "\n",
              "function _uploadFiles(inputId, outputId) {\n",
              "  const steps = uploadFilesStep(inputId, outputId);\n",
              "  const outputElement = document.getElementById(outputId);\n",
              "  // Cache steps on the outputElement to make it available for the next call\n",
              "  // to uploadFilesContinue from Python.\n",
              "  outputElement.steps = steps;\n",
              "\n",
              "  return _uploadFilesContinue(outputId);\n",
              "}\n",
              "\n",
              "// This is roughly an async generator (not supported in the browser yet),\n",
              "// where there are multiple asynchronous steps and the Python side is going\n",
              "// to poll for completion of each step.\n",
              "// This uses a Promise to block the python side on completion of each step,\n",
              "// then passes the result of the previous step as the input to the next step.\n",
              "function _uploadFilesContinue(outputId) {\n",
              "  const outputElement = document.getElementById(outputId);\n",
              "  const steps = outputElement.steps;\n",
              "\n",
              "  const next = steps.next(outputElement.lastPromiseValue);\n",
              "  return Promise.resolve(next.value.promise).then((value) => {\n",
              "    // Cache the last promise value to make it available to the next\n",
              "    // step of the generator.\n",
              "    outputElement.lastPromiseValue = value;\n",
              "    return next.value.response;\n",
              "  });\n",
              "}\n",
              "\n",
              "/**\n",
              " * Generator function which is called between each async step of the upload\n",
              " * process.\n",
              " * @param {string} inputId Element ID of the input file picker element.\n",
              " * @param {string} outputId Element ID of the output display.\n",
              " * @return {!Iterable<!Object>} Iterable of next steps.\n",
              " */\n",
              "function* uploadFilesStep(inputId, outputId) {\n",
              "  const inputElement = document.getElementById(inputId);\n",
              "  inputElement.disabled = false;\n",
              "\n",
              "  const outputElement = document.getElementById(outputId);\n",
              "  outputElement.innerHTML = '';\n",
              "\n",
              "  const pickedPromise = new Promise((resolve) => {\n",
              "    inputElement.addEventListener('change', (e) => {\n",
              "      resolve(e.target.files);\n",
              "    });\n",
              "  });\n",
              "\n",
              "  const cancel = document.createElement('button');\n",
              "  inputElement.parentElement.appendChild(cancel);\n",
              "  cancel.textContent = 'Cancel upload';\n",
              "  const cancelPromise = new Promise((resolve) => {\n",
              "    cancel.onclick = () => {\n",
              "      resolve(null);\n",
              "    };\n",
              "  });\n",
              "\n",
              "  // Wait for the user to pick the files.\n",
              "  const files = yield {\n",
              "    promise: Promise.race([pickedPromise, cancelPromise]),\n",
              "    response: {\n",
              "      action: 'starting',\n",
              "    }\n",
              "  };\n",
              "\n",
              "  cancel.remove();\n",
              "\n",
              "  // Disable the input element since further picks are not allowed.\n",
              "  inputElement.disabled = true;\n",
              "\n",
              "  if (!files) {\n",
              "    return {\n",
              "      response: {\n",
              "        action: 'complete',\n",
              "      }\n",
              "    };\n",
              "  }\n",
              "\n",
              "  for (const file of files) {\n",
              "    const li = document.createElement('li');\n",
              "    li.append(span(file.name, {fontWeight: 'bold'}));\n",
              "    li.append(span(\n",
              "        `(${file.type || 'n/a'}) - ${file.size} bytes, ` +\n",
              "        `last modified: ${\n",
              "            file.lastModifiedDate ? file.lastModifiedDate.toLocaleDateString() :\n",
              "                                    'n/a'} - `));\n",
              "    const percent = span('0% done');\n",
              "    li.appendChild(percent);\n",
              "\n",
              "    outputElement.appendChild(li);\n",
              "\n",
              "    const fileDataPromise = new Promise((resolve) => {\n",
              "      const reader = new FileReader();\n",
              "      reader.onload = (e) => {\n",
              "        resolve(e.target.result);\n",
              "      };\n",
              "      reader.readAsArrayBuffer(file);\n",
              "    });\n",
              "    // Wait for the data to be ready.\n",
              "    let fileData = yield {\n",
              "      promise: fileDataPromise,\n",
              "      response: {\n",
              "        action: 'continue',\n",
              "      }\n",
              "    };\n",
              "\n",
              "    // Use a chunked sending to avoid message size limits. See b/62115660.\n",
              "    let position = 0;\n",
              "    do {\n",
              "      const length = Math.min(fileData.byteLength - position, MAX_PAYLOAD_SIZE);\n",
              "      const chunk = new Uint8Array(fileData, position, length);\n",
              "      position += length;\n",
              "\n",
              "      const base64 = btoa(String.fromCharCode.apply(null, chunk));\n",
              "      yield {\n",
              "        response: {\n",
              "          action: 'append',\n",
              "          file: file.name,\n",
              "          data: base64,\n",
              "        },\n",
              "      };\n",
              "\n",
              "      let percentDone = fileData.byteLength === 0 ?\n",
              "          100 :\n",
              "          Math.round((position / fileData.byteLength) * 100);\n",
              "      percent.textContent = `${percentDone}% done`;\n",
              "\n",
              "    } while (position < fileData.byteLength);\n",
              "  }\n",
              "\n",
              "  // All done.\n",
              "  yield {\n",
              "    response: {\n",
              "      action: 'complete',\n",
              "    }\n",
              "  };\n",
              "}\n",
              "\n",
              "scope.google = scope.google || {};\n",
              "scope.google.colab = scope.google.colab || {};\n",
              "scope.google.colab._files = {\n",
              "  _uploadFiles,\n",
              "  _uploadFilesContinue,\n",
              "};\n",
              "})(self);\n",
              "</script> "
            ]
          },
          "metadata": {}
        },
        {
          "output_type": "stream",
          "name": "stdout",
          "text": [
            "Saving covtype 3.csv to covtype 3 (1).csv\n",
            "(581012, 55)\n"
          ]
        },
        {
          "output_type": "execute_result",
          "data": {
            "text/plain": [
              "   Elevation  Aspect  Slope  Horizontal_Distance_To_Hydrology  \\\n",
              "0       2596      51      3                               258   \n",
              "1       2590      56      2                               212   \n",
              "2       2804     139      9                               268   \n",
              "3       2785     155     18                               242   \n",
              "4       2595      45      2                               153   \n",
              "\n",
              "   Vertical_Distance_To_Hydrology  Horizontal_Distance_To_Roadways  \\\n",
              "0                               0                              510   \n",
              "1                              -6                              390   \n",
              "2                              65                             3180   \n",
              "3                             118                             3090   \n",
              "4                              -1                              391   \n",
              "\n",
              "   Hillshade_9am  Hillshade_Noon  Hillshade_3pm  \\\n",
              "0            221             232            148   \n",
              "1            220             235            151   \n",
              "2            234             238            135   \n",
              "3            238             238            122   \n",
              "4            220             234            150   \n",
              "\n",
              "   Horizontal_Distance_To_Fire_Points  ...  Soil_Type32  Soil_Type33  \\\n",
              "0                                6279  ...            0            0   \n",
              "1                                6225  ...            0            0   \n",
              "2                                6121  ...            0            0   \n",
              "3                                6211  ...            0            0   \n",
              "4                                6172  ...            0            0   \n",
              "\n",
              "   Soil_Type34  Soil_Type35  Soil_Type36  Soil_Type37  Soil_Type38  \\\n",
              "0            0            0            0            0            0   \n",
              "1            0            0            0            0            0   \n",
              "2            0            0            0            0            0   \n",
              "3            0            0            0            0            0   \n",
              "4            0            0            0            0            0   \n",
              "\n",
              "   Soil_Type39  Soil_Type40  Cover_Type  \n",
              "0            0            0           5  \n",
              "1            0            0           5  \n",
              "2            0            0           2  \n",
              "3            0            0           2  \n",
              "4            0            0           5  \n",
              "\n",
              "[5 rows x 55 columns]"
            ],
            "text/html": [
              "\n",
              "  <div id=\"df-cfc68231-3147-4b9f-82d7-2e353f889db8\">\n",
              "    <div class=\"colab-df-container\">\n",
              "      <div>\n",
              "<style scoped>\n",
              "    .dataframe tbody tr th:only-of-type {\n",
              "        vertical-align: middle;\n",
              "    }\n",
              "\n",
              "    .dataframe tbody tr th {\n",
              "        vertical-align: top;\n",
              "    }\n",
              "\n",
              "    .dataframe thead th {\n",
              "        text-align: right;\n",
              "    }\n",
              "</style>\n",
              "<table border=\"1\" class=\"dataframe\">\n",
              "  <thead>\n",
              "    <tr style=\"text-align: right;\">\n",
              "      <th></th>\n",
              "      <th>Elevation</th>\n",
              "      <th>Aspect</th>\n",
              "      <th>Slope</th>\n",
              "      <th>Horizontal_Distance_To_Hydrology</th>\n",
              "      <th>Vertical_Distance_To_Hydrology</th>\n",
              "      <th>Horizontal_Distance_To_Roadways</th>\n",
              "      <th>Hillshade_9am</th>\n",
              "      <th>Hillshade_Noon</th>\n",
              "      <th>Hillshade_3pm</th>\n",
              "      <th>Horizontal_Distance_To_Fire_Points</th>\n",
              "      <th>...</th>\n",
              "      <th>Soil_Type32</th>\n",
              "      <th>Soil_Type33</th>\n",
              "      <th>Soil_Type34</th>\n",
              "      <th>Soil_Type35</th>\n",
              "      <th>Soil_Type36</th>\n",
              "      <th>Soil_Type37</th>\n",
              "      <th>Soil_Type38</th>\n",
              "      <th>Soil_Type39</th>\n",
              "      <th>Soil_Type40</th>\n",
              "      <th>Cover_Type</th>\n",
              "    </tr>\n",
              "  </thead>\n",
              "  <tbody>\n",
              "    <tr>\n",
              "      <th>0</th>\n",
              "      <td>2596</td>\n",
              "      <td>51</td>\n",
              "      <td>3</td>\n",
              "      <td>258</td>\n",
              "      <td>0</td>\n",
              "      <td>510</td>\n",
              "      <td>221</td>\n",
              "      <td>232</td>\n",
              "      <td>148</td>\n",
              "      <td>6279</td>\n",
              "      <td>...</td>\n",
              "      <td>0</td>\n",
              "      <td>0</td>\n",
              "      <td>0</td>\n",
              "      <td>0</td>\n",
              "      <td>0</td>\n",
              "      <td>0</td>\n",
              "      <td>0</td>\n",
              "      <td>0</td>\n",
              "      <td>0</td>\n",
              "      <td>5</td>\n",
              "    </tr>\n",
              "    <tr>\n",
              "      <th>1</th>\n",
              "      <td>2590</td>\n",
              "      <td>56</td>\n",
              "      <td>2</td>\n",
              "      <td>212</td>\n",
              "      <td>-6</td>\n",
              "      <td>390</td>\n",
              "      <td>220</td>\n",
              "      <td>235</td>\n",
              "      <td>151</td>\n",
              "      <td>6225</td>\n",
              "      <td>...</td>\n",
              "      <td>0</td>\n",
              "      <td>0</td>\n",
              "      <td>0</td>\n",
              "      <td>0</td>\n",
              "      <td>0</td>\n",
              "      <td>0</td>\n",
              "      <td>0</td>\n",
              "      <td>0</td>\n",
              "      <td>0</td>\n",
              "      <td>5</td>\n",
              "    </tr>\n",
              "    <tr>\n",
              "      <th>2</th>\n",
              "      <td>2804</td>\n",
              "      <td>139</td>\n",
              "      <td>9</td>\n",
              "      <td>268</td>\n",
              "      <td>65</td>\n",
              "      <td>3180</td>\n",
              "      <td>234</td>\n",
              "      <td>238</td>\n",
              "      <td>135</td>\n",
              "      <td>6121</td>\n",
              "      <td>...</td>\n",
              "      <td>0</td>\n",
              "      <td>0</td>\n",
              "      <td>0</td>\n",
              "      <td>0</td>\n",
              "      <td>0</td>\n",
              "      <td>0</td>\n",
              "      <td>0</td>\n",
              "      <td>0</td>\n",
              "      <td>0</td>\n",
              "      <td>2</td>\n",
              "    </tr>\n",
              "    <tr>\n",
              "      <th>3</th>\n",
              "      <td>2785</td>\n",
              "      <td>155</td>\n",
              "      <td>18</td>\n",
              "      <td>242</td>\n",
              "      <td>118</td>\n",
              "      <td>3090</td>\n",
              "      <td>238</td>\n",
              "      <td>238</td>\n",
              "      <td>122</td>\n",
              "      <td>6211</td>\n",
              "      <td>...</td>\n",
              "      <td>0</td>\n",
              "      <td>0</td>\n",
              "      <td>0</td>\n",
              "      <td>0</td>\n",
              "      <td>0</td>\n",
              "      <td>0</td>\n",
              "      <td>0</td>\n",
              "      <td>0</td>\n",
              "      <td>0</td>\n",
              "      <td>2</td>\n",
              "    </tr>\n",
              "    <tr>\n",
              "      <th>4</th>\n",
              "      <td>2595</td>\n",
              "      <td>45</td>\n",
              "      <td>2</td>\n",
              "      <td>153</td>\n",
              "      <td>-1</td>\n",
              "      <td>391</td>\n",
              "      <td>220</td>\n",
              "      <td>234</td>\n",
              "      <td>150</td>\n",
              "      <td>6172</td>\n",
              "      <td>...</td>\n",
              "      <td>0</td>\n",
              "      <td>0</td>\n",
              "      <td>0</td>\n",
              "      <td>0</td>\n",
              "      <td>0</td>\n",
              "      <td>0</td>\n",
              "      <td>0</td>\n",
              "      <td>0</td>\n",
              "      <td>0</td>\n",
              "      <td>5</td>\n",
              "    </tr>\n",
              "  </tbody>\n",
              "</table>\n",
              "<p>5 rows × 55 columns</p>\n",
              "</div>\n",
              "      <button class=\"colab-df-convert\" onclick=\"convertToInteractive('df-cfc68231-3147-4b9f-82d7-2e353f889db8')\"\n",
              "              title=\"Convert this dataframe to an interactive table.\"\n",
              "              style=\"display:none;\">\n",
              "        \n",
              "  <svg xmlns=\"http://www.w3.org/2000/svg\" height=\"24px\"viewBox=\"0 0 24 24\"\n",
              "       width=\"24px\">\n",
              "    <path d=\"M0 0h24v24H0V0z\" fill=\"none\"/>\n",
              "    <path d=\"M18.56 5.44l.94 2.06.94-2.06 2.06-.94-2.06-.94-.94-2.06-.94 2.06-2.06.94zm-11 1L8.5 8.5l.94-2.06 2.06-.94-2.06-.94L8.5 2.5l-.94 2.06-2.06.94zm10 10l.94 2.06.94-2.06 2.06-.94-2.06-.94-.94-2.06-.94 2.06-2.06.94z\"/><path d=\"M17.41 7.96l-1.37-1.37c-.4-.4-.92-.59-1.43-.59-.52 0-1.04.2-1.43.59L10.3 9.45l-7.72 7.72c-.78.78-.78 2.05 0 2.83L4 21.41c.39.39.9.59 1.41.59.51 0 1.02-.2 1.41-.59l7.78-7.78 2.81-2.81c.8-.78.8-2.07 0-2.86zM5.41 20L4 18.59l7.72-7.72 1.47 1.35L5.41 20z\"/>\n",
              "  </svg>\n",
              "      </button>\n",
              "      \n",
              "  <style>\n",
              "    .colab-df-container {\n",
              "      display:flex;\n",
              "      flex-wrap:wrap;\n",
              "      gap: 12px;\n",
              "    }\n",
              "\n",
              "    .colab-df-convert {\n",
              "      background-color: #E8F0FE;\n",
              "      border: none;\n",
              "      border-radius: 50%;\n",
              "      cursor: pointer;\n",
              "      display: none;\n",
              "      fill: #1967D2;\n",
              "      height: 32px;\n",
              "      padding: 0 0 0 0;\n",
              "      width: 32px;\n",
              "    }\n",
              "\n",
              "    .colab-df-convert:hover {\n",
              "      background-color: #E2EBFA;\n",
              "      box-shadow: 0px 1px 2px rgba(60, 64, 67, 0.3), 0px 1px 3px 1px rgba(60, 64, 67, 0.15);\n",
              "      fill: #174EA6;\n",
              "    }\n",
              "\n",
              "    [theme=dark] .colab-df-convert {\n",
              "      background-color: #3B4455;\n",
              "      fill: #D2E3FC;\n",
              "    }\n",
              "\n",
              "    [theme=dark] .colab-df-convert:hover {\n",
              "      background-color: #434B5C;\n",
              "      box-shadow: 0px 1px 3px 1px rgba(0, 0, 0, 0.15);\n",
              "      filter: drop-shadow(0px 1px 2px rgba(0, 0, 0, 0.3));\n",
              "      fill: #FFFFFF;\n",
              "    }\n",
              "  </style>\n",
              "\n",
              "      <script>\n",
              "        const buttonEl =\n",
              "          document.querySelector('#df-cfc68231-3147-4b9f-82d7-2e353f889db8 button.colab-df-convert');\n",
              "        buttonEl.style.display =\n",
              "          google.colab.kernel.accessAllowed ? 'block' : 'none';\n",
              "\n",
              "        async function convertToInteractive(key) {\n",
              "          const element = document.querySelector('#df-cfc68231-3147-4b9f-82d7-2e353f889db8');\n",
              "          const dataTable =\n",
              "            await google.colab.kernel.invokeFunction('convertToInteractive',\n",
              "                                                     [key], {});\n",
              "          if (!dataTable) return;\n",
              "\n",
              "          const docLinkHtml = 'Like what you see? Visit the ' +\n",
              "            '<a target=\"_blank\" href=https://colab.research.google.com/notebooks/data_table.ipynb>data table notebook</a>'\n",
              "            + ' to learn more about interactive tables.';\n",
              "          element.innerHTML = '';\n",
              "          dataTable['output_type'] = 'display_data';\n",
              "          await google.colab.output.renderOutput(dataTable, element);\n",
              "          const docLink = document.createElement('div');\n",
              "          docLink.innerHTML = docLinkHtml;\n",
              "          element.appendChild(docLink);\n",
              "        }\n",
              "      </script>\n",
              "    </div>\n",
              "  </div>\n",
              "  "
            ]
          },
          "metadata": {},
          "execution_count": 41
        }
      ]
    },
    {
      "cell_type": "markdown",
      "source": [
        "## Data Meaning \n",
        "\n",
        "Attributes:\t\n",
        "\n",
        "- 10 quantitative variables\n",
        "  - Elevation - Elevation in meters\n",
        "  - Aspect - Aspect in degrees azimuth\n",
        "  - Slope - Slope in degrees\n",
        "  - Horizontal Distance to Hydrology - Horz Dist to nearest surface water features (meters)\n",
        "  - Vertical Distance to Hydrology - Vert Dist to nearest surface water features (meters)\n",
        "  - Horizontal Distance to Roadways - Horz Dist to nearest roadway (meters)\n",
        "  - Hill shade 9 am (0 to 255 index) - Hillshade index at 9am, summer solstice\n",
        "  - Hill shade noon (0 to 255 index) - Hillshade index at noon, summer solstice\n",
        "  - Hill shade 3 pm (0 to 255 index) - Hillshade index at 3pm, summer solstice\n",
        "  - Horizontal distance to fire points - Horz Dist to nearest wildfire ignition points (meters)\n",
        "\n",
        "- 4 binary wilderness areas \n",
        "  - Neota\n",
        "  - Rawah\n",
        "  - Comanche Peak\n",
        "  - Cache la Poudre\n",
        "\n",
        "- 7 Cover Types (Forest Cover Type designation)\n",
        "  - 1: Spruce/Fir\n",
        "  - 2: Lodgepole Pine\n",
        "  - 3: Ponderosa Pine\n",
        "  - 4: Cottonwood/Willow\n",
        "  - 5: Aspen\n",
        "  - 6: Douglas-fir\n",
        "  - 7: Krummholz\n",
        "\n",
        "\n",
        "- 40 binary soil type variables\n",
        "\n",
        "\t- 1: Cathedral family - Rock outcrop complex, extremely stony.\n",
        "\t- 2: Vanet - Ratake families complex, very stony.\n",
        "\t- 3: Haploborolis - Rock outcrop complex, rubbly.\n",
        "\t- 4: Ratake family - Rock outcrop complex, rubbly.\n",
        "\t- 5: Vanet family - Rock outcrop complex complex, rubbly.\n",
        "\t- 6: Vanet - Wetmore families - Rock outcrop complex, stony.\n",
        "\t- 7: Gothic family.\n",
        "\t- 8: Supervisor - Limber families complex.\n",
        "\t- 9: Troutville family, very stony.\n",
        "\t- 10: Bullwark - Catamount families - Rock outcrop complex, rubbly.\n",
        "\t- 11: Bullwark - Catamount families - Rock land complex, rubbly.\n",
        "\t- 12: Legault family - Rock land complex, stony.\n",
        "\t- 13: Catamount family - Rock land - Bullwark family complex, rubbly.\n",
        "\t- 14: Pachic Argiborolis - Aquolis complex.\n",
        "\t- 15: unspecified in the USFS Soil and ELU Survey.\n",
        "\t- 16: Cryaquolis - Cryoborolis complex.\n",
        "\t- 17: Gateview family - Cryaquolis complex.\n",
        "\t- 18: Rogert family, very stony.\n",
        "\t- 19: Typic Cryaquolis - Borohemists complex.\n",
        "\t- 20: Typic Cryaquepts - Typic Cryaquolls complex.\n",
        "\t- 21: Typic Cryaquolls - Leighcan family, till substratum complex.\n",
        "\t- 22: Leighcan family, till substratum, extremely bouldery.\n",
        "\t- 23: Leighcan family, till substratum - Typic Cryaquolls complex.\n",
        "\t- 24: Leighcan family, extremely stony.\n",
        "\t- 25: Leighcan family, warm, extremely stony.\n",
        "\t- 26: Granile - Catamount families complex, very stony.\n",
        "\t- 27: Leighcan family, warm - Rock outcrop complex, extremely stony.\n",
        "\t- 28: Leighcan family - Rock outcrop complex, extremely stony.\n",
        "\t- 29: Como - Legault families complex, extremely stony.\n",
        "\t- 30: Como family - Rock land - Legault family complex, extremely stony.\n",
        "\t- 31: Leighcan - Catamount families complex, extremely stony.\n",
        "\t- 32: Catamount family - Rock outcrop - Leighcan family complex, extremely stony.\n",
        "\t- 33: Leighcan - Catamount families - Rock outcrop complex, extremely stony.\n",
        "\t- 34: Cryorthents - Rock land complex, extremely stony.\n",
        "\t- 35: Cryumbrepts - Rock outcrop - Cryaquepts complex.\n",
        "\t- 36: Bross family - Rock land - Cryumbrepts complex, extremely stony.\n",
        "\t- 37: Rock outcrop - Cryumbrepts - Cryorthents complex, extremely stony.\n",
        "\t- 38: Leighcan - Moran families - Cryaquolls complex, extremely stony.\n",
        "\t- 39: Moran family - Cryorthents - Leighcan family complex, extremely stony.\n",
        "\t- 40: Moran family - Cryorthents - Rock land complex, extremely stony."
      ],
      "metadata": {
        "id": "HCFAMtn6uLfc"
      },
      "id": "HCFAMtn6uLfc"
    },
    {
      "cell_type": "code",
      "source": [
        "#Data clean-up\n",
        "# make list of continuous variables\n",
        "continuous_variables = ['Elevation', \n",
        "                        'Aspect', \n",
        "                        'Slope', \n",
        "                        'Horizontal_Distance_To_Hydrology', \n",
        "                        'Vertical_Distance_To_Hydrology',\n",
        "                        'Horizontal_Distance_To_Roadways',\n",
        "                        'Hillshade_9am','Hillshade_Noon',\n",
        "                        'Hillshade_3pm',\n",
        "                        'Horizontal_Distance_To_Fire_Points',\n",
        "                        'Cover_Type']\n",
        "\n",
        "# use list to make df\n",
        "continuous_variables_df = forest_cover_type[continuous_variables]\n",
        "\n",
        "# subset df to make binary categorical\n",
        "# second number not inclusive\n",
        "Wilderness_Area = forest_cover_type.iloc[:, 10:14]\n",
        "Wilderness_Area['Wilderness_Area'] = Wilderness_Area.idxmax(axis = 1)\n",
        "\n",
        "# subset df to make binary categorical\n",
        "# second number not inclusive\n",
        "Soil_Type = forest_cover_type.iloc[:, 14:54]\n",
        "\n",
        "Soil_Type['Soil_Type'] = Soil_Type.idxmax(axis = 1)\n",
        "# only keep the new column\n",
        "Soil_Type = Soil_Type[['Soil_Type']]\n",
        "Wilderness_Area = Wilderness_Area[['Wilderness_Area']]\n",
        "\n",
        "# Add new columns to df\n",
        "forest_cover_type['Soil_Type'] = Soil_Type\n",
        "forest_cover_type['Wilderness_Area'] = Wilderness_Area\n",
        "\n",
        "# make copy of df\n",
        "forest_cover_type_copy = forest_cover_type.copy()\n",
        "\n",
        "# delete first few characters in column so we only have number\n",
        "forest_cover_type_copy['Soil_Type'] = forest_cover_type_copy['Soil_Type'].str[9:]\n",
        "forest_cover_type_copy['Wilderness_Area'] = forest_cover_type_copy['Wilderness_Area'].str[15:]\n",
        "\n",
        "# delete superfluous columns now that new columsn are added\n",
        "forest_cover_type_copy.drop(forest_cover_type_copy.iloc[:, 10:54], \n",
        "                       axis = 1, \n",
        "                       inplace = True)\n",
        "\n",
        "# replace numerical categories with string for ease of understanding\n",
        "forest_cover_type['Wilderness_Area'] = forest_cover_type['Wilderness_Area'].str.replace('Wilderness_Area1','Rawah')\n",
        "forest_cover_type['Wilderness_Area'] = forest_cover_type['Wilderness_Area'].str.replace('Wilderness_Area2','Neota')\n",
        "forest_cover_type['Wilderness_Area'] = forest_cover_type['Wilderness_Area'].str.replace('Wilderness_Area3','Comanche Peak')\n",
        "forest_cover_type['Wilderness_Area'] = forest_cover_type['Wilderness_Area'].str.replace('Wilderness_Area4','Cache la Poudre')\n",
        "\n",
        "forest_cover_type = forest_cover_type.astype({'Cover_Type':'string'})\n",
        "\n",
        "forest_cover_type['Cover_Type'] = forest_cover_type['Cover_Type'].str.replace('1','Spruce/Fir')\n",
        "forest_cover_type['Cover_Type'] = forest_cover_type['Cover_Type'].str.replace('2','Lodgepole Pine')\n",
        "forest_cover_type['Cover_Type'] = forest_cover_type['Cover_Type'].str.replace('3','Ponderosa Pine')\n",
        "forest_cover_type['Cover_Type'] = forest_cover_type['Cover_Type'].str.replace('4','Cottonwood/Willow')\n",
        "forest_cover_type['Cover_Type'] = forest_cover_type['Cover_Type'].str.replace('5','Aspen')\n",
        "forest_cover_type['Cover_Type'] = forest_cover_type['Cover_Type'].str.replace('6','Douglas-fir')\n",
        "forest_cover_type['Cover_Type'] = forest_cover_type['Cover_Type'].str.replace('7','Krummholz')"
      ],
      "metadata": {
        "id": "NcIArLnnIzmk",
        "outputId": "00714874-8ac4-4139-b6de-2e5b393652cd",
        "colab": {
          "base_uri": "https://localhost:8080/",
          "height": 824
        }
      },
      "id": "NcIArLnnIzmk",
      "execution_count": 48,
      "outputs": [
        {
          "output_type": "stream",
          "name": "stderr",
          "text": [
            "<ipython-input-48-3edd0789a738>:20: SettingWithCopyWarning: \n",
            "A value is trying to be set on a copy of a slice from a DataFrame.\n",
            "Try using .loc[row_indexer,col_indexer] = value instead\n",
            "\n",
            "See the caveats in the documentation: https://pandas.pydata.org/pandas-docs/stable/user_guide/indexing.html#returning-a-view-versus-a-copy\n",
            "  Wilderness_Area['Wilderness_Area'] = Wilderness_Area.idxmax(axis = 1)\n",
            "<ipython-input-48-3edd0789a738>:26: SettingWithCopyWarning: \n",
            "A value is trying to be set on a copy of a slice from a DataFrame.\n",
            "Try using .loc[row_indexer,col_indexer] = value instead\n",
            "\n",
            "See the caveats in the documentation: https://pandas.pydata.org/pandas-docs/stable/user_guide/indexing.html#returning-a-view-versus-a-copy\n",
            "  Soil_Type['Soil_Type'] = Soil_Type.idxmax(axis = 1)\n"
          ]
        },
        {
          "output_type": "execute_result",
          "data": {
            "text/plain": [
              "        Elevation  Aspect  Slope  Horizontal_Distance_To_Hydrology  \\\n",
              "0            2596      51      3                               258   \n",
              "1            2590      56      2                               212   \n",
              "2            2804     139      9                               268   \n",
              "3            2785     155     18                               242   \n",
              "4            2595      45      2                               153   \n",
              "...           ...     ...    ...                               ...   \n",
              "581007       2396     153     20                                85   \n",
              "581008       2391     152     19                                67   \n",
              "581009       2386     159     17                                60   \n",
              "581010       2384     170     15                                60   \n",
              "581011       2383     165     13                                60   \n",
              "\n",
              "        Vertical_Distance_To_Hydrology  Horizontal_Distance_To_Roadways  \\\n",
              "0                                    0                              510   \n",
              "1                                   -6                              390   \n",
              "2                                   65                             3180   \n",
              "3                                  118                             3090   \n",
              "4                                   -1                              391   \n",
              "...                                ...                              ...   \n",
              "581007                              17                              108   \n",
              "581008                              12                               95   \n",
              "581009                               7                               90   \n",
              "581010                               5                               90   \n",
              "581011                               4                               67   \n",
              "\n",
              "        Hillshade_9am  Hillshade_Noon  Hillshade_3pm  \\\n",
              "0                 221             232            148   \n",
              "1                 220             235            151   \n",
              "2                 234             238            135   \n",
              "3                 238             238            122   \n",
              "4                 220             234            150   \n",
              "...               ...             ...            ...   \n",
              "581007            240             237            118   \n",
              "581008            240             237            119   \n",
              "581009            236             241            130   \n",
              "581010            230             245            143   \n",
              "581011            231             244            141   \n",
              "\n",
              "        Horizontal_Distance_To_Fire_Points  ...  Soil_Type34  Soil_Type35  \\\n",
              "0                                     6279  ...            0            0   \n",
              "1                                     6225  ...            0            0   \n",
              "2                                     6121  ...            0            0   \n",
              "3                                     6211  ...            0            0   \n",
              "4                                     6172  ...            0            0   \n",
              "...                                    ...  ...          ...          ...   \n",
              "581007                                 837  ...            0            0   \n",
              "581008                                 845  ...            0            0   \n",
              "581009                                 854  ...            0            0   \n",
              "581010                                 864  ...            0            0   \n",
              "581011                                 875  ...            0            0   \n",
              "\n",
              "        Soil_Type36  Soil_Type37  Soil_Type38  Soil_Type39  Soil_Type40  \\\n",
              "0                 0            0            0            0            0   \n",
              "1                 0            0            0            0            0   \n",
              "2                 0            0            0            0            0   \n",
              "3                 0            0            0            0            0   \n",
              "4                 0            0            0            0            0   \n",
              "...             ...          ...          ...          ...          ...   \n",
              "581007            0            0            0            0            0   \n",
              "581008            0            0            0            0            0   \n",
              "581009            0            0            0            0            0   \n",
              "581010            0            0            0            0            0   \n",
              "581011            0            0            0            0            0   \n",
              "\n",
              "            Cover_Type    Soil_Type  Wilderness_Area  \n",
              "0                Aspen  Soil_Type29            Rawah  \n",
              "1                Aspen  Soil_Type29            Rawah  \n",
              "2       Lodgepole Pine  Soil_Type12            Rawah  \n",
              "3       Lodgepole Pine  Soil_Type30            Rawah  \n",
              "4                Aspen  Soil_Type29            Rawah  \n",
              "...                ...          ...              ...  \n",
              "581007  Ponderosa Pine   Soil_Type2    Comanche Peak  \n",
              "581008  Ponderosa Pine   Soil_Type2    Comanche Peak  \n",
              "581009  Ponderosa Pine   Soil_Type2    Comanche Peak  \n",
              "581010  Ponderosa Pine   Soil_Type2    Comanche Peak  \n",
              "581011  Ponderosa Pine   Soil_Type2    Comanche Peak  \n",
              "\n",
              "[581012 rows x 57 columns]"
            ],
            "text/html": [
              "\n",
              "  <div id=\"df-1e355326-a7c0-4853-9dbb-c32d3c807bf2\">\n",
              "    <div class=\"colab-df-container\">\n",
              "      <div>\n",
              "<style scoped>\n",
              "    .dataframe tbody tr th:only-of-type {\n",
              "        vertical-align: middle;\n",
              "    }\n",
              "\n",
              "    .dataframe tbody tr th {\n",
              "        vertical-align: top;\n",
              "    }\n",
              "\n",
              "    .dataframe thead th {\n",
              "        text-align: right;\n",
              "    }\n",
              "</style>\n",
              "<table border=\"1\" class=\"dataframe\">\n",
              "  <thead>\n",
              "    <tr style=\"text-align: right;\">\n",
              "      <th></th>\n",
              "      <th>Elevation</th>\n",
              "      <th>Aspect</th>\n",
              "      <th>Slope</th>\n",
              "      <th>Horizontal_Distance_To_Hydrology</th>\n",
              "      <th>Vertical_Distance_To_Hydrology</th>\n",
              "      <th>Horizontal_Distance_To_Roadways</th>\n",
              "      <th>Hillshade_9am</th>\n",
              "      <th>Hillshade_Noon</th>\n",
              "      <th>Hillshade_3pm</th>\n",
              "      <th>Horizontal_Distance_To_Fire_Points</th>\n",
              "      <th>...</th>\n",
              "      <th>Soil_Type34</th>\n",
              "      <th>Soil_Type35</th>\n",
              "      <th>Soil_Type36</th>\n",
              "      <th>Soil_Type37</th>\n",
              "      <th>Soil_Type38</th>\n",
              "      <th>Soil_Type39</th>\n",
              "      <th>Soil_Type40</th>\n",
              "      <th>Cover_Type</th>\n",
              "      <th>Soil_Type</th>\n",
              "      <th>Wilderness_Area</th>\n",
              "    </tr>\n",
              "  </thead>\n",
              "  <tbody>\n",
              "    <tr>\n",
              "      <th>0</th>\n",
              "      <td>2596</td>\n",
              "      <td>51</td>\n",
              "      <td>3</td>\n",
              "      <td>258</td>\n",
              "      <td>0</td>\n",
              "      <td>510</td>\n",
              "      <td>221</td>\n",
              "      <td>232</td>\n",
              "      <td>148</td>\n",
              "      <td>6279</td>\n",
              "      <td>...</td>\n",
              "      <td>0</td>\n",
              "      <td>0</td>\n",
              "      <td>0</td>\n",
              "      <td>0</td>\n",
              "      <td>0</td>\n",
              "      <td>0</td>\n",
              "      <td>0</td>\n",
              "      <td>Aspen</td>\n",
              "      <td>Soil_Type29</td>\n",
              "      <td>Rawah</td>\n",
              "    </tr>\n",
              "    <tr>\n",
              "      <th>1</th>\n",
              "      <td>2590</td>\n",
              "      <td>56</td>\n",
              "      <td>2</td>\n",
              "      <td>212</td>\n",
              "      <td>-6</td>\n",
              "      <td>390</td>\n",
              "      <td>220</td>\n",
              "      <td>235</td>\n",
              "      <td>151</td>\n",
              "      <td>6225</td>\n",
              "      <td>...</td>\n",
              "      <td>0</td>\n",
              "      <td>0</td>\n",
              "      <td>0</td>\n",
              "      <td>0</td>\n",
              "      <td>0</td>\n",
              "      <td>0</td>\n",
              "      <td>0</td>\n",
              "      <td>Aspen</td>\n",
              "      <td>Soil_Type29</td>\n",
              "      <td>Rawah</td>\n",
              "    </tr>\n",
              "    <tr>\n",
              "      <th>2</th>\n",
              "      <td>2804</td>\n",
              "      <td>139</td>\n",
              "      <td>9</td>\n",
              "      <td>268</td>\n",
              "      <td>65</td>\n",
              "      <td>3180</td>\n",
              "      <td>234</td>\n",
              "      <td>238</td>\n",
              "      <td>135</td>\n",
              "      <td>6121</td>\n",
              "      <td>...</td>\n",
              "      <td>0</td>\n",
              "      <td>0</td>\n",
              "      <td>0</td>\n",
              "      <td>0</td>\n",
              "      <td>0</td>\n",
              "      <td>0</td>\n",
              "      <td>0</td>\n",
              "      <td>Lodgepole Pine</td>\n",
              "      <td>Soil_Type12</td>\n",
              "      <td>Rawah</td>\n",
              "    </tr>\n",
              "    <tr>\n",
              "      <th>3</th>\n",
              "      <td>2785</td>\n",
              "      <td>155</td>\n",
              "      <td>18</td>\n",
              "      <td>242</td>\n",
              "      <td>118</td>\n",
              "      <td>3090</td>\n",
              "      <td>238</td>\n",
              "      <td>238</td>\n",
              "      <td>122</td>\n",
              "      <td>6211</td>\n",
              "      <td>...</td>\n",
              "      <td>0</td>\n",
              "      <td>0</td>\n",
              "      <td>0</td>\n",
              "      <td>0</td>\n",
              "      <td>0</td>\n",
              "      <td>0</td>\n",
              "      <td>0</td>\n",
              "      <td>Lodgepole Pine</td>\n",
              "      <td>Soil_Type30</td>\n",
              "      <td>Rawah</td>\n",
              "    </tr>\n",
              "    <tr>\n",
              "      <th>4</th>\n",
              "      <td>2595</td>\n",
              "      <td>45</td>\n",
              "      <td>2</td>\n",
              "      <td>153</td>\n",
              "      <td>-1</td>\n",
              "      <td>391</td>\n",
              "      <td>220</td>\n",
              "      <td>234</td>\n",
              "      <td>150</td>\n",
              "      <td>6172</td>\n",
              "      <td>...</td>\n",
              "      <td>0</td>\n",
              "      <td>0</td>\n",
              "      <td>0</td>\n",
              "      <td>0</td>\n",
              "      <td>0</td>\n",
              "      <td>0</td>\n",
              "      <td>0</td>\n",
              "      <td>Aspen</td>\n",
              "      <td>Soil_Type29</td>\n",
              "      <td>Rawah</td>\n",
              "    </tr>\n",
              "    <tr>\n",
              "      <th>...</th>\n",
              "      <td>...</td>\n",
              "      <td>...</td>\n",
              "      <td>...</td>\n",
              "      <td>...</td>\n",
              "      <td>...</td>\n",
              "      <td>...</td>\n",
              "      <td>...</td>\n",
              "      <td>...</td>\n",
              "      <td>...</td>\n",
              "      <td>...</td>\n",
              "      <td>...</td>\n",
              "      <td>...</td>\n",
              "      <td>...</td>\n",
              "      <td>...</td>\n",
              "      <td>...</td>\n",
              "      <td>...</td>\n",
              "      <td>...</td>\n",
              "      <td>...</td>\n",
              "      <td>...</td>\n",
              "      <td>...</td>\n",
              "      <td>...</td>\n",
              "    </tr>\n",
              "    <tr>\n",
              "      <th>581007</th>\n",
              "      <td>2396</td>\n",
              "      <td>153</td>\n",
              "      <td>20</td>\n",
              "      <td>85</td>\n",
              "      <td>17</td>\n",
              "      <td>108</td>\n",
              "      <td>240</td>\n",
              "      <td>237</td>\n",
              "      <td>118</td>\n",
              "      <td>837</td>\n",
              "      <td>...</td>\n",
              "      <td>0</td>\n",
              "      <td>0</td>\n",
              "      <td>0</td>\n",
              "      <td>0</td>\n",
              "      <td>0</td>\n",
              "      <td>0</td>\n",
              "      <td>0</td>\n",
              "      <td>Ponderosa Pine</td>\n",
              "      <td>Soil_Type2</td>\n",
              "      <td>Comanche Peak</td>\n",
              "    </tr>\n",
              "    <tr>\n",
              "      <th>581008</th>\n",
              "      <td>2391</td>\n",
              "      <td>152</td>\n",
              "      <td>19</td>\n",
              "      <td>67</td>\n",
              "      <td>12</td>\n",
              "      <td>95</td>\n",
              "      <td>240</td>\n",
              "      <td>237</td>\n",
              "      <td>119</td>\n",
              "      <td>845</td>\n",
              "      <td>...</td>\n",
              "      <td>0</td>\n",
              "      <td>0</td>\n",
              "      <td>0</td>\n",
              "      <td>0</td>\n",
              "      <td>0</td>\n",
              "      <td>0</td>\n",
              "      <td>0</td>\n",
              "      <td>Ponderosa Pine</td>\n",
              "      <td>Soil_Type2</td>\n",
              "      <td>Comanche Peak</td>\n",
              "    </tr>\n",
              "    <tr>\n",
              "      <th>581009</th>\n",
              "      <td>2386</td>\n",
              "      <td>159</td>\n",
              "      <td>17</td>\n",
              "      <td>60</td>\n",
              "      <td>7</td>\n",
              "      <td>90</td>\n",
              "      <td>236</td>\n",
              "      <td>241</td>\n",
              "      <td>130</td>\n",
              "      <td>854</td>\n",
              "      <td>...</td>\n",
              "      <td>0</td>\n",
              "      <td>0</td>\n",
              "      <td>0</td>\n",
              "      <td>0</td>\n",
              "      <td>0</td>\n",
              "      <td>0</td>\n",
              "      <td>0</td>\n",
              "      <td>Ponderosa Pine</td>\n",
              "      <td>Soil_Type2</td>\n",
              "      <td>Comanche Peak</td>\n",
              "    </tr>\n",
              "    <tr>\n",
              "      <th>581010</th>\n",
              "      <td>2384</td>\n",
              "      <td>170</td>\n",
              "      <td>15</td>\n",
              "      <td>60</td>\n",
              "      <td>5</td>\n",
              "      <td>90</td>\n",
              "      <td>230</td>\n",
              "      <td>245</td>\n",
              "      <td>143</td>\n",
              "      <td>864</td>\n",
              "      <td>...</td>\n",
              "      <td>0</td>\n",
              "      <td>0</td>\n",
              "      <td>0</td>\n",
              "      <td>0</td>\n",
              "      <td>0</td>\n",
              "      <td>0</td>\n",
              "      <td>0</td>\n",
              "      <td>Ponderosa Pine</td>\n",
              "      <td>Soil_Type2</td>\n",
              "      <td>Comanche Peak</td>\n",
              "    </tr>\n",
              "    <tr>\n",
              "      <th>581011</th>\n",
              "      <td>2383</td>\n",
              "      <td>165</td>\n",
              "      <td>13</td>\n",
              "      <td>60</td>\n",
              "      <td>4</td>\n",
              "      <td>67</td>\n",
              "      <td>231</td>\n",
              "      <td>244</td>\n",
              "      <td>141</td>\n",
              "      <td>875</td>\n",
              "      <td>...</td>\n",
              "      <td>0</td>\n",
              "      <td>0</td>\n",
              "      <td>0</td>\n",
              "      <td>0</td>\n",
              "      <td>0</td>\n",
              "      <td>0</td>\n",
              "      <td>0</td>\n",
              "      <td>Ponderosa Pine</td>\n",
              "      <td>Soil_Type2</td>\n",
              "      <td>Comanche Peak</td>\n",
              "    </tr>\n",
              "  </tbody>\n",
              "</table>\n",
              "<p>581012 rows × 57 columns</p>\n",
              "</div>\n",
              "      <button class=\"colab-df-convert\" onclick=\"convertToInteractive('df-1e355326-a7c0-4853-9dbb-c32d3c807bf2')\"\n",
              "              title=\"Convert this dataframe to an interactive table.\"\n",
              "              style=\"display:none;\">\n",
              "        \n",
              "  <svg xmlns=\"http://www.w3.org/2000/svg\" height=\"24px\"viewBox=\"0 0 24 24\"\n",
              "       width=\"24px\">\n",
              "    <path d=\"M0 0h24v24H0V0z\" fill=\"none\"/>\n",
              "    <path d=\"M18.56 5.44l.94 2.06.94-2.06 2.06-.94-2.06-.94-.94-2.06-.94 2.06-2.06.94zm-11 1L8.5 8.5l.94-2.06 2.06-.94-2.06-.94L8.5 2.5l-.94 2.06-2.06.94zm10 10l.94 2.06.94-2.06 2.06-.94-2.06-.94-.94-2.06-.94 2.06-2.06.94z\"/><path d=\"M17.41 7.96l-1.37-1.37c-.4-.4-.92-.59-1.43-.59-.52 0-1.04.2-1.43.59L10.3 9.45l-7.72 7.72c-.78.78-.78 2.05 0 2.83L4 21.41c.39.39.9.59 1.41.59.51 0 1.02-.2 1.41-.59l7.78-7.78 2.81-2.81c.8-.78.8-2.07 0-2.86zM5.41 20L4 18.59l7.72-7.72 1.47 1.35L5.41 20z\"/>\n",
              "  </svg>\n",
              "      </button>\n",
              "      \n",
              "  <style>\n",
              "    .colab-df-container {\n",
              "      display:flex;\n",
              "      flex-wrap:wrap;\n",
              "      gap: 12px;\n",
              "    }\n",
              "\n",
              "    .colab-df-convert {\n",
              "      background-color: #E8F0FE;\n",
              "      border: none;\n",
              "      border-radius: 50%;\n",
              "      cursor: pointer;\n",
              "      display: none;\n",
              "      fill: #1967D2;\n",
              "      height: 32px;\n",
              "      padding: 0 0 0 0;\n",
              "      width: 32px;\n",
              "    }\n",
              "\n",
              "    .colab-df-convert:hover {\n",
              "      background-color: #E2EBFA;\n",
              "      box-shadow: 0px 1px 2px rgba(60, 64, 67, 0.3), 0px 1px 3px 1px rgba(60, 64, 67, 0.15);\n",
              "      fill: #174EA6;\n",
              "    }\n",
              "\n",
              "    [theme=dark] .colab-df-convert {\n",
              "      background-color: #3B4455;\n",
              "      fill: #D2E3FC;\n",
              "    }\n",
              "\n",
              "    [theme=dark] .colab-df-convert:hover {\n",
              "      background-color: #434B5C;\n",
              "      box-shadow: 0px 1px 3px 1px rgba(0, 0, 0, 0.15);\n",
              "      filter: drop-shadow(0px 1px 2px rgba(0, 0, 0, 0.3));\n",
              "      fill: #FFFFFF;\n",
              "    }\n",
              "  </style>\n",
              "\n",
              "      <script>\n",
              "        const buttonEl =\n",
              "          document.querySelector('#df-1e355326-a7c0-4853-9dbb-c32d3c807bf2 button.colab-df-convert');\n",
              "        buttonEl.style.display =\n",
              "          google.colab.kernel.accessAllowed ? 'block' : 'none';\n",
              "\n",
              "        async function convertToInteractive(key) {\n",
              "          const element = document.querySelector('#df-1e355326-a7c0-4853-9dbb-c32d3c807bf2');\n",
              "          const dataTable =\n",
              "            await google.colab.kernel.invokeFunction('convertToInteractive',\n",
              "                                                     [key], {});\n",
              "          if (!dataTable) return;\n",
              "\n",
              "          const docLinkHtml = 'Like what you see? Visit the ' +\n",
              "            '<a target=\"_blank\" href=https://colab.research.google.com/notebooks/data_table.ipynb>data table notebook</a>'\n",
              "            + ' to learn more about interactive tables.';\n",
              "          element.innerHTML = '';\n",
              "          dataTable['output_type'] = 'display_data';\n",
              "          await google.colab.output.renderOutput(dataTable, element);\n",
              "          const docLink = document.createElement('div');\n",
              "          docLink.innerHTML = docLinkHtml;\n",
              "          element.appendChild(docLink);\n",
              "        }\n",
              "      </script>\n",
              "    </div>\n",
              "  </div>\n",
              "  "
            ]
          },
          "metadata": {},
          "execution_count": 48
        }
      ]
    },
    {
      "cell_type": "markdown",
      "source": [
        "## Data Quality\n",
        "- There are no null values in this dataset\n",
        "- We made adjustments to the numeric categorical columns for ease of use and understanding:\n",
        "  - Soil type- from 40 to 1 column\n",
        "  - Cover type- from 7 integer columns down to 1 column of a categorical string.\n",
        "  - Wilderness area- from 4 integer columns down to 1 column of a categorical string.\n",
        "\n",
        "- While we saw some outliers in terms of elevation for some cover types, there was no indication that this was an error. For example, Krummholz is known as a high elevation cover type.\n",
        "[view elevation by cover type](markdown-fig)\n",
        "\n",
        "- Similarly, we found higher populations of Spruce/Fir in the dataset vs. other cover types, but this is expected:\n",
        "\"Spruce-fir is among the most extensive forest types in Colorado, covering approximately 4.6 million acres or 19 percent of the state’s forested lands.\" (https://csfs.colostate.edu/colorado-forests/forest-types/spruce-fir/)\n",
        "\n",
        "- We leveraged the pandas .duplicated() function to check for duplicate values, and did not find any in the data."
      ],
      "metadata": {
        "id": "bvptYem6vd1z"
      },
      "id": "bvptYem6vd1z"
    },
    {
      "cell_type": "code",
      "execution_count": null,
      "id": "9cf09e3b",
      "metadata": {
        "id": "9cf09e3b"
      },
      "outputs": [],
      "source": [
        "# data type\n",
        "print(forest_cover_type.info())\n",
        "print('\\n')\n",
        "\n",
        "# count the nulls\n",
        "print(forest_cover_type.isnull().sum())\n",
        "print('\\n')\n",
        "# count the frequency of each outcome\n",
        "print(forest_cover_type['Cover_Type'].value_counts())"
      ]
    },
    {
      "cell_type": "code",
      "source": [
        "sns.set(rc={'figure.figsize':(22.7,5.27)})\n",
        "\n",
        "#side by side plot\n",
        "fig, ax =plt.subplots(1,2)\n",
        "\n",
        "# box plots for elevation vs cover type\n",
        "sns.boxplot(x = 'Cover_Type', y = 'Elevation', data = forest_cover_type, ax=ax[0], palette=[\"m\", \"g\", \"b\", \"c\", \"r\", \"w\", \"m\"])\n",
        "\n",
        "# count plot for cover type\n",
        "sns.countplot(forest_cover_type['Cover_Type'],  ax=ax[1], palette=[\"m\", \"g\", \"b\", \"c\", \"r\", \"w\", \"m\"])\n",
        "fig.show()"
      ],
      "metadata": {
        "id": "EcHMsCUI9g-4"
      },
      "id": "EcHMsCUI9g-4",
      "execution_count": null,
      "outputs": []
    },
    {
      "cell_type": "code",
      "source": [],
      "metadata": {
        "id": "CbS-jwYnHKnS"
      },
      "id": "CbS-jwYnHKnS",
      "execution_count": null,
      "outputs": []
    },
    {
      "cell_type": "markdown",
      "source": [
        "```{figure} ../images/C-3PO_droid.png\n",
        "---\n",
        "height: 150px\n",
        "name: directive-fig\n",
        "\n",
        "```\n",
        ":::{figure-md} markdown-fig\n",
        "- {ref}`directive-fig`\n",
        "- [](markdown-fig)\n",
        "{numref}`directive-fig"
      ],
      "metadata": {
        "id": "JlWOKHwdHLA5"
      },
      "id": "JlWOKHwdHLA5"
    },
    {
      "cell_type": "markdown",
      "source": [
        "\n"
      ],
      "metadata": {
        "id": "NrdFHPB0GTy5"
      },
      "id": "NrdFHPB0GTy5"
    },
    {
      "cell_type": "code",
      "source": [
        "#check for duplicates\n",
        "bool_series = forest_cover_type.duplicated()\n",
        "bool_series"
      ],
      "metadata": {
        "id": "aglp2C_nKwIo"
      },
      "id": "aglp2C_nKwIo",
      "execution_count": null,
      "outputs": []
    },
    {
      "cell_type": "code",
      "source": [
        "simpleStats = forest_cover_type.describe()\n",
        "print(simpleStats)\n",
        "\n",
        "#Messy plot that needs cleaned up\n",
        "simpleStats.reset_index(inplace=True)\n",
        "num_col = forest_cover_type._get_numeric_data().columns\n",
        "simpleStats = simpleStats[simpleStats['index'] != 'count']\n",
        "\n",
        "fig1, ax1 = plt.subplots(1,2)\n",
        "sns.lineplot(x='index',y='Elevation',data=simpleStats,ax=ax1[0])\n",
        "sns.lineplot(x='index',y='Slope',data=simpleStats,ax=ax1[1])\n",
        "fig1.show()\n",
        "plt.figure()\n",
        "sns.boxplot(x='Aspect',data=forest_cover_type)\n",
        "fig2, ax2 = plt.subplots(1,2)\n",
        "fig2.show()\n",
        "sns.lineplot(x='index',y='Horizontal_Distance_To_Hydrology',data=simpleStats,ax=ax2[0])\n",
        "sns.lineplot(x='index',y='Vertical_Distance_To_Hydrology',data=simpleStats,ax=ax2[1])\n",
        "fig3, ax3 = plt.subplots(1,2)\n",
        "sns.lineplot(x='index',y='Horizontal_Distance_To_Roadways',data=simpleStats,ax=ax3[0])\n",
        "sns.lineplot(x='index',y='Horizontal_Distance_To_Fire_Points',data=simpleStats,ax=ax3[1])\n",
        "fig3.show()\n",
        "fig4, ax4 = plt.subplots(1,3)\n",
        "sns.lineplot(x='index',y='Hillshade_9am',data=simpleStats,ax=ax4[0])\n",
        "sns.lineplot(x='index',y='Hillshade_Noon',data=simpleStats,ax=ax4[1])\n",
        "sns.lineplot(x='index',y='Hillshade_3pm',data=simpleStats,ax=ax4[2])\n",
        "fig4.show()"
      ],
      "metadata": {
        "id": "LnAYfoqQR5-J"
      },
      "id": "LnAYfoqQR5-J",
      "execution_count": null,
      "outputs": []
    },
    {
      "cell_type": "code",
      "source": [
        "sns.lineplot(data=simpleStats)"
      ],
      "metadata": {
        "colab": {
          "base_uri": "https://localhost:8080/",
          "height": 355
        },
        "id": "NKWx-AlnCxlW",
        "outputId": "efe9594c-a433-47bd-d81e-ec47aa4fbe0c"
      },
      "id": "NKWx-AlnCxlW",
      "execution_count": 39,
      "outputs": [
        {
          "output_type": "execute_result",
          "data": {
            "text/plain": [
              "<matplotlib.axes._subplots.AxesSubplot at 0x7f445398e8e0>"
            ]
          },
          "metadata": {},
          "execution_count": 39
        },
        {
          "output_type": "display_data",
          "data": {
            "text/plain": [
              "<Figure size 842.4x379.44 with 1 Axes>"
            ],
            "image/png": "[encoded data removed]"
          },
          "metadata": {}
        }
      ]
    },
    {
      "cell_type": "markdown",
      "source": [
        "## Simple Statistics \n",
        "\n",
        "The average plot of land in this study was at just below 3,000 meters with all of them being between 1,859 and 3,858 meters. This mean plot also had an aspect of 155.7 degrees, or facing mostly south, with almost even distribution across the four caridnal directions and had a slope of 14 degrees. The maximum slope of land in this study was 66 degrees. However, 75% of the slope measurements were less than 18 degrees.\n",
        "\n",
        "The mean plot of land sampled was was 269 meters horizontally and 46 meters vertically sperated from the nearest water source. While there were some outliers in the distance to hydrology, a large portion of the data lied within 384 meters horizontally and 69 meters vertically of a water source.\n",
        "\n",
        "The mean distances a plot of land was from a roadway and a previous fire location were 2,350 meters and 1,980 meters respectively. Three-quarters of the plots were within 3,328 meters but the max distance seperated from a roadway was 7,117 meters. Similarily, most of the plots were closer to a previous fire point, with 75% being closer than 2,550 meters but the farthest being 7,173 meters away.\n",
        "\n",
        "Finally, the amount of light received, or hillshade, each plot received was on average 212, 223, and 142 for 9am, Noon, and 3pm respectively."
      ],
      "metadata": {
        "id": "z3jWKBCyXpac"
      },
      "id": "z3jWKBCyXpac"
    },
    {
      "cell_type": "code",
      "source": [
        "# distribution plot for elevation in SMU Blue\n",
        "\n",
        "sns.displot(forest_cover_type['Elevation'], \n",
        "            color = '#0033A0', \n",
        "            height = 5.27, \n",
        "            aspect = 12.27 / 5.27)\n",
        "plt.show()"
      ],
      "metadata": {
        "id": "IIRD4nFF9bgH"
      },
      "id": "IIRD4nFF9bgH",
      "execution_count": null,
      "outputs": []
    },
    {
      "cell_type": "markdown",
      "source": [
        "## Visualize Attributes\n",
        "\n",
        "This distribution plot shows the direction that the sampled plots were facing on various slopes. 0 degrees and 360 degrees are oriented due North with 180 degrees being due South. This plot shows that most of the land was facing Northeast and decreased steadily with the lowest number of landplots facing Southwest.\n",
        "\n",
        "- Visualize the most interesting attributes (at least 5 attributes, your opinion on what is interesting).\n",
        "- Important: Interpret the implications for each visualization.\n",
        "- Explain for each attribute why the chosen visualization is appropriate *italicized text*"
      ],
      "metadata": {
        "id": "oSIfZGK2ZdC4"
      },
      "id": "oSIfZGK2ZdC4"
    },
    {
      "cell_type": "code",
      "source": [
        "# scatter plot of above\n",
        "sns.set(rc={'figure.figsize':(11.7,5.27)})\n",
        "\n",
        "plt.scatter(forest_cover_type['Cover_Type'], \n",
        "            forest_cover_type['Elevation'], \n",
        "            color = '#0033A0')\n",
        "plt.xlabel('Cover Type')\n",
        "plt.ylabel('Elevation')\n",
        "plt.show()"
      ],
      "metadata": {
        "id": "XsRVX-yr9i4S"
      },
      "id": "XsRVX-yr9i4S",
      "execution_count": null,
      "outputs": []
    },
    {
      "cell_type": "code",
      "source": [
        "aspectDF = forest_cover_type[['Aspect','Cover_Type']].copy()\n",
        "cardBins = [0, 45, 135, 225, 315, 360]\n",
        "cardLabels = ['North', 'East', 'South', 'West', 'North']\n",
        "aspectDF['Cardinal'] = pd.cut(aspectDF['Aspect'],\n",
        "                              bins = cardBins,\n",
        "                              labels = cardLabels,\n",
        "                              ordered = False)\n",
        "sns.displot(x = 'Aspect',\n",
        "            hue = 'Cardinal',\n",
        "            data = aspectDF).set(title = 'Slope aspect of plot in degrees')\n",
        "plt.show()"
      ],
      "metadata": {
        "id": "tbucTPPWl6Ar"
      },
      "id": "tbucTPPWl6Ar",
      "execution_count": null,
      "outputs": []
    },
    {
      "cell_type": "markdown",
      "source": [
        "This distribution plot shows the direction that the sampled plots were facing on various slopes. 0 degrees and 360 degrees are oriented due North with 180 degrees being due South. This plot shows that most of the land was facing Northeast and decreased steadily with the lowest number of landplots facing Southwest. "
      ],
      "metadata": {
        "id": "9nZ1XghisOnv"
      },
      "id": "9nZ1XghisOnv"
    },
    {
      "cell_type": "code",
      "source": [
        "sns.histplot(x = 'Slope',\n",
        "             bins = 22,\n",
        "             data = forest_cover_type, \n",
        "             color = 'firebrick').set(title = 'Distribution of plot slopes in degrees')\n",
        "plt.show()             "
      ],
      "metadata": {
        "id": "WVW92dRUsSVs"
      },
      "id": "WVW92dRUsSVs",
      "execution_count": null,
      "outputs": []
    },
    {
      "cell_type": "markdown",
      "source": [
        "The histogram of the slopes surveyed shows that the data is slightly right skewed, meaning that most of the cover type were evaulated at lower degrees. However, there were plots of land that had increasingly steeper slopes. Further investigation will look at any potential relationships between these higher degree slopes and if they relate to a certain cover type or higher elevations."
      ],
      "metadata": {
        "id": "0PpoK2tfschf"
      },
      "id": "0PpoK2tfschf"
    },
    {
      "cell_type": "code",
      "source": [
        "#scatter matrix\n",
        "axs = scatter_matrix(forest_cover_type, diagonal = 'kde')\n",
        "\n",
        "def wrap(txt, width = 8):\n",
        "    '''helper function to wrap text for long labels'''\n",
        "    import textwrap\n",
        "    return '\\n'.join(textwrap.wrap(txt, width))\n",
        "\n",
        "for ax in axs[:,0]: # the left boundary\n",
        "    ax.grid('off', axis = 'both')\n",
        "    ax.set_ylabel(wrap(ax.get_ylabel()), \n",
        "                  rotation = 0, \n",
        "                  va = 'center', \n",
        "                  labelpad = 20)\n",
        "    ax.set_yticks([])\n",
        "\n",
        "for ax in axs[-1,:]: # the lower boundary\n",
        "    ax.grid('off', axis = 'both')\n",
        "    ax.set_xlabel(wrap(ax.get_xlabel()), rotation = 90)\n",
        "    ax.set_xticks([])"
      ],
      "metadata": {
        "id": "sXub6d8Hj61p"
      },
      "id": "sXub6d8Hj61p",
      "execution_count": null,
      "outputs": []
    },
    {
      "cell_type": "markdown",
      "source": [
        "Looking at a scatter matrix of the dataset, we can see that xxx. \n",
        "\n"
      ],
      "metadata": {
        "id": "HmM48znFHKT4"
      },
      "id": "HmM48znFHKT4"
    },
    {
      "cell_type": "code",
      "source": [
        "# Function for Hist Viz\n",
        "# taken from a previous project from undergrad\n",
        "\n",
        "def histogram_and_boxplot(df_column):\n",
        "    f, (ax_box, ax_hist) = plt.subplots(2, \n",
        "                                        sharex = True, \n",
        "                                        gridspec_kw = {\"height_ratios\": (.15, .85)})\n",
        "    sns.set(style = \"ticks\")\n",
        "    flierprops = dict(marker = 'o', \n",
        "                      markersize = 4, \n",
        "                      markerfacecolor = 'none', \n",
        "                      linestyle = 'none', \n",
        "                      markeredgecolor = 'blue')\n",
        "    text  = 'Std dev: ' + str(round(df_column.std(), 2)) + '\\n'\n",
        "    text += 'Mean: ' + str(round(df_column.mean(), 2)) + '\\n'\n",
        "    text += 'Median: ' + str(round(df_column.median(), 2)) + '\\n'\n",
        "    text += 'Skew: ' + str(round(df_column.skew(), 2)) + '\\n'\n",
        "    text += 'Kurt: ' + str(round(df_column.kurt(), 2))\n",
        "    plt.text(0.95, \n",
        "             0.5, \n",
        "             text, \n",
        "             fontsize = 10, \n",
        "             transform = plt.gcf().transFigure)\n",
        "    plt.axvline(df_column.median(), \n",
        "                color = 'k', \n",
        "                linestyle = 'dashed', \n",
        "                linewidth = 1)\n",
        "    sns.boxplot(x = df_column, \n",
        "                ax = ax_box, \n",
        "                fliersize = 4, \n",
        "                width = 0.50, \n",
        "                linewidth = 1,\n",
        "                flierprops = flierprops)\n",
        "    sns.histplot(x = df_column, \n",
        "                 ax = ax_hist)\n",
        "    ax_box.set(yticks = [])\n",
        "    sns.despine(ax = ax_hist)   \n",
        "    sns.despine(ax = ax_box)  \n",
        "    plt.show()"
      ],
      "metadata": {
        "id": "-ET7P-KhzgmA"
      },
      "id": "-ET7P-KhzgmA",
      "execution_count": null,
      "outputs": []
    },
    {
      "cell_type": "code",
      "source": [
        "# use function to plot box and histogram for all contiuous variables\n",
        "for col in continuous_variables_df.columns[:-1]:\n",
        "    histogram_and_boxplot(continuous_variables_df[col])"
      ],
      "metadata": {
        "id": "cxq0K10RzkWi"
      },
      "id": "cxq0K10RzkWi",
      "execution_count": null,
      "outputs": []
    },
    {
      "cell_type": "markdown",
      "source": [
        "We can see a variety of different structures and stats from the data from the above graphs. We can use this data for assumption purposes as well as genereal understanding of data gathering. We are able to view skewness and normality from the graphs. We can see the average number for the various features as well as the median. These will help us with future testing.\n",
        "\n",
        "We are able to see that the mean for each of these differs from tens to thousands. This could be, in part, due to the different types of measurements (degrees, meters, etc.). All of these graphs allow us to understand that the data are all different - spread, range, skewness. "
      ],
      "metadata": {
        "id": "Zq0B-Zhwzl04"
      },
      "id": "Zq0B-Zhwzl04"
    },
    {
      "cell_type": "markdown",
      "source": [
        "## Explore Joint Attributes\n",
        "- Tadd and Milan"
      ],
      "metadata": {
        "id": "vIjGsYESYNrk"
      },
      "id": "vIjGsYESYNrk"
    },
    {
      "cell_type": "code",
      "source": [
        "# Code used to create scatter matrix\n",
        "# Due to large amounts of data, this plot was created outside of Jupyter and then inserted as an image\n",
        "\n",
        "'''\n",
        "g = sns.pairplot(continuous_variables_df,diag_kind='kde')\n",
        "g.map_lower(sns.kdeplot,color='.2')\n",
        "'''\n",
        "\n",
        "# Insert image here (saved in github)"
      ],
      "metadata": {
        "id": "FjkcwasxTIF1"
      },
      "id": "FjkcwasxTIF1",
      "execution_count": null,
      "outputs": []
    },
    {
      "cell_type": "markdown",
      "source": [
        "Looking at the scatter matrix above, there are a few interesting trends to highlight. First, Elevation looks to have somewhat of a positive relationship with the Horizontal and Vertical Distance to Hydrology. This is likely caused by the decrease in rivers, streams, and lakes at higher elevations in a mountain range. \n",
        "\n",
        "Another interesting takeaway is comparing the Aspect of the slope to the Hillshade at 9am, Noon, and 3pm. This shows how the sunlight a plot of land changes throughout the day, with Southeast facing slopes receiving more light in the morning and Northwest facing slopes receiving more light in the afternoon. \n",
        "\n",
        "As expected, there is potential positive relationship between the Horizontal and Vertical Distance to Hydrology. Due to the fact that these both look to be correlated with Elevation, care should be taken to make sure they are not too correlated. "
      ],
      "metadata": {
        "id": "huOgTW5kT103"
      },
      "id": "huOgTW5kT103"
    },
    {
      "cell_type": "code",
      "source": [
        "# Used the following to help with the mask\n",
        "# https://stackoverflow.com/questions/57414771/how-to-plot-only-the-lower-triangle-of-a-seaborn-heatmap\n",
        "\n",
        "# Correlation df\n",
        "cormat = forest_cover_type.corr()\n",
        "# Round to two decimals\n",
        "round(cormat, 2)\n",
        "\n",
        "# Maybe try to subset this a little?\n",
        "# heatmap of the correlations\n",
        "matrix = np.triu(np.ones_like(cormat, dtype=bool))\n",
        "sns.heatmap(cormat, annot = True, mask = matrix);"
      ],
      "metadata": {
        "id": "xqLG6fDq41dA"
      },
      "id": "xqLG6fDq41dA",
      "execution_count": null,
      "outputs": []
    },
    {
      "cell_type": "markdown",
      "source": [
        "The correlation heatmap allows for easy visual recognition of which features are correlated with other features. This heatmap also shows the correlation as being positive or negative. This will help in future analysis and testing. \n",
        "\n",
        "We are able to see the high correlation between \n",
        "\n",
        "*   'Hillside_9am' - 'Hillside_3pm'\n",
        "*   'Hillside_3pm' - 'Aspect'\n",
        "*   'Horizontal_Distance_To_Hydrology' - 'Vertical_Distance_To_Hydrology'\n",
        "\n",
        "We can further explore these correlations a little later. "
      ],
      "metadata": {
        "id": "jCP-PSiK4-oh"
      },
      "id": "jCP-PSiK4-oh"
    },
    {
      "cell_type": "markdown",
      "source": [
        "## Explore Attributes and Class\n",
        "\n",
        "- Andrew"
      ],
      "metadata": {
        "id": "PuYyTYbEYjFc"
      },
      "id": "PuYyTYbEYjFc"
    },
    {
      "cell_type": "code",
      "source": [
        "aPlot = sns.violinplot(x = 'Cover_Type',\n",
        "                       y = 'Aspect',\n",
        "                       data = aspectDF)\n",
        "\n",
        "aPlot.set_xticklabels(aPlot.get_xticklabels(),\n",
        "                      rotation = 45,\n",
        "                      horizontalalignment = 'right')\n",
        "\n",
        "\n",
        "\n",
        "plt.show()"
      ],
      "metadata": {
        "id": "iJ9-DdFtNd8W"
      },
      "id": "iJ9-DdFtNd8W",
      "execution_count": null,
      "outputs": []
    },
    {
      "cell_type": "markdown",
      "source": [
        "The violinplot above shows the distribution of the different cover types for the aspect of the plot of land containing that cover type. While it appears that most of the cover types were found at every aspect, there are some interesting trends. Aspen cover and Cottonwood/Willow look to mostly be on East facing slopes. Lodgepole Pine and Spruce/Fir favoring North facing slopes, while Douglas-fir are heavily concentrated facing North. Also, Southwest faces seem to have the smallest concentration of any cover type, but was also the least represented aspect in the dataset.\n",
        "\n",
        "Since Aspen, Cottonwood, and Willow trees are deciduous they likely receive more sun on South facing aspects which could lead to them being the dominant cover type. Conversely, Lodgepole Pine, Spruce, Fir, Ponderosa Pine, and Douglas-fir are all confierous evergreen trees prefer light shade and could lead to them being more prevalent on North facing slopes.\n",
        "\n"
      ],
      "metadata": {
        "id": "GMO78oJXQBPq"
      },
      "id": "GMO78oJXQBPq"
    },
    {
      "cell_type": "code",
      "source": [
        "aPlot2 = sns.FacetGrid(aspectDF,\n",
        "                       col = 'Cover_Type',\n",
        "                       col_wrap = 4)\n",
        "\n",
        "aPlot2.map(sns.histplot, \n",
        "           'Cardinal',\n",
        "           stat = 'percent')\n",
        "plt.show()"
      ],
      "metadata": {
        "id": "1AktQn6KDeUw"
      },
      "id": "1AktQn6KDeUw",
      "execution_count": null,
      "outputs": []
    },
    {
      "cell_type": "code",
      "source": [
        "sns.displot(x = 'Slope',\n",
        "            hue = 'Cover_Type',\n",
        "            kind = 'kde',\n",
        "            multiple = 'fill',\n",
        "            data = forest_cover_type)\n",
        "plt.show()"
      ],
      "metadata": {
        "id": "2HfrXdIlQIDm"
      },
      "id": "2HfrXdIlQIDm",
      "execution_count": null,
      "outputs": []
    },
    {
      "cell_type": "markdown",
      "source": [
        "The Kernel Density Estimate plot above shows the density of certain cover types at different slope angles. Lodgepole Pines and Spruce/Fir make up the majority of the cover on slopes less than around 25 degrees. Between slopes of around 25 degrees to just less than 50 degrees, Ponderosa Pine represent a significant portion of the cover type. Aspen and Douglas-fir also see an increase in cover type around a slope of 50 degrees. While there were very few samples containing slopes of 60 degrees are greater, the only cover type that appeared at this high slope angle are Lodgepole Pines."
      ],
      "metadata": {
        "id": "cLFmupoKRwms"
      },
      "id": "cLFmupoKRwms"
    },
    {
      "cell_type": "code",
      "source": [
        "# Taken from https://stackoverflow.com/questions/35321812/move-column-in-pandas-dataframe\n",
        "\n",
        "# Make a list of all of the columns in the df\n",
        "cols = list(forest_cover_type_copy.columns.values) \n",
        "# Remove Cover type from list\n",
        "cols.pop(cols.index('Cover_Type')) \n",
        "# Create new dataframe with columns in the order you want\n",
        "forest_cover_type_copy = forest_cover_type_copy[cols + ['Cover_Type']] "
      ],
      "metadata": {
        "id": "QbN6eHN6z10H"
      },
      "id": "QbN6eHN6z10H",
      "execution_count": null,
      "outputs": []
    },
    {
      "cell_type": "code",
      "source": [
        "# https://realpython.com/logistic-regression-python/#logistic-regression-in-python\n",
        "\n",
        "# Assign specific features to two different variables\n",
        "X = forest_cover_type_copy.iloc[:, 0:12]\n",
        "y = forest_cover_type_copy.iloc[:, 12]"
      ],
      "metadata": {
        "id": "66coUttdU0co"
      },
      "id": "66coUttdU0co",
      "execution_count": null,
      "outputs": []
    },
    {
      "cell_type": "code",
      "source": [
        "# Feature Importance Graph\n",
        "# Takes about five minutes\n",
        "rf = RandomForestRegressor(n_estimators = 50)\n",
        "rf.fit(X, y)\n",
        "sort = rf.feature_importances_.argsort()\n",
        "plt.barh(forest_cover_type_copy.columns.values[sort], rf.feature_importances_[sort])\n",
        "plt.xlabel('Feature Importance')\n",
        "plt.show()"
      ],
      "metadata": {
        "id": "WE6aJXHO0LN_",
        "colab": {
          "base_uri": "https://localhost:8080/",
          "height": 354
        },
        "outputId": "8b5d96b8-49e7-43b6-c068-1aded87b999a"
      },
      "id": "WE6aJXHO0LN_",
      "execution_count": 30,
      "outputs": [
        {
          "output_type": "display_data",
          "data": {
            "text/plain": [
              "<Figure size 842.4x379.44 with 1 Axes>"
            ],
            "image/png": "[encoded data removed]"
          },
          "metadata": {}
        }
      ]
    },
    {
      "cell_type": "markdown",
      "source": [
        "We can see from this graph the features with most importance. 'Elevation', 'Horizontal_Distance_To_Fire_Points', 'Soil_Type', 'Horizontal_Distance_To_Roadways', 'Wilderness_Area' are the top five features in this dataset. The elevation feature shows that it is extremely important as compared to the other features.\n",
        "\n",
        "The top five features will be used in further testing with regression techniques. The question posed would have to be - why do you think these are so important? Especially the 'Horizontal_Distance_To_Fire_Points' feature? In our opinion, distance to fire points should not impact 'Cover_Type' that much. We are interested to conduct further testing and further research to identify reasonings for this particular feature. \n",
        "\n",
        "What does distance to wildfire ignition points have to do with cover type? Is there any real correlation or connection between the two? Is 'Slope' really the least important feature? Why? Why does 'Elevation' have nearly twice as much importance than the next closest feature?"
      ],
      "metadata": {
        "id": "6IQqhsKy0Mq_"
      },
      "id": "6IQqhsKy0Mq_"
    },
    {
      "cell_type": "code",
      "source": [
        "sns.countplot(data = forest_cover_type, x = 'Wilderness_Area', hue = 'Cover_Type')\n",
        "plt.show()"
      ],
      "metadata": {
        "colab": {
          "base_uri": "https://localhost:8080/",
          "height": 354
        },
        "id": "fVXsyR9NOgBY",
        "outputId": "aeb8828b-669d-49b9-e00d-94f83fe1ab87"
      },
      "id": "fVXsyR9NOgBY",
      "execution_count": 31,
      "outputs": [
        {
          "output_type": "display_data",
          "data": {
            "text/plain": [
              "<Figure size 842.4x379.44 with 1 Axes>"
            ],
            "image/png": "[encoded data removed]"
          },
          "metadata": {}
        }
      ]
    },
    {
      "cell_type": "markdown",
      "source": [
        "The above graph shows us that a vast majority of observations came from Wilderness areas \"Rawah\" and \"Comanche Peak\". That could skew the findings a little due to such a large difference in sampling. These two areas have almost 200,000 more observations than the other two areas. \n",
        "\n",
        "That being said, in these two highly observed areas, we see a very large connection between area and cover type. We will have to run further tests to identify if they are correlated statistically. \n",
        "\n",
        "Does this sampling have enough randomness to it? Do we need to sample more from the lower two wilderness areas? Does having so many observations under the 'Lodgepole Pine' and the 'Spruce/Fir' cover types affect/alter the potential for modeling in the future? Does it skew the data too much?"
      ],
      "metadata": {
        "id": "HPt9iwH-iYQI"
      },
      "id": "HPt9iwH-iYQI"
    },
    {
      "cell_type": "code",
      "source": [
        "plt.figure(figsize = (16, 8))\n",
        "sns.countplot(data = forest_cover_type, \n",
        "              x = 'Soil_Type', \n",
        "              hue = 'Cover_Type')\n",
        "plt.xticks(rotation = 90)\n",
        "plt.show()"
      ],
      "metadata": {
        "colab": {
          "base_uri": "https://localhost:8080/",
          "height": 557
        },
        "id": "QYzboCTZhD7f",
        "outputId": "bc297f49-80aa-4a8b-ea1f-3da754f9db42"
      },
      "id": "QYzboCTZhD7f",
      "execution_count": 32,
      "outputs": [
        {
          "output_type": "display_data",
          "data": {
            "text/plain": [
              "<Figure size 1152x576 with 1 Axes>"
            ],
            "image/png": "[encoded data removed]"
          },
          "metadata": {}
        }
      ]
    },
    {
      "cell_type": "code",
      "source": [
        "forest_cover_type['Soil_Type'].value_counts()"
      ],
      "metadata": {
        "colab": {
          "base_uri": "https://localhost:8080/"
        },
        "id": "4YMbHEbdhxMw",
        "outputId": "ea9bd123-1acb-4f14-94e4-fc0e9a382332"
      },
      "id": "4YMbHEbdhxMw",
      "execution_count": 33,
      "outputs": [
        {
          "output_type": "execute_result",
          "data": {
            "text/plain": [
              "Soil_Type29    115247\n",
              "Soil_Type23     57752\n",
              "Soil_Type32     52519\n",
              "Soil_Type33     45154\n",
              "Soil_Type22     33373\n",
              "Soil_Type10     32634\n",
              "Soil_Type30     30170\n",
              "Soil_Type12     29971\n",
              "Soil_Type31     25666\n",
              "Soil_Type24     21278\n",
              "Soil_Type13     17431\n",
              "Soil_Type38     15573\n",
              "Soil_Type39     13806\n",
              "Soil_Type11     12410\n",
              "Soil_Type4      12396\n",
              "Soil_Type20      9259\n",
              "Soil_Type40      8750\n",
              "Soil_Type2       7525\n",
              "Soil_Type6       6575\n",
              "Soil_Type3       4823\n",
              "Soil_Type19      4021\n",
              "Soil_Type17      3422\n",
              "Soil_Type1       3031\n",
              "Soil_Type16      2845\n",
              "Soil_Type26      2589\n",
              "Soil_Type18      1899\n",
              "Soil_Type35      1891\n",
              "Soil_Type34      1611\n",
              "Soil_Type5       1597\n",
              "Soil_Type9       1147\n",
              "Soil_Type27      1086\n",
              "Soil_Type28       946\n",
              "Soil_Type21       838\n",
              "Soil_Type14       599\n",
              "Soil_Type25       474\n",
              "Soil_Type37       298\n",
              "Soil_Type8        179\n",
              "Soil_Type36       119\n",
              "Soil_Type7        105\n",
              "Soil_Type15         3\n",
              "Name: Soil_Type, dtype: int64"
            ]
          },
          "metadata": {},
          "execution_count": 33
        }
      ]
    },
    {
      "cell_type": "markdown",
      "source": [
        "This graph and table show us that some soil types only have a handful of observations, whereas some have tens of thousands. We can see that \"Soil_Type29\" has 115,247 observations. This is equal to 19.835% of the total data. The smallest sample, \"Soil_Type15\", only holds 0.000516% of the total data. \n",
        "\n",
        "We will need to be mindful of the large difference in sampling from the soil types. This could greatly affect the outcome of future modeling, correlation assumptions, and findings."
      ],
      "metadata": {
        "id": "t2E0942RjnFA"
      },
      "id": "t2E0942RjnFA"
    },
    {
      "cell_type": "markdown",
      "source": [
        "## New Features\n",
        "- Kendall"
      ],
      "metadata": {
        "id": "3HmErUr-Yr7L"
      },
      "id": "3HmErUr-Yr7L"
    },
    {
      "cell_type": "markdown",
      "source": [
        "## Exceptional Work\n",
        "- Andrew and Kendall"
      ],
      "metadata": {
        "id": "5iJQR4QcY1vW"
      },
      "id": "5iJQR4QcY1vW"
    },
    {
      "cell_type": "code",
      "source": [
        "# https://realpython.com/logistic-regression-python/#logistic-regression-in-python\n",
        "\n",
        "# Assign specific features to two different variables\n",
        "X = forest_cover_type_copy.iloc[:, 0:12]\n",
        "y = forest_cover_type_copy.iloc[:, 12]\n",
        "# Build a logistic regression model\n",
        "model = LogisticRegression(solver = 'liblinear', random_state = 0)\n",
        "model = model.fit(X, y)"
      ],
      "metadata": {
        "id": "5fgMKYndz22v"
      },
      "id": "5fgMKYndz22v",
      "execution_count": 34,
      "outputs": []
    },
    {
      "cell_type": "code",
      "source": [
        "model.classes_\n",
        "# See the model results\n",
        "print(model.predict_proba(X), '\\n')\n",
        "print(model.predict(X), '\\n')\n",
        "\n",
        "print('The model score is ', model.score(X, y), '\\n')\n",
        "# this gives a 67.256% to our model\n",
        "\n",
        "print(classification_report(y, model.predict(X)), '\\n')"
      ],
      "metadata": {
        "id": "id9q-Qkfz4Bk",
        "colab": {
          "base_uri": "https://localhost:8080/"
        },
        "outputId": "cfbfcf32-1cb2-4ce9-b4ca-15470165255f"
      },
      "id": "id9q-Qkfz4Bk",
      "execution_count": 35,
      "outputs": [
        {
          "output_type": "stream",
          "name": "stdout",
          "text": [
            "[[4.88289141e-02 9.16726401e-01 2.67767235e-04 ... 2.75237479e-02\n",
            "  6.49979941e-03 1.46107010e-04]\n",
            " [5.56534758e-02 9.05884173e-01 2.30419259e-04 ... 3.16290556e-02\n",
            "  6.38574288e-03 2.08178837e-04]\n",
            " [1.15826864e-01 8.59923998e-01 7.84849046e-03 ... 1.03992650e-02\n",
            "  5.92121192e-03 1.23378475e-05]\n",
            " ...\n",
            " [6.76346280e-03 3.91120392e-01 4.91539660e-01 ... 5.44061066e-02\n",
            "  5.60670655e-02 1.02434854e-08]\n",
            " [7.03348361e-03 3.96128681e-01 4.81642800e-01 ... 4.74866243e-02\n",
            "  6.76120665e-02 1.00658985e-08]\n",
            " [8.55519637e-03 3.96339008e-01 4.72256968e-01 ... 4.85961513e-02\n",
            "  7.41316744e-02 1.64862822e-08]] \n",
            "\n",
            "[2 2 2 ... 3 3 3] \n",
            "\n",
            "The model score is  0.672593681369748 \n",
            "\n"
          ]
        },
        {
          "output_type": "stream",
          "name": "stderr",
          "text": [
            "/usr/local/lib/python3.8/dist-packages/sklearn/metrics/_classification.py:1318: UndefinedMetricWarning: Precision and F-score are ill-defined and being set to 0.0 in labels with no predicted samples. Use `zero_division` parameter to control this behavior.\n",
            "  _warn_prf(average, modifier, msg_start, len(result))\n"
          ]
        },
        {
          "output_type": "stream",
          "name": "stdout",
          "text": [
            "              precision    recall  f1-score   support\n",
            "\n",
            "           1       0.66      0.67      0.66    211840\n",
            "           2       0.68      0.79      0.73    283301\n",
            "           3       0.68      0.63      0.65     35754\n",
            "           4       0.86      0.06      0.12      2747\n",
            "           5       0.00      0.00      0.00      9493\n",
            "           6       0.31      0.04      0.07     17367\n",
            "           7       0.78      0.08      0.14     20510\n",
            "\n",
            "    accuracy                           0.67    581012\n",
            "   macro avg       0.57      0.32      0.34    581012\n",
            "weighted avg       0.66      0.67      0.65    581012\n",
            " \n",
            "\n"
          ]
        },
        {
          "output_type": "stream",
          "name": "stderr",
          "text": [
            "/usr/local/lib/python3.8/dist-packages/sklearn/metrics/_classification.py:1318: UndefinedMetricWarning: Precision and F-score are ill-defined and being set to 0.0 in labels with no predicted samples. Use `zero_division` parameter to control this behavior.\n",
            "  _warn_prf(average, modifier, msg_start, len(result))\n",
            "/usr/local/lib/python3.8/dist-packages/sklearn/metrics/_classification.py:1318: UndefinedMetricWarning: Precision and F-score are ill-defined and being set to 0.0 in labels with no predicted samples. Use `zero_division` parameter to control this behavior.\n",
            "  _warn_prf(average, modifier, msg_start, len(result))\n"
          ]
        }
      ]
    },
    {
      "cell_type": "code",
      "source": [
        "print(confusion_matrix(y, model.predict(X)), '\\n')\n",
        "\n",
        "cm = confusion_matrix(y, model.predict(X))\n",
        "\n",
        "fig, ax = plt.subplots(figsize = (8, 8))\n",
        "ax.imshow(cm)\n",
        "ax.grid(False)\n",
        "ax.xaxis.set(ticks = (0, 1, 2, 3, 4, 5, 6))\n",
        "ax.yaxis.set(ticks = (0, 1, 2, 3, 4, 5, 6))\n",
        "ax.set_ylim(6.5, -0.5)\n",
        "for i in range(7):\n",
        "    for j in range(7):\n",
        "        ax.text(j, \n",
        "                i, \n",
        "                cm[i, j], \n",
        "                ha = 'center', \n",
        "                va = 'center', \n",
        "                color = 'Green')\n",
        "plt.show()"
      ],
      "metadata": {
        "id": "w0yxnvd7z5m4",
        "colab": {
          "base_uri": "https://localhost:8080/",
          "height": 628
        },
        "outputId": "b7a9de21-b111-4477-b495-234ebc8f00b2"
      },
      "id": "w0yxnvd7z5m4",
      "execution_count": 36,
      "outputs": [
        {
          "output_type": "stream",
          "name": "stdout",
          "text": [
            "[[141102  70436      1      0      0      0    301]\n",
            " [ 55353 224801   2804      0      0    230    113]\n",
            " [    30  12021  22531     26      0   1144      2]\n",
            " [     0    747   1760    173      0     67      0]\n",
            " [   288   9080    119      0      0      0      6]\n",
            " [   189  10410   6128      1      0    639      0]\n",
            " [ 17551   1420      0      0      0      0   1539]] \n",
            "\n"
          ]
        },
        {
          "output_type": "display_data",
          "data": {
            "text/plain": [
              "<Figure size 576x576 with 1 Axes>"
            ],
            "image/png": "[encoded data removed]"
          },
          "metadata": {}
        }
      ]
    },
    {
      "cell_type": "markdown",
      "source": [
        "The model has good prediction cabailities in the first cover types - Spruce/Fir and Lodgepole Pine. That being said, it also incorrectly predicts those two quite a bit. This could be due to what we predicted earlier - the vastly large number of observations of these two specific cover types. We saw that approximately 80% of observations were one of these two cover types. That allows us to predict a very large number of them in our model. \n",
        "\n",
        "We also have to be mindful about the above visualization. The numbering is off by one. To fully and truly understand what is being represented, you have to add one to each number. So, if you see a 0 on the plot, that is actually cover_type1.\n",
        "\n",
        "We also have to be cognizant of the model never predicting cover_type5. That shows us, in the results, all zeros. Maybe we can look into some of those observations that really are Cover_Type5 and try to identify any unique trends or patterns. This could help us increase our models perfromance metrics. "
      ],
      "metadata": {
        "id": "65N3KsYT0AEP"
      },
      "id": "65N3KsYT0AEP"
    },
    {
      "cell_type": "code",
      "source": [
        "# print the metrics used to evaluate the model\n",
        "print(classification_report(y, model.predict(X)))"
      ],
      "metadata": {
        "id": "dEndOV7P0Gqp",
        "colab": {
          "base_uri": "https://localhost:8080/"
        },
        "outputId": "c848f242-1fa9-4206-f34c-edfc3179cf5b"
      },
      "id": "dEndOV7P0Gqp",
      "execution_count": 37,
      "outputs": [
        {
          "output_type": "stream",
          "name": "stderr",
          "text": [
            "/usr/local/lib/python3.8/dist-packages/sklearn/metrics/_classification.py:1318: UndefinedMetricWarning: Precision and F-score are ill-defined and being set to 0.0 in labels with no predicted samples. Use `zero_division` parameter to control this behavior.\n",
            "  _warn_prf(average, modifier, msg_start, len(result))\n"
          ]
        },
        {
          "output_type": "stream",
          "name": "stdout",
          "text": [
            "              precision    recall  f1-score   support\n",
            "\n",
            "           1       0.66      0.67      0.66    211840\n",
            "           2       0.68      0.79      0.73    283301\n",
            "           3       0.68      0.63      0.65     35754\n",
            "           4       0.86      0.06      0.12      2747\n",
            "           5       0.00      0.00      0.00      9493\n",
            "           6       0.31      0.04      0.07     17367\n",
            "           7       0.78      0.08      0.14     20510\n",
            "\n",
            "    accuracy                           0.67    581012\n",
            "   macro avg       0.57      0.32      0.34    581012\n",
            "weighted avg       0.66      0.67      0.65    581012\n",
            "\n"
          ]
        },
        {
          "output_type": "stream",
          "name": "stderr",
          "text": [
            "/usr/local/lib/python3.8/dist-packages/sklearn/metrics/_classification.py:1318: UndefinedMetricWarning: Precision and F-score are ill-defined and being set to 0.0 in labels with no predicted samples. Use `zero_division` parameter to control this behavior.\n",
            "  _warn_prf(average, modifier, msg_start, len(result))\n",
            "/usr/local/lib/python3.8/dist-packages/sklearn/metrics/_classification.py:1318: UndefinedMetricWarning: Precision and F-score are ill-defined and being set to 0.0 in labels with no predicted samples. Use `zero_division` parameter to control this behavior.\n",
            "  _warn_prf(average, modifier, msg_start, len(result))\n"
          ]
        }
      ]
    },
    {
      "cell_type": "code",
      "source": [
        "# model with higher C value. default was c = 1\n",
        "\n",
        "\n",
        "model = LogisticRegression(solver = 'liblinear', \n",
        "                           C = 10.0, \n",
        "                           random_state = 0)\n",
        "model.fit(X, y)\n",
        "\n",
        "\n",
        "print('The model score is ', model.score(X, y), '\\n')\n",
        "\n",
        "# print the metrics used to evaluate the model\n",
        "print(classification_report(y, model.predict(X)))"
      ],
      "metadata": {
        "id": "xov8n72X0JeH",
        "colab": {
          "base_uri": "https://localhost:8080/",
          "height": 407
        },
        "outputId": "375b42f0-abf4-4cca-d166-7c0df49f2765"
      },
      "id": "xov8n72X0JeH",
      "execution_count": 38,
      "outputs": [
        {
          "output_type": "error",
          "ename": "KeyboardInterrupt",
          "evalue": "ignored",
          "traceback": [
            "\u001b[0;31m---------------------------------------------------------------------------\u001b[0m",
            "\u001b[0;31mKeyboardInterrupt\u001b[0m                         Traceback (most recent call last)",
            "\u001b[0;32m<ipython-input-38-05b92b318865>\u001b[0m in \u001b[0;36m<module>\u001b[0;34m\u001b[0m\n\u001b[1;32m      5\u001b[0m                            \u001b[0mC\u001b[0m \u001b[0;34m=\u001b[0m \u001b[0;36m10.0\u001b[0m\u001b[0;34m,\u001b[0m\u001b[0;34m\u001b[0m\u001b[0;34m\u001b[0m\u001b[0m\n\u001b[1;32m      6\u001b[0m                            random_state = 0)\n\u001b[0;32m----> 7\u001b[0;31m \u001b[0mmodel\u001b[0m\u001b[0;34m.\u001b[0m\u001b[0mfit\u001b[0m\u001b[0;34m(\u001b[0m\u001b[0mX\u001b[0m\u001b[0;34m,\u001b[0m \u001b[0my\u001b[0m\u001b[0;34m)\u001b[0m\u001b[0;34m\u001b[0m\u001b[0;34m\u001b[0m\u001b[0m\n\u001b[0m\u001b[1;32m      8\u001b[0m \u001b[0;34m\u001b[0m\u001b[0m\n\u001b[1;32m      9\u001b[0m \u001b[0;34m\u001b[0m\u001b[0m\n",
            "\u001b[0;32m/usr/local/lib/python3.8/dist-packages/sklearn/linear_model/_logistic.py\u001b[0m in \u001b[0;36mfit\u001b[0;34m(self, X, y, sample_weight)\u001b[0m\n\u001b[1;32m   1526\u001b[0m                     \u001b[0;34m\" = {}.\"\u001b[0m\u001b[0;34m.\u001b[0m\u001b[0mformat\u001b[0m\u001b[0;34m(\u001b[0m\u001b[0meffective_n_jobs\u001b[0m\u001b[0;34m(\u001b[0m\u001b[0mself\u001b[0m\u001b[0;34m.\u001b[0m\u001b[0mn_jobs\u001b[0m\u001b[0;34m)\u001b[0m\u001b[0;34m)\u001b[0m\u001b[0;34m\u001b[0m\u001b[0;34m\u001b[0m\u001b[0m\n\u001b[1;32m   1527\u001b[0m                 )\n\u001b[0;32m-> 1528\u001b[0;31m             self.coef_, self.intercept_, n_iter_ = _fit_liblinear(\n\u001b[0m\u001b[1;32m   1529\u001b[0m                 \u001b[0mX\u001b[0m\u001b[0;34m,\u001b[0m\u001b[0;34m\u001b[0m\u001b[0;34m\u001b[0m\u001b[0m\n\u001b[1;32m   1530\u001b[0m                 \u001b[0my\u001b[0m\u001b[0;34m,\u001b[0m\u001b[0;34m\u001b[0m\u001b[0;34m\u001b[0m\u001b[0m\n",
            "\u001b[0;32m/usr/local/lib/python3.8/dist-packages/sklearn/svm/_base.py\u001b[0m in \u001b[0;36m_fit_liblinear\u001b[0;34m(X, y, C, fit_intercept, intercept_scaling, class_weight, penalty, dual, verbose, max_iter, tol, random_state, multi_class, loss, epsilon, sample_weight)\u001b[0m\n\u001b[1;32m   1184\u001b[0m \u001b[0;34m\u001b[0m\u001b[0m\n\u001b[1;32m   1185\u001b[0m     \u001b[0msolver_type\u001b[0m \u001b[0;34m=\u001b[0m \u001b[0m_get_liblinear_solver_type\u001b[0m\u001b[0;34m(\u001b[0m\u001b[0mmulti_class\u001b[0m\u001b[0;34m,\u001b[0m \u001b[0mpenalty\u001b[0m\u001b[0;34m,\u001b[0m \u001b[0mloss\u001b[0m\u001b[0;34m,\u001b[0m \u001b[0mdual\u001b[0m\u001b[0;34m)\u001b[0m\u001b[0;34m\u001b[0m\u001b[0;34m\u001b[0m\u001b[0m\n\u001b[0;32m-> 1186\u001b[0;31m     raw_coef_, n_iter_ = liblinear.train_wrap(\n\u001b[0m\u001b[1;32m   1187\u001b[0m         \u001b[0mX\u001b[0m\u001b[0;34m,\u001b[0m\u001b[0;34m\u001b[0m\u001b[0;34m\u001b[0m\u001b[0m\n\u001b[1;32m   1188\u001b[0m         \u001b[0my_ind\u001b[0m\u001b[0;34m,\u001b[0m\u001b[0;34m\u001b[0m\u001b[0;34m\u001b[0m\u001b[0m\n",
            "\u001b[0;31mKeyboardInterrupt\u001b[0m: "
          ]
        }
      ]
    },
    {
      "cell_type": "markdown",
      "source": [
        "A high value of C tells the model to give more weight to the training data. A lower value of C will indicate the model to give complexity more weight at the cost of fitting the data. Thus, a high Hyper Parameter value C indicates that training data is more important and reflects the real world data, whereas low value is just the opposite of this.\n",
        "\n",
        "We do not see a change in accuracy score between the two models. "
      ],
      "metadata": {
        "id": "9k7atqGal1OH"
      },
      "id": "9k7atqGal1OH"
    }
  ],
  "metadata": {
    "kernelspec": {
      "display_name": "Python 3 (ipykernel)",
      "language": "python",
      "name": "python3"
    },
    "language_info": {
      "codemirror_mode": {
        "name": "ipython",
        "version": 3
      },
      "file_extension": ".py",
      "mimetype": "text/x-python",
      "name": "python",
      "nbconvert_exporter": "python",
      "pygments_lexer": "ipython3",
      "version": "3.10.9"
    },
    "colab": {
      "provenance": [],
      "include_colab_link": true
    }
  },
  "nbformat": 4,
  "nbformat_minor": 5
}