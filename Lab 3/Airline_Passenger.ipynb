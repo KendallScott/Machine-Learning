{
 "cells": [
  {
   "cell_type": "markdown",
   "metadata": {
    "colab_type": "text",
    "id": "view-in-github"
   },
   "source": [
    "<a href=\"https://colab.research.google.com/github/KendallScott/Machine-Learning/blob/main/Lab%203/Airline_Passenger.ipynb\" target=\"_parent\"><img src=\"https://colab.research.google.com/assets/colab-badge.svg\" alt=\"Open In Colab\"/></a>"
   ]
  },
  {
   "cell_type": "markdown",
   "metadata": {
    "id": "1dGshPPFtjun"
   },
   "source": [
    "# Business Understanding 1\t"
   ]
  },
  {
   "cell_type": "markdown",
   "metadata": {
    "id": "iQxRhzd8to2J"
   },
   "source": [
    "Describe the purpose of the data set you selected (i.e., why was this data collected in the first place?).\n",
    "\n",
    "- The Dataset we picked contains data from  USA airline passenger satisfaction surveys. The data was collected in an effort for airlines to better understand their passengers. \n",
    "\n",
    "How will you measure the effectiveness of a good algorithm? \n",
    "- Using various questions about their travel, a Clustering Analysis that clusters passengers into satisfied and not satisfied can be built. We will measure the effectiveness of the model by evaluating Silhouette and a comparison of % Satisfied data. \n",
    "\n",
    "  Many of the variable columns in this dataset are a part of the % Satsified column, so prediction isn't an aspect of this clustering. The intent is to garner insight into the causes for different levels of satisfaction amongst customers, but it cannot be leveraged as a predictive model, as the input for the model includes aspects of the response variable (an aggregate of the various customer satsifaction columns, creates the criteria for satisfied/disatisfied).\n",
    "\n",
    "Why does your chosen validation method make sense for this specific dataset and the stakeholders needs?\n",
    "- Analyzing the variables that determine clusters will provide insight into which factors are most important for airline passenger's satisfaction. This can be leveraged by airline operations, to focus efforts on the areas that are most important for customer satisfaction.\n",
    "\n"
   ]
  },
  {
   "cell_type": "markdown",
   "metadata": {
    "id": "G1PDqikuv6rK"
   },
   "source": [
    "# Data Understanding 1\t"
   ]
  },
  {
   "cell_type": "code",
   "execution_count": 33,
   "metadata": {
    "id": "iFu0jQ5jahrf"
   },
   "outputs": [],
   "source": [
    "import pandas as pd\n",
    "import numpy as np\n",
    "import matplotlib.pyplot as plt\n",
    "import seaborn as sns\n",
    "from sklearn.preprocessing import StandardScaler\n",
    "from sklearn.model_selection import cross_val_score, KFold, StratifiedKFold\n",
    "from sklearn.neighbors import KNeighborsClassifier\n",
    "from sklearn.metrics import accuracy_score, classification_report, roc_auc_score\n",
    "import statistics\n",
    "from matplotlib.colors import ListedColormap\n",
    "from sklearn.cluster import KMeans\n",
    "from sklearn.model_selection import train_test_split\n",
    "from sklearn import tree\n",
    "from sklearn.tree import DecisionTreeClassifier\n",
    "from sklearn.ensemble import RandomForestClassifier\n",
    "from sklearn.metrics import silhouette_score\n",
    "from sklearn.neighbors import NearestNeighbors, KDTree, BallTree\n",
    "from sklearn.cluster import AgglomerativeClustering\n",
    "from scipy.cluster.hierarchy import dendrogram, linkage\n"
   ]
  },
  {
   "cell_type": "code",
   "execution_count": 2,
   "metadata": {
    "colab": {
     "base_uri": "https://localhost:8080/"
    },
    "id": "xduGX895cynI",
    "outputId": "6f465c53-d2fc-442a-8b18-c39385c2ca5a"
   },
   "outputs": [
    {
     "name": "stdout",
     "output_type": "stream",
     "text": [
      "(103904, 23)\n",
      "(25976, 23)\n"
     ]
    }
   ],
   "source": [
    "# read the files into a dataframe\n",
    "train = pd.read_csv('train.csv') \n",
    "test = pd.read_csv('test.csv')\n",
    "\n",
    "train.drop(['Unnamed: 0', 'id'], axis= 1, inplace= True)\n",
    "test.drop(['Unnamed: 0', 'id'], axis= 1, inplace= True)\n",
    "\n",
    "# verify the dataframe loaded\n",
    "print(train.shape)\n",
    "#print(train.head())\n",
    "\n",
    "#print('\\n')\n",
    "print(test.shape)\n",
    "#print(test.head())\n"
   ]
  },
  {
   "cell_type": "markdown",
   "metadata": {
    "id": "PI6WT-e6v8qg"
   },
   "source": [
    "Describe the meaning and type of data (scale, values, etc.) for each attribute in the data file. Verify data quality: \n",
    "\n",
    "\n"
   ]
  },
  {
   "cell_type": "markdown",
   "metadata": {
    "id": "rP5zF-llwupb"
   },
   "source": [
    "| Field                             | Description                                                  | Dtype    |\n",
    "| --------------------------------- | ------------------------------------------------------------ | -------- |\n",
    "| Gender                            | Gender of the passengers (Female, Male)                      | object   |\n",
    "| Customer Type                     | The customer type (Loyal customer, disloyal customer)        | object   |\n",
    "| Age                               | The actual age of the passengers                             | int64    |\n",
    "| Type of Travel                    | Purpose of the flight of the passengers (Personal Travel, Business Travel) | object   |\n",
    "| Class                             | Travel class in the plane of the passengers (Business, Eco, Eco Plus) | object   |\n",
    "| Flight distance                   | The flight distance of this journey                          | int64    |\n",
    "| Inflight wifi service             | Satisfaction level of the inflight wifi service (0:Not Applicable;1-5) | int64    |\n",
    "| Departure/Arrival time convenient | Satisfaction level of Departure/Arrival time convenient     | int64    |\n",
    "| Ease of Online booking            | Satisfaction level of online booking                        | int64    |\n",
    "| Gate location                     | Satisfaction level of Gate location                          | int64    |\n",
    "| Food and drink                    | Satisfaction level of Food and drink                         | int64    |\n",
    "| Online boarding                   | Satisfaction level of online boarding                        | int64    |\n",
    "| Seat comfort                      | Satisfaction level of Seat comfort                           | int64    |\n",
    "| Inflight entertainment            | Satisfaction level of inflight entertainment                 | int64    |\n",
    "| On-board service                  | Satisfaction level of On-board service                       | int64    |\n",
    "| Leg room service                  | Satisfaction level of Leg room service                       | int64    |\n",
    "| Baggage handling                  | Satisfaction level of baggage handling                       | int64    |\n",
    "| Check-in service                  | Satisfaction level of Check-in service                       | int64    |\n",
    "| Inflight service                  | Satisfaction level of inflight service                       | int64    |\n",
    "| Cleanliness                       | Satisfaction level of Cleanliness                            | int64    |\n",
    "| Departure Delay in Minutes        | Minutes delayed when departure                               | int64    |\n",
    "| Arrival Delay in Minutes          | Minutes delayed when Arrival                                 | float64  |\n",
    "| Satisfaction                      | Airline satisfaction level(Satisfaction, neutral or dissatisfaction) | object   |\n"
   ]
  },
  {
   "cell_type": "markdown",
   "metadata": {
    "id": "fPLYtdAL5uyj"
   },
   "source": [
    "All of the satisfaction level fields are ranked between 0-5. The Satisfaction column is a calculated field, based on the overages of the other satisfaction fields:\n",
    "- Inflight wifi service\n",
    "- Departure/Arrival time convenient\n",
    "- Ease of Online booking\n",
    "- Gate location\n",
    "- Food and drink\n",
    "- Online boarding\n",
    "- Seat comfort\n",
    "- Inflight entertainment\n",
    "- Onboard service\n",
    "- Leg room service\n",
    "- Baggage handling\n",
    "- Check-in service\n",
    "- Inflight service\n",
    "- Cleanliness\n"
   ]
  },
  {
   "cell_type": "code",
   "execution_count": 3,
   "metadata": {
    "id": "M4Zu1grIoshR"
   },
   "outputs": [],
   "source": [
    "frames = [train,test]\n",
    "\n",
    "result = pd.concat(frames)"
   ]
  },
  {
   "cell_type": "code",
   "execution_count": 4,
   "metadata": {
    "colab": {
     "base_uri": "https://localhost:8080/",
     "height": 937
    },
    "id": "uT2Cwzp4d2Wc",
    "outputId": "023e6af8-703f-436a-975c-b52787619de4"
   },
   "outputs": [
    {
     "name": "stdout",
     "output_type": "stream",
     "text": [
      "<class 'pandas.core.frame.DataFrame'>\n",
      "Int64Index: 129880 entries, 0 to 25975\n",
      "Data columns (total 23 columns):\n",
      " #   Column                             Non-Null Count   Dtype  \n",
      "---  ------                             --------------   -----  \n",
      " 0   Gender                             129880 non-null  object \n",
      " 1   Customer Type                      129880 non-null  object \n",
      " 2   Age                                129880 non-null  int64  \n",
      " 3   Type of Travel                     129880 non-null  object \n",
      " 4   Class                              129880 non-null  object \n",
      " 5   Flight Distance                    129880 non-null  int64  \n",
      " 6   Inflight wifi service              129880 non-null  int64  \n",
      " 7   Departure/Arrival time convenient  129880 non-null  int64  \n",
      " 8   Ease of Online booking             129880 non-null  int64  \n",
      " 9   Gate location                      129880 non-null  int64  \n",
      " 10  Food and drink                     129880 non-null  int64  \n",
      " 11  Online boarding                    129880 non-null  int64  \n",
      " 12  Seat comfort                       129880 non-null  int64  \n",
      " 13  Inflight entertainment             129880 non-null  int64  \n",
      " 14  On-board service                   129880 non-null  int64  \n",
      " 15  Leg room service                   129880 non-null  int64  \n",
      " 16  Baggage handling                   129880 non-null  int64  \n",
      " 17  Checkin service                    129880 non-null  int64  \n",
      " 18  Inflight service                   129880 non-null  int64  \n",
      " 19  Cleanliness                        129880 non-null  int64  \n",
      " 20  Departure Delay in Minutes         129880 non-null  int64  \n",
      " 21  Arrival Delay in Minutes           129487 non-null  float64\n",
      " 22  satisfaction                       129880 non-null  object \n",
      "dtypes: float64(1), int64(17), object(5)\n",
      "memory usage: 23.8+ MB\n",
      "None\n"
     ]
    },
    {
     "data": {
      "text/html": [
       "<div>\n",
       "<style scoped>\n",
       "    .dataframe tbody tr th:only-of-type {\n",
       "        vertical-align: middle;\n",
       "    }\n",
       "\n",
       "    .dataframe tbody tr th {\n",
       "        vertical-align: top;\n",
       "    }\n",
       "\n",
       "    .dataframe thead th {\n",
       "        text-align: right;\n",
       "    }\n",
       "</style>\n",
       "<table border=\"1\" class=\"dataframe\">\n",
       "  <thead>\n",
       "    <tr style=\"text-align: right;\">\n",
       "      <th></th>\n",
       "      <th>Age</th>\n",
       "      <th>Flight Distance</th>\n",
       "      <th>Inflight wifi service</th>\n",
       "      <th>Departure/Arrival time convenient</th>\n",
       "      <th>Ease of Online booking</th>\n",
       "      <th>Gate location</th>\n",
       "      <th>Food and drink</th>\n",
       "      <th>Online boarding</th>\n",
       "      <th>Seat comfort</th>\n",
       "      <th>Inflight entertainment</th>\n",
       "      <th>On-board service</th>\n",
       "      <th>Leg room service</th>\n",
       "      <th>Baggage handling</th>\n",
       "      <th>Checkin service</th>\n",
       "      <th>Inflight service</th>\n",
       "      <th>Cleanliness</th>\n",
       "      <th>Departure Delay in Minutes</th>\n",
       "      <th>Arrival Delay in Minutes</th>\n",
       "    </tr>\n",
       "  </thead>\n",
       "  <tbody>\n",
       "    <tr>\n",
       "      <th>count</th>\n",
       "      <td>129880.000000</td>\n",
       "      <td>129880.000000</td>\n",
       "      <td>129880.000000</td>\n",
       "      <td>129880.000000</td>\n",
       "      <td>129880.000000</td>\n",
       "      <td>129880.000000</td>\n",
       "      <td>129880.000000</td>\n",
       "      <td>129880.000000</td>\n",
       "      <td>129880.000000</td>\n",
       "      <td>129880.000000</td>\n",
       "      <td>129880.000000</td>\n",
       "      <td>129880.000000</td>\n",
       "      <td>129880.000000</td>\n",
       "      <td>129880.000000</td>\n",
       "      <td>129880.000000</td>\n",
       "      <td>129880.000000</td>\n",
       "      <td>129880.000000</td>\n",
       "      <td>129487.000000</td>\n",
       "    </tr>\n",
       "    <tr>\n",
       "      <th>mean</th>\n",
       "      <td>39.427957</td>\n",
       "      <td>1190.316392</td>\n",
       "      <td>2.728696</td>\n",
       "      <td>3.057599</td>\n",
       "      <td>2.756876</td>\n",
       "      <td>2.976925</td>\n",
       "      <td>3.204774</td>\n",
       "      <td>3.252633</td>\n",
       "      <td>3.441361</td>\n",
       "      <td>3.358077</td>\n",
       "      <td>3.383023</td>\n",
       "      <td>3.350878</td>\n",
       "      <td>3.632114</td>\n",
       "      <td>3.306267</td>\n",
       "      <td>3.642193</td>\n",
       "      <td>3.286326</td>\n",
       "      <td>14.713713</td>\n",
       "      <td>15.091129</td>\n",
       "    </tr>\n",
       "    <tr>\n",
       "      <th>std</th>\n",
       "      <td>15.119360</td>\n",
       "      <td>997.452477</td>\n",
       "      <td>1.329340</td>\n",
       "      <td>1.526741</td>\n",
       "      <td>1.401740</td>\n",
       "      <td>1.278520</td>\n",
       "      <td>1.329933</td>\n",
       "      <td>1.350719</td>\n",
       "      <td>1.319289</td>\n",
       "      <td>1.334049</td>\n",
       "      <td>1.287099</td>\n",
       "      <td>1.316252</td>\n",
       "      <td>1.180025</td>\n",
       "      <td>1.266185</td>\n",
       "      <td>1.176669</td>\n",
       "      <td>1.313682</td>\n",
       "      <td>38.071126</td>\n",
       "      <td>38.465650</td>\n",
       "    </tr>\n",
       "    <tr>\n",
       "      <th>min</th>\n",
       "      <td>7.000000</td>\n",
       "      <td>31.000000</td>\n",
       "      <td>0.000000</td>\n",
       "      <td>0.000000</td>\n",
       "      <td>0.000000</td>\n",
       "      <td>0.000000</td>\n",
       "      <td>0.000000</td>\n",
       "      <td>0.000000</td>\n",
       "      <td>0.000000</td>\n",
       "      <td>0.000000</td>\n",
       "      <td>0.000000</td>\n",
       "      <td>0.000000</td>\n",
       "      <td>1.000000</td>\n",
       "      <td>0.000000</td>\n",
       "      <td>0.000000</td>\n",
       "      <td>0.000000</td>\n",
       "      <td>0.000000</td>\n",
       "      <td>0.000000</td>\n",
       "    </tr>\n",
       "    <tr>\n",
       "      <th>25%</th>\n",
       "      <td>27.000000</td>\n",
       "      <td>414.000000</td>\n",
       "      <td>2.000000</td>\n",
       "      <td>2.000000</td>\n",
       "      <td>2.000000</td>\n",
       "      <td>2.000000</td>\n",
       "      <td>2.000000</td>\n",
       "      <td>2.000000</td>\n",
       "      <td>2.000000</td>\n",
       "      <td>2.000000</td>\n",
       "      <td>2.000000</td>\n",
       "      <td>2.000000</td>\n",
       "      <td>3.000000</td>\n",
       "      <td>3.000000</td>\n",
       "      <td>3.000000</td>\n",
       "      <td>2.000000</td>\n",
       "      <td>0.000000</td>\n",
       "      <td>0.000000</td>\n",
       "    </tr>\n",
       "    <tr>\n",
       "      <th>50%</th>\n",
       "      <td>40.000000</td>\n",
       "      <td>844.000000</td>\n",
       "      <td>3.000000</td>\n",
       "      <td>3.000000</td>\n",
       "      <td>3.000000</td>\n",
       "      <td>3.000000</td>\n",
       "      <td>3.000000</td>\n",
       "      <td>3.000000</td>\n",
       "      <td>4.000000</td>\n",
       "      <td>4.000000</td>\n",
       "      <td>4.000000</td>\n",
       "      <td>4.000000</td>\n",
       "      <td>4.000000</td>\n",
       "      <td>3.000000</td>\n",
       "      <td>4.000000</td>\n",
       "      <td>3.000000</td>\n",
       "      <td>0.000000</td>\n",
       "      <td>0.000000</td>\n",
       "    </tr>\n",
       "    <tr>\n",
       "      <th>75%</th>\n",
       "      <td>51.000000</td>\n",
       "      <td>1744.000000</td>\n",
       "      <td>4.000000</td>\n",
       "      <td>4.000000</td>\n",
       "      <td>4.000000</td>\n",
       "      <td>4.000000</td>\n",
       "      <td>4.000000</td>\n",
       "      <td>4.000000</td>\n",
       "      <td>5.000000</td>\n",
       "      <td>4.000000</td>\n",
       "      <td>4.000000</td>\n",
       "      <td>4.000000</td>\n",
       "      <td>5.000000</td>\n",
       "      <td>4.000000</td>\n",
       "      <td>5.000000</td>\n",
       "      <td>4.000000</td>\n",
       "      <td>12.000000</td>\n",
       "      <td>13.000000</td>\n",
       "    </tr>\n",
       "    <tr>\n",
       "      <th>max</th>\n",
       "      <td>85.000000</td>\n",
       "      <td>4983.000000</td>\n",
       "      <td>5.000000</td>\n",
       "      <td>5.000000</td>\n",
       "      <td>5.000000</td>\n",
       "      <td>5.000000</td>\n",
       "      <td>5.000000</td>\n",
       "      <td>5.000000</td>\n",
       "      <td>5.000000</td>\n",
       "      <td>5.000000</td>\n",
       "      <td>5.000000</td>\n",
       "      <td>5.000000</td>\n",
       "      <td>5.000000</td>\n",
       "      <td>5.000000</td>\n",
       "      <td>5.000000</td>\n",
       "      <td>5.000000</td>\n",
       "      <td>1592.000000</td>\n",
       "      <td>1584.000000</td>\n",
       "    </tr>\n",
       "  </tbody>\n",
       "</table>\n",
       "</div>"
      ],
      "text/plain": [
       "                 Age  Flight Distance  Inflight wifi service  \\\n",
       "count  129880.000000    129880.000000          129880.000000   \n",
       "mean       39.427957      1190.316392               2.728696   \n",
       "std        15.119360       997.452477               1.329340   \n",
       "min         7.000000        31.000000               0.000000   \n",
       "25%        27.000000       414.000000               2.000000   \n",
       "50%        40.000000       844.000000               3.000000   \n",
       "75%        51.000000      1744.000000               4.000000   \n",
       "max        85.000000      4983.000000               5.000000   \n",
       "\n",
       "       Departure/Arrival time convenient  Ease of Online booking  \\\n",
       "count                      129880.000000           129880.000000   \n",
       "mean                            3.057599                2.756876   \n",
       "std                             1.526741                1.401740   \n",
       "min                             0.000000                0.000000   \n",
       "25%                             2.000000                2.000000   \n",
       "50%                             3.000000                3.000000   \n",
       "75%                             4.000000                4.000000   \n",
       "max                             5.000000                5.000000   \n",
       "\n",
       "       Gate location  Food and drink  Online boarding   Seat comfort  \\\n",
       "count  129880.000000   129880.000000    129880.000000  129880.000000   \n",
       "mean        2.976925        3.204774         3.252633       3.441361   \n",
       "std         1.278520        1.329933         1.350719       1.319289   \n",
       "min         0.000000        0.000000         0.000000       0.000000   \n",
       "25%         2.000000        2.000000         2.000000       2.000000   \n",
       "50%         3.000000        3.000000         3.000000       4.000000   \n",
       "75%         4.000000        4.000000         4.000000       5.000000   \n",
       "max         5.000000        5.000000         5.000000       5.000000   \n",
       "\n",
       "       Inflight entertainment  On-board service  Leg room service  \\\n",
       "count           129880.000000     129880.000000     129880.000000   \n",
       "mean                 3.358077          3.383023          3.350878   \n",
       "std                  1.334049          1.287099          1.316252   \n",
       "min                  0.000000          0.000000          0.000000   \n",
       "25%                  2.000000          2.000000          2.000000   \n",
       "50%                  4.000000          4.000000          4.000000   \n",
       "75%                  4.000000          4.000000          4.000000   \n",
       "max                  5.000000          5.000000          5.000000   \n",
       "\n",
       "       Baggage handling  Checkin service  Inflight service    Cleanliness  \\\n",
       "count     129880.000000    129880.000000     129880.000000  129880.000000   \n",
       "mean           3.632114         3.306267          3.642193       3.286326   \n",
       "std            1.180025         1.266185          1.176669       1.313682   \n",
       "min            1.000000         0.000000          0.000000       0.000000   \n",
       "25%            3.000000         3.000000          3.000000       2.000000   \n",
       "50%            4.000000         3.000000          4.000000       3.000000   \n",
       "75%            5.000000         4.000000          5.000000       4.000000   \n",
       "max            5.000000         5.000000          5.000000       5.000000   \n",
       "\n",
       "       Departure Delay in Minutes  Arrival Delay in Minutes  \n",
       "count               129880.000000             129487.000000  \n",
       "mean                    14.713713                 15.091129  \n",
       "std                     38.071126                 38.465650  \n",
       "min                      0.000000                  0.000000  \n",
       "25%                      0.000000                  0.000000  \n",
       "50%                      0.000000                  0.000000  \n",
       "75%                     12.000000                 13.000000  \n",
       "max                   1592.000000               1584.000000  "
      ]
     },
     "execution_count": 4,
     "metadata": {},
     "output_type": "execute_result"
    }
   ],
   "source": [
    "print(result.info())\n",
    "\n",
    "result.describe()"
   ]
  },
  {
   "cell_type": "code",
   "execution_count": 5,
   "metadata": {
    "colab": {
     "base_uri": "https://localhost:8080/"
    },
    "id": "U7wJhVVue8Ib",
    "outputId": "5bf03d91-4457-4315-b4d6-cb228ec68428"
   },
   "outputs": [
    {
     "data": {
      "text/plain": [
       "Gender                                 0\n",
       "Customer Type                          0\n",
       "Age                                    0\n",
       "Type of Travel                         0\n",
       "Class                                  0\n",
       "Flight Distance                        0\n",
       "Inflight wifi service                  0\n",
       "Departure/Arrival time convenient      0\n",
       "Ease of Online booking                 0\n",
       "Gate location                          0\n",
       "Food and drink                         0\n",
       "Online boarding                        0\n",
       "Seat comfort                           0\n",
       "Inflight entertainment                 0\n",
       "On-board service                       0\n",
       "Leg room service                       0\n",
       "Baggage handling                       0\n",
       "Checkin service                        0\n",
       "Inflight service                       0\n",
       "Cleanliness                            0\n",
       "Departure Delay in Minutes             0\n",
       "Arrival Delay in Minutes             393\n",
       "satisfaction                           0\n",
       "dtype: int64"
      ]
     },
     "execution_count": 5,
     "metadata": {},
     "output_type": "execute_result"
    }
   ],
   "source": [
    "result.isnull().sum()"
   ]
  },
  {
   "cell_type": "code",
   "execution_count": 6,
   "metadata": {
    "colab": {
     "base_uri": "https://localhost:8080/"
    },
    "id": "j_oroB9f4HRw",
    "outputId": "a7199841-b041-4180-bd8f-a8cfd58c6949"
   },
   "outputs": [
    {
     "name": "stdout",
     "output_type": "stream",
     "text": [
      "Mean:  15.09112883918849\n",
      "Median:  0.0\n",
      "Mode:  0.0\n"
     ]
    }
   ],
   "source": [
    "print('Mean: ', result['Arrival Delay in Minutes'].mean())\n",
    "print('Median: ', result['Arrival Delay in Minutes'].median())\n",
    "print('Mode: ', statistics.mode(result['Arrival Delay in Minutes']))"
   ]
  },
  {
   "cell_type": "markdown",
   "metadata": {
    "id": "lULtimrlpB9V"
   },
   "source": [
    "### Verify data quality: \n",
    "\n",
    "Are there missing values?   \n",
    "There are 310 missing values in the Arrival Delay in Minutes column.\n",
    "- We eliminated an unnecessary column which showed the row number from the dataframe."
   ]
  },
  {
   "cell_type": "code",
   "execution_count": 7,
   "metadata": {
    "colab": {
     "base_uri": "https://localhost:8080/"
    },
    "id": "ilJk9pwLozWK",
    "outputId": "928d077b-c700-443b-be1d-adc723522d0a"
   },
   "outputs": [
    {
     "data": {
      "text/plain": [
       "0"
      ]
     },
     "execution_count": 7,
     "metadata": {},
     "output_type": "execute_result"
    }
   ],
   "source": [
    "result_dupes = len(result)-len(result.drop_duplicates())\n",
    "result_dupes"
   ]
  },
  {
   "cell_type": "markdown",
   "metadata": {
    "id": "H-qsDAKvpI8c"
   },
   "source": [
    "\n",
    "Duplicate data? \n",
    "- There was no duplicate data."
   ]
  },
  {
   "cell_type": "code",
   "execution_count": 8,
   "metadata": {
    "colab": {
     "base_uri": "https://localhost:8080/",
     "height": 520
    },
    "id": "7PJ1b9htn8tk",
    "outputId": "eb98d3ee-b1c3-42c8-f9eb-1e5a816bedf6"
   },
   "outputs": [
    {
     "data": {
      "text/plain": [
       "<AxesSubplot:xlabel='Flight Distance', ylabel='Count'>"
      ]
     },
     "execution_count": 8,
     "metadata": {},
     "output_type": "execute_result"
    },
    {
     "data": {
      "image/png": "[encoded data removed]",
      "text/plain": [
       "<Figure size 432x288 with 1 Axes>"
      ]
     },
     "metadata": {
      "needs_background": "light"
     },
     "output_type": "display_data"
    }
   ],
   "source": [
    "sns.histplot(result['Flight Distance'])"
   ]
  },
  {
   "cell_type": "markdown",
   "metadata": {
    "id": "28yMT3Hb3jKr"
   },
   "source": [
    "\n",
    "\n",
    "Outliers? \n",
    "- Flight Distance had some outliers, and is right skewed, but does not appear to be an error given the dataset-- and variety of distances people can travel by flight.\n",
    "\n",
    "Are those mistakes? \n",
    "- The missing values for Arrival Delay in Minutes, appears to be flights that arrived on time. \n",
    "\n",
    "How do you deal with these problems?\n",
    "- We can either impute the mean or make them 0 or delete these observations. Seeing as how the Mode and the Median are both 0, we will impute them as 0."
   ]
  },
  {
   "cell_type": "code",
   "execution_count": 9,
   "metadata": {
    "colab": {
     "base_uri": "https://localhost:8080/"
    },
    "id": "MxWHrCiB4v_T",
    "outputId": "67263a27-1c13-49d2-f932-9e58c0797a96"
   },
   "outputs": [
    {
     "data": {
      "text/plain": [
       "Gender                               0\n",
       "Customer Type                        0\n",
       "Age                                  0\n",
       "Type of Travel                       0\n",
       "Class                                0\n",
       "Flight Distance                      0\n",
       "Inflight wifi service                0\n",
       "Departure/Arrival time convenient    0\n",
       "Ease of Online booking               0\n",
       "Gate location                        0\n",
       "Food and drink                       0\n",
       "Online boarding                      0\n",
       "Seat comfort                         0\n",
       "Inflight entertainment               0\n",
       "On-board service                     0\n",
       "Leg room service                     0\n",
       "Baggage handling                     0\n",
       "Checkin service                      0\n",
       "Inflight service                     0\n",
       "Cleanliness                          0\n",
       "Departure Delay in Minutes           0\n",
       "Arrival Delay in Minutes             0\n",
       "satisfaction                         0\n",
       "dtype: int64"
      ]
     },
     "execution_count": 9,
     "metadata": {},
     "output_type": "execute_result"
    }
   ],
   "source": [
    "# make missing values 0\n",
    "result['Departure Delay in Minutes'] = result['Departure Delay in Minutes'].fillna(0)\n",
    "result['Arrival Delay in Minutes'] = result['Arrival Delay in Minutes'].fillna(0)\n",
    "\n",
    "#had a single row showing up as null across all variables from the import\n",
    "result=result.dropna()\n",
    "\n",
    "# check missing values again\n",
    "result.isnull().sum()"
   ]
  },
  {
   "cell_type": "markdown",
   "metadata": {
    "id": "x2SOn3gP6vJS"
   },
   "source": [
    "# Data Understanding 2\t"
   ]
  },
  {
   "cell_type": "markdown",
   "metadata": {
    "id": "tR9A9bPl6xq4"
   },
   "source": [
    "Visualize the any important attributes appropriately. Important: Provide an interpretation for any charts or graphs.\n"
   ]
  },
  {
   "cell_type": "code",
   "execution_count": 10,
   "metadata": {
    "id": "cOvq1G9A7Vmk"
   },
   "outputs": [],
   "source": [
    "# Utilized https://towardsdatascience.com/how-to-use-your-own-color-palettes-with-seaborn-a45bf5175146\n",
    "\n",
    "# SMU Colors\n",
    "my_colors = ['#0033A0', '#C8102E']\n",
    "sns.set_palette(sns.color_palette(my_colors))"
   ]
  },
  {
   "cell_type": "code",
   "execution_count": 11,
   "metadata": {
    "colab": {
     "base_uri": "https://localhost:8080/",
     "height": 1000
    },
    "id": "QBXu5bsb6K38",
    "outputId": "39cebe64-256e-4790-87b0-7deb3851746b"
   },
   "outputs": [
    {
     "data": {
      "image/png": "[encoded data removed]",
      "text/plain": [
       "<Figure size 1080x1152 with 10 Axes>"
      ]
     },
     "metadata": {
      "needs_background": "light"
     },
     "output_type": "display_data"
    }
   ],
   "source": [
    "fig, axes = plt.subplots(5, 2, figsize = (15, 16))\n",
    "\n",
    "sns.countplot(x = 'Customer Type', data = result, hue = 'satisfaction', ax = axes[0, 0]);\n",
    "sns.countplot(x = 'Type of Travel', data = result, hue = 'satisfaction', ax = axes[0, 1]);\n",
    "sns.countplot(x = 'Class', data = result, hue = 'satisfaction', ax = axes[1, 0]);\n",
    "sns.countplot(x = 'Inflight wifi service', data = result, hue = 'satisfaction', ax = axes[1, 1]);\n",
    "sns.countplot(x = 'Departure/Arrival time convenient', data = result, hue = 'satisfaction', ax = axes[2, 0]);\n",
    "sns.countplot(x = 'On-board service', data = result, hue = 'satisfaction', ax = axes[2, 1]);\n",
    "sns.countplot(x = 'Ease of Online booking', data = result, hue = 'satisfaction', ax = axes[3, 0]);\n",
    "sns.countplot(x = 'Food and drink', data = result, hue = 'satisfaction', ax = axes[3, 1]);\n",
    "sns.countplot(x = 'Inflight service', data = result, hue = 'satisfaction', ax = axes[4,  0]);\n",
    "sns.countplot(x = 'Cleanliness', data = result, hue = 'satisfaction', ax = axes[4, 1]);\n"
   ]
  },
  {
   "cell_type": "markdown",
   "metadata": {
    "id": "BHLvMqJ7OtE3"
   },
   "source": [
    "## Variables with an impact on Satisfaction. \n",
    "Looking at where there is a large drop off from satisfied vs. neutral/dissatisfied.\n",
    "\n",
    "### Customers\n",
    "- Loyal Customers have a large skew of higher satisfaction.\n",
    "- Business class flyers also have higher satifaction vs. personal travelers.\n",
    "\n",
    "### Flight amenities\n",
    "- As you may expect, business class has higher satisfaction.\n",
    "- Cleanliness rating looks to be important for overall satisfaction.\n",
    "- Also seeing larger deltas in satisfied vs. not in Food and Drink, inflight service, and ease of online booking. \n",
    "\n",
    "Found it surprising that there isn't a large drop off for departure/arrival times being convenient. Potentially passengers have some awareness of uncontrollable factors impacting flight times, and do not consider it part of how they rate an airline overall.\n"
   ]
  },
  {
   "cell_type": "code",
   "execution_count": 12,
   "metadata": {
    "id": "5o8p8F8093dM"
   },
   "outputs": [],
   "source": [
    "num_columns = ['Inflight wifi service', 'Departure/Arrival time convenient',\n",
    "               'Ease of Online booking', 'Gate location', 'Food and drink', 'Online boarding', 'Seat comfort',\n",
    "               'Inflight entertainment', 'On-board service', 'Leg room service', 'Baggage handling',\n",
    "               'Checkin service', 'Inflight service', 'Cleanliness']"
   ]
  },
  {
   "cell_type": "code",
   "execution_count": 13,
   "metadata": {
    "colab": {
     "base_uri": "https://localhost:8080/",
     "height": 920
    },
    "id": "dblf50L6_MQw",
    "outputId": "69588246-131a-4a34-9acf-ee4c4ca0357a"
   },
   "outputs": [
    {
     "data": {
      "image/png": "[encoded data removed]",
      "text/plain": [
       "<Figure size 1296x1008 with 12 Axes>"
      ]
     },
     "metadata": {
      "needs_background": "light"
     },
     "output_type": "display_data"
    }
   ],
   "source": [
    "fig, axes = plt.subplots(4, 3, figsize = (18, 14))\n",
    "\n",
    "i=0\n",
    "a=0\n",
    "\n",
    "for col in num_columns:\n",
    "    i = 0 if i == 3 else i\n",
    "    a = 0 if a==4 else a\n",
    "    sns.histplot(train[col], ax = axes[a, i])#.set_title(col)\n",
    "    \n",
    "    a+=1\n",
    "    i+=1"
   ]
  },
  {
   "cell_type": "markdown",
   "metadata": {
    "id": "naPq7ATf9fT_"
   },
   "source": [
    "## Customer Satisfaction histogram plots\n",
    "\n",
    "- For the most part, responses have the highest volume in the 4-5 satifaction range, which makes the plots with high volume at 2 or 3 stand out in contrast.\n",
    "\n",
    "  - \"Ease of Online booking\" we can see that the highest counts are  at the 2-3 range, and 4-5 is lower. This indicates a potential opportunity, as the other graphs show a higher volume of satisfied customers at the 4-5 range.\n",
    "  - Gate location is another area where we see a score of 3 as highest, instead of 4-5.\n"
   ]
  },
  {
   "cell_type": "code",
   "execution_count": 15,
   "metadata": {},
   "outputs": [],
   "source": [
    "import warnings\n",
    "warnings.filterwarnings(\"ignore\")"
   ]
  },
  {
   "cell_type": "code",
   "execution_count": 16,
   "metadata": {
    "colab": {
     "base_uri": "https://localhost:8080/",
     "height": 284
    },
    "id": "eCEB9p5I_Ph3",
    "outputId": "5bd880b3-afe3-48a0-bd17-077d712f5596"
   },
   "outputs": [
    {
     "data": {
      "image/png": "[encoded data removed]",
      "text/plain": [
       "<Figure size 1800x360 with 4 Axes>"
      ]
     },
     "metadata": {
      "needs_background": "light"
     },
     "output_type": "display_data"
    }
   ],
   "source": [
    "num_columns = ['Age', 'Flight Distance',  'Departure Delay in Minutes', 'Arrival Delay in Minutes']\n",
    "\n",
    "fig, axes = plt.subplots(1, 4, figsize = (25, 5))\n",
    "\n",
    "i=0\n",
    "a=0\n",
    "\n",
    "for col in num_columns:\n",
    "    i = 0 if i == 4 else i\n",
    "    sns.boxplot(train[col], orient = 'horizontal', ax = axes[ i]).set_title(col)\n",
    "    i+=1;\n",
    "    \n",
    "    "
   ]
  },
  {
   "cell_type": "markdown",
   "metadata": {
    "id": "ZcVLILBR9Bjj"
   },
   "source": [
    "We see right skewed data for departure/arrival delays in minutes, which makes sense given the subject. Some of the outliers for arrival/departure delay represent 26 hour delays.\n",
    "\n",
    "We found it interesting that responses under 18 were included for this dataset (shown in the Age box plot)."
   ]
  },
  {
   "cell_type": "markdown",
   "metadata": {
    "id": "32iFbDqGQysf"
   },
   "source": [
    "# Modeling and Evaluation 1\t"
   ]
  },
  {
   "cell_type": "code",
   "execution_count": 17,
   "metadata": {
    "colab": {
     "base_uri": "https://localhost:8080/",
     "height": 522
    },
    "id": "1DWSujhLXhut",
    "outputId": "266eb300-cc2e-4ef9-af79-0dee6efd9da5"
   },
   "outputs": [
    {
     "data": {
      "text/html": [
       "<div>\n",
       "<style scoped>\n",
       "    .dataframe tbody tr th:only-of-type {\n",
       "        vertical-align: middle;\n",
       "    }\n",
       "\n",
       "    .dataframe tbody tr th {\n",
       "        vertical-align: top;\n",
       "    }\n",
       "\n",
       "    .dataframe thead th {\n",
       "        text-align: right;\n",
       "    }\n",
       "</style>\n",
       "<table border=\"1\" class=\"dataframe\">\n",
       "  <thead>\n",
       "    <tr style=\"text-align: right;\">\n",
       "      <th></th>\n",
       "      <th>Age</th>\n",
       "      <th>Flight Distance</th>\n",
       "      <th>Inflight wifi service</th>\n",
       "      <th>Departure/Arrival time convenient</th>\n",
       "      <th>Ease of Online booking</th>\n",
       "      <th>Gate location</th>\n",
       "      <th>Food and drink</th>\n",
       "      <th>Online boarding</th>\n",
       "      <th>Seat comfort</th>\n",
       "      <th>Inflight entertainment</th>\n",
       "      <th>...</th>\n",
       "      <th>Gender_Male</th>\n",
       "      <th>Customer Type_Loyal Customer</th>\n",
       "      <th>Customer Type_disloyal Customer</th>\n",
       "      <th>Type of Travel_Business travel</th>\n",
       "      <th>Type of Travel_Personal Travel</th>\n",
       "      <th>Class_Business</th>\n",
       "      <th>Class_Eco</th>\n",
       "      <th>Class_Eco Plus</th>\n",
       "      <th>satisfaction_neutral or dissatisfied</th>\n",
       "      <th>satisfaction_satisfied</th>\n",
       "    </tr>\n",
       "  </thead>\n",
       "  <tbody>\n",
       "    <tr>\n",
       "      <th>0</th>\n",
       "      <td>13</td>\n",
       "      <td>460</td>\n",
       "      <td>3</td>\n",
       "      <td>4</td>\n",
       "      <td>3</td>\n",
       "      <td>1</td>\n",
       "      <td>5</td>\n",
       "      <td>3</td>\n",
       "      <td>5</td>\n",
       "      <td>5</td>\n",
       "      <td>...</td>\n",
       "      <td>1</td>\n",
       "      <td>1</td>\n",
       "      <td>0</td>\n",
       "      <td>0</td>\n",
       "      <td>1</td>\n",
       "      <td>0</td>\n",
       "      <td>0</td>\n",
       "      <td>1</td>\n",
       "      <td>1</td>\n",
       "      <td>0</td>\n",
       "    </tr>\n",
       "    <tr>\n",
       "      <th>1</th>\n",
       "      <td>25</td>\n",
       "      <td>235</td>\n",
       "      <td>3</td>\n",
       "      <td>2</td>\n",
       "      <td>3</td>\n",
       "      <td>3</td>\n",
       "      <td>1</td>\n",
       "      <td>3</td>\n",
       "      <td>1</td>\n",
       "      <td>1</td>\n",
       "      <td>...</td>\n",
       "      <td>1</td>\n",
       "      <td>0</td>\n",
       "      <td>1</td>\n",
       "      <td>1</td>\n",
       "      <td>0</td>\n",
       "      <td>1</td>\n",
       "      <td>0</td>\n",
       "      <td>0</td>\n",
       "      <td>1</td>\n",
       "      <td>0</td>\n",
       "    </tr>\n",
       "    <tr>\n",
       "      <th>2</th>\n",
       "      <td>26</td>\n",
       "      <td>1142</td>\n",
       "      <td>2</td>\n",
       "      <td>2</td>\n",
       "      <td>2</td>\n",
       "      <td>2</td>\n",
       "      <td>5</td>\n",
       "      <td>5</td>\n",
       "      <td>5</td>\n",
       "      <td>5</td>\n",
       "      <td>...</td>\n",
       "      <td>0</td>\n",
       "      <td>1</td>\n",
       "      <td>0</td>\n",
       "      <td>1</td>\n",
       "      <td>0</td>\n",
       "      <td>1</td>\n",
       "      <td>0</td>\n",
       "      <td>0</td>\n",
       "      <td>0</td>\n",
       "      <td>1</td>\n",
       "    </tr>\n",
       "    <tr>\n",
       "      <th>3</th>\n",
       "      <td>25</td>\n",
       "      <td>562</td>\n",
       "      <td>2</td>\n",
       "      <td>5</td>\n",
       "      <td>5</td>\n",
       "      <td>5</td>\n",
       "      <td>2</td>\n",
       "      <td>2</td>\n",
       "      <td>2</td>\n",
       "      <td>2</td>\n",
       "      <td>...</td>\n",
       "      <td>0</td>\n",
       "      <td>1</td>\n",
       "      <td>0</td>\n",
       "      <td>1</td>\n",
       "      <td>0</td>\n",
       "      <td>1</td>\n",
       "      <td>0</td>\n",
       "      <td>0</td>\n",
       "      <td>1</td>\n",
       "      <td>0</td>\n",
       "    </tr>\n",
       "    <tr>\n",
       "      <th>4</th>\n",
       "      <td>61</td>\n",
       "      <td>214</td>\n",
       "      <td>3</td>\n",
       "      <td>3</td>\n",
       "      <td>3</td>\n",
       "      <td>3</td>\n",
       "      <td>4</td>\n",
       "      <td>5</td>\n",
       "      <td>5</td>\n",
       "      <td>3</td>\n",
       "      <td>...</td>\n",
       "      <td>1</td>\n",
       "      <td>1</td>\n",
       "      <td>0</td>\n",
       "      <td>1</td>\n",
       "      <td>0</td>\n",
       "      <td>1</td>\n",
       "      <td>0</td>\n",
       "      <td>0</td>\n",
       "      <td>0</td>\n",
       "      <td>1</td>\n",
       "    </tr>\n",
       "    <tr>\n",
       "      <th>...</th>\n",
       "      <td>...</td>\n",
       "      <td>...</td>\n",
       "      <td>...</td>\n",
       "      <td>...</td>\n",
       "      <td>...</td>\n",
       "      <td>...</td>\n",
       "      <td>...</td>\n",
       "      <td>...</td>\n",
       "      <td>...</td>\n",
       "      <td>...</td>\n",
       "      <td>...</td>\n",
       "      <td>...</td>\n",
       "      <td>...</td>\n",
       "      <td>...</td>\n",
       "      <td>...</td>\n",
       "      <td>...</td>\n",
       "      <td>...</td>\n",
       "      <td>...</td>\n",
       "      <td>...</td>\n",
       "      <td>...</td>\n",
       "      <td>...</td>\n",
       "    </tr>\n",
       "    <tr>\n",
       "      <th>25971</th>\n",
       "      <td>34</td>\n",
       "      <td>526</td>\n",
       "      <td>3</td>\n",
       "      <td>3</td>\n",
       "      <td>3</td>\n",
       "      <td>1</td>\n",
       "      <td>4</td>\n",
       "      <td>3</td>\n",
       "      <td>4</td>\n",
       "      <td>4</td>\n",
       "      <td>...</td>\n",
       "      <td>1</td>\n",
       "      <td>0</td>\n",
       "      <td>1</td>\n",
       "      <td>1</td>\n",
       "      <td>0</td>\n",
       "      <td>1</td>\n",
       "      <td>0</td>\n",
       "      <td>0</td>\n",
       "      <td>1</td>\n",
       "      <td>0</td>\n",
       "    </tr>\n",
       "    <tr>\n",
       "      <th>25972</th>\n",
       "      <td>23</td>\n",
       "      <td>646</td>\n",
       "      <td>4</td>\n",
       "      <td>4</td>\n",
       "      <td>4</td>\n",
       "      <td>4</td>\n",
       "      <td>4</td>\n",
       "      <td>4</td>\n",
       "      <td>4</td>\n",
       "      <td>4</td>\n",
       "      <td>...</td>\n",
       "      <td>1</td>\n",
       "      <td>1</td>\n",
       "      <td>0</td>\n",
       "      <td>1</td>\n",
       "      <td>0</td>\n",
       "      <td>1</td>\n",
       "      <td>0</td>\n",
       "      <td>0</td>\n",
       "      <td>0</td>\n",
       "      <td>1</td>\n",
       "    </tr>\n",
       "    <tr>\n",
       "      <th>25973</th>\n",
       "      <td>17</td>\n",
       "      <td>828</td>\n",
       "      <td>2</td>\n",
       "      <td>5</td>\n",
       "      <td>1</td>\n",
       "      <td>5</td>\n",
       "      <td>2</td>\n",
       "      <td>1</td>\n",
       "      <td>2</td>\n",
       "      <td>2</td>\n",
       "      <td>...</td>\n",
       "      <td>0</td>\n",
       "      <td>1</td>\n",
       "      <td>0</td>\n",
       "      <td>0</td>\n",
       "      <td>1</td>\n",
       "      <td>0</td>\n",
       "      <td>1</td>\n",
       "      <td>0</td>\n",
       "      <td>1</td>\n",
       "      <td>0</td>\n",
       "    </tr>\n",
       "    <tr>\n",
       "      <th>25974</th>\n",
       "      <td>14</td>\n",
       "      <td>1127</td>\n",
       "      <td>3</td>\n",
       "      <td>3</td>\n",
       "      <td>3</td>\n",
       "      <td>3</td>\n",
       "      <td>4</td>\n",
       "      <td>4</td>\n",
       "      <td>4</td>\n",
       "      <td>4</td>\n",
       "      <td>...</td>\n",
       "      <td>1</td>\n",
       "      <td>1</td>\n",
       "      <td>0</td>\n",
       "      <td>1</td>\n",
       "      <td>0</td>\n",
       "      <td>1</td>\n",
       "      <td>0</td>\n",
       "      <td>0</td>\n",
       "      <td>0</td>\n",
       "      <td>1</td>\n",
       "    </tr>\n",
       "    <tr>\n",
       "      <th>25975</th>\n",
       "      <td>42</td>\n",
       "      <td>264</td>\n",
       "      <td>2</td>\n",
       "      <td>5</td>\n",
       "      <td>2</td>\n",
       "      <td>5</td>\n",
       "      <td>4</td>\n",
       "      <td>2</td>\n",
       "      <td>2</td>\n",
       "      <td>1</td>\n",
       "      <td>...</td>\n",
       "      <td>0</td>\n",
       "      <td>1</td>\n",
       "      <td>0</td>\n",
       "      <td>0</td>\n",
       "      <td>1</td>\n",
       "      <td>0</td>\n",
       "      <td>1</td>\n",
       "      <td>0</td>\n",
       "      <td>1</td>\n",
       "      <td>0</td>\n",
       "    </tr>\n",
       "  </tbody>\n",
       "</table>\n",
       "<p>129880 rows × 29 columns</p>\n",
       "</div>"
      ],
      "text/plain": [
       "       Age  Flight Distance  Inflight wifi service  \\\n",
       "0       13              460                      3   \n",
       "1       25              235                      3   \n",
       "2       26             1142                      2   \n",
       "3       25              562                      2   \n",
       "4       61              214                      3   \n",
       "...    ...              ...                    ...   \n",
       "25971   34              526                      3   \n",
       "25972   23              646                      4   \n",
       "25973   17              828                      2   \n",
       "25974   14             1127                      3   \n",
       "25975   42              264                      2   \n",
       "\n",
       "       Departure/Arrival time convenient  Ease of Online booking  \\\n",
       "0                                      4                       3   \n",
       "1                                      2                       3   \n",
       "2                                      2                       2   \n",
       "3                                      5                       5   \n",
       "4                                      3                       3   \n",
       "...                                  ...                     ...   \n",
       "25971                                  3                       3   \n",
       "25972                                  4                       4   \n",
       "25973                                  5                       1   \n",
       "25974                                  3                       3   \n",
       "25975                                  5                       2   \n",
       "\n",
       "       Gate location  Food and drink  Online boarding  Seat comfort  \\\n",
       "0                  1               5                3             5   \n",
       "1                  3               1                3             1   \n",
       "2                  2               5                5             5   \n",
       "3                  5               2                2             2   \n",
       "4                  3               4                5             5   \n",
       "...              ...             ...              ...           ...   \n",
       "25971              1               4                3             4   \n",
       "25972              4               4                4             4   \n",
       "25973              5               2                1             2   \n",
       "25974              3               4                4             4   \n",
       "25975              5               4                2             2   \n",
       "\n",
       "       Inflight entertainment  ...  Gender_Male  Customer Type_Loyal Customer  \\\n",
       "0                           5  ...            1                             1   \n",
       "1                           1  ...            1                             0   \n",
       "2                           5  ...            0                             1   \n",
       "3                           2  ...            0                             1   \n",
       "4                           3  ...            1                             1   \n",
       "...                       ...  ...          ...                           ...   \n",
       "25971                       4  ...            1                             0   \n",
       "25972                       4  ...            1                             1   \n",
       "25973                       2  ...            0                             1   \n",
       "25974                       4  ...            1                             1   \n",
       "25975                       1  ...            0                             1   \n",
       "\n",
       "       Customer Type_disloyal Customer  Type of Travel_Business travel  \\\n",
       "0                                    0                               0   \n",
       "1                                    1                               1   \n",
       "2                                    0                               1   \n",
       "3                                    0                               1   \n",
       "4                                    0                               1   \n",
       "...                                ...                             ...   \n",
       "25971                                1                               1   \n",
       "25972                                0                               1   \n",
       "25973                                0                               0   \n",
       "25974                                0                               1   \n",
       "25975                                0                               0   \n",
       "\n",
       "       Type of Travel_Personal Travel  Class_Business  Class_Eco  \\\n",
       "0                                   1               0          0   \n",
       "1                                   0               1          0   \n",
       "2                                   0               1          0   \n",
       "3                                   0               1          0   \n",
       "4                                   0               1          0   \n",
       "...                               ...             ...        ...   \n",
       "25971                               0               1          0   \n",
       "25972                               0               1          0   \n",
       "25973                               1               0          1   \n",
       "25974                               0               1          0   \n",
       "25975                               1               0          1   \n",
       "\n",
       "       Class_Eco Plus  satisfaction_neutral or dissatisfied  \\\n",
       "0                   1                                     1   \n",
       "1                   0                                     1   \n",
       "2                   0                                     0   \n",
       "3                   0                                     1   \n",
       "4                   0                                     0   \n",
       "...               ...                                   ...   \n",
       "25971               0                                     1   \n",
       "25972               0                                     0   \n",
       "25973               0                                     1   \n",
       "25974               0                                     0   \n",
       "25975               0                                     1   \n",
       "\n",
       "       satisfaction_satisfied  \n",
       "0                           0  \n",
       "1                           0  \n",
       "2                           1  \n",
       "3                           0  \n",
       "4                           1  \n",
       "...                       ...  \n",
       "25971                       0  \n",
       "25972                       1  \n",
       "25973                       0  \n",
       "25974                       1  \n",
       "25975                       0  \n",
       "\n",
       "[129880 rows x 29 columns]"
      ]
     },
     "execution_count": 17,
     "metadata": {},
     "output_type": "execute_result"
    }
   ],
   "source": [
    "# if we want dummy variables\n",
    "result_dummies = pd.get_dummies(result)\n",
    "\n",
    "#removing the empty categorical columns\n",
    "#result_dummies=result_dummies.drop(['Class_0', 'satisfaction_0'], axis=1)\n",
    "result_dummies"
   ]
  },
  {
   "cell_type": "code",
   "execution_count": 29,
   "metadata": {
    "id": "ObbKUo9ujw0a"
   },
   "outputs": [],
   "source": [
    "X_all = result_dummies.drop('satisfaction_satisfied', \n",
    "                            axis = 1)\n",
    "\n",
    "X_all = X_all.drop('satisfaction_neutral or dissatisfied', \n",
    "                   axis = 1)\n",
    "\n",
    "y_all = result['satisfaction']"
   ]
  },
  {
   "cell_type": "code",
   "execution_count": 30,
   "metadata": {
    "colab": {
     "base_uri": "https://localhost:8080/"
    },
    "id": "BRdgWhrQ1qf5",
    "outputId": "322d55c1-1252-4091-d15f-052b746a3367"
   },
   "outputs": [
    {
     "data": {
      "text/plain": [
       "0        neutral or dissatisfied\n",
       "1        neutral or dissatisfied\n",
       "2                      satisfied\n",
       "3        neutral or dissatisfied\n",
       "4                      satisfied\n",
       "                  ...           \n",
       "25971    neutral or dissatisfied\n",
       "25972                  satisfied\n",
       "25973    neutral or dissatisfied\n",
       "25974                  satisfied\n",
       "25975    neutral or dissatisfied\n",
       "Name: satisfaction, Length: 129880, dtype: object"
      ]
     },
     "execution_count": 30,
     "metadata": {},
     "output_type": "execute_result"
    }
   ],
   "source": [
    "y_all"
   ]
  },
  {
   "cell_type": "code",
   "execution_count": 20,
   "metadata": {
    "colab": {
     "base_uri": "https://localhost:8080/"
    },
    "id": "VJ_3VS6FkPTK",
    "outputId": "82273c44-efed-4216-aade-87217d71d1ab"
   },
   "outputs": [
    {
     "data": {
      "text/plain": [
       "((103904, 27), (25976, 27))"
      ]
     },
     "execution_count": 20,
     "metadata": {},
     "output_type": "execute_result"
    }
   ],
   "source": [
    "X, X_test, y, y_test = train_test_split(X_all, \n",
    "                                        y_all, \n",
    "                                        test_size = 0.2, \n",
    "                                        random_state = 42)\n",
    "X.shape, X_test.shape"
   ]
  },
  {
   "cell_type": "code",
   "execution_count": 21,
   "metadata": {
    "colab": {
     "base_uri": "https://localhost:8080/",
     "height": 541
    },
    "id": "nWf_Dljrx3OH",
    "outputId": "e13afe47-207c-4a29-e9fb-61bf32300ee0"
   },
   "outputs": [
    {
     "data": {
      "image/png": "[encoded data removed]",
      "text/plain": [
       "<Figure size 576x396 with 2 Axes>"
      ]
     },
     "metadata": {},
     "output_type": "display_data"
    },
    {
     "data": {
      "text/plain": [
       "<AxesSubplot:title={'center':'Distortion Score Elbow for KMeans Clustering'}, xlabel='k', ylabel='distortion score'>"
      ]
     },
     "execution_count": 21,
     "metadata": {},
     "output_type": "execute_result"
    }
   ],
   "source": [
    "# https://www.scikit-yb.org/en/latest/api/cluster/elbow.html\n",
    "\n",
    "from yellowbrick.cluster import KElbowVisualizer\n",
    "from sklearn.cluster import KMeans\n",
    "\n",
    "\n",
    "# Visualizing the elbow choosing the best number of clusters\n",
    "visualizer=KElbowVisualizer(KMeans(), k=(1, 11))\n",
    "visualizer.fit(X_all)\n",
    "visualizer.show()"
   ]
  },
  {
   "cell_type": "code",
   "execution_count": 22,
   "metadata": {
    "id": "sqwOKmDc8h-m"
   },
   "outputs": [],
   "source": [
    "kmeans = KMeans(n_clusters = 3, \n",
    "                random_state = 42, \n",
    "                n_init = \"auto\").fit(X_all)"
   ]
  },
  {
   "cell_type": "code",
   "execution_count": 23,
   "metadata": {
    "colab": {
     "base_uri": "https://localhost:8080/"
    },
    "id": "bRL9lCXL5SJ5",
    "outputId": "773d0736-b085-4bfc-b05d-efb0d898cb74"
   },
   "outputs": [
    {
     "data": {
      "text/plain": [
       "3"
      ]
     },
     "execution_count": 23,
     "metadata": {},
     "output_type": "execute_result"
    }
   ],
   "source": [
    "# number of clusters\n",
    "len(set(kmeans.labels_))"
   ]
  },
  {
   "cell_type": "code",
   "execution_count": 24,
   "metadata": {
    "colab": {
     "base_uri": "https://localhost:8080/",
     "height": 522
    },
    "id": "4i8tF8ML40Ym",
    "outputId": "8caf10ea-dfa7-4dd9-ae00-a7adc805abf7"
   },
   "outputs": [
    {
     "data": {
      "text/html": [
       "<div>\n",
       "<style scoped>\n",
       "    .dataframe tbody tr th:only-of-type {\n",
       "        vertical-align: middle;\n",
       "    }\n",
       "\n",
       "    .dataframe tbody tr th {\n",
       "        vertical-align: top;\n",
       "    }\n",
       "\n",
       "    .dataframe thead th {\n",
       "        text-align: right;\n",
       "    }\n",
       "</style>\n",
       "<table border=\"1\" class=\"dataframe\">\n",
       "  <thead>\n",
       "    <tr style=\"text-align: right;\">\n",
       "      <th></th>\n",
       "      <th>Age</th>\n",
       "      <th>Flight Distance</th>\n",
       "      <th>Inflight wifi service</th>\n",
       "      <th>Departure/Arrival time convenient</th>\n",
       "      <th>Ease of Online booking</th>\n",
       "      <th>Gate location</th>\n",
       "      <th>Food and drink</th>\n",
       "      <th>Online boarding</th>\n",
       "      <th>Seat comfort</th>\n",
       "      <th>Inflight entertainment</th>\n",
       "      <th>...</th>\n",
       "      <th>Customer Type_Loyal Customer</th>\n",
       "      <th>Customer Type_disloyal Customer</th>\n",
       "      <th>Type of Travel_Business travel</th>\n",
       "      <th>Type of Travel_Personal Travel</th>\n",
       "      <th>Class_Business</th>\n",
       "      <th>Class_Eco</th>\n",
       "      <th>Class_Eco Plus</th>\n",
       "      <th>satisfaction_neutral or dissatisfied</th>\n",
       "      <th>satisfaction_satisfied</th>\n",
       "      <th>Cluster KMean</th>\n",
       "    </tr>\n",
       "  </thead>\n",
       "  <tbody>\n",
       "    <tr>\n",
       "      <th>0</th>\n",
       "      <td>13</td>\n",
       "      <td>460</td>\n",
       "      <td>3</td>\n",
       "      <td>4</td>\n",
       "      <td>3</td>\n",
       "      <td>1</td>\n",
       "      <td>5</td>\n",
       "      <td>3</td>\n",
       "      <td>5</td>\n",
       "      <td>5</td>\n",
       "      <td>...</td>\n",
       "      <td>1</td>\n",
       "      <td>0</td>\n",
       "      <td>0</td>\n",
       "      <td>1</td>\n",
       "      <td>0</td>\n",
       "      <td>0</td>\n",
       "      <td>1</td>\n",
       "      <td>1</td>\n",
       "      <td>0</td>\n",
       "      <td>0</td>\n",
       "    </tr>\n",
       "    <tr>\n",
       "      <th>1</th>\n",
       "      <td>25</td>\n",
       "      <td>235</td>\n",
       "      <td>3</td>\n",
       "      <td>2</td>\n",
       "      <td>3</td>\n",
       "      <td>3</td>\n",
       "      <td>1</td>\n",
       "      <td>3</td>\n",
       "      <td>1</td>\n",
       "      <td>1</td>\n",
       "      <td>...</td>\n",
       "      <td>0</td>\n",
       "      <td>1</td>\n",
       "      <td>1</td>\n",
       "      <td>0</td>\n",
       "      <td>1</td>\n",
       "      <td>0</td>\n",
       "      <td>0</td>\n",
       "      <td>1</td>\n",
       "      <td>0</td>\n",
       "      <td>0</td>\n",
       "    </tr>\n",
       "    <tr>\n",
       "      <th>2</th>\n",
       "      <td>26</td>\n",
       "      <td>1142</td>\n",
       "      <td>2</td>\n",
       "      <td>2</td>\n",
       "      <td>2</td>\n",
       "      <td>2</td>\n",
       "      <td>5</td>\n",
       "      <td>5</td>\n",
       "      <td>5</td>\n",
       "      <td>5</td>\n",
       "      <td>...</td>\n",
       "      <td>1</td>\n",
       "      <td>0</td>\n",
       "      <td>1</td>\n",
       "      <td>0</td>\n",
       "      <td>1</td>\n",
       "      <td>0</td>\n",
       "      <td>0</td>\n",
       "      <td>0</td>\n",
       "      <td>1</td>\n",
       "      <td>0</td>\n",
       "    </tr>\n",
       "    <tr>\n",
       "      <th>3</th>\n",
       "      <td>25</td>\n",
       "      <td>562</td>\n",
       "      <td>2</td>\n",
       "      <td>5</td>\n",
       "      <td>5</td>\n",
       "      <td>5</td>\n",
       "      <td>2</td>\n",
       "      <td>2</td>\n",
       "      <td>2</td>\n",
       "      <td>2</td>\n",
       "      <td>...</td>\n",
       "      <td>1</td>\n",
       "      <td>0</td>\n",
       "      <td>1</td>\n",
       "      <td>0</td>\n",
       "      <td>1</td>\n",
       "      <td>0</td>\n",
       "      <td>0</td>\n",
       "      <td>1</td>\n",
       "      <td>0</td>\n",
       "      <td>0</td>\n",
       "    </tr>\n",
       "    <tr>\n",
       "      <th>4</th>\n",
       "      <td>61</td>\n",
       "      <td>214</td>\n",
       "      <td>3</td>\n",
       "      <td>3</td>\n",
       "      <td>3</td>\n",
       "      <td>3</td>\n",
       "      <td>4</td>\n",
       "      <td>5</td>\n",
       "      <td>5</td>\n",
       "      <td>3</td>\n",
       "      <td>...</td>\n",
       "      <td>1</td>\n",
       "      <td>0</td>\n",
       "      <td>1</td>\n",
       "      <td>0</td>\n",
       "      <td>1</td>\n",
       "      <td>0</td>\n",
       "      <td>0</td>\n",
       "      <td>0</td>\n",
       "      <td>1</td>\n",
       "      <td>0</td>\n",
       "    </tr>\n",
       "    <tr>\n",
       "      <th>...</th>\n",
       "      <td>...</td>\n",
       "      <td>...</td>\n",
       "      <td>...</td>\n",
       "      <td>...</td>\n",
       "      <td>...</td>\n",
       "      <td>...</td>\n",
       "      <td>...</td>\n",
       "      <td>...</td>\n",
       "      <td>...</td>\n",
       "      <td>...</td>\n",
       "      <td>...</td>\n",
       "      <td>...</td>\n",
       "      <td>...</td>\n",
       "      <td>...</td>\n",
       "      <td>...</td>\n",
       "      <td>...</td>\n",
       "      <td>...</td>\n",
       "      <td>...</td>\n",
       "      <td>...</td>\n",
       "      <td>...</td>\n",
       "      <td>...</td>\n",
       "    </tr>\n",
       "    <tr>\n",
       "      <th>25971</th>\n",
       "      <td>34</td>\n",
       "      <td>526</td>\n",
       "      <td>3</td>\n",
       "      <td>3</td>\n",
       "      <td>3</td>\n",
       "      <td>1</td>\n",
       "      <td>4</td>\n",
       "      <td>3</td>\n",
       "      <td>4</td>\n",
       "      <td>4</td>\n",
       "      <td>...</td>\n",
       "      <td>0</td>\n",
       "      <td>1</td>\n",
       "      <td>1</td>\n",
       "      <td>0</td>\n",
       "      <td>1</td>\n",
       "      <td>0</td>\n",
       "      <td>0</td>\n",
       "      <td>1</td>\n",
       "      <td>0</td>\n",
       "      <td>0</td>\n",
       "    </tr>\n",
       "    <tr>\n",
       "      <th>25972</th>\n",
       "      <td>23</td>\n",
       "      <td>646</td>\n",
       "      <td>4</td>\n",
       "      <td>4</td>\n",
       "      <td>4</td>\n",
       "      <td>4</td>\n",
       "      <td>4</td>\n",
       "      <td>4</td>\n",
       "      <td>4</td>\n",
       "      <td>4</td>\n",
       "      <td>...</td>\n",
       "      <td>1</td>\n",
       "      <td>0</td>\n",
       "      <td>1</td>\n",
       "      <td>0</td>\n",
       "      <td>1</td>\n",
       "      <td>0</td>\n",
       "      <td>0</td>\n",
       "      <td>0</td>\n",
       "      <td>1</td>\n",
       "      <td>0</td>\n",
       "    </tr>\n",
       "    <tr>\n",
       "      <th>25973</th>\n",
       "      <td>17</td>\n",
       "      <td>828</td>\n",
       "      <td>2</td>\n",
       "      <td>5</td>\n",
       "      <td>1</td>\n",
       "      <td>5</td>\n",
       "      <td>2</td>\n",
       "      <td>1</td>\n",
       "      <td>2</td>\n",
       "      <td>2</td>\n",
       "      <td>...</td>\n",
       "      <td>1</td>\n",
       "      <td>0</td>\n",
       "      <td>0</td>\n",
       "      <td>1</td>\n",
       "      <td>0</td>\n",
       "      <td>1</td>\n",
       "      <td>0</td>\n",
       "      <td>1</td>\n",
       "      <td>0</td>\n",
       "      <td>0</td>\n",
       "    </tr>\n",
       "    <tr>\n",
       "      <th>25974</th>\n",
       "      <td>14</td>\n",
       "      <td>1127</td>\n",
       "      <td>3</td>\n",
       "      <td>3</td>\n",
       "      <td>3</td>\n",
       "      <td>3</td>\n",
       "      <td>4</td>\n",
       "      <td>4</td>\n",
       "      <td>4</td>\n",
       "      <td>4</td>\n",
       "      <td>...</td>\n",
       "      <td>1</td>\n",
       "      <td>0</td>\n",
       "      <td>1</td>\n",
       "      <td>0</td>\n",
       "      <td>1</td>\n",
       "      <td>0</td>\n",
       "      <td>0</td>\n",
       "      <td>0</td>\n",
       "      <td>1</td>\n",
       "      <td>0</td>\n",
       "    </tr>\n",
       "    <tr>\n",
       "      <th>25975</th>\n",
       "      <td>42</td>\n",
       "      <td>264</td>\n",
       "      <td>2</td>\n",
       "      <td>5</td>\n",
       "      <td>2</td>\n",
       "      <td>5</td>\n",
       "      <td>4</td>\n",
       "      <td>2</td>\n",
       "      <td>2</td>\n",
       "      <td>1</td>\n",
       "      <td>...</td>\n",
       "      <td>1</td>\n",
       "      <td>0</td>\n",
       "      <td>0</td>\n",
       "      <td>1</td>\n",
       "      <td>0</td>\n",
       "      <td>1</td>\n",
       "      <td>0</td>\n",
       "      <td>1</td>\n",
       "      <td>0</td>\n",
       "      <td>0</td>\n",
       "    </tr>\n",
       "  </tbody>\n",
       "</table>\n",
       "<p>129880 rows × 30 columns</p>\n",
       "</div>"
      ],
      "text/plain": [
       "       Age  Flight Distance  Inflight wifi service  \\\n",
       "0       13              460                      3   \n",
       "1       25              235                      3   \n",
       "2       26             1142                      2   \n",
       "3       25              562                      2   \n",
       "4       61              214                      3   \n",
       "...    ...              ...                    ...   \n",
       "25971   34              526                      3   \n",
       "25972   23              646                      4   \n",
       "25973   17              828                      2   \n",
       "25974   14             1127                      3   \n",
       "25975   42              264                      2   \n",
       "\n",
       "       Departure/Arrival time convenient  Ease of Online booking  \\\n",
       "0                                      4                       3   \n",
       "1                                      2                       3   \n",
       "2                                      2                       2   \n",
       "3                                      5                       5   \n",
       "4                                      3                       3   \n",
       "...                                  ...                     ...   \n",
       "25971                                  3                       3   \n",
       "25972                                  4                       4   \n",
       "25973                                  5                       1   \n",
       "25974                                  3                       3   \n",
       "25975                                  5                       2   \n",
       "\n",
       "       Gate location  Food and drink  Online boarding  Seat comfort  \\\n",
       "0                  1               5                3             5   \n",
       "1                  3               1                3             1   \n",
       "2                  2               5                5             5   \n",
       "3                  5               2                2             2   \n",
       "4                  3               4                5             5   \n",
       "...              ...             ...              ...           ...   \n",
       "25971              1               4                3             4   \n",
       "25972              4               4                4             4   \n",
       "25973              5               2                1             2   \n",
       "25974              3               4                4             4   \n",
       "25975              5               4                2             2   \n",
       "\n",
       "       Inflight entertainment  ...  Customer Type_Loyal Customer  \\\n",
       "0                           5  ...                             1   \n",
       "1                           1  ...                             0   \n",
       "2                           5  ...                             1   \n",
       "3                           2  ...                             1   \n",
       "4                           3  ...                             1   \n",
       "...                       ...  ...                           ...   \n",
       "25971                       4  ...                             0   \n",
       "25972                       4  ...                             1   \n",
       "25973                       2  ...                             1   \n",
       "25974                       4  ...                             1   \n",
       "25975                       1  ...                             1   \n",
       "\n",
       "       Customer Type_disloyal Customer  Type of Travel_Business travel  \\\n",
       "0                                    0                               0   \n",
       "1                                    1                               1   \n",
       "2                                    0                               1   \n",
       "3                                    0                               1   \n",
       "4                                    0                               1   \n",
       "...                                ...                             ...   \n",
       "25971                                1                               1   \n",
       "25972                                0                               1   \n",
       "25973                                0                               0   \n",
       "25974                                0                               1   \n",
       "25975                                0                               0   \n",
       "\n",
       "       Type of Travel_Personal Travel  Class_Business  Class_Eco  \\\n",
       "0                                   1               0          0   \n",
       "1                                   0               1          0   \n",
       "2                                   0               1          0   \n",
       "3                                   0               1          0   \n",
       "4                                   0               1          0   \n",
       "...                               ...             ...        ...   \n",
       "25971                               0               1          0   \n",
       "25972                               0               1          0   \n",
       "25973                               1               0          1   \n",
       "25974                               0               1          0   \n",
       "25975                               1               0          1   \n",
       "\n",
       "       Class_Eco Plus  satisfaction_neutral or dissatisfied  \\\n",
       "0                   1                                     1   \n",
       "1                   0                                     1   \n",
       "2                   0                                     0   \n",
       "3                   0                                     1   \n",
       "4                   0                                     0   \n",
       "...               ...                                   ...   \n",
       "25971               0                                     1   \n",
       "25972               0                                     0   \n",
       "25973               0                                     1   \n",
       "25974               0                                     0   \n",
       "25975               0                                     1   \n",
       "\n",
       "       satisfaction_satisfied  Cluster KMean  \n",
       "0                           0              0  \n",
       "1                           0              0  \n",
       "2                           1              0  \n",
       "3                           0              0  \n",
       "4                           1              0  \n",
       "...                       ...            ...  \n",
       "25971                       0              0  \n",
       "25972                       1              0  \n",
       "25973                       0              0  \n",
       "25974                       1              0  \n",
       "25975                       0              0  \n",
       "\n",
       "[129880 rows x 30 columns]"
      ]
     },
     "execution_count": 24,
     "metadata": {},
     "output_type": "execute_result"
    }
   ],
   "source": [
    "\n",
    "result_cluster = result_dummies.copy()\n",
    "\n",
    "result_cluster['Cluster KMean'] = kmeans.labels_\n",
    "result_cluster"
   ]
  },
  {
   "cell_type": "code",
   "execution_count": 25,
   "metadata": {
    "colab": {
     "base_uri": "https://localhost:8080/",
     "height": 320
    },
    "id": "TnSnrhiaD7H5",
    "outputId": "3349a953-aa0e-46fc-d5fa-6f4b5790f264"
   },
   "outputs": [
    {
     "data": {
      "text/html": [
       "<div>\n",
       "<style scoped>\n",
       "    .dataframe tbody tr th:only-of-type {\n",
       "        vertical-align: middle;\n",
       "    }\n",
       "\n",
       "    .dataframe tbody tr th {\n",
       "        vertical-align: top;\n",
       "    }\n",
       "\n",
       "    .dataframe thead th {\n",
       "        text-align: right;\n",
       "    }\n",
       "</style>\n",
       "<table border=\"1\" class=\"dataframe\">\n",
       "  <thead>\n",
       "    <tr style=\"text-align: right;\">\n",
       "      <th></th>\n",
       "      <th>Age</th>\n",
       "      <th>Flight Distance</th>\n",
       "      <th>Inflight wifi service</th>\n",
       "      <th>Departure/Arrival time convenient</th>\n",
       "      <th>Ease of Online booking</th>\n",
       "      <th>Gate location</th>\n",
       "      <th>Food and drink</th>\n",
       "      <th>Online boarding</th>\n",
       "      <th>Seat comfort</th>\n",
       "      <th>Inflight entertainment</th>\n",
       "      <th>...</th>\n",
       "      <th>Gender_Male</th>\n",
       "      <th>Customer Type_Loyal Customer</th>\n",
       "      <th>Customer Type_disloyal Customer</th>\n",
       "      <th>Type of Travel_Business travel</th>\n",
       "      <th>Type of Travel_Personal Travel</th>\n",
       "      <th>Class_Business</th>\n",
       "      <th>Class_Eco</th>\n",
       "      <th>Class_Eco Plus</th>\n",
       "      <th>satisfaction_neutral or dissatisfied</th>\n",
       "      <th>satisfaction_satisfied</th>\n",
       "    </tr>\n",
       "    <tr>\n",
       "      <th>Cluster KMean</th>\n",
       "      <th></th>\n",
       "      <th></th>\n",
       "      <th></th>\n",
       "      <th></th>\n",
       "      <th></th>\n",
       "      <th></th>\n",
       "      <th></th>\n",
       "      <th></th>\n",
       "      <th></th>\n",
       "      <th></th>\n",
       "      <th></th>\n",
       "      <th></th>\n",
       "      <th></th>\n",
       "      <th></th>\n",
       "      <th></th>\n",
       "      <th></th>\n",
       "      <th></th>\n",
       "      <th></th>\n",
       "      <th></th>\n",
       "      <th></th>\n",
       "      <th></th>\n",
       "    </tr>\n",
       "  </thead>\n",
       "  <tbody>\n",
       "    <tr>\n",
       "      <th>0</th>\n",
       "      <td>38.338959</td>\n",
       "      <td>552.570812</td>\n",
       "      <td>2.721286</td>\n",
       "      <td>3.077619</td>\n",
       "      <td>2.694373</td>\n",
       "      <td>2.973982</td>\n",
       "      <td>3.150692</td>\n",
       "      <td>3.054780</td>\n",
       "      <td>3.294383</td>\n",
       "      <td>3.237293</td>\n",
       "      <td>...</td>\n",
       "      <td>0.490957</td>\n",
       "      <td>0.753627</td>\n",
       "      <td>0.246373</td>\n",
       "      <td>0.605934</td>\n",
       "      <td>0.394066</td>\n",
       "      <td>0.313364</td>\n",
       "      <td>0.591692</td>\n",
       "      <td>0.094944</td>\n",
       "      <td>0.669891</td>\n",
       "      <td>0.330109</td>\n",
       "    </tr>\n",
       "    <tr>\n",
       "      <th>1</th>\n",
       "      <td>43.043637</td>\n",
       "      <td>3182.390736</td>\n",
       "      <td>2.734584</td>\n",
       "      <td>2.944156</td>\n",
       "      <td>2.907193</td>\n",
       "      <td>2.999715</td>\n",
       "      <td>3.365752</td>\n",
       "      <td>3.828019</td>\n",
       "      <td>3.847927</td>\n",
       "      <td>3.719012</td>\n",
       "      <td>...</td>\n",
       "      <td>0.497005</td>\n",
       "      <td>0.986310</td>\n",
       "      <td>0.013690</td>\n",
       "      <td>0.956192</td>\n",
       "      <td>0.043808</td>\n",
       "      <td>0.943015</td>\n",
       "      <td>0.047174</td>\n",
       "      <td>0.009811</td>\n",
       "      <td>0.265758</td>\n",
       "      <td>0.734242</td>\n",
       "    </tr>\n",
       "    <tr>\n",
       "      <th>2</th>\n",
       "      <td>40.328407</td>\n",
       "      <td>1791.799575</td>\n",
       "      <td>2.745892</td>\n",
       "      <td>3.068833</td>\n",
       "      <td>2.842393</td>\n",
       "      <td>2.971657</td>\n",
       "      <td>3.260485</td>\n",
       "      <td>3.464453</td>\n",
       "      <td>3.611060</td>\n",
       "      <td>3.481661</td>\n",
       "      <td>...</td>\n",
       "      <td>0.494652</td>\n",
       "      <td>0.893309</td>\n",
       "      <td>0.106691</td>\n",
       "      <td>0.769714</td>\n",
       "      <td>0.230286</td>\n",
       "      <td>0.665013</td>\n",
       "      <td>0.288221</td>\n",
       "      <td>0.046766</td>\n",
       "      <td>0.451631</td>\n",
       "      <td>0.548369</td>\n",
       "    </tr>\n",
       "  </tbody>\n",
       "</table>\n",
       "<p>3 rows × 29 columns</p>\n",
       "</div>"
      ],
      "text/plain": [
       "                     Age  Flight Distance  Inflight wifi service  \\\n",
       "Cluster KMean                                                      \n",
       "0              38.338959       552.570812               2.721286   \n",
       "1              43.043637      3182.390736               2.734584   \n",
       "2              40.328407      1791.799575               2.745892   \n",
       "\n",
       "               Departure/Arrival time convenient  Ease of Online booking  \\\n",
       "Cluster KMean                                                              \n",
       "0                                       3.077619                2.694373   \n",
       "1                                       2.944156                2.907193   \n",
       "2                                       3.068833                2.842393   \n",
       "\n",
       "               Gate location  Food and drink  Online boarding  Seat comfort  \\\n",
       "Cluster KMean                                                                 \n",
       "0                   2.973982        3.150692         3.054780      3.294383   \n",
       "1                   2.999715        3.365752         3.828019      3.847927   \n",
       "2                   2.971657        3.260485         3.464453      3.611060   \n",
       "\n",
       "               Inflight entertainment  ...  Gender_Male  \\\n",
       "Cluster KMean                          ...                \n",
       "0                            3.237293  ...     0.490957   \n",
       "1                            3.719012  ...     0.497005   \n",
       "2                            3.481661  ...     0.494652   \n",
       "\n",
       "               Customer Type_Loyal Customer  Customer Type_disloyal Customer  \\\n",
       "Cluster KMean                                                                  \n",
       "0                                  0.753627                         0.246373   \n",
       "1                                  0.986310                         0.013690   \n",
       "2                                  0.893309                         0.106691   \n",
       "\n",
       "               Type of Travel_Business travel  Type of Travel_Personal Travel  \\\n",
       "Cluster KMean                                                                   \n",
       "0                                    0.605934                        0.394066   \n",
       "1                                    0.956192                        0.043808   \n",
       "2                                    0.769714                        0.230286   \n",
       "\n",
       "               Class_Business  Class_Eco  Class_Eco Plus  \\\n",
       "Cluster KMean                                              \n",
       "0                    0.313364   0.591692        0.094944   \n",
       "1                    0.943015   0.047174        0.009811   \n",
       "2                    0.665013   0.288221        0.046766   \n",
       "\n",
       "               satisfaction_neutral or dissatisfied  satisfaction_satisfied  \n",
       "Cluster KMean                                                                \n",
       "0                                          0.669891                0.330109  \n",
       "1                                          0.265758                0.734242  \n",
       "2                                          0.451631                0.548369  \n",
       "\n",
       "[3 rows x 29 columns]"
      ]
     },
     "execution_count": 25,
     "metadata": {},
     "output_type": "execute_result"
    }
   ],
   "source": [
    "result_cluster.groupby('Cluster KMean').mean()"
   ]
  },
  {
   "cell_type": "markdown",
   "metadata": {
    "id": "Cf3n4B7-ESbo"
   },
   "source": [
    "We an see:\n",
    "- Cluster 0 is more dissatisfied group.\n",
    "- Cluster 1 is more satisfied group.\n",
    "- Cluster 2 is very close to being even between satisfied/unsatisifed, with the satisfied group being slightly more."
   ]
  },
  {
   "cell_type": "markdown",
   "metadata": {
    "id": "soXf2MPeslGY"
   },
   "source": [
    "Kmeans Clustering"
   ]
  },
  {
   "cell_type": "code",
   "execution_count": 98,
   "metadata": {
    "colab": {
     "base_uri": "https://localhost:8080/",
     "height": 841
    },
    "id": "488NtNNaEcEi",
    "outputId": "9943259c-f04e-4f47-f9b9-9ee848f23288"
   },
   "outputs": [
    {
     "data": {
      "image/png": "[encoded data removed]",
      "text/plain": [
       "<Figure size 576x396 with 1 Axes>"
      ]
     },
     "metadata": {},
     "output_type": "display_data"
    }
   ],
   "source": [
    "# Normalize the data using StandardScaler\n",
    "scaler = StandardScaler()\n",
    "df_norm = scaler.fit_transform(result_dummies)\n",
    "\n",
    "# Determine the optimal number of clusters using the elbow method\n",
    "wcss = []\n",
    "for i in range(1, 11):\n",
    "    kmeans = KMeans(n_clusters = i, \n",
    "                    init = 'k-means++', \n",
    "                    random_state = 42)\n",
    "    kmeans.fit(df_norm)\n",
    "    wcss.append(kmeans.inertia_)\n",
    "    \n",
    "plt.plot(range(1, 11), wcss)\n",
    "plt.title('Elbow Method')\n",
    "plt.xlabel('Number of clusters')\n",
    "plt.ylabel('WCSS')\n",
    "plt.show()\n",
    "\n",
    "# Choose the number of clusters based on the elbow plot and perform K-Means clustering\n",
    "kmeans3c = KMeans(n_clusters = 3, \n",
    "                init = 'k-means++', \n",
    "                random_state = 42)\n",
    "\n",
    "kmeans3c.fit(df_norm)\n",
    "\n",
    "\n",
    "\n",
    "# Analyze the results by examining the mean values of each feature for each cluster\n",
    "cluster_group_results=result_dummies.groupby('Cluster').mean()\n",
    "cluster_group_results\n",
    "\n",
    "# Testing 2 clusters based on raw data\n",
    "kmeans2c = KMeans(n_clusters = 2,\n",
    "                 init = 'k-means++',\n",
    "                 random_state = 42)\n",
    "\n",
    "kmeans2c.fit(df_norm)\n",
    "\n",
    "# Add the cluster labels to the original DataFrame\n",
    "result_dummies['Cluster 2'] = kmeans2c.labels_\n",
    "result_dummies['Cluster 3'] = kmeans3c.labels_"
   ]
  },
  {
   "cell_type": "code",
   "execution_count": 90,
   "metadata": {
    "colab": {
     "base_uri": "https://localhost:8080/"
    },
    "id": "Lw4JNNsjIL2o",
    "outputId": "4cd9a093-8ea8-4a26-8c08-095285912a9f"
   },
   "outputs": [],
   "source": [
    "kMeansSilh3c = silhouette_score(X_all, kmeans3c.labels_)\n",
    "kMeansSilh2c = silhouette_score(X_all, kmeans2c.labels_)"
   ]
  },
  {
   "cell_type": "code",
   "execution_count": 93,
   "metadata": {},
   "outputs": [
    {
     "data": {
      "image/png": "[encoded data removed]",
      "text/plain": [
       "<Figure size 576x396 with 1 Axes>"
      ]
     },
     "metadata": {},
     "output_type": "display_data"
    },
    {
     "data": {
      "text/html": [
       "<style>#sk-container-id-3 {color: black;background-color: white;}#sk-container-id-3 pre{padding: 0;}#sk-container-id-3 div.sk-toggleable {background-color: white;}#sk-container-id-3 label.sk-toggleable__label {cursor: pointer;display: block;width: 100%;margin-bottom: 0;padding: 0.3em;box-sizing: border-box;text-align: center;}#sk-container-id-3 label.sk-toggleable__label-arrow:before {content: \"▸\";float: left;margin-right: 0.25em;color: #696969;}#sk-container-id-3 label.sk-toggleable__label-arrow:hover:before {color: black;}#sk-container-id-3 div.sk-estimator:hover label.sk-toggleable__label-arrow:before {color: black;}#sk-container-id-3 div.sk-toggleable__content {max-height: 0;max-width: 0;overflow: hidden;text-align: left;background-color: #f0f8ff;}#sk-container-id-3 div.sk-toggleable__content pre {margin: 0.2em;color: black;border-radius: 0.25em;background-color: #f0f8ff;}#sk-container-id-3 input.sk-toggleable__control:checked~div.sk-toggleable__content {max-height: 200px;max-width: 100%;overflow: auto;}#sk-container-id-3 input.sk-toggleable__control:checked~label.sk-toggleable__label-arrow:before {content: \"▾\";}#sk-container-id-3 div.sk-estimator input.sk-toggleable__control:checked~label.sk-toggleable__label {background-color: #d4ebff;}#sk-container-id-3 div.sk-label input.sk-toggleable__control:checked~label.sk-toggleable__label {background-color: #d4ebff;}#sk-container-id-3 input.sk-hidden--visually {border: 0;clip: rect(1px 1px 1px 1px);clip: rect(1px, 1px, 1px, 1px);height: 1px;margin: -1px;overflow: hidden;padding: 0;position: absolute;width: 1px;}#sk-container-id-3 div.sk-estimator {font-family: monospace;background-color: #f0f8ff;border: 1px dotted black;border-radius: 0.25em;box-sizing: border-box;margin-bottom: 0.5em;}#sk-container-id-3 div.sk-estimator:hover {background-color: #d4ebff;}#sk-container-id-3 div.sk-parallel-item::after {content: \"\";width: 100%;border-bottom: 1px solid gray;flex-grow: 1;}#sk-container-id-3 div.sk-label:hover label.sk-toggleable__label {background-color: #d4ebff;}#sk-container-id-3 div.sk-serial::before {content: \"\";position: absolute;border-left: 1px solid gray;box-sizing: border-box;top: 0;bottom: 0;left: 50%;z-index: 0;}#sk-container-id-3 div.sk-serial {display: flex;flex-direction: column;align-items: center;background-color: white;padding-right: 0.2em;padding-left: 0.2em;position: relative;}#sk-container-id-3 div.sk-item {position: relative;z-index: 1;}#sk-container-id-3 div.sk-parallel {display: flex;align-items: stretch;justify-content: center;background-color: white;position: relative;}#sk-container-id-3 div.sk-item::before, #sk-container-id-3 div.sk-parallel-item::before {content: \"\";position: absolute;border-left: 1px solid gray;box-sizing: border-box;top: 0;bottom: 0;left: 50%;z-index: -1;}#sk-container-id-3 div.sk-parallel-item {display: flex;flex-direction: column;z-index: 1;position: relative;background-color: white;}#sk-container-id-3 div.sk-parallel-item:first-child::after {align-self: flex-end;width: 50%;}#sk-container-id-3 div.sk-parallel-item:last-child::after {align-self: flex-start;width: 50%;}#sk-container-id-3 div.sk-parallel-item:only-child::after {width: 0;}#sk-container-id-3 div.sk-dashed-wrapped {border: 1px dashed gray;margin: 0 0.4em 0.5em 0.4em;box-sizing: border-box;padding-bottom: 0.4em;background-color: white;}#sk-container-id-3 div.sk-label label {font-family: monospace;font-weight: bold;display: inline-block;line-height: 1.2em;}#sk-container-id-3 div.sk-label-container {text-align: center;}#sk-container-id-3 div.sk-container {/* jupyter's `normalize.less` sets `[hidden] { display: none; }` but bootstrap.min.css set `[hidden] { display: none !important; }` so we also need the `!important` here to be able to override the default hidden behavior on the sphinx rendered scikit-learn.org. See: https://github.com/scikit-learn/scikit-learn/issues/21755 */display: inline-block !important;position: relative;}#sk-container-id-3 div.sk-text-repr-fallback {display: none;}</style><div id=\"sk-container-id-3\" class=\"sk-top-container\"><div class=\"sk-text-repr-fallback\"><pre>KMeans(n_clusters=2, random_state=42)</pre><b>In a Jupyter environment, please rerun this cell to show the HTML representation or trust the notebook. <br />On GitHub, the HTML representation is unable to render, please try loading this page with nbviewer.org.</b></div><div class=\"sk-container\" hidden><div class=\"sk-item\"><div class=\"sk-estimator sk-toggleable\"><input class=\"sk-toggleable__control sk-hidden--visually\" id=\"sk-estimator-id-3\" type=\"checkbox\" checked><label for=\"sk-estimator-id-3\" class=\"sk-toggleable__label sk-toggleable__label-arrow\">KMeans</label><div class=\"sk-toggleable__content\"><pre>KMeans(n_clusters=2, random_state=42)</pre></div></div></div></div></div>"
      ],
      "text/plain": [
       "KMeans(n_clusters=2, random_state=42)"
      ]
     },
     "execution_count": 93,
     "metadata": {},
     "output_type": "execute_result"
    }
   ],
   "source": [
    "dfSmall = result[['Customer Type',\n",
    "                  'Type of Travel',\n",
    "                  'Cleanliness',\n",
    "                  'Food and drink',\n",
    "                  'Departure Delay in Minutes',\n",
    "                  'Arrival Delay in Minutes',\n",
    "                 'Inflight service']]\n",
    "\n",
    "small_dummies = pd.get_dummies(dfSmall)\n",
    "scaleSmall = scaler.fit_transform(small_dummies)\n",
    "\n",
    "\n",
    "# Determine the optimal number of clusters using the elbow method\n",
    "wcss2 = []\n",
    "for i in range(1, 11):\n",
    "    kmeans2 = KMeans(n_clusters = i, \n",
    "                    init = 'k-means++', \n",
    "                    random_state = 42)\n",
    "    kmeans2.fit(scaleSmall)\n",
    "    wcss2.append(kmeans2.inertia_)\n",
    "    \n",
    "plt.plot(range(1, 11), wcss2)\n",
    "plt.title('Elbow Method')\n",
    "plt.xlabel('Number of clusters')\n",
    "plt.ylabel('WCSS')\n",
    "plt.show()\n",
    "\n",
    "# Choose the number of clusters based on the elbow plot and perform K-Means clustering\n",
    "kmeansS3c = KMeans(n_clusters = 3, \n",
    "                init = 'k-means++', \n",
    "                random_state = 42)\n",
    "\n",
    "kmeansS3c.fit(scaleSmall)\n",
    "\n",
    "# Add the cluster labels to the original DataFrame\n",
    "small_dummies['Cluster'] = kmeansS3c.labels_\n",
    "\n",
    "# Analyze the results by examining the mean values of each feature for each cluster\n",
    "cluster_group_results2=small_dummies.groupby('Cluster').mean()\n",
    "cluster_group_results2\n",
    "\n",
    "# Testing 2 clusters based on raw data\n",
    "kmeansS2c = KMeans(n_clusters = 2,\n",
    "                  init='k-means++',\n",
    "                  random_state = 42)\n",
    "\n",
    "kmeansS2c.fit(scaleSmall)"
   ]
  },
  {
   "cell_type": "code",
   "execution_count": 94,
   "metadata": {},
   "outputs": [],
   "source": [
    "kMeansSilhS3c = silhouette_score(X_all, kmeansS3c.labels_)\n",
    "kMeansSilhS2c = silhouette_score(X_all, kmeansS2c.labels_)"
   ]
  },
  {
   "cell_type": "code",
   "execution_count": 70,
   "metadata": {
    "colab": {
     "base_uri": "https://localhost:8080/",
     "height": 381
    },
    "id": "NqQbPQCcx1Sk",
    "outputId": "2498644b-a2f0-478b-89a7-79c13504b91b"
   },
   "outputs": [],
   "source": [
    "#this takes 2 hours to run\n",
    "from sklearn.cluster import SpectralClustering\n",
    "\n",
    "spectral = SpectralClustering(n_clusters=3, eigen_solver='arpack', affinity=\"nearest_neighbors\")\n",
    "y_pred = spectral.fit_predict(X_all)\n",
    "spectral=spectral.labels_\n"
   ]
  },
  {
   "cell_type": "code",
   "execution_count": 71,
   "metadata": {
    "colab": {
     "base_uri": "https://localhost:8080/",
     "height": 334
    },
    "id": "4WOHyspDAkbt",
    "outputId": "73871915-4467-4236-9200-b81d8225f631"
   },
   "outputs": [
    {
     "data": {
      "text/html": [
       "<div>\n",
       "<style scoped>\n",
       "    .dataframe tbody tr th:only-of-type {\n",
       "        vertical-align: middle;\n",
       "    }\n",
       "\n",
       "    .dataframe tbody tr th {\n",
       "        vertical-align: top;\n",
       "    }\n",
       "\n",
       "    .dataframe thead th {\n",
       "        text-align: right;\n",
       "    }\n",
       "</style>\n",
       "<table border=\"1\" class=\"dataframe\">\n",
       "  <thead>\n",
       "    <tr style=\"text-align: right;\">\n",
       "      <th></th>\n",
       "      <th>Age</th>\n",
       "      <th>Flight Distance</th>\n",
       "      <th>Inflight wifi service</th>\n",
       "      <th>Departure/Arrival time convenient</th>\n",
       "      <th>Ease of Online booking</th>\n",
       "      <th>Gate location</th>\n",
       "      <th>Food and drink</th>\n",
       "      <th>Online boarding</th>\n",
       "      <th>Seat comfort</th>\n",
       "      <th>Inflight entertainment</th>\n",
       "      <th>...</th>\n",
       "      <th>Customer Type_Loyal Customer</th>\n",
       "      <th>Customer Type_disloyal Customer</th>\n",
       "      <th>Type of Travel_Business travel</th>\n",
       "      <th>Type of Travel_Personal Travel</th>\n",
       "      <th>Class_Business</th>\n",
       "      <th>Class_Eco</th>\n",
       "      <th>Class_Eco Plus</th>\n",
       "      <th>satisfaction_neutral or dissatisfied</th>\n",
       "      <th>satisfaction_satisfied</th>\n",
       "      <th>Cluster</th>\n",
       "    </tr>\n",
       "    <tr>\n",
       "      <th>spectral</th>\n",
       "      <th></th>\n",
       "      <th></th>\n",
       "      <th></th>\n",
       "      <th></th>\n",
       "      <th></th>\n",
       "      <th></th>\n",
       "      <th></th>\n",
       "      <th></th>\n",
       "      <th></th>\n",
       "      <th></th>\n",
       "      <th></th>\n",
       "      <th></th>\n",
       "      <th></th>\n",
       "      <th></th>\n",
       "      <th></th>\n",
       "      <th></th>\n",
       "      <th></th>\n",
       "      <th></th>\n",
       "      <th></th>\n",
       "      <th></th>\n",
       "      <th></th>\n",
       "    </tr>\n",
       "  </thead>\n",
       "  <tbody>\n",
       "    <tr>\n",
       "      <th>0</th>\n",
       "      <td>38.315781</td>\n",
       "      <td>643.916520</td>\n",
       "      <td>2.725582</td>\n",
       "      <td>3.084999</td>\n",
       "      <td>2.706032</td>\n",
       "      <td>2.971236</td>\n",
       "      <td>3.158004</td>\n",
       "      <td>3.078975</td>\n",
       "      <td>3.310414</td>\n",
       "      <td>3.247572</td>\n",
       "      <td>...</td>\n",
       "      <td>0.757762</td>\n",
       "      <td>0.242238</td>\n",
       "      <td>0.614125</td>\n",
       "      <td>0.385875</td>\n",
       "      <td>0.331925</td>\n",
       "      <td>0.576178</td>\n",
       "      <td>0.091897</td>\n",
       "      <td>0.658429</td>\n",
       "      <td>0.341571</td>\n",
       "      <td>0.980623</td>\n",
       "    </tr>\n",
       "    <tr>\n",
       "      <th>1</th>\n",
       "      <td>42.212234</td>\n",
       "      <td>2556.487715</td>\n",
       "      <td>2.736440</td>\n",
       "      <td>2.989239</td>\n",
       "      <td>2.883971</td>\n",
       "      <td>2.991100</td>\n",
       "      <td>3.321844</td>\n",
       "      <td>3.687218</td>\n",
       "      <td>3.769129</td>\n",
       "      <td>3.634841</td>\n",
       "      <td>...</td>\n",
       "      <td>0.964884</td>\n",
       "      <td>0.035116</td>\n",
       "      <td>0.881948</td>\n",
       "      <td>0.118052</td>\n",
       "      <td>0.845619</td>\n",
       "      <td>0.130539</td>\n",
       "      <td>0.023842</td>\n",
       "      <td>0.333064</td>\n",
       "      <td>0.666936</td>\n",
       "      <td>0.353346</td>\n",
       "    </tr>\n",
       "    <tr>\n",
       "      <th>2</th>\n",
       "      <td>36.928571</td>\n",
       "      <td>4502.000000</td>\n",
       "      <td>2.857143</td>\n",
       "      <td>2.500000</td>\n",
       "      <td>3.142857</td>\n",
       "      <td>3.142857</td>\n",
       "      <td>3.142857</td>\n",
       "      <td>3.285714</td>\n",
       "      <td>3.285714</td>\n",
       "      <td>2.785714</td>\n",
       "      <td>...</td>\n",
       "      <td>0.928571</td>\n",
       "      <td>0.071429</td>\n",
       "      <td>0.642857</td>\n",
       "      <td>0.357143</td>\n",
       "      <td>0.571429</td>\n",
       "      <td>0.428571</td>\n",
       "      <td>0.000000</td>\n",
       "      <td>0.571429</td>\n",
       "      <td>0.428571</td>\n",
       "      <td>0.714286</td>\n",
       "    </tr>\n",
       "  </tbody>\n",
       "</table>\n",
       "<p>3 rows × 30 columns</p>\n",
       "</div>"
      ],
      "text/plain": [
       "                Age  Flight Distance  Inflight wifi service  \\\n",
       "spectral                                                      \n",
       "0         38.315781       643.916520               2.725582   \n",
       "1         42.212234      2556.487715               2.736440   \n",
       "2         36.928571      4502.000000               2.857143   \n",
       "\n",
       "          Departure/Arrival time convenient  Ease of Online booking  \\\n",
       "spectral                                                              \n",
       "0                                  3.084999                2.706032   \n",
       "1                                  2.989239                2.883971   \n",
       "2                                  2.500000                3.142857   \n",
       "\n",
       "          Gate location  Food and drink  Online boarding  Seat comfort  \\\n",
       "spectral                                                                 \n",
       "0              2.971236        3.158004         3.078975      3.310414   \n",
       "1              2.991100        3.321844         3.687218      3.769129   \n",
       "2              3.142857        3.142857         3.285714      3.285714   \n",
       "\n",
       "          Inflight entertainment  ...  Customer Type_Loyal Customer  \\\n",
       "spectral                          ...                                 \n",
       "0                       3.247572  ...                      0.757762   \n",
       "1                       3.634841  ...                      0.964884   \n",
       "2                       2.785714  ...                      0.928571   \n",
       "\n",
       "          Customer Type_disloyal Customer  Type of Travel_Business travel  \\\n",
       "spectral                                                                    \n",
       "0                                0.242238                        0.614125   \n",
       "1                                0.035116                        0.881948   \n",
       "2                                0.071429                        0.642857   \n",
       "\n",
       "          Type of Travel_Personal Travel  Class_Business  Class_Eco  \\\n",
       "spectral                                                              \n",
       "0                               0.385875        0.331925   0.576178   \n",
       "1                               0.118052        0.845619   0.130539   \n",
       "2                               0.357143        0.571429   0.428571   \n",
       "\n",
       "          Class_Eco Plus  satisfaction_neutral or dissatisfied  \\\n",
       "spectral                                                         \n",
       "0               0.091897                              0.658429   \n",
       "1               0.023842                              0.333064   \n",
       "2               0.000000                              0.571429   \n",
       "\n",
       "          satisfaction_satisfied   Cluster  \n",
       "spectral                                    \n",
       "0                       0.341571  0.980623  \n",
       "1                       0.666936  0.353346  \n",
       "2                       0.428571  0.714286  \n",
       "\n",
       "[3 rows x 30 columns]"
      ]
     },
     "execution_count": 71,
     "metadata": {},
     "output_type": "execute_result"
    }
   ],
   "source": [
    "# Add the cluster labels to the original DataFrame\n",
    "result_dummies['spectral'] = spectral\n",
    "\n",
    "# Analyze the results by examining the mean values of each feature for each cluster\n",
    "spectral_data=result_dummies.groupby('spectral').mean()\n",
    "spectral_data"
   ]
  },
  {
   "cell_type": "code",
   "execution_count": 81,
   "metadata": {
    "colab": {
     "base_uri": "https://localhost:8080/"
    },
    "id": "KhewQOJQAVu5",
    "outputId": "78f5be65-2a01-4f76-ee69-30d6f1682718"
   },
   "outputs": [],
   "source": [
    "spectSilh = silhouette_score(X_all, spectral)"
   ]
  },
  {
   "cell_type": "markdown",
   "metadata": {
    "id": "kSGq0VQtc1jm"
   },
   "source": [
    "### Modeling and Evaluation 2"
   ]
  },
  {
   "cell_type": "code",
   "execution_count": 28,
   "metadata": {},
   "outputs": [
    {
     "data": {
      "image/png": "[encoded data removed]",
      "text/plain": [
       "<Figure size 576x396 with 2 Axes>"
      ]
     },
     "metadata": {},
     "output_type": "display_data"
    },
    {
     "data": {
      "text/plain": [
       "<AxesSubplot:title={'center':'Distortion Score Elbow for KMeans Clustering'}, xlabel='k', ylabel='distortion score'>"
      ]
     },
     "execution_count": 28,
     "metadata": {},
     "output_type": "execute_result"
    }
   ],
   "source": [
    "# Visualizing the elbow choosing the best number of clusters\n",
    "visualizer=KElbowVisualizer(KMeans(), k=(1, 11))\n",
    "visualizer.fit(X_all)\n",
    "visualizer.show()\n",
    "\n",
    "\n"
   ]
  },
  {
   "cell_type": "markdown",
   "metadata": {},
   "source": [
    "An elbow method was used to select the number of clusters, which balanced the distortion or the sum of squared distances from each point to the assigned center. This gave the optimal clusters as being 3 for satisfaction level based on the combination of all other parameters. "
   ]
  },
  {
   "cell_type": "code",
   "execution_count": 96,
   "metadata": {},
   "outputs": [
    {
     "name": "stdout",
     "output_type": "stream",
     "text": [
      "Silhouette Scores for model comparison:\n",
      "   K-Means - full, 3 clusters:  -0.13626027936386909\n",
      "   K-Means - full, 2 clusters:  0.19891802792468466\n",
      "   K-Means - partial, 3 clusters:  -0.11883124865870333\n",
      "   K-Means - partial, 2 clusters:  -0.03781088364344817\n",
      "   Spectral - full, 3 clusters:  0.6288251836861567\n"
     ]
    }
   ],
   "source": [
    "print('Silhouette Scores for model comparison:')\n",
    "print('   K-Means - full, 3 clusters: ',kMeansSilh3c)\n",
    "print('   K-Means - full, 2 clusters: ',kMeansSilh2c)\n",
    "print('   K-Means - partial, 3 clusters: ',kMeansSilhS3c)\n",
    "print('   K-Means - partial, 2 clusters: ',kMeansSilhS2c)\n",
    "print('   Spectral - full, 3 clusters: ',spectSilh)"
   ]
  },
  {
   "cell_type": "markdown",
   "metadata": {},
   "source": [
    "The K-Means models struggled to seperate passenger satisfaction into clusters, with the exception of the model that clustered the full dataset into two clusters. Spectral clustering worked significantly better for this data with a spectral coefficient of 0.63. "
   ]
  },
  {
   "cell_type": "markdown",
   "metadata": {
    "id": "VOiTnE_Jc36w"
   },
   "source": [
    "### Modeling and Evaluation 3"
   ]
  },
  {
   "cell_type": "code",
   "execution_count": 160,
   "metadata": {},
   "outputs": [],
   "source": [
    "xResults = result\n",
    "xResults['spectral'] = result_dummies['spectral']\n",
    "xResults['Cluster 2'] = result_dummies['Cluster 2']\n",
    "xResults['Cluster 3'] = result_dummies['Cluster 3']\n"
   ]
  },
  {
   "cell_type": "code",
   "execution_count": 180,
   "metadata": {},
   "outputs": [
    {
     "data": {
      "text/plain": [
       "<AxesSubplot:xlabel='Flight Distance', ylabel='Cluster 2'>"
      ]
     },
     "execution_count": 180,
     "metadata": {},
     "output_type": "execute_result"
    },
    {
     "data": {
      "image/png": "[encoded data removed]",
      "text/plain": [
       "<Figure size 576x396 with 3 Axes>"
      ]
     },
     "metadata": {},
     "output_type": "display_data"
    }
   ],
   "source": [
    "fig, (ax1, ax2, ax3) = plt.subplots(ncols=3, sharey=True)\n",
    "sns.scatterplot(data=xResults,x='Flight Distance',y='spectral',ax=ax1)\n",
    "sns.scatterplot(data=xResults,x='Flight Distance',y='Cluster 3',ax=ax2)\n",
    "sns.scatterplot(data=xResults,x='Flight Distance',y='Cluster 2',ax=ax3)"
   ]
  },
  {
   "cell_type": "markdown",
   "metadata": {},
   "source": [
    "The above graphics show how spectral and K-Means clustered in response to the distance of the flight. While K-Means has the different flight distances fairly even distrubted on the clusters, the spectral model clearly heavily relied on flight distance. Short flights are all clustered around 0, while the rest of the majority of flights are in cluster 1. The few outliers are separated between cluster 2 and 0 while having the longest flight distances. "
   ]
  },
  {
   "cell_type": "code",
   "execution_count": 167,
   "metadata": {},
   "outputs": [
    {
     "data": {
      "text/plain": [
       "<AxesSubplot:xlabel='Cleanliness', ylabel='count'>"
      ]
     },
     "execution_count": 167,
     "metadata": {},
     "output_type": "execute_result"
    },
    {
     "data": {
      "image/png": "[encoded data removed]",
      "text/plain": [
       "<Figure size 576x396 with 3 Axes>"
      ]
     },
     "metadata": {},
     "output_type": "display_data"
    }
   ],
   "source": [
    "fig, (ax1, ax2, ax3) = plt.subplots(ncols=3, sharey=True)\n",
    "sns.countplot(data=xResults,x='Cleanliness',hue='spectral',ax=ax1)\n",
    "sns.countplot(data=xResults,x='Cleanliness',hue='Cluster 3',ax=ax2)\n",
    "sns.countplot(data=xResults,x='Cleanliness',hue='Cluster 2',ax=ax3)"
   ]
  },
  {
   "cell_type": "markdown",
   "metadata": {},
   "source": [
    "The K-Means models had a significant difference when looking at the clusters and cleanliness data. Both models heavily relied on cluster 0 for cleanliness 3 and below, with cluster 1 having a large spike at 3 and above. Interestingly, in the 3 cluster model, cluster 2 stays pretty consistent regardless of cleanliness level. In the spectral model, cleanliness didn't seem to have much of an impact as the relationship between the clusters looks to stay about the same as the cleanliness changes. "
   ]
  },
  {
   "cell_type": "code",
   "execution_count": 169,
   "metadata": {},
   "outputs": [
    {
     "data": {
      "text/plain": [
       "<AxesSubplot:xlabel='Food and drink', ylabel='count'>"
      ]
     },
     "execution_count": 169,
     "metadata": {},
     "output_type": "execute_result"
    },
    {
     "data": {
      "image/png": "[encoded data removed]",
      "text/plain": [
       "<Figure size 576x396 with 3 Axes>"
      ]
     },
     "metadata": {},
     "output_type": "display_data"
    }
   ],
   "source": [
    "fig, (ax1, ax2, ax3) = plt.subplots(ncols=3, sharey=True)\n",
    "sns.countplot(data=xResults,x='Food and drink',hue='spectral',ax=ax1)\n",
    "sns.countplot(data=xResults,x='Food and drink',hue='Cluster 3',ax=ax2)\n",
    "sns.countplot(data=xResults,x='Food and drink',hue='Cluster 2',ax=ax3)"
   ]
  },
  {
   "cell_type": "markdown",
   "metadata": {},
   "source": [
    "When looking at food and drink, the number of instances in cluster 0 decrease as the food and drink rating increases, while cluster 1 increases, especially at ratings four and five. In the spectral model, there is a large difference between clusters 0 and 1 at food and drink rating 1, with cluster 1 staying consistent for all other ratings. "
   ]
  },
  {
   "cell_type": "code",
   "execution_count": 171,
   "metadata": {},
   "outputs": [
    {
     "data": {
      "text/plain": [
       "<AxesSubplot:xlabel='Type of Travel', ylabel='count'>"
      ]
     },
     "execution_count": 171,
     "metadata": {},
     "output_type": "execute_result"
    },
    {
     "data": {
      "image/png": "[encoded data removed]",
      "text/plain": [
       "<Figure size 576x396 with 3 Axes>"
      ]
     },
     "metadata": {},
     "output_type": "display_data"
    }
   ],
   "source": [
    "fig, (ax1, ax2, ax3) = plt.subplots(ncols=3, sharey=True)\n",
    "sns.countplot(data=xResults,x='Type of Travel',hue='spectral',ax=ax1)\n",
    "sns.countplot(data=xResults,x='Type of Travel',hue='Cluster 3',ax=ax2)\n",
    "sns.countplot(data=xResults,x='Type of Travel',hue='Cluster 2',ax=ax3)"
   ]
  },
  {
   "cell_type": "markdown",
   "metadata": {},
   "source": [
    "In the K-Means models, the type of travel looks to have an impact on where data was clustered. In the 3 cluster model, almost everyone that traveled for personal reasons was placed in cluster two with business travel being placed entirely into clusters zero and one. The 2 cluster model behaved similarily having most of the personal travel in cluster zero and a large spike in cluster one for business travel. "
   ]
  },
  {
   "cell_type": "code",
   "execution_count": 172,
   "metadata": {},
   "outputs": [
    {
     "data": {
      "text/plain": [
       "<AxesSubplot:xlabel='Class', ylabel='count'>"
      ]
     },
     "execution_count": 172,
     "metadata": {},
     "output_type": "execute_result"
    },
    {
     "data": {
      "image/png": "[encoded data removed]",
      "text/plain": [
       "<Figure size 576x396 with 3 Axes>"
      ]
     },
     "metadata": {},
     "output_type": "display_data"
    }
   ],
   "source": [
    "fig, (ax1, ax2, ax3) = plt.subplots(ncols=3, sharey=True)\n",
    "sns.countplot(data=xResults,x='Class',hue='spectral',ax=ax1)\n",
    "sns.countplot(data=xResults,x='Class',hue='Cluster 3',ax=ax2)\n",
    "sns.countplot(data=xResults,x='Class',hue='Cluster 2',ax=ax3)"
   ]
  },
  {
   "cell_type": "markdown",
   "metadata": {},
   "source": [
    "Cluster one in the K-Means models consisted of a large majority of business class passengers, with other classes having a large spike for eco class. In the 3 cluster model, cluster two increased drastically, with the same happening for cluster zero in the 2 cluster model. In the spectral model for business class, clusters zero and one were nearly even. However, for eco class is significantly represented in eco class."
   ]
  },
  {
   "cell_type": "code",
   "execution_count": 174,
   "metadata": {},
   "outputs": [
    {
     "data": {
      "text/plain": [
       "<AxesSubplot:xlabel='Inflight wifi service', ylabel='count'>"
      ]
     },
     "execution_count": 174,
     "metadata": {},
     "output_type": "execute_result"
    },
    {
     "data": {
      "image/png": "[encoded data removed]",
      "text/plain": [
       "<Figure size 576x396 with 3 Axes>"
      ]
     },
     "metadata": {},
     "output_type": "display_data"
    }
   ],
   "source": [
    "fig, (ax1, ax2, ax3) = plt.subplots(ncols=3, sharey=True)\n",
    "sns.countplot(data=xResults,x='Inflight wifi service',hue='spectral',ax=ax1)\n",
    "sns.countplot(data=xResults,x='Inflight wifi service',hue='Cluster 3',ax=ax2)\n",
    "sns.countplot(data=xResults,x='Inflight wifi service',hue='Cluster 2',ax=ax3)"
   ]
  },
  {
   "cell_type": "markdown",
   "metadata": {},
   "source": [
    "The 3 cluster K-Means model has pretty equal numbers in clusters zero and two with both clusters dropping off above an inflight wifi service of three. Cluster two follows an opposite trend and increases drastically above a rating of three. This is also seen in the 2 cluster model with cluster zero having most of the passengers for wifi service at three and below with cluster one increasing as wifi service increases. The relationship between the clusters in the spectral model don't appear to change much as the wifi service changes."
   ]
  },
  {
   "cell_type": "code",
   "execution_count": 30,
   "metadata": {
    "colab": {
     "base_uri": "https://localhost:8080/",
     "height": 503
    },
    "id": "LKUirDrOTQtd",
    "outputId": "3fb5f549-7848-474c-e526-4b35b9dda577"
   },
   "outputs": [
    {
     "data": {
      "image/png": "[encoded data removed]",
      "text/plain": [
       "<Figure size 800x550 with 1 Axes>"
      ]
     },
     "metadata": {},
     "output_type": "display_data"
    }
   ],
   "source": [
    "import plotly.express as px\n",
    "\n",
    "agg_columns = ['satisfaction_satisfied', 'Flight Distance']\n",
    "agg_df = result_dummies[agg_columns]\n",
    "agg_df['Flight Distance'] = pd.cut(agg_df['Flight Distance'], 10, labels=False)\n",
    "\n",
    "agg_view=agg_df.groupby(['Flight Distance']).sum()\n",
    "agg_view_divisor=agg_df.groupby(['Flight Distance']).count()\n",
    "agg_view_divisor\n",
    "agg_view\n",
    "\n",
    "agg_view=pd.merge(agg_view.drop_duplicates(),agg_view_divisor,how='inner',on=['Flight Distance'])\n",
    "\n",
    "agg_view['satisfaction_satisfied_x']=agg_view['satisfaction_satisfied_x']/agg_view['satisfaction_satisfied_y']\n",
    "agg_view = agg_view.rename(columns={'satisfaction_satisfied_x': 'perc_satisfied', 'satisfaction_satisfied_y': 'total'})\n",
    "\n",
    "agg_view=pd.merge(agg_view.drop_duplicates(),agg_view_divisor,how='inner',on=['Flight Distance'])\n",
    "\n",
    "agg_view.round(decimals=1)\n",
    "agg_view = agg_view.drop('total', \n",
    "                   axis = 1)\n",
    "agg_view = agg_view.drop('satisfaction_satisfied', \n",
    "                   axis = 1)\n",
    "lines = agg_view.plot.line()\n"
   ]
  },
  {
   "cell_type": "markdown",
   "metadata": {
    "id": "3eENDncndJox"
   },
   "source": [
    "### Modeling and Evaluation 4"
   ]
  },
  {
   "cell_type": "markdown",
   "metadata": {
    "id": "7OCGiDmkdNq9"
   },
   "source": [
    "In summary, the spectral model performed better in identifying and filling clusters with the given data, but the results from the K-Means models seemed more clear in looking at variables that were assessed to be important. Variables such as flight distance, cleanliness, food and drink, and the reason and method of travel were important in how clusters were determined. Surprisingly, both departure and arrival delays didn't seem to impact the clusters all that much which is interesting as it was expected to have a large impact on passenger satisfaction. "
   ]
  },
  {
   "cell_type": "markdown",
   "metadata": {
    "id": "nay7Qy-5dQIh"
   },
   "source": [
    "### Deployment"
   ]
  },
  {
   "cell_type": "markdown",
   "metadata": {
    "id": "h_FXx_M2dUK9"
   },
   "source": [
    "10\tBe critical of your performance and tell the reader how you current model might be usable by other parties. Did you achieve your goals? If not, can you reign in the utility of your modeling? How useful is your model for interested parties (i.e., the companies or organizations that might want to use it)? How would your deploy your model for interested parties? What other data should be collected? How often would the model need to be updated, etc.?\n",
    "\n",
    "The model that we created could be useful to airlines to identify important aspects of a customers flight experience and where different benefits or experiences may be lacking. This could be used to allow airlines to prioritize improving upon what the customers find important. The performance of some of the models was lower than expected, especially the K-Means models. In the future feature selection could potentially help to select only the most impactful variables, which could then be clustered to achieve similar but more definite results. This model could be deployed in the corporate offices of an airlines as part of a monthly or quarterly report highlighting improvements in certain areas as well as potentially new airlines of passenger experience that may be decreasing. This model could easily ingest new reviews and be updated as often as is neccesary for reports to the business.\n"
   ]
  },
  {
   "cell_type": "markdown",
   "metadata": {
    "id": "RIvq_7MnE2WD"
   },
   "source": [
    "## Exceptional Work"
   ]
  },
  {
   "cell_type": "markdown",
   "metadata": {
    "id": "YyHy5th6Bb0W"
   },
   "source": [
    "In order to provide further insight, we ran some decision trees to get information on what is important in determing whether a customer is sattisfied or not. \n",
    "\n",
    "Important to note, these predictions won't be leveraged/deployed, as the classification for satisfied/unsatisfied is built off of the other columns in the dataset. This is done simply to find what features were important, in order to garner some ideas about where there are areas for improvement with airlines.\n"
   ]
  },
  {
   "cell_type": "code",
   "execution_count": null,
   "metadata": {
    "id": "_TYf9jDIkkby"
   },
   "outputs": [],
   "source": [
    "# https://scikit-learn.org/stable/modules/generated/sklearn.tree.DecisionTreeClassifier.html\n",
    "\n",
    "model_gini = DecisionTreeClassifier(\n",
    "    criterion = 'gini',\n",
    "    splitter = 'best',\n",
    "    random_state = 42,\n",
    "    max_depth = 10\n",
    ")\n",
    "\n",
    "model_gini.fit(X, y)"
   ]
  },
  {
   "cell_type": "code",
   "execution_count": null,
   "metadata": {
    "id": "qPmdQpkHr9LG"
   },
   "outputs": [],
   "source": [
    "y_predictions_gini = model_gini.predict(X_test)\n",
    "print(y_predictions_gini)"
   ]
  },
  {
   "cell_type": "code",
   "execution_count": null,
   "metadata": {
    "id": "eQnurrUVr9LG"
   },
   "outputs": [],
   "source": [
    "results_gini = pd.DataFrame()\n",
    "results_gini['Actual'] = y_test\n",
    "results_gini['Prediction'] = y_predictions_gini\n",
    "results_gini['Correct'] = results_gini['Actual'] == results_gini['Prediction']\n",
    "results_gini = results_gini.reset_index().drop('index', axis = 1)\n",
    "results_gini"
   ]
  },
  {
   "cell_type": "code",
   "execution_count": null,
   "metadata": {
    "id": "L0cSzKZsr9LH"
   },
   "outputs": [],
   "source": [
    "print('Accuracy: ', accuracy_score(y_test, y_predictions_gini), \n",
    "      '\\n \\n', \n",
    "      'Classification Report: \\n')\n",
    "\n",
    "print(classification_report(y_test, \n",
    "                            y_predictions_gini, \n",
    "                            digits = 5))\n"
   ]
  },
  {
   "cell_type": "markdown",
   "metadata": {
    "id": "5rxGEz-ar4v4"
   },
   "source": [
    "Entropy Decision Tree"
   ]
  },
  {
   "cell_type": "code",
   "execution_count": null,
   "metadata": {
    "id": "hKqLvBOJr9LE"
   },
   "outputs": [],
   "source": [
    "# https://scikit-learn.org/stable/modules/generated/sklearn.tree.DecisionTreeClassifier.html\n",
    "\n",
    "model_gini = DecisionTreeClassifier(\n",
    "    criterion = 'entropy',\n",
    "    splitter = 'best',\n",
    "    random_state = 42,\n",
    "    max_depth = 10\n",
    ")\n",
    "\n",
    "model_gini.fit(X, y)"
   ]
  },
  {
   "cell_type": "code",
   "execution_count": null,
   "metadata": {
    "id": "xwKHO79lk0lC"
   },
   "outputs": [],
   "source": [
    "y_predictions_gini = model_gini.predict(X_test)\n",
    "print(y_predictions_gini)"
   ]
  },
  {
   "cell_type": "code",
   "execution_count": null,
   "metadata": {
    "id": "OIYLJXd1k21d"
   },
   "outputs": [],
   "source": [
    "results_gini = pd.DataFrame()\n",
    "results_gini['Actual'] = y_test\n",
    "results_gini['Prediction'] = y_predictions_gini\n",
    "results_gini['Correct'] = results_gini['Actual'] == results_gini['Prediction']\n",
    "results_gini = results_gini.reset_index().drop('index', axis = 1)\n",
    "results_gini"
   ]
  },
  {
   "cell_type": "markdown",
   "metadata": {
    "id": "Dh7_6N8bsTKv"
   },
   "source": [
    "Gini Decision Tree"
   ]
  },
  {
   "cell_type": "code",
   "execution_count": null,
   "metadata": {
    "id": "PjZbvEr7k8bR"
   },
   "outputs": [],
   "source": [
    "print('Accuracy: ', accuracy_score(y_test, y_predictions_gini), \n",
    "      '\\n \\n', \n",
    "      'Classification Report: \\n')\n",
    "\n",
    "print(classification_report(y_test, \n",
    "                            y_predictions_gini, \n",
    "                            digits = 5))\n"
   ]
  },
  {
   "cell_type": "markdown",
   "metadata": {
    "id": "0oaEVL1fCF7h"
   },
   "source": [
    "### Need to add importance plot with what insights come from it."
   ]
  },
  {
   "cell_type": "markdown",
   "metadata": {
    "id": "YacQsWT-cLOk"
   },
   "source": []
  }
 ],
 "metadata": {
  "colab": {
   "include_colab_link": true,
   "machine_shape": "hm",
   "provenance": []
  },
  "gpuClass": "standard",
  "kernelspec": {
   "display_name": "Python 3 (ipykernel)",
   "language": "python",
   "name": "python3"
  },
  "language_info": {
   "codemirror_mode": {
    "name": "ipython",
    "version": 3
   },
   "file_extension": ".py",
   "mimetype": "text/x-python",
   "name": "python",
   "nbconvert_exporter": "python",
   "pygments_lexer": "ipython3",
   "version": "3.9.7"
  }
 },
 "nbformat": 4,
 "nbformat_minor": 1
}
