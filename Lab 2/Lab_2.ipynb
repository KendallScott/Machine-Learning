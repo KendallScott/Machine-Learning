{
  "nbformat": 4,
  "nbformat_minor": 0,
  "metadata": {
    "colab": {
      "provenance": [],
      "collapsed_sections": [
        "zfVHTbHLGEqC",
        "1Ym1hr0hJHFJ"
      ],
      "include_colab_link": true
    },
    "kernelspec": {
      "name": "python3",
      "display_name": "Python 3"
    },
    "language_info": {
      "name": "python"
    }
  },
  "cells": [
    {
      "cell_type": "markdown",
      "metadata": {
        "id": "view-in-github",
        "colab_type": "text"
      },
      "source": [
        "<a href=\"https://colab.research.google.com/github/KendallScott/Machine-Learning/blob/main/Lab%202/Lab_2.ipynb\" target=\"_parent\"><img src=\"https://colab.research.google.com/assets/colab-badge.svg\" alt=\"Open In Colab\"/></a>"
      ]
    },
    {
      "cell_type": "code",
      "source": [
        "from IPython.display import HTML\n",
        "HTML('''<script>\n",
        "code_show_err=false; \n",
        "function code_toggle_err() {\n",
        " if (code_show_err){\n",
        " $('div.output_stderr').hide();\n",
        " } else {\n",
        " $('div.output_stderr').show();\n",
        " }\n",
        " code_show_err = !code_show_err\n",
        "} \n",
        "$( document ).ready(code_toggle_err);\n",
        "</script>\n",
        "To toggle on/off output_stderr, click <a href=\"javascript:code_toggle_err()\">here</a>.''')"
      ],
      "metadata": {
        "colab": {
          "base_uri": "https://localhost:8080/",
          "height": 34
        },
        "id": "S3NfzA7yoRws",
        "outputId": "0b099ce1-dd2d-46ca-df90-e53c5f023063"
      },
      "execution_count": null,
      "outputs": [
        {
          "output_type": "execute_result",
          "data": {
            "text/plain": [
              "<IPython.core.display.HTML object>"
            ],
            "text/html": [
              "<script>\n",
              "code_show_err=false; \n",
              "function code_toggle_err() {\n",
              " if (code_show_err){\n",
              " $('div.output_stderr').hide();\n",
              " } else {\n",
              " $('div.output_stderr').show();\n",
              " }\n",
              " code_show_err = !code_show_err\n",
              "} \n",
              "$( document ).ready(code_toggle_err);\n",
              "</script>\n",
              "To toggle on/off output_stderr, click <a href=\"javascript:code_toggle_err()\">here</a>."
            ]
          },
          "metadata": {},
          "execution_count": 2
        }
      ]
    },
    {
      "cell_type": "code",
      "source": [
        "import warnings\n",
        "warnings.filterwarnings(\"ignore\")"
      ],
      "metadata": {
        "id": "5gk0PM7mGRY3"
      },
      "execution_count": null,
      "outputs": []
    },
    {
      "cell_type": "code",
      "source": [
        "import pandas as pd\n",
        "import numpy as np\n",
        "import matplotlib.pyplot as plt\n",
        "import seaborn as sns\n",
        "from sklearn.ensemble import RandomForestClassifier\n",
        "from sklearn.model_selection import train_test_split\n",
        "from sklearn.metrics import roc_curve, auc\n",
        "from sklearn.linear_model import LogisticRegression\n",
        "from yellowbrick.classifier import ConfusionMatrix\n",
        "from sklearn.neighbors import KNeighborsClassifier\n",
        "from sklearn.cluster import KMeans\n",
        "from sklearn.model_selection import cross_val_score\n",
        "from sklearn.model_selection import StratifiedKFold\n",
        "from sklearn.model_selection import KFold\n",
        "from sklearn.metrics import classification_report\n",
        "from sklearn.metrics import precision_score, recall_score, f1_score, accuracy_score\n",
        "from google.colab import files\n",
        "from sklearn import metrics\n",
        "from sklearn.linear_model import LinearRegression\n",
        "from sklearn import neighbors\n",
        "from sklearn.model_selection import GridSearchCV\n",
        "from tabulate import tabulate\n",
        "from sklearn.preprocessing import OneHotEncoder"
      ],
      "metadata": {
        "id": "jWrxf4BvPUtK"
      },
      "execution_count": 2,
      "outputs": []
    },
    {
      "cell_type": "code",
      "execution_count": 3,
      "metadata": {
        "colab": {
          "base_uri": "https://localhost:8080/",
          "height": 374
        },
        "id": "iyN_uOLZOjy3",
        "outputId": "2295ebbe-0b7f-4406-a745-e7bd0c6b5a50"
      },
      "outputs": [
        {
          "output_type": "display_data",
          "data": {
            "text/plain": [
              "<IPython.core.display.HTML object>"
            ],
            "text/html": [
              "\n",
              "     <input type=\"file\" id=\"files-3c941a35-3285-4c16-943f-5d92d9ba89a7\" name=\"files[]\" multiple disabled\n",
              "        style=\"border:none\" />\n",
              "     <output id=\"result-3c941a35-3285-4c16-943f-5d92d9ba89a7\">\n",
              "      Upload widget is only available when the cell has been executed in the\n",
              "      current browser session. Please rerun this cell to enable.\n",
              "      </output>\n",
              "      <script>// Copyright 2017 Google LLC\n",
              "//\n",
              "// Licensed under the Apache License, Version 2.0 (the \"License\");\n",
              "// you may not use this file except in compliance with the License.\n",
              "// You may obtain a copy of the License at\n",
              "//\n",
              "//      http://www.apache.org/licenses/LICENSE-2.0\n",
              "//\n",
              "// Unless required by applicable law or agreed to in writing, software\n",
              "// distributed under the License is distributed on an \"AS IS\" BASIS,\n",
              "// WITHOUT WARRANTIES OR CONDITIONS OF ANY KIND, either express or implied.\n",
              "// See the License for the specific language governing permissions and\n",
              "// limitations under the License.\n",
              "\n",
              "/**\n",
              " * @fileoverview Helpers for google.colab Python module.\n",
              " */\n",
              "(function(scope) {\n",
              "function span(text, styleAttributes = {}) {\n",
              "  const element = document.createElement('span');\n",
              "  element.textContent = text;\n",
              "  for (const key of Object.keys(styleAttributes)) {\n",
              "    element.style[key] = styleAttributes[key];\n",
              "  }\n",
              "  return element;\n",
              "}\n",
              "\n",
              "// Max number of bytes which will be uploaded at a time.\n",
              "const MAX_PAYLOAD_SIZE = 100 * 1024;\n",
              "\n",
              "function _uploadFiles(inputId, outputId) {\n",
              "  const steps = uploadFilesStep(inputId, outputId);\n",
              "  const outputElement = document.getElementById(outputId);\n",
              "  // Cache steps on the outputElement to make it available for the next call\n",
              "  // to uploadFilesContinue from Python.\n",
              "  outputElement.steps = steps;\n",
              "\n",
              "  return _uploadFilesContinue(outputId);\n",
              "}\n",
              "\n",
              "// This is roughly an async generator (not supported in the browser yet),\n",
              "// where there are multiple asynchronous steps and the Python side is going\n",
              "// to poll for completion of each step.\n",
              "// This uses a Promise to block the python side on completion of each step,\n",
              "// then passes the result of the previous step as the input to the next step.\n",
              "function _uploadFilesContinue(outputId) {\n",
              "  const outputElement = document.getElementById(outputId);\n",
              "  const steps = outputElement.steps;\n",
              "\n",
              "  const next = steps.next(outputElement.lastPromiseValue);\n",
              "  return Promise.resolve(next.value.promise).then((value) => {\n",
              "    // Cache the last promise value to make it available to the next\n",
              "    // step of the generator.\n",
              "    outputElement.lastPromiseValue = value;\n",
              "    return next.value.response;\n",
              "  });\n",
              "}\n",
              "\n",
              "/**\n",
              " * Generator function which is called between each async step of the upload\n",
              " * process.\n",
              " * @param {string} inputId Element ID of the input file picker element.\n",
              " * @param {string} outputId Element ID of the output display.\n",
              " * @return {!Iterable<!Object>} Iterable of next steps.\n",
              " */\n",
              "function* uploadFilesStep(inputId, outputId) {\n",
              "  const inputElement = document.getElementById(inputId);\n",
              "  inputElement.disabled = false;\n",
              "\n",
              "  const outputElement = document.getElementById(outputId);\n",
              "  outputElement.innerHTML = '';\n",
              "\n",
              "  const pickedPromise = new Promise((resolve) => {\n",
              "    inputElement.addEventListener('change', (e) => {\n",
              "      resolve(e.target.files);\n",
              "    });\n",
              "  });\n",
              "\n",
              "  const cancel = document.createElement('button');\n",
              "  inputElement.parentElement.appendChild(cancel);\n",
              "  cancel.textContent = 'Cancel upload';\n",
              "  const cancelPromise = new Promise((resolve) => {\n",
              "    cancel.onclick = () => {\n",
              "      resolve(null);\n",
              "    };\n",
              "  });\n",
              "\n",
              "  // Wait for the user to pick the files.\n",
              "  const files = yield {\n",
              "    promise: Promise.race([pickedPromise, cancelPromise]),\n",
              "    response: {\n",
              "      action: 'starting',\n",
              "    }\n",
              "  };\n",
              "\n",
              "  cancel.remove();\n",
              "\n",
              "  // Disable the input element since further picks are not allowed.\n",
              "  inputElement.disabled = true;\n",
              "\n",
              "  if (!files) {\n",
              "    return {\n",
              "      response: {\n",
              "        action: 'complete',\n",
              "      }\n",
              "    };\n",
              "  }\n",
              "\n",
              "  for (const file of files) {\n",
              "    const li = document.createElement('li');\n",
              "    li.append(span(file.name, {fontWeight: 'bold'}));\n",
              "    li.append(span(\n",
              "        `(${file.type || 'n/a'}) - ${file.size} bytes, ` +\n",
              "        `last modified: ${\n",
              "            file.lastModifiedDate ? file.lastModifiedDate.toLocaleDateString() :\n",
              "                                    'n/a'} - `));\n",
              "    const percent = span('0% done');\n",
              "    li.appendChild(percent);\n",
              "\n",
              "    outputElement.appendChild(li);\n",
              "\n",
              "    const fileDataPromise = new Promise((resolve) => {\n",
              "      const reader = new FileReader();\n",
              "      reader.onload = (e) => {\n",
              "        resolve(e.target.result);\n",
              "      };\n",
              "      reader.readAsArrayBuffer(file);\n",
              "    });\n",
              "    // Wait for the data to be ready.\n",
              "    let fileData = yield {\n",
              "      promise: fileDataPromise,\n",
              "      response: {\n",
              "        action: 'continue',\n",
              "      }\n",
              "    };\n",
              "\n",
              "    // Use a chunked sending to avoid message size limits. See b/62115660.\n",
              "    let position = 0;\n",
              "    do {\n",
              "      const length = Math.min(fileData.byteLength - position, MAX_PAYLOAD_SIZE);\n",
              "      const chunk = new Uint8Array(fileData, position, length);\n",
              "      position += length;\n",
              "\n",
              "      const base64 = btoa(String.fromCharCode.apply(null, chunk));\n",
              "      yield {\n",
              "        response: {\n",
              "          action: 'append',\n",
              "          file: file.name,\n",
              "          data: base64,\n",
              "        },\n",
              "      };\n",
              "\n",
              "      let percentDone = fileData.byteLength === 0 ?\n",
              "          100 :\n",
              "          Math.round((position / fileData.byteLength) * 100);\n",
              "      percent.textContent = `${percentDone}% done`;\n",
              "\n",
              "    } while (position < fileData.byteLength);\n",
              "  }\n",
              "\n",
              "  // All done.\n",
              "  yield {\n",
              "    response: {\n",
              "      action: 'complete',\n",
              "    }\n",
              "  };\n",
              "}\n",
              "\n",
              "scope.google = scope.google || {};\n",
              "scope.google.colab = scope.google.colab || {};\n",
              "scope.google.colab._files = {\n",
              "  _uploadFiles,\n",
              "  _uploadFilesContinue,\n",
              "};\n",
              "})(self);\n",
              "</script> "
            ]
          },
          "metadata": {}
        },
        {
          "output_type": "stream",
          "name": "stdout",
          "text": [
            "Saving covtype.csv to covtype (2).csv\n",
            "(581012, 55)\n"
          ]
        },
        {
          "output_type": "execute_result",
          "data": {
            "text/plain": [
              "   Elevation  Aspect  Slope  Horizontal_Distance_To_Hydrology  \\\n",
              "0       2596      51      3                               258   \n",
              "1       2590      56      2                               212   \n",
              "2       2804     139      9                               268   \n",
              "3       2785     155     18                               242   \n",
              "4       2595      45      2                               153   \n",
              "\n",
              "   Vertical_Distance_To_Hydrology  Horizontal_Distance_To_Roadways  \\\n",
              "0                               0                              510   \n",
              "1                              -6                              390   \n",
              "2                              65                             3180   \n",
              "3                             118                             3090   \n",
              "4                              -1                              391   \n",
              "\n",
              "   Hillshade_9am  Hillshade_Noon  Hillshade_3pm  \\\n",
              "0            221             232            148   \n",
              "1            220             235            151   \n",
              "2            234             238            135   \n",
              "3            238             238            122   \n",
              "4            220             234            150   \n",
              "\n",
              "   Horizontal_Distance_To_Fire_Points  ...  Soil_Type32  Soil_Type33  \\\n",
              "0                                6279  ...            0            0   \n",
              "1                                6225  ...            0            0   \n",
              "2                                6121  ...            0            0   \n",
              "3                                6211  ...            0            0   \n",
              "4                                6172  ...            0            0   \n",
              "\n",
              "   Soil_Type34  Soil_Type35  Soil_Type36  Soil_Type37  Soil_Type38  \\\n",
              "0            0            0            0            0            0   \n",
              "1            0            0            0            0            0   \n",
              "2            0            0            0            0            0   \n",
              "3            0            0            0            0            0   \n",
              "4            0            0            0            0            0   \n",
              "\n",
              "   Soil_Type39  Soil_Type40  Cover_Type  \n",
              "0            0            0           5  \n",
              "1            0            0           5  \n",
              "2            0            0           2  \n",
              "3            0            0           2  \n",
              "4            0            0           5  \n",
              "\n",
              "[5 rows x 55 columns]"
            ],
            "text/html": [
              "\n",
              "  <div id=\"df-3b8295c9-3765-47c9-bc71-7b1a1f0a665d\">\n",
              "    <div class=\"colab-df-container\">\n",
              "      <div>\n",
              "<style scoped>\n",
              "    .dataframe tbody tr th:only-of-type {\n",
              "        vertical-align: middle;\n",
              "    }\n",
              "\n",
              "    .dataframe tbody tr th {\n",
              "        vertical-align: top;\n",
              "    }\n",
              "\n",
              "    .dataframe thead th {\n",
              "        text-align: right;\n",
              "    }\n",
              "</style>\n",
              "<table border=\"1\" class=\"dataframe\">\n",
              "  <thead>\n",
              "    <tr style=\"text-align: right;\">\n",
              "      <th></th>\n",
              "      <th>Elevation</th>\n",
              "      <th>Aspect</th>\n",
              "      <th>Slope</th>\n",
              "      <th>Horizontal_Distance_To_Hydrology</th>\n",
              "      <th>Vertical_Distance_To_Hydrology</th>\n",
              "      <th>Horizontal_Distance_To_Roadways</th>\n",
              "      <th>Hillshade_9am</th>\n",
              "      <th>Hillshade_Noon</th>\n",
              "      <th>Hillshade_3pm</th>\n",
              "      <th>Horizontal_Distance_To_Fire_Points</th>\n",
              "      <th>...</th>\n",
              "      <th>Soil_Type32</th>\n",
              "      <th>Soil_Type33</th>\n",
              "      <th>Soil_Type34</th>\n",
              "      <th>Soil_Type35</th>\n",
              "      <th>Soil_Type36</th>\n",
              "      <th>Soil_Type37</th>\n",
              "      <th>Soil_Type38</th>\n",
              "      <th>Soil_Type39</th>\n",
              "      <th>Soil_Type40</th>\n",
              "      <th>Cover_Type</th>\n",
              "    </tr>\n",
              "  </thead>\n",
              "  <tbody>\n",
              "    <tr>\n",
              "      <th>0</th>\n",
              "      <td>2596</td>\n",
              "      <td>51</td>\n",
              "      <td>3</td>\n",
              "      <td>258</td>\n",
              "      <td>0</td>\n",
              "      <td>510</td>\n",
              "      <td>221</td>\n",
              "      <td>232</td>\n",
              "      <td>148</td>\n",
              "      <td>6279</td>\n",
              "      <td>...</td>\n",
              "      <td>0</td>\n",
              "      <td>0</td>\n",
              "      <td>0</td>\n",
              "      <td>0</td>\n",
              "      <td>0</td>\n",
              "      <td>0</td>\n",
              "      <td>0</td>\n",
              "      <td>0</td>\n",
              "      <td>0</td>\n",
              "      <td>5</td>\n",
              "    </tr>\n",
              "    <tr>\n",
              "      <th>1</th>\n",
              "      <td>2590</td>\n",
              "      <td>56</td>\n",
              "      <td>2</td>\n",
              "      <td>212</td>\n",
              "      <td>-6</td>\n",
              "      <td>390</td>\n",
              "      <td>220</td>\n",
              "      <td>235</td>\n",
              "      <td>151</td>\n",
              "      <td>6225</td>\n",
              "      <td>...</td>\n",
              "      <td>0</td>\n",
              "      <td>0</td>\n",
              "      <td>0</td>\n",
              "      <td>0</td>\n",
              "      <td>0</td>\n",
              "      <td>0</td>\n",
              "      <td>0</td>\n",
              "      <td>0</td>\n",
              "      <td>0</td>\n",
              "      <td>5</td>\n",
              "    </tr>\n",
              "    <tr>\n",
              "      <th>2</th>\n",
              "      <td>2804</td>\n",
              "      <td>139</td>\n",
              "      <td>9</td>\n",
              "      <td>268</td>\n",
              "      <td>65</td>\n",
              "      <td>3180</td>\n",
              "      <td>234</td>\n",
              "      <td>238</td>\n",
              "      <td>135</td>\n",
              "      <td>6121</td>\n",
              "      <td>...</td>\n",
              "      <td>0</td>\n",
              "      <td>0</td>\n",
              "      <td>0</td>\n",
              "      <td>0</td>\n",
              "      <td>0</td>\n",
              "      <td>0</td>\n",
              "      <td>0</td>\n",
              "      <td>0</td>\n",
              "      <td>0</td>\n",
              "      <td>2</td>\n",
              "    </tr>\n",
              "    <tr>\n",
              "      <th>3</th>\n",
              "      <td>2785</td>\n",
              "      <td>155</td>\n",
              "      <td>18</td>\n",
              "      <td>242</td>\n",
              "      <td>118</td>\n",
              "      <td>3090</td>\n",
              "      <td>238</td>\n",
              "      <td>238</td>\n",
              "      <td>122</td>\n",
              "      <td>6211</td>\n",
              "      <td>...</td>\n",
              "      <td>0</td>\n",
              "      <td>0</td>\n",
              "      <td>0</td>\n",
              "      <td>0</td>\n",
              "      <td>0</td>\n",
              "      <td>0</td>\n",
              "      <td>0</td>\n",
              "      <td>0</td>\n",
              "      <td>0</td>\n",
              "      <td>2</td>\n",
              "    </tr>\n",
              "    <tr>\n",
              "      <th>4</th>\n",
              "      <td>2595</td>\n",
              "      <td>45</td>\n",
              "      <td>2</td>\n",
              "      <td>153</td>\n",
              "      <td>-1</td>\n",
              "      <td>391</td>\n",
              "      <td>220</td>\n",
              "      <td>234</td>\n",
              "      <td>150</td>\n",
              "      <td>6172</td>\n",
              "      <td>...</td>\n",
              "      <td>0</td>\n",
              "      <td>0</td>\n",
              "      <td>0</td>\n",
              "      <td>0</td>\n",
              "      <td>0</td>\n",
              "      <td>0</td>\n",
              "      <td>0</td>\n",
              "      <td>0</td>\n",
              "      <td>0</td>\n",
              "      <td>5</td>\n",
              "    </tr>\n",
              "  </tbody>\n",
              "</table>\n",
              "<p>5 rows × 55 columns</p>\n",
              "</div>\n",
              "      <button class=\"colab-df-convert\" onclick=\"convertToInteractive('df-3b8295c9-3765-47c9-bc71-7b1a1f0a665d')\"\n",
              "              title=\"Convert this dataframe to an interactive table.\"\n",
              "              style=\"display:none;\">\n",
              "        \n",
              "  <svg xmlns=\"http://www.w3.org/2000/svg\" height=\"24px\"viewBox=\"0 0 24 24\"\n",
              "       width=\"24px\">\n",
              "    <path d=\"M0 0h24v24H0V0z\" fill=\"none\"/>\n",
              "    <path d=\"M18.56 5.44l.94 2.06.94-2.06 2.06-.94-2.06-.94-.94-2.06-.94 2.06-2.06.94zm-11 1L8.5 8.5l.94-2.06 2.06-.94-2.06-.94L8.5 2.5l-.94 2.06-2.06.94zm10 10l.94 2.06.94-2.06 2.06-.94-2.06-.94-.94-2.06-.94 2.06-2.06.94z\"/><path d=\"M17.41 7.96l-1.37-1.37c-.4-.4-.92-.59-1.43-.59-.52 0-1.04.2-1.43.59L10.3 9.45l-7.72 7.72c-.78.78-.78 2.05 0 2.83L4 21.41c.39.39.9.59 1.41.59.51 0 1.02-.2 1.41-.59l7.78-7.78 2.81-2.81c.8-.78.8-2.07 0-2.86zM5.41 20L4 18.59l7.72-7.72 1.47 1.35L5.41 20z\"/>\n",
              "  </svg>\n",
              "      </button>\n",
              "      \n",
              "  <style>\n",
              "    .colab-df-container {\n",
              "      display:flex;\n",
              "      flex-wrap:wrap;\n",
              "      gap: 12px;\n",
              "    }\n",
              "\n",
              "    .colab-df-convert {\n",
              "      background-color: #E8F0FE;\n",
              "      border: none;\n",
              "      border-radius: 50%;\n",
              "      cursor: pointer;\n",
              "      display: none;\n",
              "      fill: #1967D2;\n",
              "      height: 32px;\n",
              "      padding: 0 0 0 0;\n",
              "      width: 32px;\n",
              "    }\n",
              "\n",
              "    .colab-df-convert:hover {\n",
              "      background-color: #E2EBFA;\n",
              "      box-shadow: 0px 1px 2px rgba(60, 64, 67, 0.3), 0px 1px 3px 1px rgba(60, 64, 67, 0.15);\n",
              "      fill: #174EA6;\n",
              "    }\n",
              "\n",
              "    [theme=dark] .colab-df-convert {\n",
              "      background-color: #3B4455;\n",
              "      fill: #D2E3FC;\n",
              "    }\n",
              "\n",
              "    [theme=dark] .colab-df-convert:hover {\n",
              "      background-color: #434B5C;\n",
              "      box-shadow: 0px 1px 3px 1px rgba(0, 0, 0, 0.15);\n",
              "      filter: drop-shadow(0px 1px 2px rgba(0, 0, 0, 0.3));\n",
              "      fill: #FFFFFF;\n",
              "    }\n",
              "  </style>\n",
              "\n",
              "      <script>\n",
              "        const buttonEl =\n",
              "          document.querySelector('#df-3b8295c9-3765-47c9-bc71-7b1a1f0a665d button.colab-df-convert');\n",
              "        buttonEl.style.display =\n",
              "          google.colab.kernel.accessAllowed ? 'block' : 'none';\n",
              "\n",
              "        async function convertToInteractive(key) {\n",
              "          const element = document.querySelector('#df-3b8295c9-3765-47c9-bc71-7b1a1f0a665d');\n",
              "          const dataTable =\n",
              "            await google.colab.kernel.invokeFunction('convertToInteractive',\n",
              "                                                     [key], {});\n",
              "          if (!dataTable) return;\n",
              "\n",
              "          const docLinkHtml = 'Like what you see? Visit the ' +\n",
              "            '<a target=\"_blank\" href=https://colab.research.google.com/notebooks/data_table.ipynb>data table notebook</a>'\n",
              "            + ' to learn more about interactive tables.';\n",
              "          element.innerHTML = '';\n",
              "          dataTable['output_type'] = 'display_data';\n",
              "          await google.colab.output.renderOutput(dataTable, element);\n",
              "          const docLink = document.createElement('div');\n",
              "          docLink.innerHTML = docLinkHtml;\n",
              "          element.appendChild(docLink);\n",
              "        }\n",
              "      </script>\n",
              "    </div>\n",
              "  </div>\n",
              "  "
            ]
          },
          "metadata": {},
          "execution_count": 3
        }
      ],
      "source": [
        "files.upload()\n",
        "# read the files into a dataframe\n",
        "forest_cover_type = pd.read_csv('covtype.csv') \n",
        "\n",
        "# verify the dataframe loaded\n",
        "print(forest_cover_type.shape)\n",
        "forest_cover_type.head()\n"
      ]
    },
    {
      "cell_type": "markdown",
      "source": [
        "# Data Preparation Part 1"
      ],
      "metadata": {
        "id": "rLzO4MDN8tkJ"
      }
    },
    {
      "cell_type": "code",
      "source": [
        "# Data clean-up\n",
        "# make list of continuous variables\n",
        "continuous_variables = ['Elevation', \n",
        "                        'Aspect', \n",
        "                        'Slope', \n",
        "                        'Horizontal_Distance_To_Hydrology', \n",
        "                        'Vertical_Distance_To_Hydrology',\n",
        "                        'Horizontal_Distance_To_Roadways',\n",
        "                        'Hillshade_9am','Hillshade_Noon',\n",
        "                        'Hillshade_3pm',\n",
        "                        'Horizontal_Distance_To_Fire_Points']\n",
        "\n",
        "# use list to make df\n",
        "continuous_variables_df = forest_cover_type[continuous_variables]\n",
        "\n",
        "# subset df to make binary categorical\n",
        "# second number not inclusive\n",
        "Wilderness_Area = forest_cover_type.iloc[:, 10:14]\n",
        "Wilderness_Area['Wilderness_Area'] = Wilderness_Area.idxmax(axis = 1)\n",
        "\n",
        "# subset df to make binary categorical\n",
        "# second number not inclusive\n",
        "Soil_Type = forest_cover_type.iloc[:, 14:54]\n",
        "Soil_Type['Soil_Type'] = Soil_Type.idxmax(axis = 1)\n",
        "\n",
        "# only keep the new column\n",
        "Soil_Type = Soil_Type[['Soil_Type']]\n",
        "Wilderness_Area = Wilderness_Area[['Wilderness_Area']]\n",
        "\n",
        "# Add new columns to df\n",
        "forest_cover_type['Soil_Type'] = Soil_Type\n",
        "forest_cover_type['Wilderness_Area'] = Wilderness_Area\n",
        "\n",
        "# delete first few characters in column so we only have number\n",
        "forest_cover_type['Soil_Type'] = forest_cover_type['Soil_Type'].str[9:]\n",
        "forest_cover_type['Wilderness_Area'] = forest_cover_type['Wilderness_Area'].str[15:]\n",
        "\n",
        "\n",
        "# delete superfluous columns now that new columns are added\n",
        "forest_cover_type.drop(forest_cover_type.iloc[:, 10:54], \n",
        "                       axis = 1, \n",
        "                       inplace = True)\n",
        "\n"
      ],
      "metadata": {
        "id": "_0vMhxfIP87w"
      },
      "execution_count": null,
      "outputs": []
    },
    {
      "cell_type": "code",
      "source": [
        "# Convert to category data type\n",
        "forest_cover_type['Cover_Type'] = forest_cover_type['Cover_Type'].astype('category')\n",
        "forest_cover_type['Soil_Type'] = forest_cover_type['Soil_Type'].astype('category')\n",
        "forest_cover_type['Wilderness_Area'] = forest_cover_type['Wilderness_Area'].astype('category')"
      ],
      "metadata": {
        "id": "bncZRI2oREaZ"
      },
      "execution_count": null,
      "outputs": []
    },
    {
      "cell_type": "code",
      "source": [
        "# Check the data types\n",
        "forest_cover_type.dtypes"
      ],
      "metadata": {
        "colab": {
          "base_uri": "https://localhost:8080/"
        },
        "id": "A6R1OqRnQS_p",
        "outputId": "b2da5fec-84c2-450e-94ae-cc1d1f6c8b8b"
      },
      "execution_count": null,
      "outputs": [
        {
          "output_type": "execute_result",
          "data": {
            "text/plain": [
              "Elevation                                int64\n",
              "Aspect                                   int64\n",
              "Slope                                    int64\n",
              "Horizontal_Distance_To_Hydrology         int64\n",
              "Vertical_Distance_To_Hydrology           int64\n",
              "Horizontal_Distance_To_Roadways          int64\n",
              "Hillshade_9am                            int64\n",
              "Hillshade_Noon                           int64\n",
              "Hillshade_3pm                            int64\n",
              "Horizontal_Distance_To_Fire_Points       int64\n",
              "Cover_Type                            category\n",
              "Soil_Type                             category\n",
              "Wilderness_Area                       category\n",
              "dtype: object"
            ]
          },
          "metadata": {},
          "execution_count": 8
        }
      ]
    },
    {
      "cell_type": "code",
      "source": [
        "forest_cover_type"
      ],
      "metadata": {
        "colab": {
          "base_uri": "https://localhost:8080/",
          "height": 488
        },
        "id": "Jw4Vrn6DWuPG",
        "outputId": "003f53c5-5002-4c03-a4f3-240f4b384e00"
      },
      "execution_count": null,
      "outputs": [
        {
          "output_type": "execute_result",
          "data": {
            "text/plain": [
              "        Elevation  Aspect  Slope  Horizontal_Distance_To_Hydrology  \\\n",
              "0            2596      51      3                               258   \n",
              "1            2590      56      2                               212   \n",
              "2            2804     139      9                               268   \n",
              "3            2785     155     18                               242   \n",
              "4            2595      45      2                               153   \n",
              "...           ...     ...    ...                               ...   \n",
              "581007       2396     153     20                                85   \n",
              "581008       2391     152     19                                67   \n",
              "581009       2386     159     17                                60   \n",
              "581010       2384     170     15                                60   \n",
              "581011       2383     165     13                                60   \n",
              "\n",
              "        Vertical_Distance_To_Hydrology  Horizontal_Distance_To_Roadways  \\\n",
              "0                                    0                              510   \n",
              "1                                   -6                              390   \n",
              "2                                   65                             3180   \n",
              "3                                  118                             3090   \n",
              "4                                   -1                              391   \n",
              "...                                ...                              ...   \n",
              "581007                              17                              108   \n",
              "581008                              12                               95   \n",
              "581009                               7                               90   \n",
              "581010                               5                               90   \n",
              "581011                               4                               67   \n",
              "\n",
              "        Hillshade_9am  Hillshade_Noon  Hillshade_3pm  \\\n",
              "0                 221             232            148   \n",
              "1                 220             235            151   \n",
              "2                 234             238            135   \n",
              "3                 238             238            122   \n",
              "4                 220             234            150   \n",
              "...               ...             ...            ...   \n",
              "581007            240             237            118   \n",
              "581008            240             237            119   \n",
              "581009            236             241            130   \n",
              "581010            230             245            143   \n",
              "581011            231             244            141   \n",
              "\n",
              "        Horizontal_Distance_To_Fire_Points Cover_Type Soil_Type  \\\n",
              "0                                     6279          5        29   \n",
              "1                                     6225          5        29   \n",
              "2                                     6121          2        12   \n",
              "3                                     6211          2        30   \n",
              "4                                     6172          5        29   \n",
              "...                                    ...        ...       ...   \n",
              "581007                                 837          3         2   \n",
              "581008                                 845          3         2   \n",
              "581009                                 854          3         2   \n",
              "581010                                 864          3         2   \n",
              "581011                                 875          3         2   \n",
              "\n",
              "       Wilderness_Area  \n",
              "0                    1  \n",
              "1                    1  \n",
              "2                    1  \n",
              "3                    1  \n",
              "4                    1  \n",
              "...                ...  \n",
              "581007               3  \n",
              "581008               3  \n",
              "581009               3  \n",
              "581010               3  \n",
              "581011               3  \n",
              "\n",
              "[581012 rows x 13 columns]"
            ],
            "text/html": [
              "\n",
              "  <div id=\"df-89babb7e-4464-4dd6-9f56-0d041c451977\">\n",
              "    <div class=\"colab-df-container\">\n",
              "      <div>\n",
              "<style scoped>\n",
              "    .dataframe tbody tr th:only-of-type {\n",
              "        vertical-align: middle;\n",
              "    }\n",
              "\n",
              "    .dataframe tbody tr th {\n",
              "        vertical-align: top;\n",
              "    }\n",
              "\n",
              "    .dataframe thead th {\n",
              "        text-align: right;\n",
              "    }\n",
              "</style>\n",
              "<table border=\"1\" class=\"dataframe\">\n",
              "  <thead>\n",
              "    <tr style=\"text-align: right;\">\n",
              "      <th></th>\n",
              "      <th>Elevation</th>\n",
              "      <th>Aspect</th>\n",
              "      <th>Slope</th>\n",
              "      <th>Horizontal_Distance_To_Hydrology</th>\n",
              "      <th>Vertical_Distance_To_Hydrology</th>\n",
              "      <th>Horizontal_Distance_To_Roadways</th>\n",
              "      <th>Hillshade_9am</th>\n",
              "      <th>Hillshade_Noon</th>\n",
              "      <th>Hillshade_3pm</th>\n",
              "      <th>Horizontal_Distance_To_Fire_Points</th>\n",
              "      <th>Cover_Type</th>\n",
              "      <th>Soil_Type</th>\n",
              "      <th>Wilderness_Area</th>\n",
              "    </tr>\n",
              "  </thead>\n",
              "  <tbody>\n",
              "    <tr>\n",
              "      <th>0</th>\n",
              "      <td>2596</td>\n",
              "      <td>51</td>\n",
              "      <td>3</td>\n",
              "      <td>258</td>\n",
              "      <td>0</td>\n",
              "      <td>510</td>\n",
              "      <td>221</td>\n",
              "      <td>232</td>\n",
              "      <td>148</td>\n",
              "      <td>6279</td>\n",
              "      <td>5</td>\n",
              "      <td>29</td>\n",
              "      <td>1</td>\n",
              "    </tr>\n",
              "    <tr>\n",
              "      <th>1</th>\n",
              "      <td>2590</td>\n",
              "      <td>56</td>\n",
              "      <td>2</td>\n",
              "      <td>212</td>\n",
              "      <td>-6</td>\n",
              "      <td>390</td>\n",
              "      <td>220</td>\n",
              "      <td>235</td>\n",
              "      <td>151</td>\n",
              "      <td>6225</td>\n",
              "      <td>5</td>\n",
              "      <td>29</td>\n",
              "      <td>1</td>\n",
              "    </tr>\n",
              "    <tr>\n",
              "      <th>2</th>\n",
              "      <td>2804</td>\n",
              "      <td>139</td>\n",
              "      <td>9</td>\n",
              "      <td>268</td>\n",
              "      <td>65</td>\n",
              "      <td>3180</td>\n",
              "      <td>234</td>\n",
              "      <td>238</td>\n",
              "      <td>135</td>\n",
              "      <td>6121</td>\n",
              "      <td>2</td>\n",
              "      <td>12</td>\n",
              "      <td>1</td>\n",
              "    </tr>\n",
              "    <tr>\n",
              "      <th>3</th>\n",
              "      <td>2785</td>\n",
              "      <td>155</td>\n",
              "      <td>18</td>\n",
              "      <td>242</td>\n",
              "      <td>118</td>\n",
              "      <td>3090</td>\n",
              "      <td>238</td>\n",
              "      <td>238</td>\n",
              "      <td>122</td>\n",
              "      <td>6211</td>\n",
              "      <td>2</td>\n",
              "      <td>30</td>\n",
              "      <td>1</td>\n",
              "    </tr>\n",
              "    <tr>\n",
              "      <th>4</th>\n",
              "      <td>2595</td>\n",
              "      <td>45</td>\n",
              "      <td>2</td>\n",
              "      <td>153</td>\n",
              "      <td>-1</td>\n",
              "      <td>391</td>\n",
              "      <td>220</td>\n",
              "      <td>234</td>\n",
              "      <td>150</td>\n",
              "      <td>6172</td>\n",
              "      <td>5</td>\n",
              "      <td>29</td>\n",
              "      <td>1</td>\n",
              "    </tr>\n",
              "    <tr>\n",
              "      <th>...</th>\n",
              "      <td>...</td>\n",
              "      <td>...</td>\n",
              "      <td>...</td>\n",
              "      <td>...</td>\n",
              "      <td>...</td>\n",
              "      <td>...</td>\n",
              "      <td>...</td>\n",
              "      <td>...</td>\n",
              "      <td>...</td>\n",
              "      <td>...</td>\n",
              "      <td>...</td>\n",
              "      <td>...</td>\n",
              "      <td>...</td>\n",
              "    </tr>\n",
              "    <tr>\n",
              "      <th>581007</th>\n",
              "      <td>2396</td>\n",
              "      <td>153</td>\n",
              "      <td>20</td>\n",
              "      <td>85</td>\n",
              "      <td>17</td>\n",
              "      <td>108</td>\n",
              "      <td>240</td>\n",
              "      <td>237</td>\n",
              "      <td>118</td>\n",
              "      <td>837</td>\n",
              "      <td>3</td>\n",
              "      <td>2</td>\n",
              "      <td>3</td>\n",
              "    </tr>\n",
              "    <tr>\n",
              "      <th>581008</th>\n",
              "      <td>2391</td>\n",
              "      <td>152</td>\n",
              "      <td>19</td>\n",
              "      <td>67</td>\n",
              "      <td>12</td>\n",
              "      <td>95</td>\n",
              "      <td>240</td>\n",
              "      <td>237</td>\n",
              "      <td>119</td>\n",
              "      <td>845</td>\n",
              "      <td>3</td>\n",
              "      <td>2</td>\n",
              "      <td>3</td>\n",
              "    </tr>\n",
              "    <tr>\n",
              "      <th>581009</th>\n",
              "      <td>2386</td>\n",
              "      <td>159</td>\n",
              "      <td>17</td>\n",
              "      <td>60</td>\n",
              "      <td>7</td>\n",
              "      <td>90</td>\n",
              "      <td>236</td>\n",
              "      <td>241</td>\n",
              "      <td>130</td>\n",
              "      <td>854</td>\n",
              "      <td>3</td>\n",
              "      <td>2</td>\n",
              "      <td>3</td>\n",
              "    </tr>\n",
              "    <tr>\n",
              "      <th>581010</th>\n",
              "      <td>2384</td>\n",
              "      <td>170</td>\n",
              "      <td>15</td>\n",
              "      <td>60</td>\n",
              "      <td>5</td>\n",
              "      <td>90</td>\n",
              "      <td>230</td>\n",
              "      <td>245</td>\n",
              "      <td>143</td>\n",
              "      <td>864</td>\n",
              "      <td>3</td>\n",
              "      <td>2</td>\n",
              "      <td>3</td>\n",
              "    </tr>\n",
              "    <tr>\n",
              "      <th>581011</th>\n",
              "      <td>2383</td>\n",
              "      <td>165</td>\n",
              "      <td>13</td>\n",
              "      <td>60</td>\n",
              "      <td>4</td>\n",
              "      <td>67</td>\n",
              "      <td>231</td>\n",
              "      <td>244</td>\n",
              "      <td>141</td>\n",
              "      <td>875</td>\n",
              "      <td>3</td>\n",
              "      <td>2</td>\n",
              "      <td>3</td>\n",
              "    </tr>\n",
              "  </tbody>\n",
              "</table>\n",
              "<p>581012 rows × 13 columns</p>\n",
              "</div>\n",
              "      <button class=\"colab-df-convert\" onclick=\"convertToInteractive('df-89babb7e-4464-4dd6-9f56-0d041c451977')\"\n",
              "              title=\"Convert this dataframe to an interactive table.\"\n",
              "              style=\"display:none;\">\n",
              "        \n",
              "  <svg xmlns=\"http://www.w3.org/2000/svg\" height=\"24px\"viewBox=\"0 0 24 24\"\n",
              "       width=\"24px\">\n",
              "    <path d=\"M0 0h24v24H0V0z\" fill=\"none\"/>\n",
              "    <path d=\"M18.56 5.44l.94 2.06.94-2.06 2.06-.94-2.06-.94-.94-2.06-.94 2.06-2.06.94zm-11 1L8.5 8.5l.94-2.06 2.06-.94-2.06-.94L8.5 2.5l-.94 2.06-2.06.94zm10 10l.94 2.06.94-2.06 2.06-.94-2.06-.94-.94-2.06-.94 2.06-2.06.94z\"/><path d=\"M17.41 7.96l-1.37-1.37c-.4-.4-.92-.59-1.43-.59-.52 0-1.04.2-1.43.59L10.3 9.45l-7.72 7.72c-.78.78-.78 2.05 0 2.83L4 21.41c.39.39.9.59 1.41.59.51 0 1.02-.2 1.41-.59l7.78-7.78 2.81-2.81c.8-.78.8-2.07 0-2.86zM5.41 20L4 18.59l7.72-7.72 1.47 1.35L5.41 20z\"/>\n",
              "  </svg>\n",
              "      </button>\n",
              "      \n",
              "  <style>\n",
              "    .colab-df-container {\n",
              "      display:flex;\n",
              "      flex-wrap:wrap;\n",
              "      gap: 12px;\n",
              "    }\n",
              "\n",
              "    .colab-df-convert {\n",
              "      background-color: #E8F0FE;\n",
              "      border: none;\n",
              "      border-radius: 50%;\n",
              "      cursor: pointer;\n",
              "      display: none;\n",
              "      fill: #1967D2;\n",
              "      height: 32px;\n",
              "      padding: 0 0 0 0;\n",
              "      width: 32px;\n",
              "    }\n",
              "\n",
              "    .colab-df-convert:hover {\n",
              "      background-color: #E2EBFA;\n",
              "      box-shadow: 0px 1px 2px rgba(60, 64, 67, 0.3), 0px 1px 3px 1px rgba(60, 64, 67, 0.15);\n",
              "      fill: #174EA6;\n",
              "    }\n",
              "\n",
              "    [theme=dark] .colab-df-convert {\n",
              "      background-color: #3B4455;\n",
              "      fill: #D2E3FC;\n",
              "    }\n",
              "\n",
              "    [theme=dark] .colab-df-convert:hover {\n",
              "      background-color: #434B5C;\n",
              "      box-shadow: 0px 1px 3px 1px rgba(0, 0, 0, 0.15);\n",
              "      filter: drop-shadow(0px 1px 2px rgba(0, 0, 0, 0.3));\n",
              "      fill: #FFFFFF;\n",
              "    }\n",
              "  </style>\n",
              "\n",
              "      <script>\n",
              "        const buttonEl =\n",
              "          document.querySelector('#df-89babb7e-4464-4dd6-9f56-0d041c451977 button.colab-df-convert');\n",
              "        buttonEl.style.display =\n",
              "          google.colab.kernel.accessAllowed ? 'block' : 'none';\n",
              "\n",
              "        async function convertToInteractive(key) {\n",
              "          const element = document.querySelector('#df-89babb7e-4464-4dd6-9f56-0d041c451977');\n",
              "          const dataTable =\n",
              "            await google.colab.kernel.invokeFunction('convertToInteractive',\n",
              "                                                     [key], {});\n",
              "          if (!dataTable) return;\n",
              "\n",
              "          const docLinkHtml = 'Like what you see? Visit the ' +\n",
              "            '<a target=\"_blank\" href=https://colab.research.google.com/notebooks/data_table.ipynb>data table notebook</a>'\n",
              "            + ' to learn more about interactive tables.';\n",
              "          element.innerHTML = '';\n",
              "          dataTable['output_type'] = 'display_data';\n",
              "          await google.colab.output.renderOutput(dataTable, element);\n",
              "          const docLink = document.createElement('div');\n",
              "          docLink.innerHTML = docLinkHtml;\n",
              "          element.appendChild(docLink);\n",
              "        }\n",
              "      </script>\n",
              "    </div>\n",
              "  </div>\n",
              "  "
            ]
          },
          "metadata": {},
          "execution_count": 9
        }
      ]
    },
    {
      "cell_type": "code",
      "source": [
        "forest_cover_type.info()"
      ],
      "metadata": {
        "id": "BUuxMkg77V5_",
        "colab": {
          "base_uri": "https://localhost:8080/"
        },
        "outputId": "b4480a0d-fe01-43f2-9b47-994ee11f3828"
      },
      "execution_count": null,
      "outputs": [
        {
          "output_type": "stream",
          "name": "stdout",
          "text": [
            "<class 'pandas.core.frame.DataFrame'>\n",
            "RangeIndex: 581012 entries, 0 to 581011\n",
            "Data columns (total 13 columns):\n",
            " #   Column                              Non-Null Count   Dtype   \n",
            "---  ------                              --------------   -----   \n",
            " 0   Elevation                           581012 non-null  int64   \n",
            " 1   Aspect                              581012 non-null  int64   \n",
            " 2   Slope                               581012 non-null  int64   \n",
            " 3   Horizontal_Distance_To_Hydrology    581012 non-null  int64   \n",
            " 4   Vertical_Distance_To_Hydrology      581012 non-null  int64   \n",
            " 5   Horizontal_Distance_To_Roadways     581012 non-null  int64   \n",
            " 6   Hillshade_9am                       581012 non-null  int64   \n",
            " 7   Hillshade_Noon                      581012 non-null  int64   \n",
            " 8   Hillshade_3pm                       581012 non-null  int64   \n",
            " 9   Horizontal_Distance_To_Fire_Points  581012 non-null  int64   \n",
            " 10  Cover_Type                          581012 non-null  category\n",
            " 11  Soil_Type                           581012 non-null  category\n",
            " 12  Wilderness_Area                     581012 non-null  category\n",
            "dtypes: category(3), int64(10)\n",
            "memory usage: 46.0 MB\n"
          ]
        }
      ]
    },
    {
      "cell_type": "markdown",
      "source": [
        "## Data Meaning \n",
        "\n",
        "Attributes:\t\n",
        "\n",
        "- 10 quantitative variables\n",
        "  - Elevation - Elevation in meters\n",
        "  - Aspect - Aspect in degrees azimuth\n",
        "  - Slope - Slope in degrees\n",
        "  - Horizontal Distance to Hydrology - Horz Dist to nearest surface water features (meters)\n",
        "  - Vertical Distance to Hydrology - Vert Dist to nearest surface water features (meters)\n",
        "  - Horizontal Distance to Roadways - Horz Dist to nearest roadway (meters)\n",
        "  - Hill shade 9 am (0 to 255 index) - Hillshade index at 9am, summer solstice\n",
        "  - Hill shade noon (0 to 255 index) - Hillshade index at noon, summer solstice\n",
        "  - Hill shade 3 pm (0 to 255 index) - Hillshade index at 3pm, summer solstice\n",
        "  - Horizontal distance to fire points - Horz Dist to nearest wildfire ignition points (meters)\n",
        "\n",
        "\n",
        "- 3 Categorical variables\n",
        "\t- Wilderness area\n",
        "  - 1: Neota\n",
        "  - 2: Rawah\n",
        "  - 3: Comanche Peak\n",
        "  - 4: Cache la Poudre\n",
        "\t- Cover Type\n",
        "  - 1: Spruce/Fir\n",
        "  - 2: Lodgepole Pine\n",
        "  - 3: Ponderosa Pine\n",
        "  - 4: Cottonwood/Willow\n",
        "  - 5: Aspen\n",
        "  - 6: Douglas-fir\n",
        "  - 7: Krummholz\n",
        "\t- Soil Type\n",
        "\t\t- 1: Cathedral family - Rock outcrop complex, extremely stony.\n",
        "\t\t- 2: Vanet - Ratake families complex, very stony.\n",
        "\t\t- 3: Haploborolis - Rock outcrop complex, rubbly.\n",
        "\t\t- 4: Ratake family - Rock outcrop complex, rubbly.\n",
        "\t\t- 5: Vanet family - Rock outcrop complex complex, rubbly.\n",
        "\t\t- 6: Vanet - Wetmore families - Rock outcrop complex, stony.\n",
        "\t\t- 7: Gothic family.\n",
        "\t\t- 8: Supervisor - Limber families complex.\n",
        "\t\t- 9: Troutville family, very stony.\n",
        "\t\t- 10: Bullwark - Catamount families - Rock outcrop complex, rubbly.\n",
        "\t\t- 11: Bullwark - Catamount families - Rock land complex, rubbly.\n",
        "\t\t- 12: Legault family - Rock land complex, stony.\n",
        "\t\t- 13: Catamount family - Rock land - Bullwark family complex, rubbly.\n",
        "\t\t- 14: Pachic Argiborolis - Aquolis complex.\n",
        "\t\t- 15: unspecified in the USFS Soil and ELU Survey.\n",
        "\t\t- 16: Cryaquolis - Cryoborolis complex.\n",
        "\t\t- 17: Gateview family - Cryaquolis complex.\n",
        "\t\t- 18: Rogert family, very stony.\n",
        "\t\t- 19: Typic Cryaquolis - Borohemists complex.\n",
        "\t\t- 20: Typic Cryaquepts - Typic Cryaquolls complex.\n",
        "\t\t- 21: Typic Cryaquolls - Leighcan family, till substratum complex.\n",
        "\t\t- 22: Leighcan family, till substratum, extremely bouldery.\n",
        "\t\t- 23: Leighcan family, till substratum - Typic Cryaquolls complex.\n",
        "\t\t- 24: Leighcan family, extremely stony.\n",
        "\t\t- 25: Leighcan family, warm, extremely stony.\n",
        "\t\t- 26: Granile - Catamount families complex, very stony.\n",
        "\t\t- 27: Leighcan family, warm - Rock outcrop complex, extremely stony.\n",
        "\t\t- 28: Leighcan family - Rock outcrop complex, extremely stony.\n",
        "\t\t- 29: Como - Legault families complex, extremely stony.\n",
        "\t\t- 30: Como family - Rock land - Legault family complex, extremely stony.\n",
        "\t\t- 31: Leighcan - Catamount families complex, extremely stony.\n",
        "\t\t- 32: Catamount family - Rock outcrop - Leighcan family complex, extremely stony.\n",
        "\t\t- 33: Leighcan - Catamount families - Rock outcrop complex, extremely stony.\n",
        "\t\t- 34: Cryorthents - Rock land complex, extremely stony.\n",
        "\t\t- 35: Cryumbrepts - Rock outcrop - Cryaquepts complex.\n",
        "\t\t- 36: Bross family - Rock land - Cryumbrepts complex, extremely stony.\n",
        "\t\t- 37: Rock outcrop - Cryumbrepts - Cryorthents complex, extremely stony.\n",
        "\t\t- 38: Leighcan - Moran families - Cryaquolls complex, extremely stony.\n",
        "\t\t- 39: Moran family - Cryorthents - Leighcan family complex, extremely stony.\n",
        "\t\t- 40: Moran family - Cryorthents - Rock land complex, extremely stony.\t\n",
        "\t"
      ],
      "metadata": {
        "id": "HCFAMtn6uLfc"
      }
    },
    {
      "cell_type": "markdown",
      "source": [
        "---\n",
        "# Data Preparation Part 2"
      ],
      "metadata": {
        "id": "d1CEFqnEyJ6Q"
      }
    },
    {
      "cell_type": "markdown",
      "source": [
        "We brought our original data down from 55 columns down to 13. This will, not only make it easier to view and understand the data, but also allow the machine to run the models we will create. \n",
        "\n",
        "We converted the following features into categorical features: Wilderness Area, Cover Type, Soil Type. The Soil Type feature was initially was spread out in binary columns for each type (40 of them). Wilderness Area was also like this, but just with less columns. Once combined into one column, the binary features were converted into categorical. \n",
        "\n",
        "The remaining 10 features are integer data types. The measurements used for these 10 features have no decimal point, so no need to convert to float. They have remained as an integer.\n",
        "\n",
        "Using multiple continuous variables will help us create regression models, whereas having a few categorical features will allow for classification models. \n",
        "\n"
      ],
      "metadata": {
        "id": "MY6s49v4Y_yu"
      }
    },
    {
      "cell_type": "markdown",
      "source": [
        "---\n",
        "# Modeling and Evaluation 1"
      ],
      "metadata": {
        "id": "DtQDETft81Iq"
      }
    },
    {
      "cell_type": "markdown",
      "source": [
        "We will look at a variety of different metrics. We will look at accuracy first. We do this to get a general undersanding of the data models. We will look at other evaluation metrics due to accuracy being a good metric when the distributions are equal. Accuracy can be misleading becasue of the class distribution.\n",
        "\n",
        "We will also measure the precision and recall for the models. These metrics  are good evaluation tools due to them taking into account both true positives and false positives/negatives. This allows for them being good despite the imbalnaced data. These two metrics are good indeicators but should still be looked at with caution. \n",
        "\n",
        "We will also look at the F1 score becasue of the caution that we place in the aforementioned metrics. F1 score is useful in imbalanced datasets because it takes into account both true positives and false positives/negatives. F1 score provides a trade-off between precision and recall; it is the harmonic mean of precision and recall.  "
      ],
      "metadata": {
        "id": "CnT84Lt_y1hd"
      }
    },
    {
      "cell_type": "markdown",
      "source": [
        "---\n",
        "# Modeling and Evaluation 2\t\n"
      ],
      "metadata": {
        "id": "yl2RiHrj28i5"
      }
    },
    {
      "cell_type": "markdown",
      "source": [
        "We wanted to look at various splitting methods to measure various metrics for each one. We will start with test/train split.\n",
        "\n",
        "We will use test/train due to its simpliity and ease of implementation. However, we also have slight cause for concern for thsi exact reason. It is a quick model splitting method.\n",
        "\n",
        "We also will take a look at Cross Validation. This provides a more reliable estimate for model performance by averaging across folds. This is computationally expensive for large datasets like the one we have.\n",
        "\n",
        "Finally, we will take a look at stratified cross validation. This will probably be the best one for our particular dataset because it ensures that the class proportions are maintained in each fold. This is good for imbalanced datasets like our own. \n",
        "\n",
        "We decided to do a comparison of numerous methods of validation:\n",
        "\n",
        "- Test/Train 80/20 split\n",
        "- 10 fold cross validation\n",
        "- Stratified 10-fold cross-validation \n",
        "\n",
        "This allowed us to do a comparison across models, and see if there are any models which had differences in\n",
        "- accuracy\n",
        "- precision\n",
        "- recall \n",
        "- f-1 score\n",
        "\n",
        "When utilizing a different validation method."
      ],
      "metadata": {
        "id": "3AbcFW7c3IhQ"
      }
    },
    {
      "cell_type": "markdown",
      "source": [
        "---\n",
        "# Modeling and Evaluation 3"
      ],
      "metadata": {
        "id": "Kct6E5HI76Ib"
      }
    },
    {
      "cell_type": "markdown",
      "source": [
        "### Random Forest"
      ],
      "metadata": {
        "id": "3Ae31VDaGBey"
      }
    },
    {
      "cell_type": "markdown",
      "source": [
        "#### Test/Train Split"
      ],
      "metadata": {
        "id": "xZyPCcVbXodB"
      }
    },
    {
      "cell_type": "code",
      "source": [
        "# Make target variable and data variable\n",
        "y = forest_cover_type[['Cover_Type']]\n",
        "X = forest_cover_type.loc[:, forest_cover_type.columns != 'Cover_Type']"
      ],
      "metadata": {
        "id": "3ZgtJR4s-FpB"
      },
      "execution_count": null,
      "outputs": []
    },
    {
      "cell_type": "code",
      "source": [
        "# Takes about 2 min\n",
        "\n",
        "# Split the dataset into training and testing sets\n",
        "X_train, X_test, y_train, y_test = train_test_split(X, \n",
        "                                                    y, \n",
        "                                                    test_size = 0.2, \n",
        "                                                    random_state = 42)\n",
        "\n",
        "# Create a random forest model\n",
        "rfc = RandomForestClassifier(n_estimators = 100)\n",
        "\n",
        "# Train the model on the training data\n",
        "rfc.fit(X_train, y_train)\n",
        "\n",
        "# Predict on the testing data\n",
        "y_pred_rfc = rfc.predict(X_test)\n",
        "\n",
        "# Calculate the accuracy of model\n",
        "rfc_accuracy = accuracy_score(y_test, y_pred_rfc)\n",
        "\n",
        "print('Accuracy:', rfc_accuracy) # 0.9625482990972695\n"
      ],
      "metadata": {
        "colab": {
          "base_uri": "https://localhost:8080/"
        },
        "id": "HTtr0DFgAl4s",
        "outputId": "8cfdc03c-4585-4868-9476-553beca9c11d"
      },
      "execution_count": null,
      "outputs": [
        {
          "output_type": "stream",
          "name": "stdout",
          "text": [
            "Accuracy: 0.962840890510572\n"
          ]
        }
      ]
    },
    {
      "cell_type": "code",
      "source": [
        "print(classification_report(y_test, y_pred_rfc))"
      ],
      "metadata": {
        "colab": {
          "base_uri": "https://localhost:8080/"
        },
        "id": "gqMv6HiTP_EC",
        "outputId": "55cd85b7-183a-4bc9-a351-8b290b3e1614"
      },
      "execution_count": null,
      "outputs": [
        {
          "output_type": "stream",
          "name": "stdout",
          "text": [
            "              precision    recall  f1-score   support\n",
            "\n",
            "           1       0.97      0.96      0.96     42557\n",
            "           2       0.96      0.98      0.97     56500\n",
            "           3       0.95      0.97      0.96      7121\n",
            "           4       0.92      0.86      0.89       526\n",
            "           5       0.94      0.81      0.87      1995\n",
            "           6       0.95      0.92      0.93      3489\n",
            "           7       0.98      0.96      0.97      4015\n",
            "\n",
            "    accuracy                           0.96    116203\n",
            "   macro avg       0.95      0.92      0.94    116203\n",
            "weighted avg       0.96      0.96      0.96    116203\n",
            "\n"
          ]
        }
      ]
    },
    {
      "cell_type": "code",
      "source": [
        "# Adapted from https://www.scikit-yb.org/en/latest/api/classifier/confusion_matrix.html\n",
        "\n",
        "# The ConfusionMatrix visualizer taxes a model\n",
        "cm = ConfusionMatrix(rfc, classes=[0, 1, 2, 3, 4, 5, 6, 7])\n",
        "\n",
        "# Fit the model. \n",
        "cm.fit(X_train, y_train)\n",
        "\n",
        "# Score runs predict() on the data and creates the confusion_matrix\n",
        "cm.score(X_test, y_test)\n",
        "\n",
        "cm.show();"
      ],
      "metadata": {
        "colab": {
          "base_uri": "https://localhost:8080/",
          "height": 401
        },
        "id": "0GrbmX_qEDn_",
        "outputId": "920f2fee-24c9-42c4-beba-bd983f6bc0e1"
      },
      "execution_count": null,
      "outputs": [
        {
          "output_type": "display_data",
          "data": {
            "text/plain": [
              "<Figure size 576x396 with 1 Axes>"
            ],
            "image/png": "[encoded data removed]"
          },
          "metadata": {}
        }
      ]
    },
    {
      "cell_type": "markdown",
      "source": [
        "#### Cross Validation"
      ],
      "metadata": {
        "id": "zBs2YnwlD8cv"
      }
    },
    {
      "cell_type": "code",
      "source": [
        "# takes about 25 min\n",
        "\n",
        "# Create a random forest classifier\n",
        "rfc = RandomForestClassifier(n_estimators = 100)\n",
        "\n",
        "cv = KFold(n_splits = 10, \n",
        "           shuffle = True, \n",
        "           random_state = 42)\n",
        "\n",
        "accuracies = []\n",
        "precisions = []\n",
        "recalls = []\n",
        "f1_scores = []\n",
        "\n",
        "for train_idx, test_idx in cv.split(X, y):\n",
        "\n",
        "    X_train, X_test = X.iloc[train_idx], X.iloc[test_idx]\n",
        "    y_train, y_test = y.iloc[train_idx], y.iloc[test_idx]\n",
        "\n",
        "    rfc.fit(X_train, y_train)\n",
        "\n",
        "    # Predict \n",
        "    y_pred_rfc = rfc.predict(X_test)\n",
        "\n",
        "    # Calculate the accuracy, precision, recall and F1-score\n",
        "    rfc_accuracy = accuracy_score(y_test, y_pred_rfc)\n",
        "    rfc_precision = precision_score(y_test, y_pred_rfc, average = 'weighted')\n",
        "    rfc_recall = recall_score(y_test, y_pred_rfc, average = 'weighted')\n",
        "    rfc_f1 = f1_score(y_test, y_pred_rfc, average = 'weighted')\n",
        "\n",
        "    # add to the lists\n",
        "    accuracies.append(rfc_accuracy)\n",
        "    precisions.append(rfc_precision)\n",
        "    recalls.append(rfc_recall)\n",
        "    f1_scores.append(rfc_f1)\n",
        "\n",
        "    print('Accuracy:', rfc_accuracy)\n",
        "    print('Precision:', rfc_precision)\n",
        "    print('Recall:', rfc_recall)\n",
        "    print('F1-score:', rfc_f1)\n",
        "    print('\\n')\n",
        "\n",
        "# Print the mean \n",
        "print('\\n')\n",
        "print('Accuracy:', sum(accuracies) / len(accuracies))\n",
        "print('Precision:', sum(precisions) / len(precisions))\n",
        "print('Recall:', sum(recalls) / len(recalls))\n",
        "print('F1-score:', sum(f1_scores) / len(f1_scores))"
      ],
      "metadata": {
        "colab": {
          "base_uri": "https://localhost:8080/"
        },
        "id": "l_r3AZMpQudH",
        "outputId": "86f9cf27-9a7a-458c-e377-7ba899e8226c"
      },
      "execution_count": null,
      "outputs": [
        {
          "output_type": "stream",
          "name": "stdout",
          "text": [
            "Accuracy: 0.9638910880864686\n",
            "Precision: 0.9638783202308002\n",
            "Recall: 0.9638910880864686\n",
            "F1-score: 0.9637739054334752\n",
            "\n",
            "\n",
            "Accuracy: 0.9654400881208909\n",
            "Precision: 0.9654259759187812\n",
            "Recall: 0.9654400881208909\n",
            "F1-score: 0.9652761676626747\n",
            "\n",
            "\n",
            "Accuracy: 0.9655599731502039\n",
            "Precision: 0.9655267188754393\n",
            "Recall: 0.9655599731502039\n",
            "F1-score: 0.9654359596717076\n",
            "\n",
            "\n",
            "Accuracy: 0.9668508287292817\n",
            "Precision: 0.9668312632469431\n",
            "Recall: 0.9668508287292817\n",
            "F1-score: 0.9667339619380121\n",
            "\n",
            "\n",
            "Accuracy: 0.9653706476652726\n",
            "Precision: 0.9653641556189398\n",
            "Recall: 0.9653706476652726\n",
            "F1-score: 0.965255235550068\n",
            "\n",
            "\n",
            "Accuracy: 0.9666270804289083\n",
            "Precision: 0.9666523432177571\n",
            "Recall: 0.9666270804289083\n",
            "F1-score: 0.9664849852543387\n",
            "\n",
            "\n",
            "Accuracy: 0.964234694755684\n",
            "Precision: 0.9642254295342325\n",
            "Recall: 0.964234694755684\n",
            "F1-score: 0.9641176526878343\n",
            "\n",
            "\n",
            "Accuracy: 0.9656460301888091\n",
            "Precision: 0.9656473091163729\n",
            "Recall: 0.9656460301888091\n",
            "F1-score: 0.9655116244969119\n",
            "\n",
            "\n",
            "Accuracy: 0.9669024629524449\n",
            "Precision: 0.9669320695591829\n",
            "Recall: 0.9669024629524449\n",
            "F1-score: 0.9668155940167976\n",
            "\n",
            "\n",
            "Accuracy: 0.9648198826181993\n",
            "Precision: 0.964831247957335\n",
            "Recall: 0.9648198826181993\n",
            "F1-score: 0.964677145388524\n",
            "\n",
            "\n",
            "\n",
            "\n",
            "Accuracy: 0.9655342776696164\n",
            "Precision: 0.9655314833275783\n",
            "Recall: 0.9655342776696164\n",
            "F1-score: 0.9654082232100345\n"
          ]
        }
      ]
    },
    {
      "cell_type": "markdown",
      "source": [
        "**Cross Validation**\n",
        "\n",
        "Mean Accuracy: 0.9656134497007921\n",
        "\n",
        "Mean Precision: 0.9656145889819336\n",
        "\n",
        "Mean Recall: 0.9656134497007921\n",
        "\n",
        "Mean F1-score: 0.965490408727959"
      ],
      "metadata": {
        "id": "tTqm0k0PathR"
      }
    },
    {
      "cell_type": "markdown",
      "source": [
        "#### Stratified Cross Validation"
      ],
      "metadata": {
        "id": "hm9yiPJYZ6-t"
      }
    },
    {
      "cell_type": "code",
      "source": [
        "# takes about 25 min\n",
        "\n",
        "# Create a random forest classifier\n",
        "rfc = RandomForestClassifier(n_estimators = 100)\n",
        "\n",
        "# Create a stratified 10-fold cross-validation \n",
        "cv = StratifiedKFold(n_splits = 10, \n",
        "                     shuffle = True, \n",
        "                     random_state = 42)\n",
        "\n",
        "accuracies = []\n",
        "precisions = []\n",
        "recalls = []\n",
        "f1_scores = []\n",
        "\n",
        "for train_idx, test_idx in cv.split(X, y):\n",
        "\n",
        "    X_train, X_test = X.iloc[train_idx], X.iloc[test_idx]\n",
        "    y_train, y_test = y.iloc[train_idx], y.iloc[test_idx]\n",
        "\n",
        "    # Train the model\n",
        "    rfc.fit(X_train, y_train)\n",
        "\n",
        "    # Predict \n",
        "    y_pred_rfc = rfc.predict(X_test)\n",
        "\n",
        "    # Calculate the accuracy, precision, recall and F1-score\n",
        "    rfc_accuracy = accuracy_score(y_test, y_pred_rfc)\n",
        "    rfc_precision = precision_score(y_test, y_pred_rfc, average = 'weighted')\n",
        "    rfc_recall = recall_score(y_test, y_pred_rfc, average = 'weighted')\n",
        "    rfc_f1 = f1_score(y_test, y_pred_rfc, average = 'weighted')\n",
        "\n",
        "    # Append to the list\n",
        "    accuracies.append(rfc_accuracy)\n",
        "    precisions.append(rfc_precision)\n",
        "    recalls.append(rfc_recall)\n",
        "    f1_scores.append(rfc_f1)\n",
        "\n",
        "# Print the scores\n",
        "    print('Accuracy:', rfc_accuracy)\n",
        "    print('Precision:', rfc_precision)\n",
        "    print('Recall:', rfc_recall)\n",
        "    print('F1-score:', rfc_f1)\n",
        "    print('\\n')\n",
        "\n",
        "# Print the mean scores\n",
        "print('\\n')\n",
        "print('Mean accuracy:', sum(accuracies) / len(accuracies))\n",
        "print('Mean precision:', sum(precisions) / len(precisions))\n",
        "print('Mean recall:', sum(recalls) / len(recalls))\n",
        "print('Mean F1-score:', sum(f1_scores) / len(f1_scores))"
      ],
      "metadata": {
        "colab": {
          "base_uri": "https://localhost:8080/"
        },
        "id": "6hG0AsK4c6G3",
        "outputId": "84ebd14b-3b04-43f0-d888-86e84239deb2"
      },
      "execution_count": null,
      "outputs": [
        {
          "output_type": "stream",
          "name": "stdout",
          "text": [
            "Accuracy: 0.9655089325668652\n",
            "Precision: 0.9655524911321326\n",
            "Recall: 0.9655089325668652\n",
            "F1-score: 0.9653574197196267\n",
            "\n",
            "\n",
            "Accuracy: 0.9651991325599807\n",
            "Precision: 0.9651696123663157\n",
            "Recall: 0.9651991325599807\n",
            "F1-score: 0.9650891868322923\n",
            "\n",
            "\n",
            "Accuracy: 0.9653534362575515\n",
            "Precision: 0.9653556838538084\n",
            "Recall: 0.9653534362575515\n",
            "F1-score: 0.9652270585139243\n",
            "\n",
            "\n",
            "Accuracy: 0.966076315381835\n",
            "Precision: 0.9660672398591607\n",
            "Recall: 0.966076315381835\n",
            "F1-score: 0.9659621156776287\n",
            "\n",
            "\n",
            "Accuracy: 0.964183060532521\n",
            "Precision: 0.9642084463690612\n",
            "Recall: 0.964183060532521\n",
            "F1-score: 0.9640285573753072\n",
            "\n",
            "\n",
            "Accuracy: 0.9652157449957832\n",
            "Precision: 0.9652167197962405\n",
            "Recall: 0.9652157449957832\n",
            "F1-score: 0.9650821312981248\n",
            "\n",
            "\n",
            "Accuracy: 0.9646821913564311\n",
            "Precision: 0.9646993670818754\n",
            "Recall: 0.9646821913564311\n",
            "F1-score: 0.9645664967725054\n",
            "\n",
            "\n",
            "Accuracy: 0.9672639025145867\n",
            "Precision: 0.9672103668530482\n",
            "Recall: 0.9672639025145867\n",
            "F1-score: 0.9671581304449424\n",
            "\n",
            "\n",
            "Accuracy: 0.9667819830983976\n",
            "Precision: 0.9667660072317438\n",
            "Recall: 0.9667819830983976\n",
            "F1-score: 0.9666803812358978\n",
            "\n",
            "\n",
            "Accuracy: 0.9657665100428564\n",
            "Precision: 0.9657599903814924\n",
            "Recall: 0.9657665100428564\n",
            "F1-score: 0.9656242715436169\n",
            "\n",
            "\n",
            "\n",
            "\n",
            "Mean accuracy: 0.9656031209306809\n",
            "Mean precision: 0.9656005924924879\n",
            "Mean recall: 0.9656031209306809\n",
            "Mean F1-score: 0.9654775749413865\n"
          ]
        }
      ]
    },
    {
      "cell_type": "markdown",
      "source": [
        "**Stratified Cross Validation**\n",
        "\n",
        "Mean accuracy: 0.9655583699968281\n",
        "\n",
        "Mean precision: 0.9655532905020234\n",
        "\n",
        "Mean recall: 0.9655583699968281\n",
        "\n",
        "Mean F1-score: 0.9654357962790965"
      ],
      "metadata": {
        "id": "d798OdJIjFXi"
      }
    },
    {
      "cell_type": "markdown",
      "source": [
        "### KNN"
      ],
      "metadata": {
        "id": "Jz_8d1tENjSO"
      }
    },
    {
      "cell_type": "markdown",
      "source": [
        "#### Test/Train Split"
      ],
      "metadata": {
        "id": "1_i-YjvGXu8b"
      }
    },
    {
      "cell_type": "code",
      "source": [
        "# Takes 2.5 min\n",
        "\n",
        "# Try different values of k to find the elbow point\n",
        "inertia = []\n",
        "for k in range(1, 11):\n",
        "    kmeans = KMeans(n_clusters = k, random_state = 42)\n",
        "    kmeans.fit(X)\n",
        "    inertia.append(kmeans.inertia_)\n",
        "\n",
        "# Plot the elbow curve\n",
        "plt.plot(range(1, 11), inertia, marker = 'o')\n",
        "plt.xlabel('Number of clusters (k)')\n",
        "plt.ylabel('Inertia')\n",
        "plt.title('Elbow Method')\n",
        "plt.show()"
      ],
      "metadata": {
        "id": "YLJBl9TyVBkh",
        "colab": {
          "base_uri": "https://localhost:8080/",
          "height": 376
        },
        "outputId": "54dbf918-f242-4f14-816d-c177c561493d"
      },
      "execution_count": null,
      "outputs": [
        {
          "output_type": "display_data",
          "data": {
            "text/plain": [
              "<Figure size 576x396 with 1 Axes>"
            ],
            "image/png": "[encoded data removed]"
          },
          "metadata": {}
        }
      ]
    },
    {
      "cell_type": "markdown",
      "source": [
        "![elbow method.png](data:image/png;base64,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)"
      ],
      "metadata": {
        "id": "YadT9bmxV66z"
      }
    },
    {
      "cell_type": "code",
      "source": [
        "# Create a KNN classifier with k = 6\n",
        "knn = KNeighborsClassifier(n_neighbors = 6)\n",
        "\n",
        "# Train the model\n",
        "knn.fit(X_train, y_train)\n",
        "\n",
        "# Predict \n",
        "y_pred_knn = knn.predict(X_test)\n",
        "\n",
        "# Calculate the metrics of the model\n",
        "knn_accuracy = accuracy_score(y_test, y_pred_knn)\n",
        "knn_precision = precision_score(y_test, y_pred_knn, average = 'weighted')\n",
        "knn_recall = recall_score(y_test, y_pred_knn, average = 'weighted')\n",
        "knn_f1 = f1_score(y_test, y_pred_knn, average = 'weighted')\n",
        "\n",
        "# Print metrucs\n",
        "print('\\n')\n",
        "print('Accuracy:', knn_accuracy) \n",
        "print('Precision:', knn_precision)\n",
        "print('Recall:', knn_recall)\n",
        "print('F1-score:', knn_f1)"
      ],
      "metadata": {
        "colab": {
          "base_uri": "https://localhost:8080/"
        },
        "id": "7vrMGX5yUhjp",
        "outputId": "3d903f8b-5aff-4596-8a5c-a81d23299daf"
      },
      "execution_count": null,
      "outputs": [
        {
          "output_type": "stream",
          "name": "stdout",
          "text": [
            "\n",
            "\n",
            "Accuracy: 0.9685547580936645\n",
            "Precision: 0.9686905225021298\n",
            "Recall: 0.9685547580936645\n",
            "F1-score: 0.9684121945258358\n"
          ]
        }
      ]
    },
    {
      "cell_type": "markdown",
      "source": [
        "Accuracy: 0.9685547580936645\n",
        "\n",
        "Precision: 0.9686905225021298\n",
        "\n",
        "Recall: 0.9685547580936645\n",
        "\n",
        "F1-score: 0.9684121945258358"
      ],
      "metadata": {
        "id": "uliGUWcMlJdd"
      }
    },
    {
      "cell_type": "code",
      "source": [
        "# print the metrics for each individual class\n",
        "print(classification_report(y_test, y_pred_knn))"
      ],
      "metadata": {
        "id": "BD074rB-QTjf",
        "colab": {
          "base_uri": "https://localhost:8080/"
        },
        "outputId": "67fb164f-002b-48b1-a8af-890c28ebbc80"
      },
      "execution_count": null,
      "outputs": [
        {
          "output_type": "stream",
          "name": "stdout",
          "text": [
            "              precision    recall  f1-score   support\n",
            "\n",
            "           1       0.96      0.98      0.97     21184\n",
            "           2       0.98      0.97      0.97     28330\n",
            "           3       0.96      0.97      0.97      3575\n",
            "           4       0.93      0.79      0.85       275\n",
            "           5       0.97      0.83      0.89       949\n",
            "           6       0.95      0.92      0.93      1737\n",
            "           7       0.99      0.95      0.97      2051\n",
            "\n",
            "    accuracy                           0.97     58101\n",
            "   macro avg       0.96      0.91      0.94     58101\n",
            "weighted avg       0.97      0.97      0.97     58101\n",
            "\n"
          ]
        }
      ]
    },
    {
      "cell_type": "markdown",
      "source": [
        "#### Cross Validation"
      ],
      "metadata": {
        "id": "iQjAYT92KIE6"
      }
    },
    {
      "cell_type": "code",
      "source": [
        "# Create a k-NN classifier\n",
        "knn = KNeighborsClassifier(n_neighbors = 6)\n",
        "\n",
        "# Evaluate the model using 10-fold cross validation\n",
        "scores = cross_val_score(knn, \n",
        "                         X, \n",
        "                         y, \n",
        "                         cv = 10)\n",
        "\n",
        "\n",
        "# Print the accuracy of each fold and the mean accuracy\n",
        "print('\\n')\n",
        "print('Accuracy of each fold:', scores)\n",
        "print('\\n')\n",
        "print('Mean accuracy:', scores.mean()) # Mean accuracy: 0.5362315601229429\n"
      ],
      "metadata": {
        "id": "a-zHHj88qRmh",
        "colab": {
          "base_uri": "https://localhost:8080/"
        },
        "outputId": "fab5d2f4-b8a7-44ad-a80b-42744d012432"
      },
      "execution_count": null,
      "outputs": [
        {
          "output_type": "stream",
          "name": "stdout",
          "text": [
            "\n",
            "\n",
            "Accuracy of each fold: [0.60906681 0.49218616 0.59344934 0.55694394 0.4901981  0.52844185\n",
            " 0.53351922 0.50188465 0.4732965  0.58332903]\n",
            "\n",
            "\n",
            "Mean accuracy: 0.5362315601229429\n"
          ]
        }
      ]
    },
    {
      "cell_type": "markdown",
      "source": [
        "#### Stratified Cross Validation "
      ],
      "metadata": {
        "id": "9KVEdylwCW14"
      }
    },
    {
      "cell_type": "code",
      "source": [
        "# Use stratified 10 fold cross validation to evaluate the model\n",
        "cv = StratifiedKFold(n_splits = 10)\n",
        "scores = cross_val_score(knn, \n",
        "                         X, \n",
        "                         y, \n",
        "                         cv = cv)\n",
        "\n",
        "# Print the accuracy of each fold and the mean accuracy\n",
        "print('\\n')\n",
        "print('Accuracy of each fold:', scores)\n",
        "print('\\n')\n",
        "print('Mean accuracy:', scores.mean()) # 0.5362315601229429"
      ],
      "metadata": {
        "colab": {
          "base_uri": "https://localhost:8080/"
        },
        "id": "yo1E037NCaIQ",
        "outputId": "108a557e-94cd-489a-d790-020b665d3c66"
      },
      "execution_count": null,
      "outputs": [
        {
          "output_type": "stream",
          "name": "stdout",
          "text": [
            "\n",
            "\n",
            "Accuracy of each fold: [0.60906681 0.49218616 0.59344934 0.55694394 0.4901981  0.52844185\n",
            " 0.53351922 0.50188465 0.4732965  0.58332903]\n",
            "\n",
            "\n",
            "Mean accuracy: 0.5362315601229429\n"
          ]
        }
      ]
    },
    {
      "cell_type": "markdown",
      "source": [
        "### Logistic Regression"
      ],
      "metadata": {
        "id": "27zTmVImKahi"
      }
    },
    {
      "cell_type": "markdown",
      "source": [
        "#### Test/Train Split"
      ],
      "metadata": {
        "id": "ccMJ6_DzKdlp"
      }
    },
    {
      "cell_type": "code",
      "source": [
        "# Create a logistic regression classifier\n",
        "lr = LogisticRegression()\n",
        "\n",
        "# Train the classifier on the training data\n",
        "lr.fit(X_train, y_train)\n",
        "\n",
        "# Predict the classes of the testing data\n",
        "y_pred_lr = lr.predict(X_test)\n",
        "\n",
        "# Calculate the accuracy of the classifier\n",
        "lr_accuracy = accuracy_score(y_test, y_pred_lr)\n",
        "\n",
        "print('\\n')\n",
        "print('Accuracy:', lr_accuracy) # 0.6206949966437755\n",
        "print('\\n')"
      ],
      "metadata": {
        "colab": {
          "base_uri": "https://localhost:8080/",
          "height": 375
        },
        "id": "sw3bk2sNkprZ",
        "outputId": "866cf28b-bec6-4b2c-d124-f831b3b89a49"
      },
      "execution_count": null,
      "outputs": [
        {
          "output_type": "error",
          "ename": "TypeError",
          "evalue": "ignored",
          "traceback": [
            "\u001b[0;31m---------------------------------------------------------------------------\u001b[0m",
            "\u001b[0;31mTypeError\u001b[0m                                 Traceback (most recent call last)",
            "\u001b[0;32m<ipython-input-22-ee22d7b9ae9c>\u001b[0m in \u001b[0;36m<module>\u001b[0;34m\u001b[0m\n\u001b[1;32m      6\u001b[0m \u001b[0;34m\u001b[0m\u001b[0m\n\u001b[1;32m      7\u001b[0m \u001b[0;31m# Predict the classes of the testing data\u001b[0m\u001b[0;34m\u001b[0m\u001b[0;34m\u001b[0m\u001b[0;34m\u001b[0m\u001b[0m\n\u001b[0;32m----> 8\u001b[0;31m \u001b[0my_pred_lr\u001b[0m \u001b[0;34m=\u001b[0m \u001b[0mlr\u001b[0m\u001b[0;34m.\u001b[0m\u001b[0mpredict\u001b[0m\u001b[0;34m(\u001b[0m\u001b[0mX_test\u001b[0m\u001b[0;34m)\u001b[0m\u001b[0;34m\u001b[0m\u001b[0;34m\u001b[0m\u001b[0m\n\u001b[0m\u001b[1;32m      9\u001b[0m \u001b[0;34m\u001b[0m\u001b[0m\n\u001b[1;32m     10\u001b[0m \u001b[0;31m# Calculate the accuracy of the classifier\u001b[0m\u001b[0;34m\u001b[0m\u001b[0;34m\u001b[0m\u001b[0;34m\u001b[0m\u001b[0m\n",
            "\u001b[0;32m/usr/local/lib/python3.8/dist-packages/sklearn/linear_model/_base.py\u001b[0m in \u001b[0;36mpredict\u001b[0;34m(self, X)\u001b[0m\n\u001b[1;32m    417\u001b[0m         \"\"\"\n\u001b[1;32m    418\u001b[0m         \u001b[0mxp\u001b[0m\u001b[0;34m,\u001b[0m \u001b[0m_\u001b[0m \u001b[0;34m=\u001b[0m \u001b[0mget_namespace\u001b[0m\u001b[0;34m(\u001b[0m\u001b[0mX\u001b[0m\u001b[0;34m)\u001b[0m\u001b[0;34m\u001b[0m\u001b[0;34m\u001b[0m\u001b[0m\n\u001b[0;32m--> 419\u001b[0;31m         \u001b[0mscores\u001b[0m \u001b[0;34m=\u001b[0m \u001b[0mself\u001b[0m\u001b[0;34m.\u001b[0m\u001b[0mdecision_function\u001b[0m\u001b[0;34m(\u001b[0m\u001b[0mX\u001b[0m\u001b[0;34m)\u001b[0m\u001b[0;34m\u001b[0m\u001b[0;34m\u001b[0m\u001b[0m\n\u001b[0m\u001b[1;32m    420\u001b[0m         \u001b[0;32mif\u001b[0m \u001b[0mlen\u001b[0m\u001b[0;34m(\u001b[0m\u001b[0mscores\u001b[0m\u001b[0;34m.\u001b[0m\u001b[0mshape\u001b[0m\u001b[0;34m)\u001b[0m \u001b[0;34m==\u001b[0m \u001b[0;36m1\u001b[0m\u001b[0;34m:\u001b[0m\u001b[0;34m\u001b[0m\u001b[0;34m\u001b[0m\u001b[0m\n\u001b[1;32m    421\u001b[0m             \u001b[0mindices\u001b[0m \u001b[0;34m=\u001b[0m \u001b[0mxp\u001b[0m\u001b[0;34m.\u001b[0m\u001b[0mastype\u001b[0m\u001b[0;34m(\u001b[0m\u001b[0mscores\u001b[0m \u001b[0;34m>\u001b[0m \u001b[0;36m0\u001b[0m\u001b[0;34m,\u001b[0m \u001b[0mint\u001b[0m\u001b[0;34m)\u001b[0m\u001b[0;34m\u001b[0m\u001b[0;34m\u001b[0m\u001b[0m\n",
            "\u001b[0;32m/usr/local/lib/python3.8/dist-packages/sklearn/linear_model/_base.py\u001b[0m in \u001b[0;36mdecision_function\u001b[0;34m(self, X)\u001b[0m\n\u001b[1;32m    399\u001b[0m \u001b[0;34m\u001b[0m\u001b[0m\n\u001b[1;32m    400\u001b[0m         \u001b[0mX\u001b[0m \u001b[0;34m=\u001b[0m \u001b[0mself\u001b[0m\u001b[0;34m.\u001b[0m\u001b[0m_validate_data\u001b[0m\u001b[0;34m(\u001b[0m\u001b[0mX\u001b[0m\u001b[0;34m,\u001b[0m \u001b[0maccept_sparse\u001b[0m\u001b[0;34m=\u001b[0m\u001b[0;34m\"csr\"\u001b[0m\u001b[0;34m,\u001b[0m \u001b[0mreset\u001b[0m\u001b[0;34m=\u001b[0m\u001b[0;32mFalse\u001b[0m\u001b[0;34m)\u001b[0m\u001b[0;34m\u001b[0m\u001b[0;34m\u001b[0m\u001b[0m\n\u001b[0;32m--> 401\u001b[0;31m         \u001b[0mscores\u001b[0m \u001b[0;34m=\u001b[0m \u001b[0msafe_sparse_dot\u001b[0m\u001b[0;34m(\u001b[0m\u001b[0mX\u001b[0m\u001b[0;34m,\u001b[0m \u001b[0mself\u001b[0m\u001b[0;34m.\u001b[0m\u001b[0mcoef_\u001b[0m\u001b[0;34m.\u001b[0m\u001b[0mT\u001b[0m\u001b[0;34m,\u001b[0m \u001b[0mdense_output\u001b[0m\u001b[0;34m=\u001b[0m\u001b[0;32mTrue\u001b[0m\u001b[0;34m)\u001b[0m \u001b[0;34m+\u001b[0m \u001b[0mself\u001b[0m\u001b[0;34m.\u001b[0m\u001b[0mintercept_\u001b[0m\u001b[0;34m\u001b[0m\u001b[0;34m\u001b[0m\u001b[0m\n\u001b[0m\u001b[1;32m    402\u001b[0m         \u001b[0;32mreturn\u001b[0m \u001b[0mxp\u001b[0m\u001b[0;34m.\u001b[0m\u001b[0mreshape\u001b[0m\u001b[0;34m(\u001b[0m\u001b[0mscores\u001b[0m\u001b[0;34m,\u001b[0m \u001b[0;34m-\u001b[0m\u001b[0;36m1\u001b[0m\u001b[0;34m)\u001b[0m \u001b[0;32mif\u001b[0m \u001b[0mscores\u001b[0m\u001b[0;34m.\u001b[0m\u001b[0mshape\u001b[0m\u001b[0;34m[\u001b[0m\u001b[0;36m1\u001b[0m\u001b[0;34m]\u001b[0m \u001b[0;34m==\u001b[0m \u001b[0;36m1\u001b[0m \u001b[0;32melse\u001b[0m \u001b[0mscores\u001b[0m\u001b[0;34m\u001b[0m\u001b[0;34m\u001b[0m\u001b[0m\n\u001b[1;32m    403\u001b[0m \u001b[0;34m\u001b[0m\u001b[0m\n",
            "\u001b[0;32m/usr/local/lib/python3.8/dist-packages/sklearn/utils/extmath.py\u001b[0m in \u001b[0;36msafe_sparse_dot\u001b[0;34m(a, b, dense_output)\u001b[0m\n\u001b[1;32m    187\u001b[0m             \u001b[0mret\u001b[0m \u001b[0;34m=\u001b[0m \u001b[0mnp\u001b[0m\u001b[0;34m.\u001b[0m\u001b[0mdot\u001b[0m\u001b[0;34m(\u001b[0m\u001b[0ma\u001b[0m\u001b[0;34m,\u001b[0m \u001b[0mb\u001b[0m\u001b[0;34m)\u001b[0m\u001b[0;34m\u001b[0m\u001b[0;34m\u001b[0m\u001b[0m\n\u001b[1;32m    188\u001b[0m     \u001b[0;32melse\u001b[0m\u001b[0;34m:\u001b[0m\u001b[0;34m\u001b[0m\u001b[0;34m\u001b[0m\u001b[0m\n\u001b[0;32m--> 189\u001b[0;31m         \u001b[0mret\u001b[0m \u001b[0;34m=\u001b[0m \u001b[0ma\u001b[0m \u001b[0;34m@\u001b[0m \u001b[0mb\u001b[0m\u001b[0;34m\u001b[0m\u001b[0;34m\u001b[0m\u001b[0m\n\u001b[0m\u001b[1;32m    190\u001b[0m \u001b[0;34m\u001b[0m\u001b[0m\n\u001b[1;32m    191\u001b[0m     if (\n",
            "\u001b[0;31mTypeError\u001b[0m: can't multiply sequence by non-int of type 'float'"
          ]
        }
      ]
    },
    {
      "cell_type": "code",
      "source": [
        "# print the metrics for each individual class\n",
        "print(classification_report(y_test, y_pred_lr))"
      ],
      "metadata": {
        "id": "MOwfNHjlQVAX",
        "colab": {
          "base_uri": "https://localhost:8080/"
        },
        "outputId": "3b203266-b15c-4ce0-f601-0c2e9b3a761e"
      },
      "execution_count": null,
      "outputs": [
        {
          "output_type": "stream",
          "name": "stdout",
          "text": [
            "              precision    recall  f1-score   support\n",
            "\n",
            "           1       0.62      0.63      0.63     21422\n",
            "           2       0.62      0.77      0.69     28128\n",
            "           3       0.57      0.23      0.33      3603\n",
            "           4       0.00      0.00      0.00       281\n",
            "           5       0.00      0.00      0.00       894\n",
            "           6       0.12      0.00      0.00      1744\n",
            "           7       0.00      0.00      0.00      2029\n",
            "\n",
            "    accuracy                           0.62     58101\n",
            "   macro avg       0.28      0.23      0.24     58101\n",
            "weighted avg       0.57      0.62      0.59     58101\n",
            "\n"
          ]
        },
        {
          "output_type": "stream",
          "name": "stderr",
          "text": [
            "/usr/local/lib/python3.8/dist-packages/sklearn/metrics/_classification.py:1318: UndefinedMetricWarning: Precision and F-score are ill-defined and being set to 0.0 in labels with no predicted samples. Use `zero_division` parameter to control this behavior.\n",
            "  _warn_prf(average, modifier, msg_start, len(result))\n",
            "/usr/local/lib/python3.8/dist-packages/sklearn/metrics/_classification.py:1318: UndefinedMetricWarning: Precision and F-score are ill-defined and being set to 0.0 in labels with no predicted samples. Use `zero_division` parameter to control this behavior.\n",
            "  _warn_prf(average, modifier, msg_start, len(result))\n",
            "/usr/local/lib/python3.8/dist-packages/sklearn/metrics/_classification.py:1318: UndefinedMetricWarning: Precision and F-score are ill-defined and being set to 0.0 in labels with no predicted samples. Use `zero_division` parameter to control this behavior.\n",
            "  _warn_prf(average, modifier, msg_start, len(result))\n"
          ]
        }
      ]
    },
    {
      "cell_type": "markdown",
      "source": [
        "#### Cross Validation"
      ],
      "metadata": {
        "id": "NAxFI3d2ksti"
      }
    },
    {
      "cell_type": "code",
      "source": [
        "# Perform 10-fold cross-validation and calculate the mean accuracy\n",
        "cv_scores = cross_val_score(lr, X, y, cv = 10)\n",
        "mean_accuracy = cv_scores.mean()\n",
        "\n",
        "print('\\n')\n",
        "print('Cross-validation accuracy:', mean_accuracy) # 0.6009685968081737\n",
        "print('\\n')"
      ],
      "metadata": {
        "colab": {
          "base_uri": "https://localhost:8080/"
        },
        "id": "YKFgPnF8kv5q",
        "outputId": "aee0df91-e2a5-4d74-f5bc-753a10bd1baf"
      },
      "execution_count": null,
      "outputs": [
        {
          "output_type": "stream",
          "name": "stdout",
          "text": [
            "\n",
            "\n",
            "Cross-validation accuracy: nan\n",
            "\n",
            "\n"
          ]
        }
      ]
    },
    {
      "cell_type": "markdown",
      "source": [
        "Cross-validation accuracy: 0.6009685968081737\n"
      ],
      "metadata": {
        "id": "3Z9-LX-ZtSRF"
      }
    },
    {
      "cell_type": "markdown",
      "source": [
        "#### Stratified Cross Validation"
      ],
      "metadata": {
        "id": "VIyowrW6Aavw"
      }
    },
    {
      "cell_type": "code",
      "source": [
        "# Create a stratified 10-fold cross-validator\n",
        "skf = StratifiedKFold(n_splits = 10)\n",
        "\n",
        "# Perform cross-validation\n",
        "cv_scores = cross_val_score(lr, X, y, cv = skf)\n",
        "\n",
        "# Calculate the mean accuracy of the cross-validation scores\n",
        "mean_accuracy = cv_scores.mean()\n",
        "\n",
        "print('\\n')\n",
        "print('Cross-validation accuracy:', mean_accuracy)\n",
        "print('\\n')"
      ],
      "metadata": {
        "colab": {
          "base_uri": "https://localhost:8080/"
        },
        "id": "SijGi8BNAafg",
        "outputId": "20826844-b54e-4cc0-d5e8-cc680128ce85"
      },
      "execution_count": null,
      "outputs": [
        {
          "output_type": "stream",
          "name": "stdout",
          "text": [
            "\n",
            "\n",
            "Cross-validation accuracy: nan\n",
            "\n",
            "\n"
          ]
        }
      ]
    },
    {
      "cell_type": "markdown",
      "source": [
        "Cross-validation accuracy: 0.6009685968081737\n"
      ],
      "metadata": {
        "id": "6GinHoZ4u-kw"
      }
    },
    {
      "cell_type": "markdown",
      "source": [
        "### Regression Models for Elevation\n",
        "\n",
        "As we saw in our initial EDA, there is a clear relationship between Cover Type and Elevation, which we will analyze using regression models."
      ],
      "metadata": {
        "id": "ODmqpwu4pgC0"
      }
    },
    {
      "cell_type": "code",
      "source": [
        "#side by side plot\n",
        "fig, ax =plt.subplots(1,2)\n",
        "\n",
        "# box plots for elevation vs cover type\n",
        "sns.boxplot(x = 'Cover_Type', y = 'Elevation', data = forest_cover_type, ax=ax[0], palette=[\"m\", \"g\", \"b\", \"c\", \"r\", \"w\", \"m\"])\n",
        "\n",
        "# box plots for elevation vs cover type\n",
        "sns.scatterplot(x = 'Horizontal_Distance_To_Hydrology', y = 'Elevation', data = forest_cover_type, ax=ax[1])\n",
        "\n",
        "fig.show()"
      ],
      "metadata": {
        "id": "spRx792vuzqs",
        "outputId": "3015b3c8-55db-4b4a-aec7-98bab6010dd2",
        "colab": {
          "base_uri": "https://localhost:8080/",
          "height": 361
        }
      },
      "execution_count": null,
      "outputs": [
        {
          "output_type": "display_data",
          "data": {
            "text/plain": [
              "<Figure size 576x396 with 2 Axes>"
            ],
            "image/png": "[encoded data removed]"
          },
          "metadata": {}
        }
      ]
    },
    {
      "cell_type": "code",
      "source": [
        "# Make target variable and data variable\n",
        "yreg = forest_cover_type[['Elevation']]\n",
        "Xreg = forest_cover_type.loc[:, forest_cover_type.columns != 'Elevation']"
      ],
      "metadata": {
        "id": "uEqAFP5wpFap"
      },
      "execution_count": null,
      "outputs": []
    },
    {
      "cell_type": "markdown",
      "source": [
        "Random Forest for Elevation"
      ],
      "metadata": {
        "id": "9JBbIwT-pksE"
      }
    },
    {
      "cell_type": "markdown",
      "source": [
        "**Accuracy Scores for various splitting methods vs Classification models**\n",
        "\n",
        "Splitting Method   | Random Forest | KNN    | Logistic\n",
        "-------------------|---------------|--------|---------\n",
        "Test/Train         | 0.9625        | 0.9658 | 0.6242\n",
        "Cross Validation   | 0.9656        | 0.5362 | 0.6009\n",
        "Stratified CV      | 0.9655        | 0.5362 | 0.6009\n",
        "\n",
        "Because we saw a large difference in accuracy for different validation methods, we decided to narrow down our validation method for the regression models to 10 fold Cross Validation.\n",
        "\n"
      ],
      "metadata": {
        "id": "yjCTb_n3RtL1"
      }
    },
    {
      "cell_type": "code",
      "source": [
        "from sklearn.ensemble import RandomForestRegressor\n",
        "\n",
        "# Create a random forest model\n",
        "rf_reg = RandomForestRegressor(max_depth=5, random_state=0, n_estimators = 100)"
      ],
      "metadata": {
        "id": "SOdYe08-Rc9I"
      },
      "execution_count": null,
      "outputs": []
    },
    {
      "cell_type": "code",
      "source": [
        "#about 30 minute run time\n",
        "# Create a 10-fold cross-validation \n",
        "cv = KFold(n_splits = 10, \n",
        "           shuffle = True, \n",
        "           random_state = 42)\n",
        "\n",
        "MAE = []\n",
        "MSE = []\n",
        "RMSE = []\n",
        "\n",
        "for train_idx_reg, test_idx_reg in cv.split(Xreg, yreg):\n",
        "\n",
        "    X_train_reg, X_test_reg = Xreg.iloc[train_idx_reg], Xreg.iloc[test_idx_reg]\n",
        "    y_train_reg, y_test_reg = yreg.iloc[train_idx_reg], yreg.iloc[test_idx_reg]\n",
        "\n",
        "    # Train the model\n",
        "    rf_reg.fit(X_train_reg, y_train_reg)\n",
        "\n",
        "    # Predict \n",
        "    y_pred_rf_reg = rf_reg.predict(X_test_reg)\n",
        "\n",
        "\n",
        "    # Calculate the mean absolute error, mean squared error, and root mean squared error\n",
        "    rf_MAE_reg= metrics.mean_absolute_error(y_test_reg, y_pred_rf_reg)\n",
        "    rf_MSE_reg= metrics.mean_squared_error(y_test_reg, y_pred_rf_reg)\n",
        "    rf_RMSE_reg= metrics.mean_squared_error(y_test_reg, y_pred_rf_reg)\n",
        "\n",
        "    # Print the scores\n",
        "    print('MAE:', rf_MAE_reg)\n",
        "    print('MSE:', rf_MSE_reg)\n",
        "    print('RMSE:', rf_RMSE_reg)\n",
        "    print('\\n')\n",
        "\n",
        "    # Append to the list\n",
        "    MAE.append(rf_MAE_reg)\n",
        "    MSE.append(rf_MSE_reg)\n",
        "    RMSE.append(rf_RMSE_reg)"
      ],
      "metadata": {
        "id": "DAjp9TIAQ9Qk",
        "colab": {
          "base_uri": "https://localhost:8080/"
        },
        "outputId": "26506100-04bd-4d8c-908c-b9ff97a411d1"
      },
      "execution_count": null,
      "outputs": [
        {
          "output_type": "stream",
          "name": "stdout",
          "text": [
            "MAE: 104.60493706234415\n",
            "MSE: 18024.73868664956\n",
            "RMSE: 18024.73868664956\n",
            "\n",
            "\n",
            "MAE: 104.42684656980293\n",
            "MSE: 17981.05404212587\n",
            "RMSE: 17981.05404212587\n",
            "\n",
            "\n",
            "MAE: 105.07848905880088\n",
            "MSE: 18239.211739330065\n",
            "RMSE: 18239.211739330065\n",
            "\n",
            "\n",
            "MAE: 105.09826146753704\n",
            "MSE: 18141.043930189357\n",
            "RMSE: 18141.043930189357\n",
            "\n",
            "\n",
            "MAE: 104.79150863849013\n",
            "MSE: 18161.174195985965\n",
            "RMSE: 18161.174195985965\n",
            "\n",
            "\n",
            "MAE: 104.941114116725\n",
            "MSE: 18145.823108884455\n",
            "RMSE: 18145.823108884455\n",
            "\n",
            "\n",
            "MAE: 104.66185719641206\n",
            "MSE: 18116.750403048973\n",
            "RMSE: 18116.750403048973\n",
            "\n",
            "\n",
            "MAE: 104.43394530016435\n",
            "MSE: 18049.08949527779\n",
            "RMSE: 18049.08949527779\n",
            "\n",
            "\n",
            "MAE: 104.41314825218653\n",
            "MSE: 18053.672965428963\n",
            "RMSE: 18053.672965428963\n",
            "\n",
            "\n",
            "MAE: 104.34416484726191\n",
            "MSE: 18032.739969813596\n",
            "RMSE: 18032.739969813596\n",
            "\n",
            "\n"
          ]
        }
      ]
    },
    {
      "cell_type": "code",
      "source": [
        "# Print the mean scores\n",
        "print('\\n')\n",
        "print('Mean MAE:', sum(MAE) / len(MAE),' Mean MSE:', sum(MSE) / len(MSE), ' Mean RMSE:', sum(RMSE) / len(RMSE))"
      ],
      "metadata": {
        "id": "_IlmTBHPkCb6",
        "outputId": "b3ea1fa5-9e33-4712-cf27-8a011000c4b2",
        "colab": {
          "base_uri": "https://localhost:8080/"
        }
      },
      "execution_count": null,
      "outputs": [
        {
          "output_type": "stream",
          "name": "stdout",
          "text": [
            "\n",
            "\n",
            "Mean MAE: 104.67942725097248  Mean MSE: 18094.529853673455  Mean RMSE: 18094.529853673455\n"
          ]
        }
      ]
    },
    {
      "cell_type": "markdown",
      "source": [
        "## Linear Regression for Elevation\n",
        "\n",
        "We transitioned Wilderness Area and Soil Types back to a multi-column variable for linear regression."
      ],
      "metadata": {
        "id": "wivuofH5i2wR"
      }
    },
    {
      "cell_type": "code",
      "source": [
        "forest_cover_hot_coded_category = pd.read_csv('covtype.csv')\n",
        "# Renaming wilderness areas\n",
        "forest_cover_hot_coded_category.rename(columns={'Wilderness_Area1':'Rawah','Wilderness_Area2':'Neota','Wilderness_Area3':'Comanche Peak','Wilderness_Area4':'Cache la Poudre'},inplace=True)\n",
        "\n",
        "\n",
        "#reference https://www.analyticsvidhya.com/blog/2021/05/how-to-perform-one-hot-encoding-for-multi-categorical-variables/\n",
        "# setting columns we use\n",
        "new_df = pd.read_csv('covtype.csv',usecols=['Cover_Type']) \n",
        "new_df.head()\n",
        "new_df.to_numpy()\n",
        "onehot = OneHotEncoder()\n",
        "onehot.fit_transform(new_df.Cover_Type.values.reshape(-1, 1)).toarray()\n",
        "new_df=onehot.fit_transform(new_df.Cover_Type.values.reshape(-1, 1)).toarray()\n",
        "new_df = pd.DataFrame(new_df)\n",
        "\n",
        "new_df = new_df.rename(columns={0: 'Spruce_Fir', \n",
        "                                1: 'Lodgepole_Pine',\n",
        "                                2: 'Ponderosa_Pine',\n",
        "                                3: 'Cottonwood_Willow',\n",
        "                                4: 'Aspen',\n",
        "                                5: 'Douglas_fir',\n",
        "                                6: 'Krummholz'\n",
        "                                })\n",
        "\n",
        "forest_cover_hot_coded_category = pd.concat([forest_cover_hot_coded_category.reset_index(drop=True), new_df], axis=1)\n",
        "\n",
        "forest_cover_hot_coded_category = forest_cover_hot_coded_category.select_dtypes(['number']) \n",
        "forest_cover_hot_coded_category.head()\n"
      ],
      "metadata": {
        "colab": {
          "base_uri": "https://localhost:8080/",
          "height": 300
        },
        "id": "b7y9EXAGa4Sb",
        "outputId": "96079dfd-a30e-4ab7-d6d5-cde288a627a2"
      },
      "execution_count": 4,
      "outputs": [
        {
          "output_type": "execute_result",
          "data": {
            "text/plain": [
              "   Elevation  Aspect  Slope  Horizontal_Distance_To_Hydrology  \\\n",
              "0       2596      51      3                               258   \n",
              "1       2590      56      2                               212   \n",
              "2       2804     139      9                               268   \n",
              "3       2785     155     18                               242   \n",
              "4       2595      45      2                               153   \n",
              "\n",
              "   Vertical_Distance_To_Hydrology  Horizontal_Distance_To_Roadways  \\\n",
              "0                               0                              510   \n",
              "1                              -6                              390   \n",
              "2                              65                             3180   \n",
              "3                             118                             3090   \n",
              "4                              -1                              391   \n",
              "\n",
              "   Hillshade_9am  Hillshade_Noon  Hillshade_3pm  \\\n",
              "0            221             232            148   \n",
              "1            220             235            151   \n",
              "2            234             238            135   \n",
              "3            238             238            122   \n",
              "4            220             234            150   \n",
              "\n",
              "   Horizontal_Distance_To_Fire_Points  ...  Soil_Type39  Soil_Type40  \\\n",
              "0                                6279  ...            0            0   \n",
              "1                                6225  ...            0            0   \n",
              "2                                6121  ...            0            0   \n",
              "3                                6211  ...            0            0   \n",
              "4                                6172  ...            0            0   \n",
              "\n",
              "   Cover_Type  Spruce_Fir  Lodgepole_Pine  Ponderosa_Pine  Cottonwood_Willow  \\\n",
              "0           5         0.0             0.0             0.0                0.0   \n",
              "1           5         0.0             0.0             0.0                0.0   \n",
              "2           2         0.0             1.0             0.0                0.0   \n",
              "3           2         0.0             1.0             0.0                0.0   \n",
              "4           5         0.0             0.0             0.0                0.0   \n",
              "\n",
              "   Aspen  Douglas_fir  Krummholz  \n",
              "0    1.0          0.0        0.0  \n",
              "1    1.0          0.0        0.0  \n",
              "2    0.0          0.0        0.0  \n",
              "3    0.0          0.0        0.0  \n",
              "4    1.0          0.0        0.0  \n",
              "\n",
              "[5 rows x 62 columns]"
            ],
            "text/html": [
              "\n",
              "  <div id=\"df-1978e6e3-f212-4ace-990c-eed2965752ef\">\n",
              "    <div class=\"colab-df-container\">\n",
              "      <div>\n",
              "<style scoped>\n",
              "    .dataframe tbody tr th:only-of-type {\n",
              "        vertical-align: middle;\n",
              "    }\n",
              "\n",
              "    .dataframe tbody tr th {\n",
              "        vertical-align: top;\n",
              "    }\n",
              "\n",
              "    .dataframe thead th {\n",
              "        text-align: right;\n",
              "    }\n",
              "</style>\n",
              "<table border=\"1\" class=\"dataframe\">\n",
              "  <thead>\n",
              "    <tr style=\"text-align: right;\">\n",
              "      <th></th>\n",
              "      <th>Elevation</th>\n",
              "      <th>Aspect</th>\n",
              "      <th>Slope</th>\n",
              "      <th>Horizontal_Distance_To_Hydrology</th>\n",
              "      <th>Vertical_Distance_To_Hydrology</th>\n",
              "      <th>Horizontal_Distance_To_Roadways</th>\n",
              "      <th>Hillshade_9am</th>\n",
              "      <th>Hillshade_Noon</th>\n",
              "      <th>Hillshade_3pm</th>\n",
              "      <th>Horizontal_Distance_To_Fire_Points</th>\n",
              "      <th>...</th>\n",
              "      <th>Soil_Type39</th>\n",
              "      <th>Soil_Type40</th>\n",
              "      <th>Cover_Type</th>\n",
              "      <th>Spruce_Fir</th>\n",
              "      <th>Lodgepole_Pine</th>\n",
              "      <th>Ponderosa_Pine</th>\n",
              "      <th>Cottonwood_Willow</th>\n",
              "      <th>Aspen</th>\n",
              "      <th>Douglas_fir</th>\n",
              "      <th>Krummholz</th>\n",
              "    </tr>\n",
              "  </thead>\n",
              "  <tbody>\n",
              "    <tr>\n",
              "      <th>0</th>\n",
              "      <td>2596</td>\n",
              "      <td>51</td>\n",
              "      <td>3</td>\n",
              "      <td>258</td>\n",
              "      <td>0</td>\n",
              "      <td>510</td>\n",
              "      <td>221</td>\n",
              "      <td>232</td>\n",
              "      <td>148</td>\n",
              "      <td>6279</td>\n",
              "      <td>...</td>\n",
              "      <td>0</td>\n",
              "      <td>0</td>\n",
              "      <td>5</td>\n",
              "      <td>0.0</td>\n",
              "      <td>0.0</td>\n",
              "      <td>0.0</td>\n",
              "      <td>0.0</td>\n",
              "      <td>1.0</td>\n",
              "      <td>0.0</td>\n",
              "      <td>0.0</td>\n",
              "    </tr>\n",
              "    <tr>\n",
              "      <th>1</th>\n",
              "      <td>2590</td>\n",
              "      <td>56</td>\n",
              "      <td>2</td>\n",
              "      <td>212</td>\n",
              "      <td>-6</td>\n",
              "      <td>390</td>\n",
              "      <td>220</td>\n",
              "      <td>235</td>\n",
              "      <td>151</td>\n",
              "      <td>6225</td>\n",
              "      <td>...</td>\n",
              "      <td>0</td>\n",
              "      <td>0</td>\n",
              "      <td>5</td>\n",
              "      <td>0.0</td>\n",
              "      <td>0.0</td>\n",
              "      <td>0.0</td>\n",
              "      <td>0.0</td>\n",
              "      <td>1.0</td>\n",
              "      <td>0.0</td>\n",
              "      <td>0.0</td>\n",
              "    </tr>\n",
              "    <tr>\n",
              "      <th>2</th>\n",
              "      <td>2804</td>\n",
              "      <td>139</td>\n",
              "      <td>9</td>\n",
              "      <td>268</td>\n",
              "      <td>65</td>\n",
              "      <td>3180</td>\n",
              "      <td>234</td>\n",
              "      <td>238</td>\n",
              "      <td>135</td>\n",
              "      <td>6121</td>\n",
              "      <td>...</td>\n",
              "      <td>0</td>\n",
              "      <td>0</td>\n",
              "      <td>2</td>\n",
              "      <td>0.0</td>\n",
              "      <td>1.0</td>\n",
              "      <td>0.0</td>\n",
              "      <td>0.0</td>\n",
              "      <td>0.0</td>\n",
              "      <td>0.0</td>\n",
              "      <td>0.0</td>\n",
              "    </tr>\n",
              "    <tr>\n",
              "      <th>3</th>\n",
              "      <td>2785</td>\n",
              "      <td>155</td>\n",
              "      <td>18</td>\n",
              "      <td>242</td>\n",
              "      <td>118</td>\n",
              "      <td>3090</td>\n",
              "      <td>238</td>\n",
              "      <td>238</td>\n",
              "      <td>122</td>\n",
              "      <td>6211</td>\n",
              "      <td>...</td>\n",
              "      <td>0</td>\n",
              "      <td>0</td>\n",
              "      <td>2</td>\n",
              "      <td>0.0</td>\n",
              "      <td>1.0</td>\n",
              "      <td>0.0</td>\n",
              "      <td>0.0</td>\n",
              "      <td>0.0</td>\n",
              "      <td>0.0</td>\n",
              "      <td>0.0</td>\n",
              "    </tr>\n",
              "    <tr>\n",
              "      <th>4</th>\n",
              "      <td>2595</td>\n",
              "      <td>45</td>\n",
              "      <td>2</td>\n",
              "      <td>153</td>\n",
              "      <td>-1</td>\n",
              "      <td>391</td>\n",
              "      <td>220</td>\n",
              "      <td>234</td>\n",
              "      <td>150</td>\n",
              "      <td>6172</td>\n",
              "      <td>...</td>\n",
              "      <td>0</td>\n",
              "      <td>0</td>\n",
              "      <td>5</td>\n",
              "      <td>0.0</td>\n",
              "      <td>0.0</td>\n",
              "      <td>0.0</td>\n",
              "      <td>0.0</td>\n",
              "      <td>1.0</td>\n",
              "      <td>0.0</td>\n",
              "      <td>0.0</td>\n",
              "    </tr>\n",
              "  </tbody>\n",
              "</table>\n",
              "<p>5 rows × 62 columns</p>\n",
              "</div>\n",
              "      <button class=\"colab-df-convert\" onclick=\"convertToInteractive('df-1978e6e3-f212-4ace-990c-eed2965752ef')\"\n",
              "              title=\"Convert this dataframe to an interactive table.\"\n",
              "              style=\"display:none;\">\n",
              "        \n",
              "  <svg xmlns=\"http://www.w3.org/2000/svg\" height=\"24px\"viewBox=\"0 0 24 24\"\n",
              "       width=\"24px\">\n",
              "    <path d=\"M0 0h24v24H0V0z\" fill=\"none\"/>\n",
              "    <path d=\"M18.56 5.44l.94 2.06.94-2.06 2.06-.94-2.06-.94-.94-2.06-.94 2.06-2.06.94zm-11 1L8.5 8.5l.94-2.06 2.06-.94-2.06-.94L8.5 2.5l-.94 2.06-2.06.94zm10 10l.94 2.06.94-2.06 2.06-.94-2.06-.94-.94-2.06-.94 2.06-2.06.94z\"/><path d=\"M17.41 7.96l-1.37-1.37c-.4-.4-.92-.59-1.43-.59-.52 0-1.04.2-1.43.59L10.3 9.45l-7.72 7.72c-.78.78-.78 2.05 0 2.83L4 21.41c.39.39.9.59 1.41.59.51 0 1.02-.2 1.41-.59l7.78-7.78 2.81-2.81c.8-.78.8-2.07 0-2.86zM5.41 20L4 18.59l7.72-7.72 1.47 1.35L5.41 20z\"/>\n",
              "  </svg>\n",
              "      </button>\n",
              "      \n",
              "  <style>\n",
              "    .colab-df-container {\n",
              "      display:flex;\n",
              "      flex-wrap:wrap;\n",
              "      gap: 12px;\n",
              "    }\n",
              "\n",
              "    .colab-df-convert {\n",
              "      background-color: #E8F0FE;\n",
              "      border: none;\n",
              "      border-radius: 50%;\n",
              "      cursor: pointer;\n",
              "      display: none;\n",
              "      fill: #1967D2;\n",
              "      height: 32px;\n",
              "      padding: 0 0 0 0;\n",
              "      width: 32px;\n",
              "    }\n",
              "\n",
              "    .colab-df-convert:hover {\n",
              "      background-color: #E2EBFA;\n",
              "      box-shadow: 0px 1px 2px rgba(60, 64, 67, 0.3), 0px 1px 3px 1px rgba(60, 64, 67, 0.15);\n",
              "      fill: #174EA6;\n",
              "    }\n",
              "\n",
              "    [theme=dark] .colab-df-convert {\n",
              "      background-color: #3B4455;\n",
              "      fill: #D2E3FC;\n",
              "    }\n",
              "\n",
              "    [theme=dark] .colab-df-convert:hover {\n",
              "      background-color: #434B5C;\n",
              "      box-shadow: 0px 1px 3px 1px rgba(0, 0, 0, 0.15);\n",
              "      filter: drop-shadow(0px 1px 2px rgba(0, 0, 0, 0.3));\n",
              "      fill: #FFFFFF;\n",
              "    }\n",
              "  </style>\n",
              "\n",
              "      <script>\n",
              "        const buttonEl =\n",
              "          document.querySelector('#df-1978e6e3-f212-4ace-990c-eed2965752ef button.colab-df-convert');\n",
              "        buttonEl.style.display =\n",
              "          google.colab.kernel.accessAllowed ? 'block' : 'none';\n",
              "\n",
              "        async function convertToInteractive(key) {\n",
              "          const element = document.querySelector('#df-1978e6e3-f212-4ace-990c-eed2965752ef');\n",
              "          const dataTable =\n",
              "            await google.colab.kernel.invokeFunction('convertToInteractive',\n",
              "                                                     [key], {});\n",
              "          if (!dataTable) return;\n",
              "\n",
              "          const docLinkHtml = 'Like what you see? Visit the ' +\n",
              "            '<a target=\"_blank\" href=https://colab.research.google.com/notebooks/data_table.ipynb>data table notebook</a>'\n",
              "            + ' to learn more about interactive tables.';\n",
              "          element.innerHTML = '';\n",
              "          dataTable['output_type'] = 'display_data';\n",
              "          await google.colab.output.renderOutput(dataTable, element);\n",
              "          const docLink = document.createElement('div');\n",
              "          docLink.innerHTML = docLinkHtml;\n",
              "          element.appendChild(docLink);\n",
              "        }\n",
              "      </script>\n",
              "    </div>\n",
              "  </div>\n",
              "  "
            ]
          },
          "metadata": {},
          "execution_count": 4
        }
      ]
    },
    {
      "cell_type": "code",
      "source": [
        "# Make target variable and data variable\n",
        "yreg = forest_cover_hot_coded_category[['Elevation']]\n",
        "Xreg = forest_cover_hot_coded_category.loc[:, forest_cover_hot_coded_category.columns != 'Elevation']"
      ],
      "metadata": {
        "id": "PtqNx591-7LF"
      },
      "execution_count": 7,
      "outputs": []
    },
    {
      "cell_type": "code",
      "source": [
        "lin_reg = LinearRegression()\n",
        "# Create a 10-fold cross-validation \n",
        "cv = KFold(n_splits = 10, \n",
        "           shuffle = True, \n",
        "           random_state = 42)\n",
        "\n",
        "MAE = []\n",
        "MSE = []\n",
        "RMSE = []\n",
        "i=0\n",
        "for train_idx_reg, test_idx_reg in cv.split(Xreg, yreg):\n",
        "\n",
        "    X_train_reg, X_test_reg = Xreg.iloc[train_idx_reg], Xreg.iloc[test_idx_reg]\n",
        "    y_train_reg, y_test_reg = yreg.iloc[train_idx_reg], yreg.iloc[test_idx_reg]\n",
        "\n",
        "    # Train the model\n",
        "    lin_reg.fit(X_train_reg, y_train_reg)\n",
        "\n",
        "    # Predict \n",
        "    y_pred_lin_reg = lin_reg.predict(X_test_reg)\n",
        "\n",
        "\n",
        "    # Calculate the mean absolute error, mean squared error, and root mean squared error\n",
        "    lin_MAE_reg= metrics.mean_absolute_error(y_test_reg, y_pred_lin_reg)\n",
        "    lin_MSE_reg= metrics.mean_squared_error(y_test_reg, y_pred_lin_reg)\n",
        "    lin_RMSE_reg= metrics.mean_squared_error(y_test_reg, y_pred_lin_reg)\n",
        "    i=i+1\n",
        "    # Append to the list\n",
        "    MAE.append(lin_MAE_reg)\n",
        "    MSE.append(lin_MSE_reg)\n",
        "    RMSE.append(lin_RMSE_reg)\n",
        "\n",
        "    # Print the scores\n",
        "    print(tabulate([[i, lin_MAE_reg, lin_MSE_reg, lin_RMSE_reg]], \n",
        "               headers=['Fold', 'MAE', 'RMSE']))\n"
      ],
      "metadata": {
        "id": "5PFsgKmMWlYL",
        "colab": {
          "base_uri": "https://localhost:8080/"
        },
        "outputId": "3927094e-2069-43fa-d0fd-a18dedf54fd0"
      },
      "execution_count": 8,
      "outputs": [
        {
          "output_type": "stream",
          "name": "stdout",
          "text": [
            "       Fold      MAE     RMSE\n",
            "--  -------  -------  -------\n",
            " 1  91.1959  13374.6  13374.6\n",
            "      Fold      MAE     RMSE\n",
            "--  ------  -------  -------\n",
            " 2  91.952  13486.8  13486.8\n",
            "       Fold      MAE     RMSE\n",
            "--  -------  -------  -------\n",
            " 3  91.9191  13534.6  13534.6\n",
            "       Fold      MAE     RMSE\n",
            "--  -------  -------  -------\n",
            " 4  91.5156  13421.2  13421.2\n",
            "       Fold      MAE     RMSE\n",
            "--  -------  -------  -------\n",
            " 5  91.8451  13524.6  13524.6\n",
            "       Fold      MAE     RMSE\n",
            "--  -------  -------  -------\n",
            " 6  91.3623  13356.7  13356.7\n",
            "       Fold    MAE    RMSE\n",
            "--  -------  -----  ------\n",
            " 7  91.4052  13376   13376\n",
            "       Fold      MAE     RMSE\n",
            "--  -------  -------  -------\n",
            " 8  91.0019  13286.9  13286.9\n",
            "       Fold      MAE     RMSE\n",
            "--  -------  -------  -------\n",
            " 9  91.5216  13395.6  13395.6\n",
            "       Fold      MAE     RMSE\n",
            "--  -------  -------  -------\n",
            "10  91.5845  13509.7  13509.7\n"
          ]
        }
      ]
    },
    {
      "cell_type": "code",
      "source": [
        "    # Print the mean scores\n",
        "    print('\\n')\n",
        "    print('Mean MAE:', sum(MAE) / len(MAE))\n",
        "    print('Mean MSE:', sum(MSE) / len(MSE))\n",
        "    print('Mean RMSE:', sum(RMSE) / len(RMSE))"
      ],
      "metadata": {
        "id": "jeXjJAkttq7c",
        "colab": {
          "base_uri": "https://localhost:8080/"
        },
        "outputId": "4d2e11cd-7c36-4f88-8db6-a4e47b504c17"
      },
      "execution_count": 9,
      "outputs": [
        {
          "output_type": "stream",
          "name": "stdout",
          "text": [
            "\n",
            "\n",
            "Mean MAE: 91.53030525766539\n",
            "Mean MSE: 13426.673867940477\n",
            "Mean RMSE: 13426.673867940477\n"
          ]
        }
      ]
    },
    {
      "cell_type": "code",
      "source": [
        "Weights = pd.Series(lin_reg.coef_[0], index = Xreg.columns)\n",
        "Weights = pd.DataFrame({'Var':Weights.index, 'Weight':Weights.values})\n",
        "Weights = Weights.sort_values('Weight')\n",
        "plt.figure(figsize=(8, 10))\n",
        "sns.barplot(x='Weight', y = 'Var', data = Weights);"
      ],
      "metadata": {
        "colab": {
          "base_uri": "https://localhost:8080/",
          "height": 606
        },
        "id": "do6-9k6eA3kp",
        "outputId": "cb56f760-0b78-483b-f580-f6f846075420"
      },
      "execution_count": 10,
      "outputs": [
        {
          "output_type": "display_data",
          "data": {
            "text/plain": [
              "<Figure size 576x720 with 1 Axes>"
            ],
            "image/png": "[encoded data removed]"
          },
          "metadata": {}
        }
      ]
    },
    {
      "cell_type": "code",
      "source": [
        "#Simplifying the model before running again\n",
        "i=1\n",
        "Xreg_small=Xreg.drop(['Aspect', \n",
        "                      'Horizontal_Distance_To_Roadways', \n",
        "                      'Vertical_Distance_To_Hydrology', \n",
        "                      'Horizontal_Distance_To_Hydrology', \n",
        "                      'Hillshade_3pm',\n",
        "                      'Hillshade_Noon',\n",
        "                      'Slope',\n",
        "                      'Hillshade_9am',\n",
        "                      'Soil_Type34'], axis=1)\n",
        "for train_idx_reg, test_idx_reg in cv.split(Xreg_small, yreg):\n",
        "\n",
        "    X_train_reg, X_test_reg = Xreg_small.iloc[train_idx_reg], Xreg_small.iloc[test_idx_reg]\n",
        "    y_train_reg, y_test_reg = Xreg_small.iloc[train_idx_reg], Xreg_small.iloc[test_idx_reg]\n",
        "\n",
        "    # Train the model\n",
        "    lin_reg.fit(X_train_reg, y_train_reg)\n",
        "\n",
        "    # Predict \n",
        "    y_pred_lin_reg = lin_reg.predict(X_test_reg)\n",
        "\n",
        "\n",
        "    # Calculate the mean absolute error, mean squared error, and root mean squared error\n",
        "    lin_MAE_reg= metrics.mean_absolute_error(y_test_reg, y_pred_lin_reg)\n",
        "    lin_MSE_reg= metrics.mean_squared_error(y_test_reg, y_pred_lin_reg)\n",
        "    lin_RMSE_reg= metrics.mean_squared_error(y_test_reg, y_pred_lin_reg)\n",
        "    i=i+1\n",
        "    # Append to the list\n",
        "    MAE.append(lin_MAE_reg)\n",
        "    MSE.append(lin_MSE_reg)\n",
        "    RMSE.append(lin_RMSE_reg)\n",
        "\n",
        "    # Print the scores\n",
        "    print(tabulate([[i, lin_MAE_reg, lin_MSE_reg, lin_RMSE_reg]], \n",
        "               headers=['Fold', 'MAE', 'RMSE']))"
      ],
      "metadata": {
        "id": "I4awI0xXHYY2",
        "colab": {
          "base_uri": "https://localhost:8080/"
        },
        "outputId": "acc34815-555c-4b08-aad9-8fb8b2a77da0"
      },
      "execution_count": 11,
      "outputs": [
        {
          "output_type": "stream",
          "name": "stdout",
          "text": [
            "           Fold          MAE         RMSE\n",
            "--  -----------  -----------  -----------\n",
            " 2  1.60217e-14  9.48422e-27  9.48422e-27\n",
            "           Fold          MAE         RMSE\n",
            "--  -----------  -----------  -----------\n",
            " 3  9.54911e-15  3.57529e-27  3.57529e-27\n",
            "           Fold          MAE         RMSE\n",
            "--  -----------  -----------  -----------\n",
            " 4  1.80016e-14  1.59748e-26  1.59748e-26\n",
            "           Fold          MAE         RMSE\n",
            "--  -----------  -----------  -----------\n",
            " 5  5.13091e-14  1.89302e-25  1.89302e-25\n",
            "           Fold          MAE         RMSE\n",
            "--  -----------  -----------  -----------\n",
            " 6  1.77501e-14  1.34985e-26  1.34985e-26\n",
            "           Fold          MAE         RMSE\n",
            "--  -----------  -----------  -----------\n",
            " 7  4.17133e-14  1.07958e-25  1.07958e-25\n",
            "           Fold          MAE         RMSE\n",
            "--  -----------  -----------  -----------\n",
            " 8  2.24031e-14  2.72846e-26  2.72846e-26\n",
            "           Fold          MAE         RMSE\n",
            "--  -----------  -----------  -----------\n",
            " 9  1.71257e-14  1.20969e-26  1.20969e-26\n",
            "           Fold          MAE         RMSE\n",
            "--  -----------  -----------  -----------\n",
            "10  3.25806e-14  6.30457e-26  6.30457e-26\n",
            "           Fold          MAE         RMSE\n",
            "--  -----------  -----------  -----------\n",
            "11  2.50847e-14  1.55681e-26  1.55681e-26\n"
          ]
        }
      ]
    },
    {
      "cell_type": "code",
      "source": [
        "# Print the mean scores\n",
        "print('\\n')\n",
        "print('Mean MAE:', sum(MAE) / len(MAE))\n",
        "print('Mean RMSE:', sum(RMSE) / len(RMSE))"
      ],
      "metadata": {
        "colab": {
          "base_uri": "https://localhost:8080/"
        },
        "id": "RPBeSDIncJaz",
        "outputId": "61f659ba-a620-4e1e-de4c-e7da778b117e"
      },
      "execution_count": 12,
      "outputs": [
        {
          "output_type": "stream",
          "name": "stdout",
          "text": [
            "\n",
            "\n",
            "Mean MAE: 45.765152628832695\n",
            "Mean RMSE: 6713.3369339702385\n"
          ]
        }
      ]
    },
    {
      "cell_type": "code",
      "source": [
        "#moved back to smaller dataframe due to excessive times for using grid search on the expanded dataframe\n",
        "# Make target variable and data variable\n",
        "yreg = forest_cover_type[['Elevation']]\n",
        "Xreg = forest_cover_type.loc[:, forest_cover_type.columns != 'Elevation']\n",
        "\n",
        "#Exceptional work grid search for tuning knn\n",
        "#Note, this was taking over 60 minutes to run. \n",
        "#Since gridsearch kept selecting the highest # of neighbors, have updated to a smaller list of larger k values\n",
        "params = {'n_neighbors':[20, 40, 50]}\n",
        "\n",
        "knn_reg = neighbors.KNeighborsRegressor()\n",
        "GridSearch = GridSearchCV(knn_reg, params, cv=10)\n",
        "GridSearch.fit(X_train_reg,y_train_reg)\n",
        "GridSearch.best_params_\n"
      ],
      "metadata": {
        "id": "aA4DEEbDtDo5"
      },
      "execution_count": null,
      "outputs": []
    },
    {
      "cell_type": "code",
      "source": [
        "#putting Grid Search results in a dataframe for reference in the Exceptional Work section\n",
        "GridSearch_Results=pd.DataFrame(GridSearch.cv_results_)"
      ],
      "metadata": {
        "id": "VF_8Ua11D1i6"
      },
      "execution_count": null,
      "outputs": []
    },
    {
      "cell_type": "code",
      "source": [
        "# Create a 10-fold cross-validation \n",
        "cv = KFold(n_splits = 10, \n",
        "           shuffle = True, \n",
        "           random_state = 42)\n",
        "\n",
        "MAE = []\n",
        "MSE = []\n",
        "RMSE = []\n",
        "\n",
        "knn_reg = neighbors.KNeighborsRegressor(45)\n",
        "\n",
        "for train_idx_reg, test_idx_reg in cv.split(Xreg, yreg):\n",
        "\n",
        "    X_train_reg, X_test_reg = Xreg.iloc[train_idx_reg], Xreg.iloc[test_idx_reg]\n",
        "    y_train_reg, y_test_reg = yreg.iloc[train_idx_reg], yreg.iloc[test_idx_reg]\n",
        "\n",
        "    # Train the model\n",
        "    knn_reg.fit(X_train_reg, y_train_reg)\n",
        "\n",
        "    # Predict \n",
        "    y_pred_knn_reg = knn_reg.predict(X_test_reg)\n",
        "\n",
        "\n",
        "    # Calculate the mean absolute error, mean squared error, and root mean squared error\n",
        "    knn_MAE_reg= metrics.mean_absolute_error(y_test_reg, y_pred_knn_reg)\n",
        "    knn_MSE_reg= metrics.mean_squared_error(y_test_reg, y_pred_knn_reg)\n",
        "    knn_RMSE_reg= metrics.mean_squared_error(y_test_reg, y_pred_knn_reg)\n",
        "\n",
        "    # Append to the list\n",
        "    MAE.append(knn_MAE_reg)\n",
        "    MSE.append(knn_MSE_reg)\n",
        "    RMSE.append(knn_RMSE_reg)\n",
        "\n",
        "    # Print the scores\n",
        "    print('MAE:', knn_MAE_reg)\n",
        "    print('MSE:', knn_MSE_reg)\n",
        "    print('RMSE:', knn_RMSE_reg)\n",
        "    print('\\n')\n"
      ],
      "metadata": {
        "colab": {
          "base_uri": "https://localhost:8080/"
        },
        "id": "gOe1YlM05Nbh",
        "outputId": "adc88cc4-0f58-464d-9f14-f1d3123ef7bb"
      },
      "execution_count": null,
      "outputs": [
        {
          "output_type": "stream",
          "name": "stdout",
          "text": [
            "MAE: 101.04324196145477\n",
            "MSE: 21545.25704209413\n",
            "RMSE: 21545.25704209413\n",
            "\n",
            "\n",
            "MAE: 101.65792724671935\n",
            "MSE: 21817.977500700134\n",
            "RMSE: 21817.977500700134\n",
            "\n",
            "\n",
            "MAE: 100.85673224213008\n",
            "MSE: 21374.288466941667\n",
            "RMSE: 21374.288466941667\n",
            "\n",
            "\n",
            "MAE: 102.07011812762835\n",
            "MSE: 21918.971357242743\n",
            "RMSE: 21918.971357242743\n",
            "\n",
            "\n",
            "MAE: 101.14453757728398\n",
            "MSE: 21568.0453779317\n",
            "RMSE: 21568.0453779317\n",
            "\n",
            "\n",
            "MAE: 101.35032214018118\n",
            "MSE: 21731.675100825916\n",
            "RMSE: 21731.675100825916\n",
            "\n",
            "\n",
            "MAE: 101.38974850308563\n",
            "MSE: 21591.877386305372\n",
            "RMSE: 21591.877386305372\n",
            "\n",
            "\n",
            "MAE: 101.41773960670024\n",
            "MSE: 21635.37803808226\n",
            "RMSE: 21635.37803808226\n",
            "\n",
            "\n",
            "MAE: 101.15241160507851\n",
            "MSE: 21741.081359123247\n",
            "RMSE: 21741.081359123247\n",
            "\n",
            "\n",
            "MAE: 101.52202046627617\n",
            "MSE: 21847.46441673195\n",
            "RMSE: 21847.46441673195\n",
            "\n",
            "\n"
          ]
        }
      ]
    },
    {
      "cell_type": "code",
      "source": [
        "## This code block is temporary (printing for summary table below)\n",
        "print(tabulate([['Random Forest Regression', rf_MAE_reg, rf_RMSE_reg], \n",
        "                ['Linear Regression', lin_MAE_reg, lin_RMSE_reg], \n",
        "                ['KNN Regression', knn_MAE_reg, knn_RMSE_reg]], \n",
        "               headers=['Model', 'MAE', 'RMSE']))\n"
      ],
      "metadata": {
        "id": "LPUWzx29qfDF",
        "outputId": "8c546b3a-3955-4248-9a04-d9cee4e61f75",
        "colab": {
          "base_uri": "https://localhost:8080/"
        }
      },
      "execution_count": null,
      "outputs": [
        {
          "output_type": "stream",
          "name": "stdout",
          "text": [
            "Model                         MAE     RMSE\n",
            "------------------------  -------  -------\n",
            "Random Forest Regression  104.344  18032.7\n",
            "Linear Regression         197.305  59284.4\n",
            "KNN Regression            101.522  21847.5\n"
          ]
        }
      ]
    },
    {
      "cell_type": "code",
      "source": [
        "print ('accuracy for KNN classifier is :',knn_accuracy)\n",
        "print ('accuracy for Random Forest classifier is :',rfc_accuracy)\n",
        "print ('accuracy for Logistic Regression classifier is :',lr_accuracy)\n",
        "\n",
        "print (knn_precision)\n",
        "print (rfc_precision)\n",
        "\n",
        "print (knn_recall)\n",
        "print (rfc_recall)"
      ],
      "metadata": {
        "id": "zk1TIHDm7a55"
      },
      "execution_count": null,
      "outputs": []
    },
    {
      "cell_type": "markdown",
      "source": [
        "---\n",
        "# Modeling and Evaluation 4\n",
        "\n",
        "Analyze the results using your chosen method of evaluation. Use visualizations of the results to bolster the analysis. Explain any visuals and analyze why they are interesting to someone that might use this model.\n"
      ],
      "metadata": {
        "id": "P7iCcOda8VHv"
      }
    },
    {
      "cell_type": "code",
      "source": [
        "print (\"AUC and ROC Curves comparison of models - Cover Type\")\n",
        "# from sklearn import metrics\n",
        "# import matplotlib.pyplot as plt\n",
        "# from sklearn import metrics as mt\n",
        "\n",
        "\n",
        "# plt.figure()\n",
        "\n",
        "# # Add the models to the list that you want to view on the ROC plot\n",
        "# models = [\n",
        "# {\n",
        "#     'label': 'Random Forest Classifier',\n",
        "#     'model': RandomForestClassifier(max_depth=5, n_estimators=10),\n",
        "# },\n",
        "# {\n",
        "#     'label': 'KNN Classifier',\n",
        "#     'model': KNeighborsClassifier(n_neighbors=6, weights='uniform', metric='euclidean'),\n",
        "# },\n",
        "# {\n",
        "#     'label': 'Logistic Regression Classifier',\n",
        "#     'model': LogisticRegression(),\n",
        "# },\n",
        "# ]\n",
        "\n",
        "# # Below for loop iterates through your models list\n",
        "# for m in models:\n",
        "#     model = m['model'] # select the model\n",
        "#     model.fit(X_train, y_train) # train the model\n",
        "#     y_pred=model.predict(X_test) # predict the test data\n",
        "# # Compute False postive rate, and True positive rate\n",
        "#     fpr, tpr, thresholds = metrics.roc_curve(y_test, model.predict_proba(X_test)[:,1])\n",
        "# # Calculate Area under the curve to display on the plot\n",
        "#     auc = metrics.roc_auc_score(y_test,model.predict(X_test))\n",
        "# # Now, plot the computed values\n",
        "#     plt.plot(fpr, tpr, label='%s ROC (area = %0.2f)' % (m['label'], auc))\n",
        "# # Custom settings for the plot \n",
        "# plt.plot([0, 1], [0, 1],'r--')\n",
        "# plt.xlim([0.0, 1.0])\n",
        "# plt.ylim([0.0, 1.05])\n",
        "# plt.xlabel('Specificity(False Positive Rate)')\n",
        "# plt.ylabel('Sensitivity(True Positive Rate)')\n",
        "# plt.title('Receiver Operating Characteristic for Forest Cover Type')\n",
        "# plt.legend(loc=\"lower right\")\n",
        "# plt.show()   # Actual plot\n",
        "\n",
        "\n",
        "from sklearn.linear_model import RidgeClassifier\n",
        "from sklearn.model_selection import train_test_split\n",
        "from sklearn.preprocessing import OrdinalEncoder, LabelEncoder\n",
        "\n",
        "from yellowbrick.classifier import ROCAUC\n",
        "\n",
        "# Load multi-class classification dataset\n",
        "cov = forest_cover_type\n",
        "\n",
        "# Encode the non-numeric columns\n",
        "X = OrdinalEncoder().fit_transform(X)\n",
        "y = LabelEncoder().fit_transform(y)\n",
        "\n",
        "# Create the train and test data\n",
        "X_train, X_test, y_train, y_test = train_test_split(X, y, test_size = 0.2, random_state=42)\n",
        "\n",
        "# Instaniate the classification model and visualizer\n",
        "model = RidgeClassifier()\n",
        "visualizer = ROCAUC(model, classes=[\"0\", \"1\", \"2\", \"3\", \"4\", \"5\", \"6\", \"7\"])\n",
        "\n",
        "visualizer.fit(X_train, y_train)        # Fit the training data to the visualizer\n",
        "visualizer.score(X_test, y_test)        # Evaluate the model on the test data\n",
        "visualizer.show()                       # Finalize and render the figure\n",
        "\n",
        "\n"
      ],
      "metadata": {
        "id": "AvUSST7KJIpZ",
        "outputId": "c7669625-47fc-4c93-ea0e-5d86244bbd0a",
        "colab": {
          "base_uri": "https://localhost:8080/",
          "height": 469
        }
      },
      "execution_count": null,
      "outputs": [
        {
          "output_type": "stream",
          "name": "stdout",
          "text": [
            "AUC and ROC Curves comparison of models - Cover Type\n"
          ]
        },
        {
          "output_type": "stream",
          "name": "stderr",
          "text": [
            "/usr/local/lib/python3.8/dist-packages/sklearn/preprocessing/_label.py:115: DataConversionWarning: A column-vector y was passed when a 1d array was expected. Please change the shape of y to (n_samples, ), for example using ravel().\n",
            "  y = column_or_1d(y, warn=True)\n"
          ]
        },
        {
          "output_type": "display_data",
          "data": {
            "text/plain": [
              "<Figure size 576x396 with 1 Axes>"
            ],
            "image/png": "[encoded data removed]"
          },
          "metadata": {}
        },
        {
          "output_type": "execute_result",
          "data": {
            "text/plain": [
              "<AxesSubplot:title={'center':'ROC Curves for RidgeClassifier'}, xlabel='False Positive Rate', ylabel='True Positive Rate'>"
            ]
          },
          "metadata": {},
          "execution_count": 24
        }
      ]
    },
    {
      "cell_type": "markdown",
      "source": [
        "For an ROC Curve, we would like to see a curve that goes up and across the most. Based on the ROC Curve for the forest cover type, we can see that it is relatively close between lodgepole pine (cover type 2) and ponderosa pine (cover type 3) with an AUC score of 0.98 and 0.99. Although, we can see that the class 3 curve has the highest peak."
      ],
      "metadata": {
        "id": "D5PwGB1GEx4d"
      }
    },
    {
      "cell_type": "markdown",
      "source": [
        "The summary of the 3 tested models for forest cover type: \n",
        "\n",
        "\n",
        "Model               | Accuracy      | Precision | Recall | AUC\n",
        "--------------------|---------------|-----------|--------|-----\n",
        "Random Forest       | 0.9662        | 0.9662    | 0.9662 |\n",
        "KNN                 | 0.9686        | 0.9687    | 0.9686 |\n",
        "Logistic Regression | 0.6207        |           |        |\n",
        "\n",
        "Overall, when comparing the three models to predict the forest cover type, the KNN model is slightly better than the Random Forest model in accuracy, precision, and recall. \n",
        "\n",
        "REPEAT FOR ELEVATION and then do a comparison for both tables."
      ],
      "metadata": {
        "id": "4GAz2SdNIE4g"
      }
    },
    {
      "cell_type": "code",
      "source": [
        "# from sklearn import metrics as mt\n",
        "\n",
        "# print (\"Confusion matrix for Random Forest Model - Cover Type:\")\n",
        "# cm = mt.confusion_matrix(y_test, rfc_accuracy)\n",
        "\n",
        "# # cm = mt.confusion_matrix(y_test, y_pred)\n",
        "# # plt.imshow(cm,cmap=plt.get_cmap('Reds'),aspect='auto')\n",
        "# # plt.grid(False)\n",
        "\n",
        "\n",
        "\n",
        "from sklearn.model_selection import TimeSeriesSplit\n",
        "from sklearn.naive_bayes import GaussianNB\n",
        "from yellowbrick.classifier import classification_report\n",
        "\n",
        "# Load the classification data set\n",
        "# X, y = forest_cover_type()\n",
        "\n",
        "# Specify the target classes\n",
        "classes = [\"Cover_Type\", \"Elevation\"]\n",
        "\n",
        "# Create the training and test data\n",
        "tscv = TimeSeriesSplit()\n",
        "for train_index, test_index in tscv.split(X):\n",
        "    X_train, X_test = X.iloc[train_index], X.iloc[test_index]\n",
        "    y_train, y_test = y.iloc[train_index], y.iloc[test_index]\n",
        "\n",
        "# Instantiate the visualizer\n",
        "visualizer = classification_report(\n",
        "    GaussianNB(), X_train, y_train, X_test, y_test, classes=classes, support=True\n",
        ")"
      ],
      "metadata": {
        "id": "HXnWycqXP8-6"
      },
      "execution_count": null,
      "outputs": []
    },
    {
      "cell_type": "markdown",
      "source": [
        "**NEED THIS TO BE LOOK AT ^**"
      ],
      "metadata": {
        "id": "FXKSE-jG8mj6"
      }
    },
    {
      "cell_type": "markdown",
      "source": [
        "--- \n",
        "# Modeling and Evaluation 5\n",
        "\n",
        "Discuss the advantages of each model for each classification task, if any. If there are not advantages, explain why. Is any model better than another? Is the difference significant with 95% confidence? Use proper statistical comparison methods. You must use statistical comparison techniques—be sure they are appropriate for your chosen method of validation as discussed in unit 7 of the course.\n"
      ],
      "metadata": {
        "id": "zgOjYSMo83DC"
      }
    },
    {
      "cell_type": "markdown",
      "source": [
        "**Accuracy Scores for various splitting methods vs models**\n",
        "\n",
        "Splitting Method   | Random Forest | KNN    | Logistic\n",
        "-------------------|---------------|--------|---------\n",
        "Test/Train         | 0.9625        | 0.9658 | 0.6242\n",
        "Cross Validation   | 0.9656        | 0.5362 | 0.6009\n",
        "Stratified CV      | 0.9655        | 0.5362 | 0.6009\n",
        "\n",
        "\n",
        "maybe include a table for other metrics"
      ],
      "metadata": {
        "id": "NmIZX8Py56vx"
      }
    },
    {
      "cell_type": "markdown",
      "source": [
        "We looked at Train/Test Split to begin wih because it the most simplified and well-known form of data separation. We saw accuracy scores around 96% for Random Forest and kNN, but for Logistic Regression it dipped down to 62%. However, we have cause for concern with this method of splitting the data due to two of the Cover Types being highly skewed. Because of this, we looked at other data separation techniques. \n",
        "\n",
        "We use Stratified 10 Fold Cross Validation to help with the imbalanced dataset. This implements a fold in the data where each fold has the same ratio of instances of target variable as in the whole dataset. However, we saw a huge time increase in running this model. So something we have to consider is if the additional time is worth it? \n",
        "\n",
        "For our specific dataset, we saw about the same accuracy score. We had to look at some other performance metrics to gain a better understanding if the additional time is worth it. "
      ],
      "metadata": {
        "id": "Hz3kkpigYLbg"
      }
    },
    {
      "cell_type": "markdown",
      "source": [
        "**NEED THIS TO BE LOOK AT ^**"
      ],
      "metadata": {
        "id": "IP2IFsSt9ADc"
      }
    },
    {
      "cell_type": "markdown",
      "source": [
        "---\n",
        "# Modeling and Evaluation 6"
      ],
      "metadata": {
        "id": "WrFT8LyR-B7f"
      }
    },
    {
      "cell_type": "markdown",
      "source": [
        "#### Important features for classifying cover type\n",
        "\n",
        "\n"
      ],
      "metadata": {
        "id": "T2PFC-ji9fLy"
      }
    },
    {
      "cell_type": "markdown",
      "source": [
        "We looked at the feature importances from the random forest and logisitic regression models to investigate which attributes were the most important in classifying the cover type of a land plot"
      ],
      "metadata": {
        "id": "q9ydqxe4v4Yf"
      }
    },
    {
      "cell_type": "code",
      "source": [
        "# Random Forest\n",
        "rfFeatures = rfc.feature_importances_.argsort()\n",
        "plt.barh(forest_cover_type.columns.values[rfFeatures],rfc.feature_importances_[rfFeatures])"
      ],
      "metadata": {
        "colab": {
          "base_uri": "https://localhost:8080/",
          "height": 364
        },
        "id": "35I-_oIbtDkj",
        "outputId": "95b868ee-4178-41a2-cefc-3ab86e76dc5f"
      },
      "execution_count": null,
      "outputs": [
        {
          "output_type": "execute_result",
          "data": {
            "text/plain": [
              "<BarContainer object of 12 artists>"
            ]
          },
          "metadata": {},
          "execution_count": 25
        },
        {
          "output_type": "display_data",
          "data": {
            "text/plain": [
              "<Figure size 576x396 with 1 Axes>"
            ],
            "image/png": "[encoded data removed]"
          },
          "metadata": {}
        }
      ]
    },
    {
      "cell_type": "code",
      "source": [
        "# Logistic Regression\n",
        "lrWeights = pd.Series(lr.coef_[0],index=X.columns)\n",
        "lrWeights = pd.DataFrame({'Var':lrWeights.index,'Weight':lrWeights.values})\n",
        "lrWeights = lrWeights.sort_values('Weight')\n",
        "sns.barplot(x='Weight',y='Var',data=lrWeights)"
      ],
      "metadata": {
        "colab": {
          "base_uri": "https://localhost:8080/",
          "height": 378
        },
        "id": "j9t0eve7tieN",
        "outputId": "9d4cae49-64b6-46f4-dd39-a9fa6528905c"
      },
      "execution_count": null,
      "outputs": [
        {
          "output_type": "execute_result",
          "data": {
            "text/plain": [
              "<AxesSubplot:xlabel='Weight', ylabel='Var'>"
            ]
          },
          "metadata": {},
          "execution_count": 26
        },
        {
          "output_type": "display_data",
          "data": {
            "text/plain": [
              "<Figure size 576x396 with 1 Axes>"
            ],
            "image/png": "[encoded data removed]"
          },
          "metadata": {}
        }
      ]
    },
    {
      "cell_type": "markdown",
      "source": [
        "For the random forest classifier the most important attributes were elevation and horizontal distance to roadways and fire points. Distance to hydrology, soil type, aspect and hillshade were also somewhat important to the performance of the model.\n",
        "\n",
        "For the logistic regression model hillshade and vertical distance to hydrology were the most important with slope, elevation, and soil type also being somewhat important. \n",
        "\n",
        "The most common attributes between the two models were elevation, distance to water, soil type, and hillshade or the amount of sun a plot of land receives throughout the day. These were likely important as all of these factors impact what types of trees grow and thrive in these conditions. Certain trees will favor different amounts of water and sunlight and may outperform other trees at higher elevations or in different types of soil."
      ],
      "metadata": {
        "id": "0BQrP9miuPWo"
      }
    },
    {
      "cell_type": "markdown",
      "source": [
        "#### Important features for predicting elevation"
      ],
      "metadata": {
        "id": "IDCudNTbuAeg"
      }
    },
    {
      "cell_type": "markdown",
      "source": [
        "For performing regression on predictng elevation we investigated the attribute importance from the random forest and linear regression models."
      ],
      "metadata": {
        "id": "hzMuph0OuE3u"
      }
    },
    {
      "cell_type": "code",
      "source": [
        "# Random Forest\n",
        "rfRegFeatures = rf_reg.feature_importances_.argsort()\n",
        "plt.barh(forest_cover_type.columns.values[rfRegFeatures],rf_reg.feature_importances_[rfRegFeatures])\n"
      ],
      "metadata": {
        "id": "a2vQnpUeESVM",
        "outputId": "bca476f4-5c6b-4519-b3e8-6bbb90139803",
        "colab": {
          "base_uri": "https://localhost:8080/",
          "height": 228
        }
      },
      "execution_count": null,
      "outputs": [
        {
          "output_type": "execute_result",
          "data": {
            "text/plain": [
              "<BarContainer object of 12 artists>"
            ]
          },
          "metadata": {},
          "execution_count": 24
        },
        {
          "output_type": "display_data",
          "data": {
            "text/plain": [
              "<Figure size 1778.4x379.44 with 1 Axes>"
            ],
            "image/png": "[encoded data removed]"
          },
          "metadata": {}
        }
      ]
    },
    {
      "cell_type": "code",
      "source": [
        "# Linear Regression\n",
        "regFeatures = pd.DataFrame(Xreg.columns,columns=['Features'])\n",
        "regCoef = pd.DataFrame(np.transpose(lin_reg.coef_),columns=['Coefficients'])\n",
        "linRegCoef = pd.concat([regFeatures,regCoef],axis=1).sort_values('Coefficients')\n",
        "sns.barplot(x='Coefficients',y='Features',data=linRegCoef)\n"
      ],
      "metadata": {
        "id": "vqjGPt6LErem",
        "outputId": "179c87dc-d69b-48db-8e84-cf38e7210e4d",
        "colab": {
          "base_uri": "https://localhost:8080/",
          "height": 236
        }
      },
      "execution_count": null,
      "outputs": [
        {
          "output_type": "execute_result",
          "data": {
            "text/plain": [
              "<AxesSubplot:xlabel='Coefficients', ylabel='Features'>"
            ]
          },
          "metadata": {},
          "execution_count": 25
        },
        {
          "output_type": "display_data",
          "data": {
            "text/plain": [
              "<Figure size 1778.4x379.44 with 1 Axes>"
            ],
            "image/png": "[encoded data removed]"
          },
          "metadata": {}
        }
      ]
    },
    {
      "cell_type": "markdown",
      "source": [
        "For the random forest classifier, the most important attributes were cover type, soil type, distance to fire points and water, and slope.\n",
        "\n",
        "For the linear regression model, the features that impacted the model the most were cover type, soil type, wilderness area, slope, and hillshade.\n",
        "\n",
        "The common important features between the two models were cover type, soil type, and slope. This was likely due to a number of factors. As we saw in the models that classified cover type elevation was important and it's not surpising that the reverse is also true. If different cover types thrive at certain elevations, that can be used to estimate elevation based on what type of cover you see at that plot of land. This is likely the case with soil type as well, with different combinations of soil and rock occuring at different altitudes. For slope, specific mountain and hill ranges will change slope based on elevation, commonly getting steeper near the peaks. This is likely why slope was an important predictor for elevation."
      ],
      "metadata": {
        "id": "p80hGqrPFn1U"
      }
    },
    {
      "cell_type": "markdown",
      "source": [
        "---\n",
        "# Deployment\n"
      ],
      "metadata": {
        "id": "kl9QAm9t-xXa"
      }
    },
    {
      "cell_type": "markdown",
      "source": [
        "The model we created could be used by various environmental agencies, logging companies, real estate companies, and government agencies to use readily available data to predict what types of trees or forest cover are in a plot of land without having to perform a expensive survey. This could impact analysis on the effects of deforestation, wildfires, and climate change, be used to choose appropriate places for logging or development, or track how protection policies are working. The model’s value could be measured by how likely it is to choose the correct class of cover type and at what resolution of plot size it could still perform well. The performance could also be evaluated by testing the model on similar data from a region near the Roosevelt National Forest but outside the range of the original data to test if performance is still adequate. The model could be deployed as a web based application that incorporates the GIS and land survey data used to train it to predict cover type of a user selected plot of land. However, with the current data used to train the model, only areas in Northern Colorado with similar geography and cover types could benefit from this model. Additional data could be collected to include more diverse landscapes with different cover types. Any additional data would require the model to be retrained to ensure the desired performance is met on different types of land and cover types. Data would need to be updated whenever new land areas are included, development or a natural disaster occurs, or yearly if no notable changes occur."
      ],
      "metadata": {
        "id": "d66eAeoGwWT3"
      }
    },
    {
      "cell_type": "markdown",
      "source": [
        "---\n",
        "# Exceptional Work\n",
        "\n",
        "We decided to leverage GridSearchCV for knn, to find the best k value (number of nearest neighbors).\n"
      ],
      "metadata": {
        "id": "UpiO3ilq-8kW"
      }
    },
    {
      "cell_type": "code",
      "source": [
        "GridSearch_Results"
      ],
      "metadata": {
        "id": "Q8ZoDO1OCuuT"
      },
      "execution_count": null,
      "outputs": []
    },
    {
      "cell_type": "markdown",
      "source": [
        "**NEED THIS TO BE LOOK AT ^**"
      ],
      "metadata": {
        "id": "ik-mPlgA_Tgr"
      }
    },
    {
      "cell_type": "markdown",
      "source": [
        "Code below for ROC curve where multiclass is not supported."
      ],
      "metadata": {
        "id": "wM96UJ6vGKis"
      }
    },
    {
      "cell_type": "code",
      "source": [
        "\n",
        "\n",
        "# from sklearn import metrics\n",
        "# import matplotlib.pyplot as plt\n",
        "# from sklearn import metrics as mt\n",
        "\n",
        "\n",
        "# plt.figure()\n",
        "\n",
        "# # Add the models to the list that you want to view on the ROC plot\n",
        "# models = [\n",
        "# {\n",
        "#     'label': 'Random Forest Classifier',\n",
        "#     'model': RandomForestClassifier(max_depth=5, n_estimators=10),\n",
        "# },\n",
        "# {\n",
        "#     'label': 'KNN Classifier',\n",
        "#     'model': KNeighborsClassifier(n_neighbors=6, weights='uniform', metric='euclidean'),\n",
        "# },\n",
        "# {\n",
        "#     'label': 'Logistic Regression Classifier',\n",
        "#     'model': LogisticRegression(),\n",
        "# },\n",
        "# ]\n",
        "\n",
        "# # Below for loop iterates through your models list\n",
        "# for m in models:\n",
        "#     model = m['model'] # select the model\n",
        "#     model.fit(X_train, y_train) # train the model\n",
        "#     y_pred=model.predict(X_test) # predict the test data\n",
        "# # Compute False postive rate, and True positive rate\n",
        "#     fpr, tpr, thresholds = metrics.roc_curve(y_test, model.predict_proba(X_test)[:,1])\n",
        "# # Calculate Area under the curve to display on the plot\n",
        "#     auc = metrics.roc_auc_score(y_test,model.predict(X_test))\n",
        "# # Now, plot the computed values\n",
        "#     plt.plot(fpr, tpr, label='%s ROC (area = %0.2f)' % (m['label'], auc))\n",
        "# # Custom settings for the plot \n",
        "# plt.plot([0, 1], [0, 1],'r--')\n",
        "# plt.xlim([0.0, 1.0])\n",
        "# plt.ylim([0.0, 1.05])\n",
        "# plt.xlabel('Specificity(False Positive Rate)')\n",
        "# plt.ylabel('Sensitivity(True Positive Rate)')\n",
        "# plt.title('Receiver Operating Characteristic for Forest Cover Type')\n",
        "# plt.legend(loc=\"lower right\")\n",
        "# plt.show()   # Actual plot"
      ],
      "metadata": {
        "id": "KswlmFZGGG1F"
      },
      "execution_count": null,
      "outputs": []
    },
    {
      "cell_type": "markdown",
      "source": [
        "### SVM"
      ],
      "metadata": {
        "id": "zfVHTbHLGEqC"
      }
    },
    {
      "cell_type": "code",
      "source": [],
      "metadata": {
        "id": "9qcVRsugeBTu"
      },
      "execution_count": null,
      "outputs": []
    },
    {
      "cell_type": "markdown",
      "source": [
        "takes too long"
      ],
      "metadata": {
        "id": "Z5utCkexNhAl"
      }
    },
    {
      "cell_type": "code",
      "source": [
        "from sklearn.svm import SVC\n",
        "\n",
        "# Create an SVM classifier\n",
        "svm = SVC(kernel='linear')\n",
        "\n",
        "# Train the classifier on the training data\n",
        "svm.fit(X_train, y_train)\n",
        "\n",
        "# Predict the classes of the testing data\n",
        "y_pred = svm.predict(X_test)\n",
        "\n",
        "# Calculate the accuracy of the classifier\n",
        "accuracy = accuracy_score(y_test, y_pred)\n",
        "\n",
        "print('Accuracy:', accuracy)"
      ],
      "metadata": {
        "id": "0XvsNFt0Jc1e"
      },
      "execution_count": null,
      "outputs": []
    },
    {
      "cell_type": "code",
      "source": [
        "from sklearn.svm import LinearSVC\n",
        "from sklearn.model_selection import train_test_split, GridSearchCV\n",
        "\n",
        "# Create an SVM classifier\n",
        "svm = LinearSVC()\n",
        "\n",
        "# Define the hyperparameters to search over\n",
        "parameters = {'C': [0.1, 1, 10, 100]}\n",
        "\n",
        "# Create a grid search object to search over the hyperparameters\n",
        "grid_search = GridSearchCV(svm, parameters, cv=5)\n",
        "\n",
        "# Fit the grid search object on the training data\n",
        "grid_search.fit(X_train, y_train)\n",
        "\n",
        "# Get the best model from the grid search\n",
        "svm = grid_search.best_estimator_\n",
        "\n",
        "# Predict the classes of the testing data\n",
        "y_pred = svm.predict(X_test)\n",
        "\n",
        "# Calculate the accuracy of the classifier\n",
        "accuracy = accuracy_score(y_test, y_pred)\n",
        "\n",
        "print('Accuracy:', accuracy)"
      ],
      "metadata": {
        "id": "UJQ0MdrZNu4E"
      },
      "execution_count": null,
      "outputs": []
    },
    {
      "cell_type": "markdown",
      "source": [
        "### Testing out a pipeline"
      ],
      "metadata": {
        "id": "1Ym1hr0hJHFJ"
      }
    },
    {
      "cell_type": "code",
      "source": [
        "from sklearn.pipeline import Pipeline\n",
        "from sklearn.model_selection import cross_val_score\n",
        "from sklearn.svm import SVC\n",
        "from sklearn.ensemble import RandomForestClassifier\n",
        "from sklearn.linear_model import LogisticRegression\n",
        "from sklearn.preprocessing import StandardScaler\n",
        "\n",
        "\n",
        "# Define the classifiers\n",
        "svm = SVC(kernel='linear', C=1)\n",
        "logistic = LogisticRegression(solver='liblinear')\n",
        "rfc = RandomForestClassifier(n_estimators=100)\n",
        "\n",
        "# Define the pipeline\n",
        "pipe = Pipeline([\n",
        "    ('scaler', StandardScaler()),\n",
        "    ('classifier', 'passthrough')\n",
        "])\n",
        "\n",
        "# Set up the hyperparameters to be tuned for each model\n",
        "svm_params = {'classifier': [svm]}\n",
        "logistic_params = {'classifier': [logistic]}\n",
        "rfc_params = {'classifier': [rfc]}\n",
        "\n",
        "# Add the parameter dictionaries to a list\n",
        "params = [svm_params, logistic_params, rfc_params]\n",
        "\n",
        "\n",
        "# Train the pipeline on the training data\n",
        "pipe.fit(X_train, y_train)\n",
        "\n",
        "# Predict the classes of the testing data using the pipeline\n",
        "y_pred = pipe.predict(X_test)\n",
        "\n",
        "# Calculate the accuracy of the pipeline\n",
        "accuracy = accuracy_score(y_test, y_pred)\n",
        "\n",
        "print('Accuracy:', accuracy)"
      ],
      "metadata": {
        "id": "0l8HqyckGOKI"
      },
      "execution_count": null,
      "outputs": []
    },
    {
      "cell_type": "markdown",
      "source": [
        "When the classes are imbalanced, the area under the Receiver Operating Characteristic (ROC) curve (AUC) is a useful evaluation metric. The ROC curve plots the true positive rate (sensitivity) against the false positive rate (1-specificity) at various thresholds. The AUC represents the probability that a randomly selected positive example will be ranked higher than a randomly selected negative example."
      ],
      "metadata": {
        "id": "1oYFCjGV-f6k"
      }
    }
  ]
}